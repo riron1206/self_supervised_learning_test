{
 "cells": [
  {
   "cell_type": "markdown",
   "metadata": {
    "papermill": {
     "duration": 0.04106,
     "end_time": "2020-12-15T09:52:03.774593",
     "exception": false,
     "start_time": "2020-12-15T09:52:03.733533",
     "status": "completed"
    },
    "tags": []
   },
   "source": [
    "# SwAVの重み使わずゼロからResNet50学習\n",
    "- SwAVの効果（SwAV_TF_Linear_evaluation との）比較用\n",
    "- https://colab.research.google.com/github/ayulockin/SwAV-TF/blob/master/linear_evaluation/Linear_Evaluation_10_Epochs.ipynb"
   ]
  },
  {
   "cell_type": "code",
   "execution_count": 1,
   "metadata": {
    "ExecuteTime": {
     "end_time": "2020-12-16T17:22:49.381896Z",
     "start_time": "2020-12-16T17:22:47.683446Z"
    },
    "execution": {
     "iopub.execute_input": "2020-12-15T09:52:03.864735Z",
     "iopub.status.busy": "2020-12-15T09:52:03.863771Z",
     "iopub.status.idle": "2020-12-15T09:52:11.034505Z",
     "shell.execute_reply": "2020-12-15T09:52:11.033796Z"
    },
    "papermill": {
     "duration": 7.218402,
     "end_time": "2020-12-15T09:52:11.034646",
     "exception": false,
     "start_time": "2020-12-15T09:52:03.816244",
     "status": "completed"
    },
    "tags": []
   },
   "outputs": [],
   "source": [
    "import tensorflow as tf\n",
    "\n",
    "@tf.function\n",
    "def scale_resize_image(image_label):\n",
    "    image, label = image_label[\"image\"], image_label[\"label\"]\n",
    "    image = tf.image.convert_image_dtype(image, tf.float32)\n",
    "    image = tf.image.resize(image, (224, 224)) # Resizing to highest resolution used while training swav\n",
    "    return (image, label)"
   ]
  },
  {
   "cell_type": "code",
   "execution_count": 2,
   "metadata": {
    "ExecuteTime": {
     "end_time": "2020-12-16T17:22:49.894234Z",
     "start_time": "2020-12-16T17:22:49.382864Z"
    },
    "execution": {
     "iopub.execute_input": "2020-12-15T09:52:11.118704Z",
     "iopub.status.busy": "2020-12-15T09:52:11.117863Z",
     "iopub.status.idle": "2020-12-15T09:52:11.877273Z",
     "shell.execute_reply": "2020-12-15T09:52:11.876637Z"
    },
    "papermill": {
     "duration": 0.804756,
     "end_time": "2020-12-15T09:52:11.877407",
     "exception": false,
     "start_time": "2020-12-15T09:52:11.072651",
     "status": "completed"
    },
    "tags": []
   },
   "outputs": [
    {
     "name": "stdout",
     "output_type": "stream",
     "text": [
      "Tensorflow version 2.3.1\n"
     ]
    }
   ],
   "source": [
    "import tensorflow as tf\n",
    "import tensorflow_datasets as tfds\n",
    "\n",
    "import matplotlib.pyplot as plt\n",
    "import numpy as np\n",
    "import pandas as pd\n",
    "import random\n",
    "import time\n",
    "import os\n",
    "\n",
    "from itertools import groupby\n",
    "from tqdm import tqdm\n",
    "\n",
    "tf.random.set_seed(666)\n",
    "np.random.seed(666)\n",
    "\n",
    "tfds.disable_progress_bar()\n",
    "\n",
    "print(\"Tensorflow version \" + tf.__version__)"
   ]
  },
  {
   "cell_type": "code",
   "execution_count": 3,
   "metadata": {
    "ExecuteTime": {
     "end_time": "2020-12-16T17:22:49.898210Z",
     "start_time": "2020-12-16T17:22:49.895208Z"
    },
    "execution": {
     "iopub.execute_input": "2020-12-15T09:52:12.066562Z",
     "iopub.status.busy": "2020-12-15T09:52:12.010676Z",
     "iopub.status.idle": "2020-12-15T09:52:16.196608Z",
     "shell.execute_reply": "2020-12-15T09:52:16.195707Z"
    },
    "papermill": {
     "duration": 4.280131,
     "end_time": "2020-12-15T09:52:16.196780",
     "exception": false,
     "start_time": "2020-12-15T09:52:11.916649",
     "status": "completed"
    },
    "tags": []
   },
   "outputs": [
    {
     "name": "stdout",
     "output_type": "stream",
     "text": [
      "Number of replicas: 1\n"
     ]
    }
   ],
   "source": [
    "# TPUの検出\n",
    "try:\n",
    "    tpu = tf.distribute.cluster_resolver.TPUClusterResolver()\n",
    "    print('Device:', tpu.master())\n",
    "    tf.config.experimental_connect_to_cluster(tpu)\n",
    "    tf.tpu.experimental.initialize_tpu_system(tpu)\n",
    "    strategy = tf.distribute.experimental.TPUStrategy(tpu)\n",
    "except:\n",
    "    strategy = tf.distribute.get_strategy()\n",
    "print('Number of replicas:', strategy.num_replicas_in_sync)"
   ]
  },
  {
   "cell_type": "markdown",
   "metadata": {
    "papermill": {
     "duration": 0.03958,
     "end_time": "2020-12-15T09:52:16.276900",
     "exception": false,
     "start_time": "2020-12-15T09:52:16.237320",
     "status": "completed"
    },
    "tags": []
   },
   "source": [
    "# params"
   ]
  },
  {
   "cell_type": "code",
   "execution_count": 4,
   "metadata": {
    "ExecuteTime": {
     "end_time": "2020-12-16T17:22:49.902234Z",
     "start_time": "2020-12-16T17:22:49.899208Z"
    },
    "execution": {
     "iopub.execute_input": "2020-12-15T09:52:16.364320Z",
     "iopub.status.busy": "2020-12-15T09:52:16.363408Z",
     "iopub.status.idle": "2020-12-15T09:52:16.366964Z",
     "shell.execute_reply": "2020-12-15T09:52:16.366223Z"
    },
    "papermill": {
     "duration": 0.050497,
     "end_time": "2020-12-15T09:52:16.367097",
     "exception": false,
     "start_time": "2020-12-15T09:52:16.316600",
     "status": "completed"
    },
    "tags": []
   },
   "outputs": [],
   "source": [
    "n_classes = 5  # キャッサバデータは5クラス\n",
    "\n",
    "#BATCH_SIZE = 64 * strategy.num_replicas_in_sync\n",
    "BATCH_SIZE = 16\n",
    "\n",
    "epochs = 100\n",
    "\n",
    "patience = 15\n",
    "\n",
    "#DEBUG = True\n",
    "DEBUG = False\n",
    "if DEBUG:\n",
    "    epochs = 2"
   ]
  },
  {
   "cell_type": "markdown",
   "metadata": {
    "papermill": {
     "duration": 0.039205,
     "end_time": "2020-12-15T09:52:16.446144",
     "exception": false,
     "start_time": "2020-12-15T09:52:16.406939",
     "status": "completed"
    },
    "tags": []
   },
   "source": [
    "# Cassava data\n",
    "- https://www.kaggle.com/jessemostipak/getting-started-tpus-cassava-leaf-disease"
   ]
  },
  {
   "cell_type": "code",
   "execution_count": 5,
   "metadata": {
    "ExecuteTime": {
     "end_time": "2020-12-16T17:22:49.906234Z",
     "start_time": "2020-12-16T17:22:49.903207Z"
    },
    "execution": {
     "iopub.execute_input": "2020-12-15T09:52:16.533073Z",
     "iopub.status.busy": "2020-12-15T09:52:16.532058Z",
     "iopub.status.idle": "2020-12-15T09:52:16.535338Z",
     "shell.execute_reply": "2020-12-15T09:52:16.534570Z"
    },
    "papermill": {
     "duration": 0.04956,
     "end_time": "2020-12-15T09:52:16.535466",
     "exception": false,
     "start_time": "2020-12-15T09:52:16.485906",
     "status": "completed"
    },
    "tags": []
   },
   "outputs": [],
   "source": [
    "def decode_image(image):\n",
    "    image = tf.image.decode_jpeg(image, channels=3)\n",
    "    return image"
   ]
  },
  {
   "cell_type": "code",
   "execution_count": 6,
   "metadata": {
    "ExecuteTime": {
     "end_time": "2020-12-16T17:22:49.910236Z",
     "start_time": "2020-12-16T17:22:49.907208Z"
    },
    "execution": {
     "iopub.execute_input": "2020-12-15T09:52:16.627056Z",
     "iopub.status.busy": "2020-12-15T09:52:16.625959Z",
     "iopub.status.idle": "2020-12-15T09:52:16.629711Z",
     "shell.execute_reply": "2020-12-15T09:52:16.628978Z"
    },
    "papermill": {
     "duration": 0.054411,
     "end_time": "2020-12-15T09:52:16.629837",
     "exception": false,
     "start_time": "2020-12-15T09:52:16.575426",
     "status": "completed"
    },
    "tags": []
   },
   "outputs": [],
   "source": [
    "def read_tfrecord(example, labeled):\n",
    "    tfrecord_format = {\n",
    "        \"image\": tf.io.FixedLenFeature([], tf.string),\n",
    "        \"target\": tf.io.FixedLenFeature([], tf.int64)\n",
    "    } if labeled else {\n",
    "        \"image\": tf.io.FixedLenFeature([], tf.string),\n",
    "        \"image_name\": tf.io.FixedLenFeature([], tf.string)\n",
    "    }\n",
    "    example = tf.io.parse_single_example(example, tfrecord_format)\n",
    "    image = decode_image(example['image'])\n",
    "    if labeled:\n",
    "        label = tf.cast(example['target'], tf.int32)\n",
    "        return {\"image\": image, \"label\": label}\n",
    "    idnum = example['image_name']\n",
    "    return {\"image\": image, \"label\": idnum}"
   ]
  },
  {
   "cell_type": "code",
   "execution_count": 7,
   "metadata": {
    "ExecuteTime": {
     "end_time": "2020-12-16T17:22:49.915251Z",
     "start_time": "2020-12-16T17:22:49.912208Z"
    },
    "execution": {
     "iopub.execute_input": "2020-12-15T09:52:16.720337Z",
     "iopub.status.busy": "2020-12-15T09:52:16.719216Z",
     "iopub.status.idle": "2020-12-15T09:52:16.722713Z",
     "shell.execute_reply": "2020-12-15T09:52:16.721962Z"
    },
    "papermill": {
     "duration": 0.052575,
     "end_time": "2020-12-15T09:52:16.722843",
     "exception": false,
     "start_time": "2020-12-15T09:52:16.670268",
     "status": "completed"
    },
    "tags": []
   },
   "outputs": [],
   "source": [
    "from functools import partial\n",
    "\n",
    "AUTO = tf.data.experimental.AUTOTUNE\n",
    "\n",
    "def load_dataset(filenames, labeled=True, ordered=False):\n",
    "    ignore_order = tf.data.Options()\n",
    "    if not ordered:\n",
    "        ignore_order.experimental_deterministic = False # disable order, increase speed\n",
    "    dataset = tf.data.TFRecordDataset(filenames, num_parallel_reads=AUTO) # automatically interleaves reads from multiple files\n",
    "    dataset = dataset.with_options(ignore_order) # uses data as soon as it streams in, rather than in its original order\n",
    "    dataset = dataset.map(partial(read_tfrecord, labeled=labeled), num_parallel_calls=AUTO)\n",
    "    return dataset"
   ]
  },
  {
   "cell_type": "code",
   "execution_count": 8,
   "metadata": {
    "ExecuteTime": {
     "end_time": "2020-12-16T17:22:49.920234Z",
     "start_time": "2020-12-16T17:22:49.916208Z"
    },
    "execution": {
     "iopub.execute_input": "2020-12-15T09:52:16.811413Z",
     "iopub.status.busy": "2020-12-15T09:52:16.810613Z",
     "iopub.status.idle": "2020-12-15T09:52:16.814674Z",
     "shell.execute_reply": "2020-12-15T09:52:16.814005Z"
    },
    "papermill": {
     "duration": 0.051471,
     "end_time": "2020-12-15T09:52:16.814856",
     "exception": false,
     "start_time": "2020-12-15T09:52:16.763385",
     "status": "completed"
    },
    "tags": []
   },
   "outputs": [],
   "source": [
    "import re\n",
    "\n",
    "def count_data_items(filenames):\n",
    "    n = [int(re.compile(r\"-([0-9]*)\\.\").search(filename).group(1)) for filename in filenames]\n",
    "    return np.sum(n)"
   ]
  },
  {
   "cell_type": "code",
   "execution_count": 9,
   "metadata": {
    "ExecuteTime": {
     "end_time": "2020-12-16T17:22:50.484028Z",
     "start_time": "2020-12-16T17:22:49.921208Z"
    },
    "execution": {
     "iopub.execute_input": "2020-12-15T09:52:16.905588Z",
     "iopub.status.busy": "2020-12-15T09:52:16.904748Z",
     "iopub.status.idle": "2020-12-15T09:52:18.385428Z",
     "shell.execute_reply": "2020-12-15T09:52:18.384727Z"
    },
    "papermill": {
     "duration": 1.529354,
     "end_time": "2020-12-15T09:52:18.385566",
     "exception": false,
     "start_time": "2020-12-15T09:52:16.856212",
     "status": "completed"
    },
    "tags": []
   },
   "outputs": [
    {
     "name": "stdout",
     "output_type": "stream",
     "text": [
      "NUM_TRAINING_IMAGES, NUM_VALIDATION_IMAGES: 13380, 8017\n"
     ]
    }
   ],
   "source": [
    "#from kaggle_datasets import KaggleDatasets\n",
    "from sklearn.model_selection import train_test_split\n",
    "\n",
    "#GCS_PATH = KaggleDatasets().get_gcs_path()\n",
    "#train_tfrecs = tf.io.gfile.glob(GCS_PATH + '/train_tfrecords/ld_train*.tfrec')\n",
    "\n",
    "#train_tfrecs = tf.io.gfile.glob('../input/cassava-leaf-disease-classification/train_tfrecords/ld_train*.tfrec')\n",
    "train_tfrecs = tf.io.gfile.glob(r'C:\\Users\\81908\\jupyter_notebook\\pytorch_lightning_work\\kaggle_Cassava\\input\\cassava-leaf-disease-classification\\train_tfrecords\\ld_train*.tfrec')\n",
    "\n",
    "TRAINING_FILENAMES, VALID_FILENAMES = train_test_split(train_tfrecs,\n",
    "                                                       test_size=0.35, \n",
    "                                                       random_state=5)\n",
    "NUM_TRAINING_IMAGES = count_data_items(TRAINING_FILENAMES)\n",
    "NUM_VALIDATION_IMAGES = count_data_items(VALID_FILENAMES)\n",
    "print(f\"NUM_TRAINING_IMAGES, NUM_VALIDATION_IMAGES: {NUM_TRAINING_IMAGES}, {NUM_VALIDATION_IMAGES}\")"
   ]
  },
  {
   "cell_type": "code",
   "execution_count": 10,
   "metadata": {
    "ExecuteTime": {
     "end_time": "2020-12-16T17:22:51.887044Z",
     "start_time": "2020-12-16T17:22:50.485002Z"
    },
    "_cell_guid": "79c7e3d0-c299-4dcb-8224-4455121ee9b0",
    "_uuid": "d629ff2d2480ee46fbb7e2d37f6b5fab8052498a",
    "execution": {
     "iopub.execute_input": "2020-12-15T09:52:18.480392Z",
     "iopub.status.busy": "2020-12-15T09:52:18.479285Z",
     "iopub.status.idle": "2020-12-15T09:52:19.044136Z",
     "shell.execute_reply": "2020-12-15T09:52:19.043328Z"
    },
    "papermill": {
     "duration": 0.617017,
     "end_time": "2020-12-15T09:52:19.044285",
     "exception": false,
     "start_time": "2020-12-15T09:52:18.427268",
     "status": "completed"
    },
    "tags": []
   },
   "outputs": [],
   "source": [
    "train_ds = load_dataset(TRAINING_FILENAMES, labeled=True)\n",
    "validation_ds = load_dataset(VALID_FILENAMES, labeled=True)\n",
    "\n",
    "training_ds = (\n",
    "    train_ds\n",
    "    .map(scale_resize_image, num_parallel_calls=AUTO)\n",
    "    .repeat()\n",
    "    .shuffle(2048)\n",
    "    .batch(BATCH_SIZE)\n",
    "    .prefetch(AUTO)\n",
    ")\n",
    "\n",
    "testing_ds = (\n",
    "    validation_ds\n",
    "    .map(scale_resize_image, num_parallel_calls=AUTO)\n",
    "    .batch(BATCH_SIZE)\n",
    "    .prefetch(AUTO)\n",
    ")"
   ]
  },
  {
   "cell_type": "markdown",
   "metadata": {
    "papermill": {
     "duration": 0.039783,
     "end_time": "2020-12-15T09:52:19.125538",
     "exception": false,
     "start_time": "2020-12-15T09:52:19.085755",
     "status": "completed"
    },
    "tags": []
   },
   "source": [
    "# Get ResNet50"
   ]
  },
  {
   "cell_type": "code",
   "execution_count": 11,
   "metadata": {
    "ExecuteTime": {
     "end_time": "2020-12-16T17:22:51.892936Z",
     "start_time": "2020-12-16T17:22:51.887934Z"
    },
    "execution": {
     "iopub.execute_input": "2020-12-15T09:52:19.220943Z",
     "iopub.status.busy": "2020-12-15T09:52:19.219831Z",
     "iopub.status.idle": "2020-12-15T09:52:19.223944Z",
     "shell.execute_reply": "2020-12-15T09:52:19.223051Z"
    },
    "papermill": {
     "duration": 0.058339,
     "end_time": "2020-12-15T09:52:19.224106",
     "exception": false,
     "start_time": "2020-12-15T09:52:19.165767",
     "status": "completed"
    },
    "tags": []
   },
   "outputs": [],
   "source": [
    "import tensorflow as tf\n",
    "from tensorflow.keras import layers\n",
    "\n",
    "lr_scheduler = tf.keras.optimizers.schedules.ExponentialDecay(\n",
    "    initial_learning_rate=1e-5, \n",
    "    decay_steps=10000, \n",
    "    decay_rate=0.9)\n",
    "\n",
    "def get_training_model(weights=None):\n",
    "    inputs = layers.Input(shape=(224, 224, 3))\n",
    "    \n",
    "    EXTRACTOR = tf.keras.applications.ResNet50(weights=weights, \n",
    "                                               include_top=False, \n",
    "                                               input_shape=(224, 224, 3))\n",
    "    \n",
    "    if weights is None:\n",
    "        x = EXTRACTOR(inputs, training=True)\n",
    "    else:\n",
    "        EXTRACTOR.trainable = False\n",
    "        x = EXTRACTOR(inputs, training=False)\n",
    "    \n",
    "    x = layers.GlobalAveragePooling2D()(x)\n",
    "    \n",
    "    x = layers.Dense(n_classes, activation=\"softmax\")(x)\n",
    "    \n",
    "    classifier = tf.keras.models.Model(inputs=inputs, outputs=x)\n",
    "    \n",
    "    classifier.compile(loss=\"sparse_categorical_crossentropy\", \n",
    "                       metrics=[\"acc\"],\n",
    "                       optimizer=tf.keras.optimizers.Adam(learning_rate=lr_scheduler, epsilon=0.001),\n",
    "                      )\n",
    "    \n",
    "    return classifier"
   ]
  },
  {
   "cell_type": "markdown",
   "metadata": {
    "papermill": {
     "duration": 0.04016,
     "end_time": "2020-12-15T09:52:19.305087",
     "exception": false,
     "start_time": "2020-12-15T09:52:19.264927",
     "status": "completed"
    },
    "tags": []
   },
   "source": [
    "# imagenetの重み固定してResNet50学習"
   ]
  },
  {
   "cell_type": "markdown",
   "metadata": {
    "papermill": {
     "duration": 0.040188,
     "end_time": "2020-12-15T09:52:19.386049",
     "exception": false,
     "start_time": "2020-12-15T09:52:19.345861",
     "status": "completed"
    },
    "tags": []
   },
   "source": [
    "## Without Augmentation"
   ]
  },
  {
   "cell_type": "code",
   "execution_count": 12,
   "metadata": {
    "ExecuteTime": {
     "end_time": "2020-12-16T18:49:20.659180Z",
     "start_time": "2020-12-16T17:22:51.893934Z"
    },
    "execution": {
     "iopub.execute_input": "2020-12-15T09:52:19.480099Z",
     "iopub.status.busy": "2020-12-15T09:52:19.478997Z",
     "iopub.status.idle": "2020-12-15T10:06:02.531806Z",
     "shell.execute_reply": "2020-12-15T10:06:02.532457Z"
    },
    "papermill": {
     "duration": 823.105909,
     "end_time": "2020-12-15T10:06:02.532650",
     "exception": false,
     "start_time": "2020-12-15T09:52:19.426741",
     "status": "completed"
    },
    "scrolled": true,
    "tags": []
   },
   "outputs": [
    {
     "name": "stdout",
     "output_type": "stream",
     "text": [
      "Model: \"functional_1\"\n",
      "_________________________________________________________________\n",
      "Layer (type)                 Output Shape              Param #   \n",
      "=================================================================\n",
      "input_1 (InputLayer)         [(None, 224, 224, 3)]     0         \n",
      "_________________________________________________________________\n",
      "resnet50 (Functional)        (None, 7, 7, 2048)        23587712  \n",
      "_________________________________________________________________\n",
      "global_average_pooling2d (Gl (None, 2048)              0         \n",
      "_________________________________________________________________\n",
      "dense (Dense)                (None, 5)                 10245     \n",
      "=================================================================\n",
      "Total params: 23,597,957\n",
      "Trainable params: 10,245\n",
      "Non-trainable params: 23,587,712\n",
      "_________________________________________________________________\n",
      "input_1 True\n",
      "resnet50 False\n",
      "global_average_pooling2d True\n",
      "dense True\n",
      "\n",
      "Epoch 1/100\n",
      "836/836 [==============================] - 52s 62ms/step - loss: 1.4321 - acc: 0.4747 - val_loss: 1.2142 - val_acc: 0.6082\n",
      "Epoch 2/100\n",
      "836/836 [==============================] - 52s 62ms/step - loss: 1.1821 - acc: 0.6180 - val_loss: 1.1886 - val_acc: 0.6082\n",
      "Epoch 3/100\n",
      "836/836 [==============================] - 53s 63ms/step - loss: 1.1714 - acc: 0.6204 - val_loss: 1.1848 - val_acc: 0.6082\n",
      "Epoch 4/100\n",
      "836/836 [==============================] - 51s 62ms/step - loss: 1.1712 - acc: 0.6178 - val_loss: 1.1810 - val_acc: 0.6082\n",
      "Epoch 5/100\n",
      "836/836 [==============================] - 51s 61ms/step - loss: 1.1679 - acc: 0.6176 - val_loss: 1.1779 - val_acc: 0.6082\n",
      "Epoch 6/100\n",
      "836/836 [==============================] - 51s 61ms/step - loss: 1.1624 - acc: 0.6194 - val_loss: 1.1753 - val_acc: 0.6082\n",
      "Epoch 7/100\n",
      "836/836 [==============================] - 51s 61ms/step - loss: 1.1626 - acc: 0.6177 - val_loss: 1.1731 - val_acc: 0.6082\n",
      "Epoch 8/100\n",
      "836/836 [==============================] - 52s 63ms/step - loss: 1.1577 - acc: 0.6195 - val_loss: 1.1710 - val_acc: 0.6082\n",
      "Epoch 9/100\n",
      "836/836 [==============================] - 53s 63ms/step - loss: 1.1496 - acc: 0.6230 - val_loss: 1.1698 - val_acc: 0.6082\n",
      "Epoch 10/100\n",
      "836/836 [==============================] - 53s 63ms/step - loss: 1.1601 - acc: 0.6164 - val_loss: 1.1677 - val_acc: 0.6082\n",
      "Epoch 11/100\n",
      "836/836 [==============================] - 52s 62ms/step - loss: 1.1546 - acc: 0.6187 - val_loss: 1.1662 - val_acc: 0.6082\n",
      "Epoch 12/100\n",
      "836/836 [==============================] - 51s 61ms/step - loss: 1.1513 - acc: 0.6192 - val_loss: 1.1651 - val_acc: 0.6082\n",
      "Epoch 13/100\n",
      "836/836 [==============================] - 51s 61ms/step - loss: 1.1548 - acc: 0.6169 - val_loss: 1.1637 - val_acc: 0.6082\n",
      "Epoch 14/100\n",
      "836/836 [==============================] - 51s 61ms/step - loss: 1.1439 - acc: 0.6222 - val_loss: 1.1631 - val_acc: 0.6082\n",
      "Epoch 15/100\n",
      "836/836 [==============================] - 52s 62ms/step - loss: 1.1496 - acc: 0.6183 - val_loss: 1.1617 - val_acc: 0.6082\n",
      "Epoch 16/100\n",
      "836/836 [==============================] - 52s 62ms/step - loss: 1.1520 - acc: 0.6170 - val_loss: 1.1609 - val_acc: 0.6082\n",
      "Epoch 17/100\n",
      "836/836 [==============================] - 53s 64ms/step - loss: 1.1463 - acc: 0.6192 - val_loss: 1.1599 - val_acc: 0.6082\n",
      "Epoch 18/100\n",
      "836/836 [==============================] - 51s 61ms/step - loss: 1.1452 - acc: 0.6198 - val_loss: 1.1593 - val_acc: 0.6082\n",
      "Epoch 19/100\n",
      "836/836 [==============================] - 52s 62ms/step - loss: 1.1435 - acc: 0.6194 - val_loss: 1.1584 - val_acc: 0.6082\n",
      "Epoch 20/100\n",
      "836/836 [==============================] - 51s 61ms/step - loss: 1.1401 - acc: 0.6212 - val_loss: 1.1575 - val_acc: 0.6082\n",
      "Epoch 21/100\n",
      "836/836 [==============================] - 52s 62ms/step - loss: 1.1513 - acc: 0.6152 - val_loss: 1.1571 - val_acc: 0.6082\n",
      "Epoch 22/100\n",
      "836/836 [==============================] - 52s 63ms/step - loss: 1.1373 - acc: 0.6216 - val_loss: 1.1559 - val_acc: 0.6083\n",
      "Epoch 23/100\n",
      "836/836 [==============================] - 52s 62ms/step - loss: 1.1442 - acc: 0.6191 - val_loss: 1.1561 - val_acc: 0.6082\n",
      "Epoch 24/100\n",
      "836/836 [==============================] - 53s 63ms/step - loss: 1.1422 - acc: 0.6178 - val_loss: 1.1551 - val_acc: 0.6082\n",
      "Epoch 25/100\n",
      "836/836 [==============================] - 52s 63ms/step - loss: 1.1451 - acc: 0.6169 - val_loss: 1.1546 - val_acc: 0.6082\n",
      "Epoch 26/100\n",
      "836/836 [==============================] - 51s 61ms/step - loss: 1.1414 - acc: 0.6192 - val_loss: 1.1541 - val_acc: 0.6082\n",
      "Epoch 27/100\n",
      "836/836 [==============================] - 51s 61ms/step - loss: 1.1361 - acc: 0.6208 - val_loss: 1.1533 - val_acc: 0.6082\n",
      "Epoch 28/100\n",
      "836/836 [==============================] - 51s 61ms/step - loss: 1.1426 - acc: 0.6168 - val_loss: 1.1531 - val_acc: 0.6082\n",
      "Epoch 29/100\n",
      "836/836 [==============================] - 52s 62ms/step - loss: 1.1344 - acc: 0.6220 - val_loss: 1.1525 - val_acc: 0.6082\n",
      "Epoch 30/100\n",
      "836/836 [==============================] - 52s 62ms/step - loss: 1.1392 - acc: 0.6186 - val_loss: 1.1516 - val_acc: 0.6083\n",
      "Epoch 31/100\n",
      "836/836 [==============================] - 52s 62ms/step - loss: 1.1359 - acc: 0.6196 - val_loss: 1.1517 - val_acc: 0.6082\n",
      "Epoch 32/100\n",
      "836/836 [==============================] - 52s 63ms/step - loss: 1.1429 - acc: 0.6166 - val_loss: 1.1513 - val_acc: 0.6082\n",
      "Epoch 33/100\n",
      "836/836 [==============================] - 51s 60ms/step - loss: 1.1358 - acc: 0.6199 - val_loss: 1.1509 - val_acc: 0.6082\n",
      "Epoch 34/100\n",
      "836/836 [==============================] - 52s 62ms/step - loss: 1.1328 - acc: 0.6207 - val_loss: 1.1506 - val_acc: 0.6082\n",
      "Epoch 35/100\n",
      "836/836 [==============================] - 52s 63ms/step - loss: 1.1419 - acc: 0.6166 - val_loss: 1.1503 - val_acc: 0.6082\n",
      "Epoch 36/100\n",
      "836/836 [==============================] - 51s 62ms/step - loss: 1.1356 - acc: 0.6186 - val_loss: 1.1496 - val_acc: 0.6082\n",
      "Epoch 37/100\n",
      "836/836 [==============================] - 52s 62ms/step - loss: 1.1363 - acc: 0.6183 - val_loss: 1.1494 - val_acc: 0.6082\n",
      "Epoch 38/100\n",
      "836/836 [==============================] - 52s 62ms/step - loss: 1.1290 - acc: 0.6219 - val_loss: 1.1490 - val_acc: 0.6082\n",
      "Epoch 39/100\n",
      "836/836 [==============================] - 53s 63ms/step - loss: 1.1414 - acc: 0.6163 - val_loss: 1.1486 - val_acc: 0.6082\n",
      "Epoch 40/100\n",
      "836/836 [==============================] - 51s 61ms/step - loss: 1.1309 - acc: 0.6212 - val_loss: 1.1481 - val_acc: 0.6082\n",
      "Epoch 41/100\n",
      "836/836 [==============================] - 51s 61ms/step - loss: 1.1319 - acc: 0.6190 - val_loss: 1.1477 - val_acc: 0.6082\n",
      "Epoch 42/100\n",
      "836/836 [==============================] - 51s 61ms/step - loss: 1.1391 - acc: 0.6172 - val_loss: 1.1477 - val_acc: 0.6082\n",
      "Epoch 43/100\n",
      "836/836 [==============================] - 51s 61ms/step - loss: 1.1280 - acc: 0.6210 - val_loss: 1.1470 - val_acc: 0.6082\n",
      "Epoch 44/100\n",
      "836/836 [==============================] - 52s 62ms/step - loss: 1.1304 - acc: 0.6200 - val_loss: 1.1470 - val_acc: 0.6082\n",
      "Epoch 45/100\n",
      "836/836 [==============================] - 52s 63ms/step - loss: 1.1330 - acc: 0.6185 - val_loss: 1.1468 - val_acc: 0.6082\n",
      "Epoch 46/100\n",
      "836/836 [==============================] - 52s 62ms/step - loss: 1.1373 - acc: 0.6165 - val_loss: 1.1464 - val_acc: 0.6082\n",
      "Epoch 47/100\n",
      "836/836 [==============================] - 50s 60ms/step - loss: 1.1323 - acc: 0.6194 - val_loss: 1.1461 - val_acc: 0.6082\n",
      "Epoch 48/100\n",
      "836/836 [==============================] - 52s 62ms/step - loss: 1.1284 - acc: 0.6214 - val_loss: 1.1457 - val_acc: 0.6082\n",
      "Epoch 49/100\n",
      "836/836 [==============================] - 51s 61ms/step - loss: 1.1332 - acc: 0.6173 - val_loss: 1.1454 - val_acc: 0.6082\n",
      "Epoch 50/100\n",
      "836/836 [==============================] - 52s 62ms/step - loss: 1.1275 - acc: 0.6203 - val_loss: 1.1452 - val_acc: 0.6082\n",
      "Epoch 51/100\n",
      "836/836 [==============================] - 51s 61ms/step - loss: 1.1337 - acc: 0.6175 - val_loss: 1.1450 - val_acc: 0.6082\n",
      "Epoch 52/100\n",
      "836/836 [==============================] - 53s 64ms/step - loss: 1.1295 - acc: 0.6204 - val_loss: 1.1449 - val_acc: 0.6082\n",
      "Epoch 53/100\n",
      "836/836 [==============================] - 53s 64ms/step - loss: 1.1293 - acc: 0.6190 - val_loss: 1.1444 - val_acc: 0.6082\n",
      "Epoch 54/100\n"
     ]
    },
    {
     "name": "stdout",
     "output_type": "stream",
     "text": [
      "836/836 [==============================] - 54s 64ms/step - loss: 1.1305 - acc: 0.6183 - val_loss: 1.1441 - val_acc: 0.6082\n",
      "Epoch 55/100\n",
      "836/836 [==============================] - 51s 61ms/step - loss: 1.1266 - acc: 0.6206 - val_loss: 1.1439 - val_acc: 0.6082\n",
      "Epoch 56/100\n",
      "836/836 [==============================] - 52s 62ms/step - loss: 1.1316 - acc: 0.6176 - val_loss: 1.1434 - val_acc: 0.6082\n",
      "Epoch 57/100\n",
      "836/836 [==============================] - 52s 62ms/step - loss: 1.1290 - acc: 0.6195 - val_loss: 1.1434 - val_acc: 0.6082\n",
      "Epoch 58/100\n",
      "836/836 [==============================] - 52s 62ms/step - loss: 1.1298 - acc: 0.6188 - val_loss: 1.1432 - val_acc: 0.6082\n",
      "Epoch 59/100\n",
      "836/836 [==============================] - 53s 63ms/step - loss: 1.1310 - acc: 0.6169 - val_loss: 1.1428 - val_acc: 0.6082\n",
      "Epoch 60/100\n",
      "836/836 [==============================] - 53s 64ms/step - loss: 1.1256 - acc: 0.6202 - val_loss: 1.1427 - val_acc: 0.6082\n",
      "Epoch 61/100\n",
      "836/836 [==============================] - 54s 64ms/step - loss: 1.1261 - acc: 0.6201 - val_loss: 1.1424 - val_acc: 0.6082\n",
      "Epoch 62/100\n",
      "836/836 [==============================] - 54s 64ms/step - loss: 1.1315 - acc: 0.6172 - val_loss: 1.1423 - val_acc: 0.6082\n",
      "Epoch 63/100\n",
      "836/836 [==============================] - 51s 61ms/step - loss: 1.1312 - acc: 0.6176 - val_loss: 1.1420 - val_acc: 0.6082\n",
      "Epoch 64/100\n",
      "836/836 [==============================] - 52s 63ms/step - loss: 1.1222 - acc: 0.6222 - val_loss: 1.1419 - val_acc: 0.6082\n",
      "Epoch 65/100\n",
      "836/836 [==============================] - 52s 62ms/step - loss: 1.1292 - acc: 0.6172 - val_loss: 1.1415 - val_acc: 0.6082\n",
      "Epoch 66/100\n",
      "836/836 [==============================] - 52s 62ms/step - loss: 1.1324 - acc: 0.6155 - val_loss: 1.1412 - val_acc: 0.6082\n",
      "Epoch 67/100\n",
      "836/836 [==============================] - 52s 63ms/step - loss: 1.1198 - acc: 0.6228 - val_loss: 1.1411 - val_acc: 0.6082\n",
      "Epoch 68/100\n",
      "836/836 [==============================] - 53s 64ms/step - loss: 1.1250 - acc: 0.6204 - val_loss: 1.1409 - val_acc: 0.6082\n",
      "Epoch 69/100\n",
      "836/836 [==============================] - 53s 63ms/step - loss: 1.1264 - acc: 0.6187 - val_loss: 1.1406 - val_acc: 0.6082\n",
      "Epoch 70/100\n",
      "836/836 [==============================] - 53s 63ms/step - loss: 1.1264 - acc: 0.6183 - val_loss: 1.1405 - val_acc: 0.6082\n",
      "Epoch 71/100\n",
      "836/836 [==============================] - 52s 62ms/step - loss: 1.1274 - acc: 0.6180 - val_loss: 1.1399 - val_acc: 0.6083\n",
      "Epoch 72/100\n",
      "836/836 [==============================] - 53s 63ms/step - loss: 1.1238 - acc: 0.6206 - val_loss: 1.1401 - val_acc: 0.6082\n",
      "Epoch 73/100\n",
      "836/836 [==============================] - 51s 61ms/step - loss: 1.1265 - acc: 0.6173 - val_loss: 1.1399 - val_acc: 0.6082\n",
      "Epoch 74/100\n",
      "836/836 [==============================] - 51s 61ms/step - loss: 1.1246 - acc: 0.6198 - val_loss: 1.1397 - val_acc: 0.6082\n",
      "Epoch 75/100\n",
      "836/836 [==============================] - 52s 63ms/step - loss: 1.1250 - acc: 0.6187 - val_loss: 1.1395 - val_acc: 0.6082\n",
      "Epoch 76/100\n",
      "836/836 [==============================] - 54s 64ms/step - loss: 1.1261 - acc: 0.6183 - val_loss: 1.1390 - val_acc: 0.6083\n",
      "Epoch 77/100\n",
      "836/836 [==============================] - 53s 63ms/step - loss: 1.1244 - acc: 0.6196 - val_loss: 1.1392 - val_acc: 0.6082\n",
      "Epoch 78/100\n",
      "836/836 [==============================] - 52s 63ms/step - loss: 1.1232 - acc: 0.6196 - val_loss: 1.1391 - val_acc: 0.6082\n",
      "Epoch 79/100\n",
      "836/836 [==============================] - 53s 63ms/step - loss: 1.1238 - acc: 0.6189 - val_loss: 1.1389 - val_acc: 0.6082\n",
      "Epoch 80/100\n",
      "836/836 [==============================] - 52s 62ms/step - loss: 1.1236 - acc: 0.6192 - val_loss: 1.1386 - val_acc: 0.6082\n",
      "Epoch 81/100\n",
      "836/836 [==============================] - 52s 63ms/step - loss: 1.1273 - acc: 0.6174 - val_loss: 1.1385 - val_acc: 0.6082\n",
      "Epoch 82/100\n",
      "836/836 [==============================] - 53s 63ms/step - loss: 1.1154 - acc: 0.6230 - val_loss: 1.1385 - val_acc: 0.6082\n",
      "Epoch 83/100\n",
      "836/836 [==============================] - 53s 63ms/step - loss: 1.1277 - acc: 0.6169 - val_loss: 1.1383 - val_acc: 0.6082\n",
      "Epoch 84/100\n",
      "836/836 [==============================] - 52s 62ms/step - loss: 1.1206 - acc: 0.6204 - val_loss: 1.1377 - val_acc: 0.6083\n",
      "Epoch 85/100\n",
      "836/836 [==============================] - 51s 61ms/step - loss: 1.1259 - acc: 0.6177 - val_loss: 1.1380 - val_acc: 0.6082\n",
      "Epoch 86/100\n",
      "836/836 [==============================] - 50s 59ms/step - loss: 1.1205 - acc: 0.6198 - val_loss: 1.1378 - val_acc: 0.6082\n",
      "Epoch 87/100\n",
      "836/836 [==============================] - 50s 60ms/step - loss: 1.1227 - acc: 0.6195 - val_loss: 1.1377 - val_acc: 0.6082\n",
      "Epoch 88/100\n",
      "836/836 [==============================] - 50s 60ms/step - loss: 1.1269 - acc: 0.6166 - val_loss: 1.1375 - val_acc: 0.6082\n",
      "Epoch 89/100\n",
      "836/836 [==============================] - 50s 60ms/step - loss: 1.1234 - acc: 0.6184 - val_loss: 1.1373 - val_acc: 0.6082\n",
      "Epoch 90/100\n",
      "836/836 [==============================] - 51s 61ms/step - loss: 1.1216 - acc: 0.6199 - val_loss: 1.1373 - val_acc: 0.6082\n",
      "Epoch 91/100\n",
      "836/836 [==============================] - 51s 61ms/step - loss: 1.1212 - acc: 0.6186 - val_loss: 1.1369 - val_acc: 0.6082\n",
      "Epoch 92/100\n",
      "836/836 [==============================] - 52s 62ms/step - loss: 1.1226 - acc: 0.6188 - val_loss: 1.1369 - val_acc: 0.6082\n",
      "Epoch 93/100\n",
      "836/836 [==============================] - 50s 60ms/step - loss: 1.1234 - acc: 0.6180 - val_loss: 1.1366 - val_acc: 0.6082\n",
      "Epoch 94/100\n",
      "836/836 [==============================] - 50s 60ms/step - loss: 1.1181 - acc: 0.6210 - val_loss: 1.1366 - val_acc: 0.6082\n",
      "Epoch 95/100\n",
      "836/836 [==============================] - 50s 60ms/step - loss: 1.1218 - acc: 0.6187 - val_loss: 1.1363 - val_acc: 0.6082\n",
      "Epoch 96/100\n",
      "836/836 [==============================] - 51s 61ms/step - loss: 1.1209 - acc: 0.6196 - val_loss: 1.1363 - val_acc: 0.6082\n",
      "Epoch 97/100\n",
      "836/836 [==============================] - 51s 61ms/step - loss: 1.1247 - acc: 0.6166 - val_loss: 1.1360 - val_acc: 0.6083\n",
      "Epoch 98/100\n",
      "836/836 [==============================] - 51s 62ms/step - loss: 1.1220 - acc: 0.6180 - val_loss: 1.1360 - val_acc: 0.6084\n",
      "Epoch 99/100\n",
      "836/836 [==============================] - 50s 60ms/step - loss: 1.1162 - acc: 0.6225 - val_loss: 1.1360 - val_acc: 0.6082\n",
      "Epoch 100/100\n",
      "836/836 [==============================] - 51s 61ms/step - loss: 1.1187 - acc: 0.6196 - val_loss: 1.1358 - val_acc: 0.6083\n",
      "Wall time: 1h 26min 28s\n"
     ]
    }
   ],
   "source": [
    "%%time\n",
    "# get model and compile\n",
    "tf.keras.backend.clear_session()\n",
    "\n",
    "# モデルがTPU上で確実に学習されるようにするために、 strategy.scope()を使用してモデルを構築\n",
    "#with strategy.scope(): \n",
    "model = get_training_model(weights=\"imagenet\")\n",
    "model.summary()\n",
    "for l in model.layers:\n",
    "    print(l.name, l.trainable)\n",
    "print()\n",
    "\n",
    "early_stopper = tf.keras.callbacks.EarlyStopping(monitor=\"val_loss\", \n",
    "                                                 patience=patience, \n",
    "                                                 verbose=2, \n",
    "                                                 restore_best_weights=True)\n",
    "\n",
    "checkpoint = tf.keras.callbacks.ModelCheckpoint(filepath=\"imagenet_without_augment.h5\", \n",
    "                                                monitor='val_loss', \n",
    "                                                save_best_only=True)\n",
    "\n",
    "# train \n",
    "history = model.fit(training_ds,\n",
    "                    validation_data=(testing_ds),\n",
    "                    epochs=epochs,\n",
    "                    callbacks=[early_stopper, checkpoint],\n",
    "                    steps_per_epoch=NUM_TRAINING_IMAGES // BATCH_SIZE, \n",
    "                    validation_steps=NUM_VALIDATION_IMAGES // BATCH_SIZE, \n",
    "                   )"
   ]
  },
  {
   "cell_type": "code",
   "execution_count": 13,
   "metadata": {
    "ExecuteTime": {
     "end_time": "2020-12-16T18:49:20.937931Z",
     "start_time": "2020-12-16T18:49:20.660150Z"
    },
    "execution": {
     "iopub.execute_input": "2020-12-15T10:06:04.704334Z",
     "iopub.status.busy": "2020-12-15T10:06:04.703528Z",
     "iopub.status.idle": "2020-12-15T10:06:05.184198Z",
     "shell.execute_reply": "2020-12-15T10:06:05.184848Z"
    },
    "papermill": {
     "duration": 1.578184,
     "end_time": "2020-12-15T10:06:05.185012",
     "exception": false,
     "start_time": "2020-12-15T10:06:03.606828",
     "status": "completed"
    },
    "tags": []
   },
   "outputs": [
    {
     "data": {
      "text/plain": [
       "<AxesSubplot:>"
      ]
     },
     "execution_count": 13,
     "metadata": {},
     "output_type": "execute_result"
    },
    {
     "data": {
      "image/png": "[encoded data removed]",
      "text/plain": [
       "<Figure size 432x288 with 1 Axes>"
      ]
     },
     "metadata": {
      "needs_background": "light"
     },
     "output_type": "display_data"
    },
    {
     "data": {
      "image/png": "[encoded data removed]",
      "text/plain": [
       "<Figure size 432x288 with 1 Axes>"
      ]
     },
     "metadata": {
      "needs_background": "light"
     },
     "output_type": "display_data"
    }
   ],
   "source": [
    "history_frame = pd.DataFrame(history.history)\n",
    "history_frame.loc[:, ['loss', 'val_loss']].plot()\n",
    "history_frame.loc[:, ['acc', 'val_acc']].plot()"
   ]
  },
  {
   "cell_type": "code",
   "execution_count": 14,
   "metadata": {
    "ExecuteTime": {
     "end_time": "2020-12-16T18:49:38.452051Z",
     "start_time": "2020-12-16T18:49:20.938932Z"
    },
    "execution": {
     "iopub.execute_input": "2020-12-15T10:06:07.329716Z",
     "iopub.status.busy": "2020-12-15T10:06:07.328807Z",
     "iopub.status.idle": "2020-12-15T10:06:17.147278Z",
     "shell.execute_reply": "2020-12-15T10:06:17.146401Z"
    },
    "papermill": {
     "duration": 10.890366,
     "end_time": "2020-12-15T10:06:17.147457",
     "exception": false,
     "start_time": "2020-12-15T10:06:06.257091",
     "status": "completed"
    },
    "tags": []
   },
   "outputs": [
    {
     "name": "stdout",
     "output_type": "stream",
     "text": [
      "502/502 [==============================] - 17s 35ms/step - loss: 1.1358 - acc: 0.6083\n"
     ]
    }
   ],
   "source": [
    "loss, acc = model.evaluate(testing_ds)"
   ]
  },
  {
   "cell_type": "markdown",
   "metadata": {
    "papermill": {
     "duration": 1.134267,
     "end_time": "2020-12-15T10:06:19.367958",
     "exception": false,
     "start_time": "2020-12-15T10:06:18.233691",
     "status": "completed"
    },
    "tags": []
   },
   "source": [
    "## With Augmentation"
   ]
  },
  {
   "cell_type": "code",
   "execution_count": 15,
   "metadata": {
    "ExecuteTime": {
     "end_time": "2020-12-16T18:49:38.456076Z",
     "start_time": "2020-12-16T18:49:38.453052Z"
    },
    "execution": {
     "iopub.execute_input": "2020-12-15T10:06:21.545589Z",
     "iopub.status.busy": "2020-12-15T10:06:21.544506Z",
     "iopub.status.idle": "2020-12-15T10:06:21.548341Z",
     "shell.execute_reply": "2020-12-15T10:06:21.547557Z"
    },
    "papermill": {
     "duration": 1.097101,
     "end_time": "2020-12-15T10:06:21.548512",
     "exception": false,
     "start_time": "2020-12-15T10:06:20.451411",
     "status": "completed"
    },
    "tags": []
   },
   "outputs": [],
   "source": [
    "# Configs\n",
    "CROP_SIZE = 224\n",
    "MIN_SCALE = 0.5\n",
    "MAX_SCALE = 1.\n",
    "\n",
    "# Experimental options\n",
    "options = tf.data.Options()\n",
    "options.experimental_optimization.noop_elimination = True\n",
    "options.experimental_optimization.map_vectorization.enabled = True\n",
    "options.experimental_optimization.apply_default_optimizations = True\n",
    "options.experimental_deterministic = False\n",
    "options.experimental_threading.max_intra_op_parallelism = 1"
   ]
  },
  {
   "cell_type": "code",
   "execution_count": 16,
   "metadata": {
    "ExecuteTime": {
     "end_time": "2020-12-16T18:49:38.466050Z",
     "start_time": "2020-12-16T18:49:38.457050Z"
    },
    "execution": {
     "iopub.execute_input": "2020-12-15T10:06:23.748057Z",
     "iopub.status.busy": "2020-12-15T10:06:23.747259Z",
     "iopub.status.idle": "2020-12-15T10:06:23.769095Z",
     "shell.execute_reply": "2020-12-15T10:06:23.768254Z"
    },
    "papermill": {
     "duration": 1.113212,
     "end_time": "2020-12-15T10:06:23.769263",
     "exception": false,
     "start_time": "2020-12-15T10:06:22.656051",
     "status": "completed"
    },
    "tags": []
   },
   "outputs": [],
   "source": [
    "@tf.function\n",
    "def scale_image(image, label):\n",
    "    image = tf.image.convert_image_dtype(image, tf.float32)\n",
    "    return (image, label)\n",
    "\n",
    "@tf.function\n",
    "def random_apply(func, x, p):\n",
    "    return tf.cond(\n",
    "        tf.less(tf.random.uniform([], minval=0, maxval=1, dtype=tf.float32),\n",
    "                tf.cast(p, tf.float32)),\n",
    "        lambda: func(x),\n",
    "        lambda: x)\n",
    " \n",
    "@tf.function\n",
    "def random_resize_crop(image, label):\n",
    "    # Conditional resizing\n",
    "    image = tf.image.resize(image, (260, 260))\n",
    "    # Get the crop size for given min and max scale\n",
    "    size = tf.random.uniform(shape=(1,), minval=MIN_SCALE*260,\n",
    "                             maxval=MAX_SCALE*260, dtype=tf.float32)\n",
    "    size = tf.cast(size, tf.int32)[0]\n",
    "    # Get the crop from the image\n",
    "    crop = tf.image.random_crop(image, (size,size,3))\n",
    "    crop_resize = tf.image.resize(crop, (CROP_SIZE, CROP_SIZE))\n",
    "\n",
    "    return crop_resize, label\n",
    "\n",
    "@tf.function\n",
    "def tie_together(image_label):\n",
    "    image, label = image_label[\"image\"], image_label[\"label\"]\n",
    "    # Scale the pixel values\n",
    "    image, label = scale_image(image , label)\n",
    "    # random horizontal flip\n",
    "    image = random_apply(tf.image.random_flip_left_right, image, p=0.5)\n",
    "    # Random resized crops\n",
    "    image, label = random_resize_crop(image, label)\n",
    "\n",
    "    return image, label"
   ]
  },
  {
   "cell_type": "code",
   "execution_count": 17,
   "metadata": {
    "ExecuteTime": {
     "end_time": "2020-12-16T18:49:38.672239Z",
     "start_time": "2020-12-16T18:49:38.467049Z"
    },
    "execution": {
     "iopub.execute_input": "2020-12-15T10:06:25.927965Z",
     "iopub.status.busy": "2020-12-15T10:06:25.927096Z",
     "iopub.status.idle": "2020-12-15T10:06:26.633361Z",
     "shell.execute_reply": "2020-12-15T10:06:26.632416Z"
    },
    "papermill": {
     "duration": 1.786899,
     "end_time": "2020-12-15T10:06:26.633522",
     "exception": false,
     "start_time": "2020-12-15T10:06:24.846623",
     "status": "completed"
    },
    "tags": []
   },
   "outputs": [],
   "source": [
    "training_ds = (\n",
    "    train_ds\n",
    "    .map(tie_together, num_parallel_calls=AUTO)\n",
    "    .repeat()\n",
    "    .shuffle(2048)\n",
    "    .batch(BATCH_SIZE)\n",
    "    .prefetch(AUTO)\n",
    ")\n",
    "\n",
    "training_ds = training_ds.with_options(options)"
   ]
  },
  {
   "cell_type": "code",
   "execution_count": 18,
   "metadata": {
    "ExecuteTime": {
     "end_time": "2020-12-16T20:11:08.248394Z",
     "start_time": "2020-12-16T18:49:38.673211Z"
    },
    "execution": {
     "iopub.execute_input": "2020-12-15T10:06:28.814837Z",
     "iopub.status.busy": "2020-12-15T10:06:28.810625Z",
     "iopub.status.idle": "2020-12-15T10:20:21.070275Z",
     "shell.execute_reply": "2020-12-15T10:20:21.069374Z"
    },
    "papermill": {
     "duration": 833.353384,
     "end_time": "2020-12-15T10:20:21.070430",
     "exception": false,
     "start_time": "2020-12-15T10:06:27.717046",
     "status": "completed"
    },
    "tags": []
   },
   "outputs": [
    {
     "name": "stdout",
     "output_type": "stream",
     "text": [
      "Model: \"functional_1\"\n",
      "_________________________________________________________________\n",
      "Layer (type)                 Output Shape              Param #   \n",
      "=================================================================\n",
      "input_1 (InputLayer)         [(None, 224, 224, 3)]     0         \n",
      "_________________________________________________________________\n",
      "resnet50 (Functional)        (None, 7, 7, 2048)        23587712  \n",
      "_________________________________________________________________\n",
      "global_average_pooling2d (Gl (None, 2048)              0         \n",
      "_________________________________________________________________\n",
      "dense (Dense)                (None, 5)                 10245     \n",
      "=================================================================\n",
      "Total params: 23,597,957\n",
      "Trainable params: 10,245\n",
      "Non-trainable params: 23,587,712\n",
      "_________________________________________________________________\n",
      "input_1 True\n",
      "resnet50 False\n",
      "global_average_pooling2d True\n",
      "dense True\n",
      "\n",
      "Epoch 1/100\n",
      "836/836 [==============================] - 49s 59ms/step - loss: 1.3257 - acc: 0.4734 - val_loss: 1.1865 - val_acc: 0.6082\n",
      "Epoch 2/100\n",
      "836/836 [==============================] - 48s 58ms/step - loss: 1.1613 - acc: 0.6183 - val_loss: 1.1759 - val_acc: 0.6082\n",
      "Epoch 3/100\n",
      "836/836 [==============================] - 48s 58ms/step - loss: 1.1554 - acc: 0.6206 - val_loss: 1.1746 - val_acc: 0.6082\n",
      "Epoch 4/100\n",
      "836/836 [==============================] - 49s 58ms/step - loss: 1.1585 - acc: 0.6176 - val_loss: 1.1725 - val_acc: 0.6082\n",
      "Epoch 5/100\n",
      "836/836 [==============================] - 49s 58ms/step - loss: 1.1563 - acc: 0.6178 - val_loss: 1.1702 - val_acc: 0.6082\n",
      "Epoch 6/100\n",
      "836/836 [==============================] - 49s 59ms/step - loss: 1.1456 - acc: 0.6231 - val_loss: 1.1707 - val_acc: 0.6082\n",
      "Epoch 7/100\n",
      "836/836 [==============================] - 50s 60ms/step - loss: 1.1577 - acc: 0.6157 - val_loss: 1.1690 - val_acc: 0.6082\n",
      "Epoch 8/100\n",
      "836/836 [==============================] - 50s 60ms/step - loss: 1.1505 - acc: 0.6193 - val_loss: 1.1670 - val_acc: 0.6082\n",
      "Epoch 9/100\n",
      "836/836 [==============================] - 48s 58ms/step - loss: 1.1460 - acc: 0.6207 - val_loss: 1.1671 - val_acc: 0.6082\n",
      "Epoch 10/100\n",
      "836/836 [==============================] - 48s 58ms/step - loss: 1.1472 - acc: 0.6196 - val_loss: 1.1671 - val_acc: 0.6082\n",
      "Epoch 11/100\n",
      "836/836 [==============================] - 49s 59ms/step - loss: 1.1471 - acc: 0.6189 - val_loss: 1.1665 - val_acc: 0.6082\n",
      "Epoch 12/100\n",
      "836/836 [==============================] - 50s 59ms/step - loss: 1.1540 - acc: 0.6156 - val_loss: 1.1643 - val_acc: 0.6082\n",
      "Epoch 13/100\n",
      "836/836 [==============================] - 50s 60ms/step - loss: 1.1425 - acc: 0.6210 - val_loss: 1.1641 - val_acc: 0.6082\n",
      "Epoch 14/100\n",
      "836/836 [==============================] - 48s 57ms/step - loss: 1.1442 - acc: 0.6196 - val_loss: 1.1643 - val_acc: 0.6082\n",
      "Epoch 15/100\n",
      "836/836 [==============================] - 49s 58ms/step - loss: 1.1448 - acc: 0.6190 - val_loss: 1.1631 - val_acc: 0.6082\n",
      "Epoch 16/100\n",
      "836/836 [==============================] - 49s 59ms/step - loss: 1.1482 - acc: 0.6168 - val_loss: 1.1618 - val_acc: 0.6082\n",
      "Epoch 17/100\n",
      "836/836 [==============================] - 49s 59ms/step - loss: 1.1457 - acc: 0.6177 - val_loss: 1.1618 - val_acc: 0.6082\n",
      "Epoch 18/100\n",
      "836/836 [==============================] - 50s 59ms/step - loss: 1.1359 - acc: 0.6225 - val_loss: 1.1618 - val_acc: 0.6082\n",
      "Epoch 19/100\n",
      "836/836 [==============================] - 50s 59ms/step - loss: 1.1404 - acc: 0.6198 - val_loss: 1.1635 - val_acc: 0.6082\n",
      "Epoch 20/100\n",
      "836/836 [==============================] - 48s 58ms/step - loss: 1.1472 - acc: 0.6166 - val_loss: 1.1606 - val_acc: 0.6082\n",
      "Epoch 21/100\n",
      "836/836 [==============================] - 48s 57ms/step - loss: 1.1417 - acc: 0.6192 - val_loss: 1.1607 - val_acc: 0.6082\n",
      "Epoch 22/100\n",
      "836/836 [==============================] - 49s 58ms/step - loss: 1.1378 - acc: 0.6199 - val_loss: 1.1611 - val_acc: 0.6082\n",
      "Epoch 23/100\n",
      "836/836 [==============================] - 49s 59ms/step - loss: 1.1430 - acc: 0.6177 - val_loss: 1.1608 - val_acc: 0.6082\n",
      "Epoch 24/100\n",
      "836/836 [==============================] - 50s 60ms/step - loss: 1.1367 - acc: 0.6207 - val_loss: 1.1598 - val_acc: 0.6082\n",
      "Epoch 25/100\n",
      "836/836 [==============================] - 48s 58ms/step - loss: 1.1433 - acc: 0.6177 - val_loss: 1.1592 - val_acc: 0.6082\n",
      "Epoch 26/100\n",
      "836/836 [==============================] - 48s 57ms/step - loss: 1.1389 - acc: 0.6197 - val_loss: 1.1595 - val_acc: 0.6082\n",
      "Epoch 27/100\n",
      "836/836 [==============================] - 49s 59ms/step - loss: 1.1378 - acc: 0.6189 - val_loss: 1.1591 - val_acc: 0.6082\n",
      "Epoch 28/100\n",
      "836/836 [==============================] - 49s 59ms/step - loss: 1.1440 - acc: 0.6168 - val_loss: 1.1584 - val_acc: 0.6082\n",
      "Epoch 29/100\n",
      "836/836 [==============================] - 49s 59ms/step - loss: 1.1330 - acc: 0.6213 - val_loss: 1.1590 - val_acc: 0.6082\n",
      "Epoch 30/100\n",
      "836/836 [==============================] - 48s 58ms/step - loss: 1.1388 - acc: 0.6181 - val_loss: 1.1583 - val_acc: 0.6082\n",
      "Epoch 31/100\n",
      "836/836 [==============================] - 49s 58ms/step - loss: 1.1375 - acc: 0.6185 - val_loss: 1.1573 - val_acc: 0.6082\n",
      "Epoch 32/100\n",
      "836/836 [==============================] - 48s 58ms/step - loss: 1.1367 - acc: 0.6195 - val_loss: 1.1579 - val_acc: 0.6082\n",
      "Epoch 33/100\n",
      "836/836 [==============================] - 48s 58ms/step - loss: 1.1357 - acc: 0.6196 - val_loss: 1.1585 - val_acc: 0.6082\n",
      "Epoch 34/100\n",
      "836/836 [==============================] - 49s 59ms/step - loss: 1.1364 - acc: 0.6193 - val_loss: 1.1582 - val_acc: 0.6082\n",
      "Epoch 35/100\n",
      "836/836 [==============================] - 50s 60ms/step - loss: 1.1375 - acc: 0.6174 - val_loss: 1.1558 - val_acc: 0.6082\n",
      "Epoch 36/100\n",
      "836/836 [==============================] - 48s 58ms/step - loss: 1.1340 - acc: 0.6215 - val_loss: 1.1576 - val_acc: 0.6082\n",
      "Epoch 37/100\n",
      "836/836 [==============================] - 48s 58ms/step - loss: 1.1349 - acc: 0.6189 - val_loss: 1.1580 - val_acc: 0.6082\n",
      "Epoch 38/100\n",
      "836/836 [==============================] - 49s 59ms/step - loss: 1.1442 - acc: 0.6141 - val_loss: 1.1557 - val_acc: 0.6082\n",
      "Epoch 39/100\n",
      "836/836 [==============================] - 49s 59ms/step - loss: 1.1307 - acc: 0.6220 - val_loss: 1.1565 - val_acc: 0.6082\n",
      "Epoch 40/100\n",
      "836/836 [==============================] - 49s 59ms/step - loss: 1.1357 - acc: 0.6195 - val_loss: 1.1562 - val_acc: 0.6082\n",
      "Epoch 41/100\n",
      "836/836 [==============================] - 48s 58ms/step - loss: 1.1364 - acc: 0.6184 - val_loss: 1.1556 - val_acc: 0.6082\n",
      "Epoch 42/100\n",
      "836/836 [==============================] - 48s 58ms/step - loss: 1.1323 - acc: 0.6204 - val_loss: 1.1565 - val_acc: 0.6082\n",
      "Epoch 43/100\n",
      "836/836 [==============================] - 49s 58ms/step - loss: 1.1368 - acc: 0.6168 - val_loss: 1.1548 - val_acc: 0.6082\n",
      "Epoch 44/100\n",
      "836/836 [==============================] - 49s 59ms/step - loss: 1.1336 - acc: 0.6199 - val_loss: 1.1561 - val_acc: 0.6082\n",
      "Epoch 45/100\n",
      "836/836 [==============================] - 50s 60ms/step - loss: 1.1358 - acc: 0.6183 - val_loss: 1.1552 - val_acc: 0.6082\n",
      "Epoch 46/100\n",
      "836/836 [==============================] - 49s 59ms/step - loss: 1.1296 - acc: 0.6217 - val_loss: 1.1569 - val_acc: 0.6082\n",
      "Epoch 47/100\n",
      "836/836 [==============================] - 48s 57ms/step - loss: 1.1345 - acc: 0.6191 - val_loss: 1.1558 - val_acc: 0.6082\n",
      "Epoch 48/100\n",
      "836/836 [==============================] - 48s 58ms/step - loss: 1.1389 - acc: 0.6161 - val_loss: 1.1541 - val_acc: 0.6082\n",
      "Epoch 49/100\n",
      "836/836 [==============================] - 49s 59ms/step - loss: 1.1345 - acc: 0.6186 - val_loss: 1.1540 - val_acc: 0.6082\n",
      "Epoch 50/100\n",
      "836/836 [==============================] - 49s 59ms/step - loss: 1.1300 - acc: 0.6207 - val_loss: 1.1558 - val_acc: 0.6082\n",
      "Epoch 51/100\n",
      "836/836 [==============================] - 50s 59ms/step - loss: 1.1395 - acc: 0.6156 - val_loss: 1.1540 - val_acc: 0.6082\n",
      "Epoch 52/100\n",
      "836/836 [==============================] - 48s 57ms/step - loss: 1.1273 - acc: 0.6219 - val_loss: 1.1548 - val_acc: 0.6082\n",
      "Epoch 53/100\n",
      "836/836 [==============================] - 48s 57ms/step - loss: 1.1336 - acc: 0.6177 - val_loss: 1.1543 - val_acc: 0.6082\n",
      "Epoch 54/100\n"
     ]
    },
    {
     "name": "stdout",
     "output_type": "stream",
     "text": [
      "836/836 [==============================] - 48s 58ms/step - loss: 1.1255 - acc: 0.6220 - val_loss: 1.1549 - val_acc: 0.6082\n",
      "Epoch 55/100\n",
      "836/836 [==============================] - 49s 58ms/step - loss: 1.1310 - acc: 0.6196 - val_loss: 1.1552 - val_acc: 0.6082\n",
      "Epoch 56/100\n",
      "836/836 [==============================] - 49s 59ms/step - loss: 1.1336 - acc: 0.6177 - val_loss: 1.1544 - val_acc: 0.6082\n",
      "Epoch 57/100\n",
      "836/836 [==============================] - 48s 58ms/step - loss: 1.1349 - acc: 0.6172 - val_loss: 1.1538 - val_acc: 0.6082\n",
      "Epoch 58/100\n",
      "836/836 [==============================] - 48s 58ms/step - loss: 1.1304 - acc: 0.6195 - val_loss: 1.1535 - val_acc: 0.6082\n",
      "Epoch 59/100\n",
      "836/836 [==============================] - 48s 57ms/step - loss: 1.1320 - acc: 0.6186 - val_loss: 1.1536 - val_acc: 0.6082\n",
      "Epoch 60/100\n",
      "836/836 [==============================] - 49s 59ms/step - loss: 1.1330 - acc: 0.6178 - val_loss: 1.1523 - val_acc: 0.6082\n",
      "Epoch 61/100\n",
      "836/836 [==============================] - 49s 59ms/step - loss: 1.1269 - acc: 0.6216 - val_loss: 1.1547 - val_acc: 0.6082\n",
      "Epoch 62/100\n",
      "836/836 [==============================] - 49s 59ms/step - loss: 1.1317 - acc: 0.6177 - val_loss: 1.1535 - val_acc: 0.6082\n",
      "Epoch 63/100\n",
      "836/836 [==============================] - 48s 57ms/step - loss: 1.1324 - acc: 0.6183 - val_loss: 1.1526 - val_acc: 0.6082\n",
      "Epoch 64/100\n",
      "836/836 [==============================] - 48s 57ms/step - loss: 1.1266 - acc: 0.6204 - val_loss: 1.1538 - val_acc: 0.6082\n",
      "Epoch 65/100\n",
      "836/836 [==============================] - 49s 59ms/step - loss: 1.1320 - acc: 0.6179 - val_loss: 1.1521 - val_acc: 0.6082\n",
      "Epoch 66/100\n",
      "836/836 [==============================] - 49s 59ms/step - loss: 1.1293 - acc: 0.6192 - val_loss: 1.1532 - val_acc: 0.6082\n",
      "Epoch 67/100\n",
      "836/836 [==============================] - 49s 59ms/step - loss: 1.1271 - acc: 0.6210 - val_loss: 1.1535 - val_acc: 0.6082\n",
      "Epoch 68/100\n",
      "836/836 [==============================] - 48s 58ms/step - loss: 1.1340 - acc: 0.6160 - val_loss: 1.1517 - val_acc: 0.6082\n",
      "Epoch 69/100\n",
      "836/836 [==============================] - 48s 57ms/step - loss: 1.1277 - acc: 0.6204 - val_loss: 1.1520 - val_acc: 0.6082\n",
      "Epoch 70/100\n",
      "836/836 [==============================] - 48s 58ms/step - loss: 1.1289 - acc: 0.6185 - val_loss: 1.1529 - val_acc: 0.6082\n",
      "Epoch 71/100\n",
      "836/836 [==============================] - 49s 59ms/step - loss: 1.1220 - acc: 0.6217 - val_loss: 1.1531 - val_acc: 0.6082\n",
      "Epoch 72/100\n",
      "836/836 [==============================] - 50s 59ms/step - loss: 1.1369 - acc: 0.6156 - val_loss: 1.1517 - val_acc: 0.6082\n",
      "Epoch 73/100\n",
      "836/836 [==============================] - 48s 57ms/step - loss: 1.1240 - acc: 0.6234 - val_loss: 1.1535 - val_acc: 0.6082\n",
      "Epoch 74/100\n",
      "836/836 [==============================] - 48s 58ms/step - loss: 1.1360 - acc: 0.6148 - val_loss: 1.1511 - val_acc: 0.6082\n",
      "Epoch 75/100\n",
      "836/836 [==============================] - 48s 58ms/step - loss: 1.1269 - acc: 0.6216 - val_loss: 1.1521 - val_acc: 0.6082\n",
      "Epoch 76/100\n",
      "836/836 [==============================] - 49s 59ms/step - loss: 1.1334 - acc: 0.6160 - val_loss: 1.1505 - val_acc: 0.6082\n",
      "Epoch 77/100\n",
      "836/836 [==============================] - 50s 59ms/step - loss: 1.1232 - acc: 0.6210 - val_loss: 1.1516 - val_acc: 0.6082\n",
      "Epoch 78/100\n",
      "836/836 [==============================] - 50s 59ms/step - loss: 1.1301 - acc: 0.6180 - val_loss: 1.1521 - val_acc: 0.6082\n",
      "Epoch 79/100\n",
      "836/836 [==============================] - 48s 57ms/step - loss: 1.1294 - acc: 0.6193 - val_loss: 1.1517 - val_acc: 0.6082\n",
      "Epoch 80/100\n",
      "836/836 [==============================] - 48s 57ms/step - loss: 1.1308 - acc: 0.6180 - val_loss: 1.1514 - val_acc: 0.6082\n",
      "Epoch 81/100\n",
      "836/836 [==============================] - 49s 58ms/step - loss: 1.1228 - acc: 0.6222 - val_loss: 1.1515 - val_acc: 0.6082\n",
      "Epoch 82/100\n",
      "836/836 [==============================] - 49s 59ms/step - loss: 1.1287 - acc: 0.6191 - val_loss: 1.1516 - val_acc: 0.6082\n",
      "Epoch 83/100\n",
      "836/836 [==============================] - 50s 59ms/step - loss: 1.1320 - acc: 0.6169 - val_loss: 1.1505 - val_acc: 0.6082\n",
      "Epoch 84/100\n",
      "836/836 [==============================] - 48s 57ms/step - loss: 1.1249 - acc: 0.6206 - val_loss: 1.1515 - val_acc: 0.6082\n",
      "Epoch 85/100\n",
      "836/836 [==============================] - 48s 57ms/step - loss: 1.1283 - acc: 0.6177 - val_loss: 1.1510 - val_acc: 0.6082\n",
      "Epoch 86/100\n",
      "836/836 [==============================] - 49s 58ms/step - loss: 1.1319 - acc: 0.6172 - val_loss: 1.1502 - val_acc: 0.6082\n",
      "Epoch 87/100\n",
      "836/836 [==============================] - 49s 59ms/step - loss: 1.1303 - acc: 0.6186 - val_loss: 1.1510 - val_acc: 0.6082\n",
      "Epoch 88/100\n",
      "836/836 [==============================] - 50s 59ms/step - loss: 1.1250 - acc: 0.6207 - val_loss: 1.1507 - val_acc: 0.6082\n",
      "Epoch 89/100\n",
      "836/836 [==============================] - 48s 57ms/step - loss: 1.1297 - acc: 0.6172 - val_loss: 1.1502 - val_acc: 0.6082\n",
      "Epoch 90/100\n",
      "836/836 [==============================] - 48s 57ms/step - loss: 1.1241 - acc: 0.6213 - val_loss: 1.1509 - val_acc: 0.6082\n",
      "Epoch 91/100\n",
      "836/836 [==============================] - 49s 58ms/step - loss: 1.1249 - acc: 0.6195 - val_loss: 1.1502 - val_acc: 0.6082\n",
      "Epoch 92/100\n",
      "836/836 [==============================] - 49s 59ms/step - loss: 1.1271 - acc: 0.6192 - val_loss: 1.1509 - val_acc: 0.6082\n",
      "Epoch 93/100\n",
      "836/836 [==============================] - 49s 59ms/step - loss: 1.1308 - acc: 0.6166 - val_loss: 1.1505 - val_acc: 0.6082\n",
      "Epoch 94/100\n",
      "836/836 [==============================] - 50s 60ms/step - loss: 1.1264 - acc: 0.6187 - val_loss: 1.1500 - val_acc: 0.6082\n",
      "Epoch 95/100\n",
      "836/836 [==============================] - 48s 58ms/step - loss: 1.1253 - acc: 0.6197 - val_loss: 1.1496 - val_acc: 0.6082\n",
      "Epoch 96/100\n",
      "836/836 [==============================] - 48s 57ms/step - loss: 1.1187 - acc: 0.6229 - val_loss: 1.1510 - val_acc: 0.6082\n",
      "Epoch 97/100\n",
      "836/836 [==============================] - 48s 58ms/step - loss: 1.1324 - acc: 0.6158 - val_loss: 1.1502 - val_acc: 0.6082\n",
      "Epoch 98/100\n",
      "836/836 [==============================] - 49s 59ms/step - loss: 1.1251 - acc: 0.6200 - val_loss: 1.1502 - val_acc: 0.6082\n",
      "Epoch 99/100\n",
      "836/836 [==============================] - 49s 59ms/step - loss: 1.1290 - acc: 0.6174 - val_loss: 1.1501 - val_acc: 0.6082\n",
      "Epoch 100/100\n",
      "836/836 [==============================] - 48s 57ms/step - loss: 1.1250 - acc: 0.6194 - val_loss: 1.1498 - val_acc: 0.6082\n",
      "Wall time: 1h 21min 29s\n"
     ]
    }
   ],
   "source": [
    "%%time\n",
    "# get model and compile\n",
    "tf.keras.backend.clear_session()\n",
    "\n",
    "# モデルがTPU上で確実に学習されるようにするために、 strategy.scope()を使用してモデルを構築\n",
    "#with strategy.scope(): \n",
    "model = get_training_model(weights=\"imagenet\")\n",
    "model.summary()\n",
    "for l in model.layers:\n",
    "    print(l.name, l.trainable)\n",
    "print()\n",
    "\n",
    "early_stopper = tf.keras.callbacks.EarlyStopping(monitor=\"val_loss\", \n",
    "                                                 patience=patience, \n",
    "                                                 verbose=2, \n",
    "                                                 restore_best_weights=True)\n",
    "\n",
    "checkpoint = tf.keras.callbacks.ModelCheckpoint(filepath=\"imagenet_augment.h5\", \n",
    "                                                monitor='val_loss', \n",
    "                                                save_best_only=True)\n",
    "\n",
    "# train \n",
    "history = model.fit(training_ds,\n",
    "                    validation_data=(testing_ds),\n",
    "                    epochs=epochs,\n",
    "                    callbacks=[early_stopper, checkpoint],\n",
    "                    steps_per_epoch=NUM_TRAINING_IMAGES // BATCH_SIZE, \n",
    "                    validation_steps=NUM_VALIDATION_IMAGES // BATCH_SIZE, \n",
    "                   )"
   ]
  },
  {
   "cell_type": "code",
   "execution_count": 19,
   "metadata": {
    "ExecuteTime": {
     "end_time": "2020-12-16T20:11:08.475527Z",
     "start_time": "2020-12-16T20:11:08.249367Z"
    },
    "execution": {
     "iopub.execute_input": "2020-12-15T10:20:25.719794Z",
     "iopub.status.busy": "2020-12-15T10:20:25.718986Z",
     "iopub.status.idle": "2020-12-15T10:20:26.110723Z",
     "shell.execute_reply": "2020-12-15T10:20:26.109880Z"
    },
    "papermill": {
     "duration": 2.788563,
     "end_time": "2020-12-15T10:20:26.110856",
     "exception": false,
     "start_time": "2020-12-15T10:20:23.322293",
     "status": "completed"
    },
    "tags": []
   },
   "outputs": [
    {
     "data": {
      "text/plain": [
       "<AxesSubplot:>"
      ]
     },
     "execution_count": 19,
     "metadata": {},
     "output_type": "execute_result"
    },
    {
     "data": {
      "image/png": "[encoded data removed]",
      "text/plain": [
       "<Figure size 432x288 with 1 Axes>"
      ]
     },
     "metadata": {
      "needs_background": "light"
     },
     "output_type": "display_data"
    },
    {
     "data": {
      "image/png": "[encoded data removed]",
      "text/plain": [
       "<Figure size 432x288 with 1 Axes>"
      ]
     },
     "metadata": {
      "needs_background": "light"
     },
     "output_type": "display_data"
    }
   ],
   "source": [
    "history_frame = pd.DataFrame(history.history)\n",
    "history_frame.loc[:, ['loss', 'val_loss']].plot()\n",
    "history_frame.loc[:, ['acc', 'val_acc']].plot()"
   ]
  },
  {
   "cell_type": "code",
   "execution_count": 20,
   "metadata": {
    "ExecuteTime": {
     "end_time": "2020-12-16T20:11:25.735262Z",
     "start_time": "2020-12-16T20:11:08.476529Z"
    },
    "execution": {
     "iopub.execute_input": "2020-12-15T10:20:30.555696Z",
     "iopub.status.busy": "2020-12-15T10:20:30.554704Z",
     "iopub.status.idle": "2020-12-15T10:20:40.197310Z",
     "shell.execute_reply": "2020-12-15T10:20:40.195927Z"
    },
    "papermill": {
     "duration": 11.931773,
     "end_time": "2020-12-15T10:20:40.197468",
     "exception": false,
     "start_time": "2020-12-15T10:20:28.265695",
     "status": "completed"
    },
    "tags": []
   },
   "outputs": [
    {
     "name": "stdout",
     "output_type": "stream",
     "text": [
      "502/502 [==============================] - 17s 34ms/step - loss: 1.1497 - acc: 0.6082\n"
     ]
    }
   ],
   "source": [
    "loss, acc = model.evaluate(testing_ds)"
   ]
  },
  {
   "cell_type": "code",
   "execution_count": null,
   "metadata": {
    "papermill": {
     "duration": 2.183259,
     "end_time": "2020-12-15T10:20:44.602298",
     "exception": false,
     "start_time": "2020-12-15T10:20:42.419039",
     "status": "completed"
    },
    "tags": []
   },
   "outputs": [],
   "source": []
  },
  {
   "cell_type": "markdown",
   "metadata": {
    "papermill": {
     "duration": 2.234364,
     "end_time": "2020-12-15T10:20:49.066652",
     "exception": false,
     "start_time": "2020-12-15T10:20:46.832288",
     "status": "completed"
    },
    "tags": []
   },
   "source": [
    "# ResNet50をゼロから学習"
   ]
  },
  {
   "cell_type": "markdown",
   "metadata": {
    "papermill": {
     "duration": 2.161342,
     "end_time": "2020-12-15T10:20:53.423965",
     "exception": false,
     "start_time": "2020-12-15T10:20:51.262623",
     "status": "completed"
    },
    "tags": []
   },
   "source": [
    "## Without Augmentation"
   ]
  },
  {
   "cell_type": "code",
   "execution_count": 21,
   "metadata": {
    "ExecuteTime": {
     "end_time": "2020-12-16T21:00:53.747016Z",
     "start_time": "2020-12-16T20:11:25.736262Z"
    },
    "execution": {
     "iopub.execute_input": "2020-12-15T10:20:57.811350Z",
     "iopub.status.busy": "2020-12-15T10:20:57.804703Z",
     "iopub.status.idle": "2020-12-15T10:40:58.081801Z",
     "shell.execute_reply": "2020-12-15T10:40:58.080925Z"
    },
    "papermill": {
     "duration": 1202.497329,
     "end_time": "2020-12-15T10:40:58.081963",
     "exception": false,
     "start_time": "2020-12-15T10:20:55.584634",
     "status": "completed"
    },
    "scrolled": true,
    "tags": []
   },
   "outputs": [
    {
     "name": "stdout",
     "output_type": "stream",
     "text": [
      "Model: \"functional_1\"\n",
      "_________________________________________________________________\n",
      "Layer (type)                 Output Shape              Param #   \n",
      "=================================================================\n",
      "input_1 (InputLayer)         [(None, 224, 224, 3)]     0         \n",
      "_________________________________________________________________\n",
      "resnet50 (Functional)        (None, 7, 7, 2048)        23587712  \n",
      "_________________________________________________________________\n",
      "global_average_pooling2d (Gl (None, 2048)              0         \n",
      "_________________________________________________________________\n",
      "dense (Dense)                (None, 5)                 10245     \n",
      "=================================================================\n",
      "Total params: 23,597,957\n",
      "Trainable params: 23,544,837\n",
      "Non-trainable params: 53,120\n",
      "_________________________________________________________________\n",
      "input_1 True\n",
      "resnet50 True\n",
      "global_average_pooling2d True\n",
      "dense True\n",
      "\n",
      "Epoch 1/25\n",
      "836/836 [==============================] - 119s 143ms/step - loss: 1.2502 - acc: 0.5752 - val_loss: 1.1452 - val_acc: 0.6034\n",
      "Epoch 2/25\n",
      "836/836 [==============================] - 119s 142ms/step - loss: 1.0978 - acc: 0.6270 - val_loss: 1.0842 - val_acc: 0.6205\n",
      "Epoch 3/25\n",
      "836/836 [==============================] - 119s 142ms/step - loss: 1.0672 - acc: 0.6319 - val_loss: 1.0693 - val_acc: 0.6264\n",
      "Epoch 4/25\n",
      "836/836 [==============================] - 119s 142ms/step - loss: 1.0595 - acc: 0.6311 - val_loss: 1.0504 - val_acc: 0.6279\n",
      "Epoch 5/25\n",
      "836/836 [==============================] - 118s 141ms/step - loss: 1.0445 - acc: 0.6364 - val_loss: 1.0545 - val_acc: 0.6299\n",
      "Epoch 6/25\n",
      "836/836 [==============================] - 118s 141ms/step - loss: 1.0346 - acc: 0.6358 - val_loss: 1.0403 - val_acc: 0.6326\n",
      "Epoch 7/25\n",
      "836/836 [==============================] - 118s 141ms/step - loss: 1.0247 - acc: 0.6390 - val_loss: 1.0304 - val_acc: 0.6330\n",
      "Epoch 8/25\n",
      "836/836 [==============================] - 119s 142ms/step - loss: 1.0316 - acc: 0.6361 - val_loss: 1.0219 - val_acc: 0.6317\n",
      "Epoch 9/25\n",
      "836/836 [==============================] - 117s 140ms/step - loss: 1.0218 - acc: 0.6368 - val_loss: 1.0286 - val_acc: 0.6382\n",
      "Epoch 10/25\n",
      "836/836 [==============================] - 117s 141ms/step - loss: 1.0110 - acc: 0.6433 - val_loss: 1.0231 - val_acc: 0.6294\n",
      "Epoch 11/25\n",
      "836/836 [==============================] - 118s 142ms/step - loss: 1.0004 - acc: 0.6408 - val_loss: 1.0093 - val_acc: 0.6366\n",
      "Epoch 12/25\n",
      "836/836 [==============================] - 118s 142ms/step - loss: 1.0003 - acc: 0.6410 - val_loss: 1.0062 - val_acc: 0.6355\n",
      "Epoch 13/25\n",
      "836/836 [==============================] - 118s 141ms/step - loss: 0.9939 - acc: 0.6465 - val_loss: 1.0003 - val_acc: 0.6369\n",
      "Epoch 14/25\n",
      "836/836 [==============================] - 118s 141ms/step - loss: 0.9939 - acc: 0.6450 - val_loss: 1.0040 - val_acc: 0.6382\n",
      "Epoch 15/25\n",
      "836/836 [==============================] - 118s 142ms/step - loss: 0.9814 - acc: 0.6500 - val_loss: 0.9962 - val_acc: 0.6345\n",
      "Epoch 16/25\n",
      "836/836 [==============================] - 118s 142ms/step - loss: 0.9858 - acc: 0.6452 - val_loss: 0.9903 - val_acc: 0.6360\n",
      "Epoch 17/25\n",
      "836/836 [==============================] - 118s 142ms/step - loss: 0.9760 - acc: 0.6495 - val_loss: 0.9871 - val_acc: 0.6421\n",
      "Epoch 18/25\n",
      "836/836 [==============================] - 118s 142ms/step - loss: 0.9769 - acc: 0.6482 - val_loss: 0.9842 - val_acc: 0.6430\n",
      "Epoch 19/25\n",
      "836/836 [==============================] - 118s 142ms/step - loss: 0.9767 - acc: 0.6484 - val_loss: 0.9763 - val_acc: 0.6450\n",
      "Epoch 20/25\n",
      "836/836 [==============================] - 118s 142ms/step - loss: 0.9750 - acc: 0.6492 - val_loss: 0.9759 - val_acc: 0.6428\n",
      "Epoch 21/25\n",
      "836/836 [==============================] - 118s 141ms/step - loss: 0.9724 - acc: 0.6491 - val_loss: 0.9772 - val_acc: 0.6457\n",
      "Epoch 22/25\n",
      "836/836 [==============================] - 119s 142ms/step - loss: 0.9582 - acc: 0.6546 - val_loss: 0.9730 - val_acc: 0.6433\n",
      "Epoch 23/25\n",
      "836/836 [==============================] - 118s 141ms/step - loss: 0.9615 - acc: 0.6560 - val_loss: 0.9746 - val_acc: 0.6406\n",
      "Epoch 24/25\n",
      "836/836 [==============================] - 117s 140ms/step - loss: 0.9639 - acc: 0.6477 - val_loss: 0.9794 - val_acc: 0.6442\n",
      "Epoch 25/25\n",
      "836/836 [==============================] - 119s 142ms/step - loss: 0.9512 - acc: 0.6507 - val_loss: 0.9681 - val_acc: 0.6428\n",
      "Wall time: 49min 28s\n"
     ]
    }
   ],
   "source": [
    "%%time\n",
    "# get model and compile\n",
    "tf.keras.backend.clear_session()\n",
    "\n",
    "# モデルがTPU上で確実に学習されるようにするために、 strategy.scope()を使用してモデルを構築\n",
    "#with strategy.scope(): \n",
    "model = get_training_model()\n",
    "model.summary()\n",
    "for l in model.layers:\n",
    "    print(l.name, l.trainable)\n",
    "print()\n",
    "\n",
    "early_stopper = tf.keras.callbacks.EarlyStopping(monitor=\"val_loss\", \n",
    "                                                 patience=patience, \n",
    "                                                 verbose=2, \n",
    "                                                 restore_best_weights=True)\n",
    "\n",
    "checkpoint = tf.keras.callbacks.ModelCheckpoint(filepath=\"scratch_without_augment.h5\", \n",
    "                                                monitor='val_loss', \n",
    "                                                save_best_only=True)\n",
    "\n",
    "# train \n",
    "history = model.fit(training_ds,\n",
    "                    validation_data=(testing_ds),\n",
    "                    epochs=25,\n",
    "                    callbacks=[early_stopper, checkpoint],\n",
    "                    steps_per_epoch=NUM_TRAINING_IMAGES // BATCH_SIZE, \n",
    "                    validation_steps=NUM_VALIDATION_IMAGES // BATCH_SIZE, \n",
    "                   )"
   ]
  },
  {
   "cell_type": "code",
   "execution_count": 22,
   "metadata": {
    "ExecuteTime": {
     "end_time": "2020-12-16T21:00:53.993044Z",
     "start_time": "2020-12-16T21:00:53.749016Z"
    },
    "execution": {
     "iopub.execute_input": "2020-12-15T10:41:04.819488Z",
     "iopub.status.busy": "2020-12-15T10:41:04.813371Z",
     "iopub.status.idle": "2020-12-15T10:41:05.216898Z",
     "shell.execute_reply": "2020-12-15T10:41:05.216139Z"
    },
    "papermill": {
     "duration": 3.749798,
     "end_time": "2020-12-15T10:41:05.217035",
     "exception": false,
     "start_time": "2020-12-15T10:41:01.467237",
     "status": "completed"
    },
    "tags": []
   },
   "outputs": [
    {
     "data": {
      "text/plain": [
       "<AxesSubplot:>"
      ]
     },
     "execution_count": 22,
     "metadata": {},
     "output_type": "execute_result"
    },
    {
     "data": {
      "image/png": "[encoded data removed]",
      "text/plain": [
       "<Figure size 432x288 with 1 Axes>"
      ]
     },
     "metadata": {
      "needs_background": "light"
     },
     "output_type": "display_data"
    },
    {
     "data": {
      "image/png": "[encoded data removed]",
      "text/plain": [
       "<Figure size 432x288 with 1 Axes>"
      ]
     },
     "metadata": {
      "needs_background": "light"
     },
     "output_type": "display_data"
    }
   ],
   "source": [
    "history_frame = pd.DataFrame(history.history)\n",
    "history_frame.loc[:, ['loss', 'val_loss']].plot()\n",
    "history_frame.loc[:, ['acc', 'val_acc']].plot()"
   ]
  },
  {
   "cell_type": "code",
   "execution_count": 23,
   "metadata": {
    "ExecuteTime": {
     "end_time": "2020-12-16T21:01:15.061514Z",
     "start_time": "2020-12-16T21:00:53.994017Z"
    },
    "execution": {
     "iopub.execute_input": "2020-12-15T10:41:11.858272Z",
     "iopub.status.busy": "2020-12-15T10:41:11.857282Z",
     "iopub.status.idle": "2020-12-15T10:41:23.523790Z",
     "shell.execute_reply": "2020-12-15T10:41:23.522853Z"
    },
    "papermill": {
     "duration": 15.012619,
     "end_time": "2020-12-15T10:41:23.523951",
     "exception": false,
     "start_time": "2020-12-15T10:41:08.511332",
     "status": "completed"
    },
    "tags": []
   },
   "outputs": [
    {
     "name": "stdout",
     "output_type": "stream",
     "text": [
      "502/502 [==============================] - 21s 42ms/step - loss: 0.9687 - acc: 0.6450\n"
     ]
    }
   ],
   "source": [
    "loss, acc = model.evaluate(testing_ds)"
   ]
  },
  {
   "cell_type": "markdown",
   "metadata": {
    "papermill": {
     "duration": 3.381989,
     "end_time": "2020-12-15T10:41:30.231882",
     "exception": false,
     "start_time": "2020-12-15T10:41:26.849893",
     "status": "completed"
    },
    "tags": []
   },
   "source": [
    "## With Augmentation"
   ]
  },
  {
   "cell_type": "code",
   "execution_count": 24,
   "metadata": {
    "ExecuteTime": {
     "end_time": "2020-12-16T21:01:15.074556Z",
     "start_time": "2020-12-16T21:01:15.062432Z"
    },
    "execution": {
     "iopub.execute_input": "2020-12-15T10:41:37.053552Z",
     "iopub.status.busy": "2020-12-15T10:41:37.052629Z",
     "iopub.status.idle": "2020-12-15T10:41:37.070163Z",
     "shell.execute_reply": "2020-12-15T10:41:37.069362Z"
    },
    "papermill": {
     "duration": 3.446403,
     "end_time": "2020-12-15T10:41:37.070325",
     "exception": false,
     "start_time": "2020-12-15T10:41:33.623922",
     "status": "completed"
    },
    "tags": []
   },
   "outputs": [],
   "source": [
    "trainloader = (\n",
    "    train_ds\n",
    "    .map(tie_together, num_parallel_calls=AUTO)\n",
    "    .repeat()\n",
    "    .shuffle(2048)\n",
    "    .batch(BATCH_SIZE)\n",
    "    .prefetch(AUTO)\n",
    ")\n",
    "\n",
    "trainloader = trainloader.with_options(options)"
   ]
  },
  {
   "cell_type": "code",
   "execution_count": 25,
   "metadata": {
    "ExecuteTime": {
     "end_time": "2020-12-16T21:50:47.583905Z",
     "start_time": "2020-12-16T21:01:15.074991Z"
    },
    "execution": {
     "iopub.execute_input": "2020-12-15T10:41:43.713815Z",
     "iopub.status.busy": "2020-12-15T10:41:43.712540Z",
     "iopub.status.idle": "2020-12-15T11:01:12.160959Z",
     "shell.execute_reply": "2020-12-15T11:01:12.160146Z"
    },
    "papermill": {
     "duration": 1171.791403,
     "end_time": "2020-12-15T11:01:12.161095",
     "exception": false,
     "start_time": "2020-12-15T10:41:40.369692",
     "status": "completed"
    },
    "scrolled": true,
    "tags": []
   },
   "outputs": [
    {
     "name": "stdout",
     "output_type": "stream",
     "text": [
      "Model: \"functional_1\"\n",
      "_________________________________________________________________\n",
      "Layer (type)                 Output Shape              Param #   \n",
      "=================================================================\n",
      "input_1 (InputLayer)         [(None, 224, 224, 3)]     0         \n",
      "_________________________________________________________________\n",
      "resnet50 (Functional)        (None, 7, 7, 2048)        23587712  \n",
      "_________________________________________________________________\n",
      "global_average_pooling2d (Gl (None, 2048)              0         \n",
      "_________________________________________________________________\n",
      "dense (Dense)                (None, 5)                 10245     \n",
      "=================================================================\n",
      "Total params: 23,597,957\n",
      "Trainable params: 23,544,837\n",
      "Non-trainable params: 53,120\n",
      "_________________________________________________________________\n",
      "input_1 True\n",
      "resnet50 True\n",
      "global_average_pooling2d True\n",
      "dense True\n",
      "\n",
      "Epoch 1/25\n",
      "836/836 [==============================] - 119s 143ms/step - loss: 1.1984 - acc: 0.6012 - val_loss: 1.1444 - val_acc: 0.6124\n",
      "Epoch 2/25\n",
      "836/836 [==============================] - 119s 143ms/step - loss: 1.0988 - acc: 0.6247 - val_loss: 1.0870 - val_acc: 0.6198\n",
      "Epoch 3/25\n",
      "836/836 [==============================] - 119s 143ms/step - loss: 1.0600 - acc: 0.6334 - val_loss: 1.0768 - val_acc: 0.6209\n",
      "Epoch 4/25\n",
      "836/836 [==============================] - 119s 143ms/step - loss: 1.0587 - acc: 0.6329 - val_loss: 1.0613 - val_acc: 0.6275\n",
      "Epoch 5/25\n",
      "836/836 [==============================] - 119s 143ms/step - loss: 1.0412 - acc: 0.6364 - val_loss: 1.0411 - val_acc: 0.6276\n",
      "Epoch 6/25\n",
      "836/836 [==============================] - 119s 142ms/step - loss: 1.0367 - acc: 0.6355 - val_loss: 1.0370 - val_acc: 0.6302\n",
      "Epoch 7/25\n",
      "836/836 [==============================] - 118s 142ms/step - loss: 1.0258 - acc: 0.6431 - val_loss: 1.0298 - val_acc: 0.6340\n",
      "Epoch 8/25\n",
      "836/836 [==============================] - 118s 141ms/step - loss: 1.0126 - acc: 0.6432 - val_loss: 1.0232 - val_acc: 0.6321\n",
      "Epoch 9/25\n",
      "836/836 [==============================] - 118s 141ms/step - loss: 1.0276 - acc: 0.6362 - val_loss: 1.0235 - val_acc: 0.6342\n",
      "Epoch 10/25\n",
      "836/836 [==============================] - 117s 141ms/step - loss: 1.0092 - acc: 0.6447 - val_loss: 1.0275 - val_acc: 0.6326\n",
      "Epoch 11/25\n",
      "836/836 [==============================] - 118s 141ms/step - loss: 1.0066 - acc: 0.6432 - val_loss: 1.0242 - val_acc: 0.6351\n",
      "Epoch 12/25\n",
      "836/836 [==============================] - 119s 142ms/step - loss: 0.9957 - acc: 0.6442 - val_loss: 1.0185 - val_acc: 0.6351\n",
      "Epoch 13/25\n",
      "836/836 [==============================] - 119s 142ms/step - loss: 0.9932 - acc: 0.6497 - val_loss: 1.0014 - val_acc: 0.6381\n",
      "Epoch 14/25\n",
      "836/836 [==============================] - 118s 141ms/step - loss: 0.9941 - acc: 0.6475 - val_loss: 1.0014 - val_acc: 0.6361\n",
      "Epoch 15/25\n",
      "836/836 [==============================] - 119s 142ms/step - loss: 0.9881 - acc: 0.6458 - val_loss: 0.9963 - val_acc: 0.6408\n",
      "Epoch 16/25\n",
      "836/836 [==============================] - 119s 142ms/step - loss: 0.9802 - acc: 0.6502 - val_loss: 0.9910 - val_acc: 0.6435\n",
      "Epoch 17/25\n",
      "836/836 [==============================] - 119s 142ms/step - loss: 0.9769 - acc: 0.6497 - val_loss: 0.9868 - val_acc: 0.6450\n",
      "Epoch 18/25\n",
      "836/836 [==============================] - 118s 141ms/step - loss: 0.9732 - acc: 0.6533 - val_loss: 0.9977 - val_acc: 0.6391\n",
      "Epoch 19/25\n",
      "836/836 [==============================] - 118s 141ms/step - loss: 0.9787 - acc: 0.6478 - val_loss: 0.9916 - val_acc: 0.6412\n",
      "Epoch 20/25\n",
      "836/836 [==============================] - 119s 142ms/step - loss: 0.9680 - acc: 0.6522 - val_loss: 0.9773 - val_acc: 0.6485\n",
      "Epoch 21/25\n",
      "836/836 [==============================] - 118s 141ms/step - loss: 0.9776 - acc: 0.6506 - val_loss: 0.9817 - val_acc: 0.6407\n",
      "Epoch 22/25\n",
      "836/836 [==============================] - 118s 142ms/step - loss: 0.9545 - acc: 0.6560 - val_loss: 0.9730 - val_acc: 0.6447\n",
      "Epoch 23/25\n",
      "836/836 [==============================] - 118s 141ms/step - loss: 0.9604 - acc: 0.6510 - val_loss: 0.9785 - val_acc: 0.6418\n",
      "Epoch 24/25\n",
      "836/836 [==============================] - 119s 142ms/step - loss: 0.9525 - acc: 0.6536 - val_loss: 0.9681 - val_acc: 0.6457\n",
      "Epoch 25/25\n",
      "836/836 [==============================] - 118s 141ms/step - loss: 0.9567 - acc: 0.6525 - val_loss: 0.9695 - val_acc: 0.6498\n",
      "Wall time: 49min 32s\n"
     ]
    }
   ],
   "source": [
    "%%time\n",
    "# get model and compile\n",
    "tf.keras.backend.clear_session()\n",
    "\n",
    "# モデルがTPU上で確実に学習されるようにするために、 strategy.scope()を使用してモデルを構築\n",
    "#with strategy.scope(): \n",
    "model = get_training_model()\n",
    "model.summary()\n",
    "for l in model.layers:\n",
    "    print(l.name, l.trainable)\n",
    "print()\n",
    "\n",
    "early_stopper = tf.keras.callbacks.EarlyStopping(monitor=\"val_loss\", \n",
    "                                                 patience=patience, \n",
    "                                                 verbose=2, \n",
    "                                                 restore_best_weights=True)\n",
    "\n",
    "checkpoint = tf.keras.callbacks.ModelCheckpoint(filepath=\"scratch_augment.h5\", \n",
    "                                                monitor='val_loss', \n",
    "                                                save_best_only=True)\n",
    "\n",
    "# train \n",
    "history = model.fit(trainloader,\n",
    "                    validation_data=(testing_ds),\n",
    "                    epochs=25,\n",
    "                    callbacks=[early_stopper, checkpoint],\n",
    "                    steps_per_epoch=NUM_TRAINING_IMAGES // BATCH_SIZE, \n",
    "                    validation_steps=NUM_VALIDATION_IMAGES // BATCH_SIZE, \n",
    "                   )"
   ]
  },
  {
   "cell_type": "code",
   "execution_count": 26,
   "metadata": {
    "ExecuteTime": {
     "end_time": "2020-12-16T21:50:47.812909Z",
     "start_time": "2020-12-16T21:50:47.584906Z"
    },
    "execution": {
     "iopub.execute_input": "2020-12-15T11:01:21.072682Z",
     "iopub.status.busy": "2020-12-15T11:01:21.071768Z",
     "iopub.status.idle": "2020-12-15T11:01:21.493328Z",
     "shell.execute_reply": "2020-12-15T11:01:21.492516Z"
    },
    "papermill": {
     "duration": 4.914671,
     "end_time": "2020-12-15T11:01:21.493468",
     "exception": false,
     "start_time": "2020-12-15T11:01:16.578797",
     "status": "completed"
    },
    "tags": []
   },
   "outputs": [
    {
     "data": {
      "text/plain": [
       "<AxesSubplot:>"
      ]
     },
     "execution_count": 26,
     "metadata": {},
     "output_type": "execute_result"
    },
    {
     "data": {
      "image/png": "[encoded data removed]",
      "text/plain": [
       "<Figure size 432x288 with 1 Axes>"
      ]
     },
     "metadata": {
      "needs_background": "light"
     },
     "output_type": "display_data"
    },
    {
     "data": {
      "image/png": "[encoded data removed]",
      "text/plain": [
       "<Figure size 432x288 with 1 Axes>"
      ]
     },
     "metadata": {
      "needs_background": "light"
     },
     "output_type": "display_data"
    }
   ],
   "source": [
    "history_frame = pd.DataFrame(history.history)\n",
    "history_frame.loc[:, ['loss', 'val_loss']].plot()\n",
    "history_frame.loc[:, ['acc', 'val_acc']].plot()"
   ]
  },
  {
   "cell_type": "code",
   "execution_count": 27,
   "metadata": {
    "ExecuteTime": {
     "end_time": "2020-12-16T21:51:08.838880Z",
     "start_time": "2020-12-16T21:50:47.813932Z"
    },
    "execution": {
     "iopub.execute_input": "2020-12-15T11:01:30.697475Z",
     "iopub.status.busy": "2020-12-15T11:01:30.696527Z",
     "iopub.status.idle": "2020-12-15T11:01:39.490146Z",
     "shell.execute_reply": "2020-12-15T11:01:39.489542Z"
    },
    "papermill": {
     "duration": 13.451177,
     "end_time": "2020-12-15T11:01:39.490302",
     "exception": false,
     "start_time": "2020-12-15T11:01:26.039125",
     "status": "completed"
    },
    "scrolled": true,
    "tags": []
   },
   "outputs": [
    {
     "name": "stdout",
     "output_type": "stream",
     "text": [
      "502/502 [==============================] - 21s 42ms/step - loss: 0.9690 - acc: 0.6514\n"
     ]
    }
   ],
   "source": [
    "loss, acc = model.evaluate(testing_ds)"
   ]
  },
  {
   "cell_type": "code",
   "execution_count": null,
   "metadata": {
    "papermill": {
     "duration": 4.63912,
     "end_time": "2020-12-15T11:01:48.588971",
     "exception": false,
     "start_time": "2020-12-15T11:01:43.949851",
     "status": "completed"
    },
    "tags": []
   },
   "outputs": [],
   "source": []
  },
  {
   "cell_type": "markdown",
   "metadata": {
    "papermill": {
     "duration": 4.519416,
     "end_time": "2020-12-15T11:01:57.523635",
     "exception": false,
     "start_time": "2020-12-15T11:01:53.004219",
     "status": "completed"
    },
    "tags": []
   },
   "source": [
    "# 10％のラベル付きデータだけでFine Tuning\n",
    "- ラベル付きデータが非常に少ないケース\n",
    "- 最初にSwAVの重みを凍結してトレーニング（通常、高い学習率で実行）\n",
    "- 次に、全層をより低い学習率でトレーニング\n",
    "- https://colab.research.google.com/github/ayulockin/SwAV-TF/blob/master/fine_tuning/Fine_Tuning_Supervised_10Perc.ipynb"
   ]
  },
  {
   "cell_type": "code",
   "execution_count": 28,
   "metadata": {
    "ExecuteTime": {
     "end_time": "2020-12-16T21:51:08.896662Z",
     "start_time": "2020-12-16T21:51:08.839768Z"
    },
    "execution": {
     "iopub.execute_input": "2020-12-15T11:02:06.484855Z",
     "iopub.status.busy": "2020-12-15T11:02:06.483737Z",
     "iopub.status.idle": "2020-12-15T11:02:06.574404Z",
     "shell.execute_reply": "2020-12-15T11:02:06.573589Z"
    },
    "papermill": {
     "duration": 4.55904,
     "end_time": "2020-12-15T11:02:06.574537",
     "exception": false,
     "start_time": "2020-12-15T11:02:02.015497",
     "status": "completed"
    },
    "tags": []
   },
   "outputs": [
    {
     "name": "stdout",
     "output_type": "stream",
     "text": [
      "NUM_TRAINING_IMAGES, NUM_extra_TRAINING_IMAGES, NUM_VALIDATION_IMAGES: 1338, 12042, 8017\n"
     ]
    }
   ],
   "source": [
    "TRAINING_FILENAMES, VALID_FILENAMES = train_test_split(train_tfrecs,\n",
    "                                                       test_size=0.35, \n",
    "                                                       random_state=5)\n",
    "\n",
    "TRAINING_FILENAMES, extra_TRAINING_FILENAMES = train_test_split(TRAINING_FILENAMES,\n",
    "                                                                test_size=0.9, \n",
    "                                                                random_state=5)\n",
    "\n",
    "NUM_TRAINING_IMAGES = count_data_items(TRAINING_FILENAMES)\n",
    "NUM_extra_TRAINING_IMAGES = count_data_items(extra_TRAINING_FILENAMES)\n",
    "NUM_VALIDATION_IMAGES = count_data_items(VALID_FILENAMES)\n",
    "print(f\"NUM_TRAINING_IMAGES, NUM_extra_TRAINING_IMAGES, NUM_VALIDATION_IMAGES: {NUM_TRAINING_IMAGES}, {NUM_extra_TRAINING_IMAGES}, {NUM_VALIDATION_IMAGES}\")\n",
    "\n",
    "train_ds = load_dataset(TRAINING_FILENAMES, labeled=True)\n",
    "extra_train_ds = load_dataset(extra_TRAINING_FILENAMES, labeled=True)\n",
    "validation_ds = load_dataset(VALID_FILENAMES, labeled=True)\n",
    "\n",
    "# 10％のラベル付きデータ\n",
    "training_ds = (\n",
    "    train_ds\n",
    "    .map(scale_resize_image, num_parallel_calls=AUTO)\n",
    "    .repeat()\n",
    "    .shuffle(256)\n",
    "    .batch(BATCH_SIZE)\n",
    "    .prefetch(AUTO)\n",
    ")\n",
    "\n",
    "testing_ds = (\n",
    "    validation_ds\n",
    "    .map(scale_resize_image, num_parallel_calls=AUTO)\n",
    "    .batch(BATCH_SIZE)\n",
    "    .prefetch(AUTO)\n",
    ")"
   ]
  },
  {
   "cell_type": "markdown",
   "metadata": {
    "papermill": {
     "duration": 4.42777,
     "end_time": "2020-12-15T11:02:15.488288",
     "exception": false,
     "start_time": "2020-12-15T11:02:11.060518",
     "status": "completed"
    },
    "tags": []
   },
   "source": [
    "## With Augmentation"
   ]
  },
  {
   "cell_type": "code",
   "execution_count": 29,
   "metadata": {
    "ExecuteTime": {
     "end_time": "2020-12-16T21:51:08.909691Z",
     "start_time": "2020-12-16T21:51:08.897661Z"
    },
    "execution": {
     "iopub.execute_input": "2020-12-15T11:02:24.433426Z",
     "iopub.status.busy": "2020-12-15T11:02:24.432278Z",
     "iopub.status.idle": "2020-12-15T11:02:24.450889Z",
     "shell.execute_reply": "2020-12-15T11:02:24.450006Z"
    },
    "papermill": {
     "duration": 4.458704,
     "end_time": "2020-12-15T11:02:24.451022",
     "exception": false,
     "start_time": "2020-12-15T11:02:19.992318",
     "status": "completed"
    },
    "tags": []
   },
   "outputs": [],
   "source": [
    "# 10％のラベル付きデータ\n",
    "trainloader = (\n",
    "    train_ds\n",
    "    .map(tie_together, num_parallel_calls=AUTO)\n",
    "    .repeat()\n",
    "    .shuffle(256)\n",
    "    .batch(BATCH_SIZE)\n",
    "    .prefetch(AUTO)\n",
    ")\n",
    "\n",
    "trainloader = trainloader.with_options(options)"
   ]
  },
  {
   "cell_type": "markdown",
   "metadata": {
    "papermill": {
     "duration": 4.600488,
     "end_time": "2020-12-15T11:02:33.558457",
     "exception": false,
     "start_time": "2020-12-15T11:02:28.957969",
     "status": "completed"
    },
    "tags": []
   },
   "source": [
    "## 1.imagenetの重み固定して学習"
   ]
  },
  {
   "cell_type": "code",
   "execution_count": 30,
   "metadata": {
    "ExecuteTime": {
     "end_time": "2020-12-16T22:25:32.985403Z",
     "start_time": "2020-12-16T21:51:08.910668Z"
    },
    "execution": {
     "iopub.execute_input": "2020-12-15T11:02:42.622429Z",
     "iopub.status.busy": "2020-12-15T11:02:42.621599Z",
     "iopub.status.idle": "2020-12-15T11:10:09.833361Z",
     "shell.execute_reply": "2020-12-15T11:10:09.833904Z"
    },
    "papermill": {
     "duration": 451.722409,
     "end_time": "2020-12-15T11:10:09.834073",
     "exception": false,
     "start_time": "2020-12-15T11:02:38.111664",
     "status": "completed"
    },
    "tags": []
   },
   "outputs": [
    {
     "name": "stdout",
     "output_type": "stream",
     "text": [
      "Model: \"functional_1\"\n",
      "_________________________________________________________________\n",
      "Layer (type)                 Output Shape              Param #   \n",
      "=================================================================\n",
      "input_1 (InputLayer)         [(None, 224, 224, 3)]     0         \n",
      "_________________________________________________________________\n",
      "resnet50 (Functional)        (None, 7, 7, 2048)        23587712  \n",
      "_________________________________________________________________\n",
      "global_average_pooling2d (Gl (None, 2048)              0         \n",
      "_________________________________________________________________\n",
      "dense (Dense)                (None, 5)                 10245     \n",
      "=================================================================\n",
      "Total params: 23,597,957\n",
      "Trainable params: 10,245\n",
      "Non-trainable params: 23,587,712\n",
      "_________________________________________________________________\n",
      "input_1 True\n",
      "resnet50 False\n",
      "global_average_pooling2d True\n",
      "dense True\n",
      "\n",
      "Epoch 1/100\n",
      "83/83 [==============================] - 21s 255ms/step - loss: 1.9036 - acc: 0.0919 - val_loss: 1.8002 - val_acc: 0.1027\n",
      "Epoch 2/100\n",
      "83/83 [==============================] - 20s 246ms/step - loss: 1.7360 - acc: 0.1009 - val_loss: 1.6530 - val_acc: 0.1027\n",
      "Epoch 3/100\n",
      "83/83 [==============================] - 20s 246ms/step - loss: 1.6019 - acc: 0.0934 - val_loss: 1.5340 - val_acc: 0.1048\n",
      "Epoch 4/100\n",
      "83/83 [==============================] - 21s 248ms/step - loss: 1.4903 - acc: 0.1235 - val_loss: 1.4404 - val_acc: 0.1876\n",
      "Epoch 5/100\n",
      "83/83 [==============================] - 21s 247ms/step - loss: 1.4146 - acc: 0.3328 - val_loss: 1.3685 - val_acc: 0.5034\n",
      "Epoch 6/100\n",
      "83/83 [==============================] - 21s 248ms/step - loss: 1.3446 - acc: 0.5813 - val_loss: 1.3163 - val_acc: 0.6082\n",
      "Epoch 7/100\n",
      "83/83 [==============================] - 21s 248ms/step - loss: 1.3163 - acc: 0.6032 - val_loss: 1.2790 - val_acc: 0.6082\n",
      "Epoch 8/100\n",
      "83/83 [==============================] - 20s 245ms/step - loss: 1.2653 - acc: 0.6137 - val_loss: 1.2515 - val_acc: 0.6082\n",
      "Epoch 9/100\n",
      "83/83 [==============================] - 21s 248ms/step - loss: 1.2398 - acc: 0.6152 - val_loss: 1.2322 - val_acc: 0.6082\n",
      "Epoch 10/100\n",
      "83/83 [==============================] - 21s 247ms/step - loss: 1.2325 - acc: 0.6092 - val_loss: 1.2191 - val_acc: 0.6082\n",
      "Epoch 11/100\n",
      "83/83 [==============================] - 21s 247ms/step - loss: 1.2007 - acc: 0.6235 - val_loss: 1.2088 - val_acc: 0.6082\n",
      "Epoch 12/100\n",
      "83/83 [==============================] - 21s 247ms/step - loss: 1.2102 - acc: 0.6077 - val_loss: 1.2018 - val_acc: 0.6082\n",
      "Epoch 13/100\n",
      "83/83 [==============================] - 21s 248ms/step - loss: 1.2011 - acc: 0.6114 - val_loss: 1.1969 - val_acc: 0.6082\n",
      "Epoch 14/100\n",
      "83/83 [==============================] - 21s 248ms/step - loss: 1.1841 - acc: 0.6182 - val_loss: 1.1932 - val_acc: 0.6082\n",
      "Epoch 15/100\n",
      "83/83 [==============================] - 21s 249ms/step - loss: 1.1966 - acc: 0.6107 - val_loss: 1.1909 - val_acc: 0.6082\n",
      "Epoch 16/100\n",
      "83/83 [==============================] - 21s 248ms/step - loss: 1.1728 - acc: 0.6205 - val_loss: 1.1886 - val_acc: 0.6082\n",
      "Epoch 17/100\n",
      "83/83 [==============================] - 21s 247ms/step - loss: 1.1920 - acc: 0.6099 - val_loss: 1.1871 - val_acc: 0.6082\n",
      "Epoch 18/100\n",
      "83/83 [==============================] - 21s 247ms/step - loss: 1.1799 - acc: 0.6160 - val_loss: 1.1861 - val_acc: 0.6082\n",
      "Epoch 19/100\n",
      "83/83 [==============================] - 21s 248ms/step - loss: 1.1986 - acc: 0.6032 - val_loss: 1.1851 - val_acc: 0.6082\n",
      "Epoch 20/100\n",
      "83/83 [==============================] - 20s 246ms/step - loss: 1.1729 - acc: 0.6182 - val_loss: 1.1841 - val_acc: 0.6082\n",
      "Epoch 21/100\n",
      "83/83 [==============================] - 21s 249ms/step - loss: 1.1853 - acc: 0.6099 - val_loss: 1.1837 - val_acc: 0.6082\n",
      "Epoch 22/100\n",
      "83/83 [==============================] - 21s 249ms/step - loss: 1.1891 - acc: 0.6084 - val_loss: 1.1832 - val_acc: 0.6082\n",
      "Epoch 23/100\n",
      "83/83 [==============================] - 20s 245ms/step - loss: 1.1670 - acc: 0.6190 - val_loss: 1.1828 - val_acc: 0.6082\n",
      "Epoch 24/100\n",
      "83/83 [==============================] - 20s 246ms/step - loss: 1.1888 - acc: 0.6069 - val_loss: 1.1825 - val_acc: 0.6082\n",
      "Epoch 25/100\n",
      "83/83 [==============================] - 21s 247ms/step - loss: 1.1690 - acc: 0.6175 - val_loss: 1.1821 - val_acc: 0.6082\n",
      "Epoch 26/100\n",
      "83/83 [==============================] - 20s 246ms/step - loss: 1.1899 - acc: 0.6092 - val_loss: 1.1821 - val_acc: 0.6082\n",
      "Epoch 27/100\n",
      "83/83 [==============================] - 21s 248ms/step - loss: 1.1596 - acc: 0.6212 - val_loss: 1.1816 - val_acc: 0.6082\n",
      "Epoch 28/100\n",
      "83/83 [==============================] - 21s 248ms/step - loss: 1.1788 - acc: 0.6114 - val_loss: 1.1812 - val_acc: 0.6082\n",
      "Epoch 29/100\n",
      "83/83 [==============================] - 21s 249ms/step - loss: 1.1870 - acc: 0.6077 - val_loss: 1.1810 - val_acc: 0.6082\n",
      "Epoch 30/100\n",
      "83/83 [==============================] - 21s 249ms/step - loss: 1.1587 - acc: 0.6227 - val_loss: 1.1808 - val_acc: 0.6082\n",
      "Epoch 31/100\n",
      "83/83 [==============================] - 21s 248ms/step - loss: 1.1876 - acc: 0.6069 - val_loss: 1.1806 - val_acc: 0.6082\n",
      "Epoch 32/100\n",
      "83/83 [==============================] - 21s 249ms/step - loss: 1.1825 - acc: 0.6077 - val_loss: 1.1804 - val_acc: 0.6082\n",
      "Epoch 33/100\n",
      "83/83 [==============================] - 21s 248ms/step - loss: 1.1770 - acc: 0.6130 - val_loss: 1.1800 - val_acc: 0.6082\n",
      "Epoch 34/100\n",
      "83/83 [==============================] - 20s 247ms/step - loss: 1.1568 - acc: 0.6220 - val_loss: 1.1799 - val_acc: 0.6082\n",
      "Epoch 35/100\n",
      "83/83 [==============================] - 21s 248ms/step - loss: 1.1962 - acc: 0.6032 - val_loss: 1.1793 - val_acc: 0.6082\n",
      "Epoch 36/100\n",
      "83/83 [==============================] - 21s 248ms/step - loss: 1.1440 - acc: 0.6288 - val_loss: 1.1793 - val_acc: 0.6082\n",
      "Epoch 37/100\n",
      "83/83 [==============================] - 21s 249ms/step - loss: 1.2048 - acc: 0.5971 - val_loss: 1.1791 - val_acc: 0.6082\n",
      "Epoch 38/100\n",
      "83/83 [==============================] - 21s 248ms/step - loss: 1.1569 - acc: 0.6220 - val_loss: 1.1785 - val_acc: 0.6082\n",
      "Epoch 39/100\n",
      "83/83 [==============================] - 20s 246ms/step - loss: 1.1866 - acc: 0.6054 - val_loss: 1.1785 - val_acc: 0.6082\n",
      "Epoch 40/100\n",
      "83/83 [==============================] - 21s 249ms/step - loss: 1.1689 - acc: 0.6137 - val_loss: 1.1780 - val_acc: 0.6082\n",
      "Epoch 41/100\n",
      "83/83 [==============================] - 21s 249ms/step - loss: 1.1815 - acc: 0.6092 - val_loss: 1.1777 - val_acc: 0.6082\n",
      "Epoch 42/100\n",
      "83/83 [==============================] - 21s 248ms/step - loss: 1.1549 - acc: 0.6212 - val_loss: 1.1776 - val_acc: 0.6082\n",
      "Epoch 43/100\n",
      "83/83 [==============================] - 21s 248ms/step - loss: 1.1793 - acc: 0.6114 - val_loss: 1.1775 - val_acc: 0.6082\n",
      "Epoch 44/100\n",
      "83/83 [==============================] - 21s 248ms/step - loss: 1.1626 - acc: 0.6160 - val_loss: 1.1771 - val_acc: 0.6082\n",
      "Epoch 45/100\n",
      "83/83 [==============================] - 21s 248ms/step - loss: 1.1851 - acc: 0.6062 - val_loss: 1.1766 - val_acc: 0.6082\n",
      "Epoch 46/100\n",
      "83/83 [==============================] - 21s 248ms/step - loss: 1.1619 - acc: 0.6182 - val_loss: 1.1764 - val_acc: 0.6082\n",
      "Epoch 47/100\n",
      "83/83 [==============================] - 21s 249ms/step - loss: 1.1743 - acc: 0.6099 - val_loss: 1.1761 - val_acc: 0.6082\n",
      "Epoch 48/100\n",
      "83/83 [==============================] - 21s 248ms/step - loss: 1.1758 - acc: 0.6099 - val_loss: 1.1761 - val_acc: 0.6082\n",
      "Epoch 49/100\n",
      "83/83 [==============================] - 20s 247ms/step - loss: 1.1580 - acc: 0.6205 - val_loss: 1.1758 - val_acc: 0.6082\n",
      "Epoch 50/100\n",
      "83/83 [==============================] - 21s 248ms/step - loss: 1.1742 - acc: 0.6122 - val_loss: 1.1756 - val_acc: 0.6082\n",
      "Epoch 51/100\n",
      "83/83 [==============================] - 21s 249ms/step - loss: 1.1675 - acc: 0.6122 - val_loss: 1.1753 - val_acc: 0.6082\n",
      "Epoch 52/100\n",
      "83/83 [==============================] - 21s 248ms/step - loss: 1.1626 - acc: 0.6160 - val_loss: 1.1749 - val_acc: 0.6082\n",
      "Epoch 53/100\n",
      "83/83 [==============================] - 21s 248ms/step - loss: 1.1820 - acc: 0.6077 - val_loss: 1.1746 - val_acc: 0.6082\n",
      "Epoch 54/100\n"
     ]
    },
    {
     "name": "stdout",
     "output_type": "stream",
     "text": [
      "83/83 [==============================] - 21s 248ms/step - loss: 1.1708 - acc: 0.6107 - val_loss: 1.1743 - val_acc: 0.6082\n",
      "Epoch 55/100\n",
      "83/83 [==============================] - 20s 246ms/step - loss: 1.1643 - acc: 0.6167 - val_loss: 1.1744 - val_acc: 0.6082\n",
      "Epoch 56/100\n",
      "83/83 [==============================] - 21s 248ms/step - loss: 1.1897 - acc: 0.6009 - val_loss: 1.1740 - val_acc: 0.6082\n",
      "Epoch 57/100\n",
      "83/83 [==============================] - 20s 245ms/step - loss: 1.1423 - acc: 0.6265 - val_loss: 1.1740 - val_acc: 0.6082\n",
      "Epoch 58/100\n",
      "83/83 [==============================] - 21s 247ms/step - loss: 1.1775 - acc: 0.6069 - val_loss: 1.1736 - val_acc: 0.6082\n",
      "Epoch 59/100\n",
      "83/83 [==============================] - 21s 248ms/step - loss: 1.1741 - acc: 0.6114 - val_loss: 1.1733 - val_acc: 0.6082\n",
      "Epoch 60/100\n",
      "83/83 [==============================] - 21s 247ms/step - loss: 1.1618 - acc: 0.6145 - val_loss: 1.1731 - val_acc: 0.6082\n",
      "Epoch 61/100\n",
      "83/83 [==============================] - 21s 249ms/step - loss: 1.1577 - acc: 0.6175 - val_loss: 1.1729 - val_acc: 0.6082\n",
      "Epoch 62/100\n",
      "83/83 [==============================] - 21s 248ms/step - loss: 1.1834 - acc: 0.6047 - val_loss: 1.1727 - val_acc: 0.6082\n",
      "Epoch 63/100\n",
      "83/83 [==============================] - 21s 248ms/step - loss: 1.1649 - acc: 0.6130 - val_loss: 1.1722 - val_acc: 0.6082\n",
      "Epoch 64/100\n",
      "83/83 [==============================] - 21s 248ms/step - loss: 1.1570 - acc: 0.6175 - val_loss: 1.1720 - val_acc: 0.6082\n",
      "Epoch 65/100\n",
      "83/83 [==============================] - 21s 247ms/step - loss: 1.1695 - acc: 0.6122 - val_loss: 1.1720 - val_acc: 0.6082\n",
      "Epoch 66/100\n",
      "83/83 [==============================] - 20s 246ms/step - loss: 1.1661 - acc: 0.6122 - val_loss: 1.1718 - val_acc: 0.6082\n",
      "Epoch 67/100\n",
      "83/83 [==============================] - 21s 248ms/step - loss: 1.1690 - acc: 0.6099 - val_loss: 1.1715 - val_acc: 0.6082\n",
      "Epoch 68/100\n",
      "83/83 [==============================] - 21s 248ms/step - loss: 1.1625 - acc: 0.6152 - val_loss: 1.1714 - val_acc: 0.6082\n",
      "Epoch 69/100\n",
      "83/83 [==============================] - 21s 248ms/step - loss: 1.1584 - acc: 0.6160 - val_loss: 1.1712 - val_acc: 0.6082\n",
      "Epoch 70/100\n",
      "83/83 [==============================] - 20s 247ms/step - loss: 1.1640 - acc: 0.6145 - val_loss: 1.1709 - val_acc: 0.6082\n",
      "Epoch 71/100\n",
      "83/83 [==============================] - 20s 247ms/step - loss: 1.1648 - acc: 0.6122 - val_loss: 1.1707 - val_acc: 0.6082\n",
      "Epoch 72/100\n",
      "83/83 [==============================] - 21s 247ms/step - loss: 1.1570 - acc: 0.6160 - val_loss: 1.1703 - val_acc: 0.6082\n",
      "Epoch 73/100\n",
      "83/83 [==============================] - 20s 246ms/step - loss: 1.1770 - acc: 0.6069 - val_loss: 1.1704 - val_acc: 0.6082\n",
      "Epoch 74/100\n",
      "83/83 [==============================] - 21s 248ms/step - loss: 1.1780 - acc: 0.6039 - val_loss: 1.1701 - val_acc: 0.6082\n",
      "Epoch 75/100\n",
      "83/83 [==============================] - 20s 246ms/step - loss: 1.1408 - acc: 0.6265 - val_loss: 1.1702 - val_acc: 0.6082\n",
      "Epoch 76/100\n",
      "83/83 [==============================] - 21s 249ms/step - loss: 1.1797 - acc: 0.6032 - val_loss: 1.1697 - val_acc: 0.6082\n",
      "Epoch 77/100\n",
      "83/83 [==============================] - 21s 248ms/step - loss: 1.1466 - acc: 0.6220 - val_loss: 1.1696 - val_acc: 0.6082\n",
      "Epoch 78/100\n",
      "83/83 [==============================] - 21s 248ms/step - loss: 1.1695 - acc: 0.6092 - val_loss: 1.1695 - val_acc: 0.6082\n",
      "Epoch 79/100\n",
      "83/83 [==============================] - 21s 249ms/step - loss: 1.1759 - acc: 0.6062 - val_loss: 1.1692 - val_acc: 0.6082\n",
      "Epoch 80/100\n",
      "83/83 [==============================] - 21s 248ms/step - loss: 1.1588 - acc: 0.6152 - val_loss: 1.1691 - val_acc: 0.6082\n",
      "Epoch 81/100\n",
      "83/83 [==============================] - 20s 246ms/step - loss: 1.1695 - acc: 0.6084 - val_loss: 1.1691 - val_acc: 0.6082\n",
      "Epoch 82/100\n",
      "83/83 [==============================] - 21s 248ms/step - loss: 1.1438 - acc: 0.6212 - val_loss: 1.1688 - val_acc: 0.6082\n",
      "Epoch 83/100\n",
      "83/83 [==============================] - 21s 248ms/step - loss: 1.1761 - acc: 0.6069 - val_loss: 1.1687 - val_acc: 0.6082\n",
      "Epoch 84/100\n",
      "83/83 [==============================] - 20s 247ms/step - loss: 1.1481 - acc: 0.6182 - val_loss: 1.1684 - val_acc: 0.6082\n",
      "Epoch 85/100\n",
      "83/83 [==============================] - 21s 249ms/step - loss: 1.1718 - acc: 0.6092 - val_loss: 1.1683 - val_acc: 0.6082\n",
      "Epoch 86/100\n",
      "83/83 [==============================] - 21s 248ms/step - loss: 1.1622 - acc: 0.6114 - val_loss: 1.1681 - val_acc: 0.6082\n",
      "Epoch 87/100\n",
      "83/83 [==============================] - 21s 247ms/step - loss: 1.1546 - acc: 0.6175 - val_loss: 1.1680 - val_acc: 0.6082\n",
      "Epoch 88/100\n",
      "83/83 [==============================] - 21s 248ms/step - loss: 1.1691 - acc: 0.6077 - val_loss: 1.1676 - val_acc: 0.6082\n",
      "Epoch 89/100\n",
      "83/83 [==============================] - 21s 248ms/step - loss: 1.1642 - acc: 0.6092 - val_loss: 1.1675 - val_acc: 0.6082\n",
      "Epoch 90/100\n",
      "83/83 [==============================] - 20s 244ms/step - loss: 1.1663 - acc: 0.6114 - val_loss: 1.1675 - val_acc: 0.6082\n",
      "Epoch 91/100\n",
      "83/83 [==============================] - 21s 247ms/step - loss: 1.1498 - acc: 0.6190 - val_loss: 1.1674 - val_acc: 0.6082\n",
      "Epoch 92/100\n",
      "83/83 [==============================] - 21s 247ms/step - loss: 1.1528 - acc: 0.6152 - val_loss: 1.1672 - val_acc: 0.6082\n",
      "Epoch 93/100\n",
      "83/83 [==============================] - 20s 247ms/step - loss: 1.1754 - acc: 0.6062 - val_loss: 1.1672 - val_acc: 0.6082\n",
      "Epoch 94/100\n",
      "83/83 [==============================] - 21s 248ms/step - loss: 1.1506 - acc: 0.6167 - val_loss: 1.1669 - val_acc: 0.6082\n",
      "Epoch 95/100\n",
      "83/83 [==============================] - 21s 248ms/step - loss: 1.1537 - acc: 0.6145 - val_loss: 1.1667 - val_acc: 0.6082\n",
      "Epoch 96/100\n",
      "83/83 [==============================] - 21s 247ms/step - loss: 1.1676 - acc: 0.6099 - val_loss: 1.1667 - val_acc: 0.6082\n",
      "Epoch 97/100\n",
      "83/83 [==============================] - 21s 248ms/step - loss: 1.1628 - acc: 0.6107 - val_loss: 1.1664 - val_acc: 0.6082\n",
      "Epoch 98/100\n",
      "83/83 [==============================] - 21s 247ms/step - loss: 1.1494 - acc: 0.6175 - val_loss: 1.1664 - val_acc: 0.6082\n",
      "Epoch 99/100\n",
      "83/83 [==============================] - 20s 246ms/step - loss: 1.1414 - acc: 0.6227 - val_loss: 1.1662 - val_acc: 0.6082\n",
      "Epoch 100/100\n",
      "83/83 [==============================] - 20s 246ms/step - loss: 1.1815 - acc: 0.6024 - val_loss: 1.1663 - val_acc: 0.6082\n",
      "Wall time: 34min 24s\n"
     ]
    }
   ],
   "source": [
    "%%time\n",
    "# get model and compile\n",
    "tf.keras.backend.clear_session()\n",
    "\n",
    "# モデルがTPU上で確実に学習されるようにするために、 strategy.scope()を使用してモデルを構築\n",
    "#with strategy.scope(): \n",
    "model = get_training_model(weights=\"imagenet\")\n",
    "model.summary()\n",
    "for l in model.layers:\n",
    "    print(l.name, l.trainable)\n",
    "print()\n",
    "\n",
    "early_stopper = tf.keras.callbacks.EarlyStopping(monitor=\"val_loss\", \n",
    "                                                 patience=patience, \n",
    "                                                 verbose=2, \n",
    "                                                 restore_best_weights=True)\n",
    "\n",
    "# train\n",
    "history = model.fit(training_ds,\n",
    "                    validation_data=(testing_ds),\n",
    "                    epochs=epochs,\n",
    "                    callbacks=[early_stopper],\n",
    "                    steps_per_epoch=NUM_TRAINING_IMAGES // BATCH_SIZE, \n",
    "                    validation_steps=NUM_VALIDATION_IMAGES // BATCH_SIZE,\n",
    "                   )"
   ]
  },
  {
   "cell_type": "code",
   "execution_count": 31,
   "metadata": {
    "ExecuteTime": {
     "end_time": "2020-12-16T22:25:33.281410Z",
     "start_time": "2020-12-16T22:25:32.986401Z"
    },
    "execution": {
     "iopub.execute_input": "2020-12-15T11:10:19.080693Z",
     "iopub.status.busy": "2020-12-15T11:10:19.059934Z",
     "iopub.status.idle": "2020-12-15T11:10:20.825708Z",
     "shell.execute_reply": "2020-12-15T11:10:20.824878Z"
    },
    "papermill": {
     "duration": 6.400806,
     "end_time": "2020-12-15T11:10:20.825850",
     "exception": false,
     "start_time": "2020-12-15T11:10:14.425044",
     "status": "completed"
    },
    "tags": []
   },
   "outputs": [],
   "source": [
    "model.save('warmup.h5')"
   ]
  },
  {
   "cell_type": "markdown",
   "metadata": {
    "papermill": {
     "duration": 4.674468,
     "end_time": "2020-12-15T11:10:30.066985",
     "exception": false,
     "start_time": "2020-12-15T11:10:25.392517",
     "status": "completed"
    },
    "tags": []
   },
   "source": [
    "## 2.Fine tune CNN（1.の重みロードして全層学習）"
   ]
  },
  {
   "cell_type": "code",
   "execution_count": 32,
   "metadata": {
    "ExecuteTime": {
     "end_time": "2020-12-16T22:25:33.285403Z",
     "start_time": "2020-12-16T22:25:33.282402Z"
    },
    "execution": {
     "iopub.execute_input": "2020-12-15T11:10:39.404341Z",
     "iopub.status.busy": "2020-12-15T11:10:39.403531Z",
     "iopub.status.idle": "2020-12-15T11:10:39.407870Z",
     "shell.execute_reply": "2020-12-15T11:10:39.407063Z"
    },
    "papermill": {
     "duration": 4.685209,
     "end_time": "2020-12-15T11:10:39.408001",
     "exception": false,
     "start_time": "2020-12-15T11:10:34.722792",
     "status": "completed"
    },
    "tags": []
   },
   "outputs": [],
   "source": [
    "lr_scheduler = tf.keras.optimizers.schedules.ExponentialDecay(\n",
    "    initial_learning_rate=1e-6,  # 学習率下げてる\n",
    "    decay_steps=10000, \n",
    "    decay_rate=0.9)\n",
    "    \n",
    "    \n",
    "def get_classifier():\n",
    "    # load warmup model\n",
    "    warmup_model = tf.keras.models.load_model('warmup.h5')\n",
    "    warmup_model.trainable = True\n",
    "    \n",
    "    warmup_model.compile(loss=\"sparse_categorical_crossentropy\", \n",
    "                         metrics=[\"acc\"],\n",
    "                         optimizer=tf.keras.optimizers.Adam(learning_rate=lr_scheduler, epsilon=0.001),\n",
    "                        )\n",
    "\n",
    "    return warmup_model"
   ]
  },
  {
   "cell_type": "code",
   "execution_count": 33,
   "metadata": {
    "ExecuteTime": {
     "end_time": "2020-12-16T22:54:36.815854Z",
     "start_time": "2020-12-16T22:25:33.286402Z"
    },
    "execution": {
     "iopub.execute_input": "2020-12-15T11:10:48.733249Z",
     "iopub.status.busy": "2020-12-15T11:10:48.730232Z",
     "iopub.status.idle": "2020-12-15T13:27:29.122857Z",
     "shell.execute_reply": "2020-12-15T13:27:29.121288Z"
    },
    "papermill": {
     "duration": 8205.101593,
     "end_time": "2020-12-15T13:27:29.123090",
     "exception": false,
     "start_time": "2020-12-15T11:10:44.021497",
     "status": "completed"
    },
    "tags": []
   },
   "outputs": [
    {
     "name": "stdout",
     "output_type": "stream",
     "text": [
      "Model: \"functional_1\"\n",
      "_________________________________________________________________\n",
      "Layer (type)                 Output Shape              Param #   \n",
      "=================================================================\n",
      "input_1 (InputLayer)         [(None, 224, 224, 3)]     0         \n",
      "_________________________________________________________________\n",
      "resnet50 (Functional)        (None, 7, 7, 2048)        23587712  \n",
      "_________________________________________________________________\n",
      "global_average_pooling2d (Gl (None, 2048)              0         \n",
      "_________________________________________________________________\n",
      "dense (Dense)                (None, 5)                 10245     \n",
      "=================================================================\n",
      "Total params: 23,597,957\n",
      "Trainable params: 23,544,837\n",
      "Non-trainable params: 53,120\n",
      "_________________________________________________________________\n",
      "input_1 True\n",
      "resnet50 True\n",
      "global_average_pooling2d True\n",
      "dense True\n",
      "\n",
      "Epoch 1/300\n",
      "83/83 [==============================] - 29s 344ms/step - loss: 1.1639 - acc: 0.6122 - val_loss: 1.1542 - val_acc: 0.6082\n",
      "Epoch 2/300\n",
      "83/83 [==============================] - 28s 337ms/step - loss: 1.1663 - acc: 0.6039 - val_loss: 1.1435 - val_acc: 0.6082\n",
      "Epoch 3/300\n",
      "83/83 [==============================] - 28s 337ms/step - loss: 1.1212 - acc: 0.6220 - val_loss: 1.1348 - val_acc: 0.6082\n",
      "Epoch 4/300\n",
      "83/83 [==============================] - 27s 326ms/step - loss: 1.1294 - acc: 0.6099 - val_loss: 1.1370 - val_acc: 0.6088\n",
      "Epoch 5/300\n",
      "83/83 [==============================] - 28s 339ms/step - loss: 1.1193 - acc: 0.6175 - val_loss: 1.1172 - val_acc: 0.6092\n",
      "Epoch 6/300\n",
      "83/83 [==============================] - 28s 338ms/step - loss: 1.0882 - acc: 0.6280 - val_loss: 1.1123 - val_acc: 0.6126\n",
      "Epoch 7/300\n",
      "83/83 [==============================] - 27s 328ms/step - loss: 1.1157 - acc: 0.6077 - val_loss: 1.1156 - val_acc: 0.6173\n",
      "Epoch 8/300\n",
      "83/83 [==============================] - 27s 327ms/step - loss: 1.0818 - acc: 0.6310 - val_loss: 1.1133 - val_acc: 0.6166\n",
      "Epoch 9/300\n",
      "83/83 [==============================] - 28s 338ms/step - loss: 1.0867 - acc: 0.6258 - val_loss: 1.0965 - val_acc: 0.6188\n",
      "Epoch 10/300\n",
      "83/83 [==============================] - 28s 337ms/step - loss: 1.0458 - acc: 0.6423 - val_loss: 1.0887 - val_acc: 0.6189\n",
      "Epoch 11/300\n",
      "83/83 [==============================] - 27s 327ms/step - loss: 1.0771 - acc: 0.6325 - val_loss: 1.1138 - val_acc: 0.6155\n",
      "Epoch 12/300\n",
      "83/83 [==============================] - 27s 328ms/step - loss: 1.0759 - acc: 0.6235 - val_loss: 1.1277 - val_acc: 0.6169\n",
      "Epoch 13/300\n",
      "83/83 [==============================] - 28s 337ms/step - loss: 1.0357 - acc: 0.6468 - val_loss: 1.0849 - val_acc: 0.6210\n",
      "Epoch 14/300\n",
      "83/83 [==============================] - 27s 327ms/step - loss: 1.0745 - acc: 0.6303 - val_loss: 1.0920 - val_acc: 0.6161\n",
      "Epoch 15/300\n",
      "83/83 [==============================] - 28s 337ms/step - loss: 1.0266 - acc: 0.6498 - val_loss: 1.0792 - val_acc: 0.6186\n",
      "Epoch 16/300\n",
      "83/83 [==============================] - 27s 329ms/step - loss: 1.0538 - acc: 0.6273 - val_loss: 1.0801 - val_acc: 0.6199\n",
      "Epoch 17/300\n",
      "83/83 [==============================] - 28s 336ms/step - loss: 1.0486 - acc: 0.6348 - val_loss: 1.0768 - val_acc: 0.6211\n",
      "Epoch 18/300\n",
      "83/83 [==============================] - 28s 339ms/step - loss: 1.0075 - acc: 0.6498 - val_loss: 1.0740 - val_acc: 0.6208\n",
      "Epoch 19/300\n",
      "83/83 [==============================] - 28s 337ms/step - loss: 1.0427 - acc: 0.6288 - val_loss: 1.0739 - val_acc: 0.6203\n",
      "Epoch 20/300\n",
      "83/83 [==============================] - 28s 338ms/step - loss: 1.0233 - acc: 0.6378 - val_loss: 1.0711 - val_acc: 0.6203\n",
      "Epoch 21/300\n",
      "83/83 [==============================] - 27s 328ms/step - loss: 1.0190 - acc: 0.6438 - val_loss: 1.0874 - val_acc: 0.6229\n",
      "Epoch 22/300\n",
      "83/83 [==============================] - 27s 328ms/step - loss: 1.0002 - acc: 0.6468 - val_loss: 1.0843 - val_acc: 0.6156\n",
      "Epoch 23/300\n",
      "83/83 [==============================] - 27s 329ms/step - loss: 1.0377 - acc: 0.6355 - val_loss: 1.0815 - val_acc: 0.6218\n",
      "Epoch 24/300\n",
      "83/83 [==============================] - 28s 337ms/step - loss: 0.9844 - acc: 0.6491 - val_loss: 1.0627 - val_acc: 0.6245\n",
      "Epoch 25/300\n",
      "83/83 [==============================] - 27s 329ms/step - loss: 0.9963 - acc: 0.6536 - val_loss: 1.0720 - val_acc: 0.6246\n",
      "Epoch 26/300\n",
      "83/83 [==============================] - 27s 327ms/step - loss: 1.0282 - acc: 0.6393 - val_loss: 1.0881 - val_acc: 0.6153\n",
      "Epoch 27/300\n",
      "83/83 [==============================] - 28s 337ms/step - loss: 0.9829 - acc: 0.6551 - val_loss: 1.0626 - val_acc: 0.6233\n",
      "Epoch 28/300\n",
      "83/83 [==============================] - 27s 324ms/step - loss: 0.9976 - acc: 0.6416 - val_loss: 1.1164 - val_acc: 0.6224\n",
      "Epoch 29/300\n",
      "83/83 [==============================] - 27s 329ms/step - loss: 0.9975 - acc: 0.6423 - val_loss: 1.0700 - val_acc: 0.6164\n",
      "Epoch 30/300\n",
      "83/83 [==============================] - 27s 326ms/step - loss: 0.9942 - acc: 0.6544 - val_loss: 1.0780 - val_acc: 0.6134\n",
      "Epoch 31/300\n",
      "83/83 [==============================] - 27s 328ms/step - loss: 0.9778 - acc: 0.6468 - val_loss: 1.0825 - val_acc: 0.6183\n",
      "Epoch 32/300\n",
      "83/83 [==============================] - 28s 337ms/step - loss: 0.9735 - acc: 0.6514 - val_loss: 1.0553 - val_acc: 0.6254\n",
      "Epoch 33/300\n",
      "83/83 [==============================] - 27s 328ms/step - loss: 0.9645 - acc: 0.6536 - val_loss: 1.0895 - val_acc: 0.6087\n",
      "Epoch 34/300\n",
      "83/83 [==============================] - 28s 338ms/step - loss: 0.9496 - acc: 0.6544 - val_loss: 1.0544 - val_acc: 0.6257\n",
      "Epoch 35/300\n",
      "83/83 [==============================] - 27s 328ms/step - loss: 0.9826 - acc: 0.6431 - val_loss: 1.0703 - val_acc: 0.6228\n",
      "Epoch 36/300\n",
      "83/83 [==============================] - 27s 328ms/step - loss: 0.9590 - acc: 0.6559 - val_loss: 1.0734 - val_acc: 0.6238\n",
      "Epoch 37/300\n",
      "83/83 [==============================] - 27s 328ms/step - loss: 0.9481 - acc: 0.6611 - val_loss: 1.0625 - val_acc: 0.6281\n",
      "Epoch 38/300\n",
      "83/83 [==============================] - 27s 327ms/step - loss: 0.9384 - acc: 0.6642 - val_loss: 1.0569 - val_acc: 0.6294\n",
      "Epoch 39/300\n",
      "83/83 [==============================] - 27s 328ms/step - loss: 0.9416 - acc: 0.6611 - val_loss: 1.0628 - val_acc: 0.6228\n",
      "Epoch 40/300\n",
      "83/83 [==============================] - 27s 327ms/step - loss: 0.9362 - acc: 0.6657 - val_loss: 1.0577 - val_acc: 0.6259\n",
      "Epoch 41/300\n",
      "83/83 [==============================] - 28s 337ms/step - loss: 0.9337 - acc: 0.6604 - val_loss: 1.0522 - val_acc: 0.6250\n",
      "Epoch 42/300\n",
      "83/83 [==============================] - 27s 328ms/step - loss: 0.9299 - acc: 0.6642 - val_loss: 1.0562 - val_acc: 0.6272\n",
      "Epoch 43/300\n",
      "83/83 [==============================] - 27s 328ms/step - loss: 0.9244 - acc: 0.6679 - val_loss: 1.0622 - val_acc: 0.6279\n",
      "Epoch 44/300\n",
      "83/83 [==============================] - 27s 328ms/step - loss: 0.8904 - acc: 0.6770 - val_loss: 1.1279 - val_acc: 0.6245\n",
      "Epoch 45/300\n",
      "83/83 [==============================] - 27s 327ms/step - loss: 0.9439 - acc: 0.6559 - val_loss: 1.1460 - val_acc: 0.5821\n",
      "Epoch 46/300\n",
      "83/83 [==============================] - 27s 327ms/step - loss: 0.9141 - acc: 0.6687 - val_loss: 1.1586 - val_acc: 0.6219\n",
      "Epoch 47/300\n",
      "83/83 [==============================] - 27s 328ms/step - loss: 0.9096 - acc: 0.6687 - val_loss: 1.1460 - val_acc: 0.6269\n",
      "Epoch 48/300\n",
      "83/83 [==============================] - 28s 338ms/step - loss: 0.9147 - acc: 0.6694 - val_loss: 1.0494 - val_acc: 0.6310\n",
      "Epoch 49/300\n",
      "83/83 [==============================] - 27s 327ms/step - loss: 0.8966 - acc: 0.6702 - val_loss: 1.0859 - val_acc: 0.6063\n",
      "Epoch 50/300\n",
      "83/83 [==============================] - 27s 329ms/step - loss: 0.8855 - acc: 0.6717 - val_loss: 1.1197 - val_acc: 0.5972\n",
      "Epoch 51/300\n",
      "83/83 [==============================] - 27s 328ms/step - loss: 0.8746 - acc: 0.6800 - val_loss: 1.0726 - val_acc: 0.6289\n",
      "Epoch 52/300\n",
      "83/83 [==============================] - 27s 328ms/step - loss: 0.8947 - acc: 0.6694 - val_loss: 1.0692 - val_acc: 0.6133\n",
      "Epoch 53/300\n",
      "83/83 [==============================] - 27s 328ms/step - loss: 0.8330 - acc: 0.6988 - val_loss: 1.1033 - val_acc: 0.6301\n",
      "Epoch 54/300\n"
     ]
    },
    {
     "name": "stdout",
     "output_type": "stream",
     "text": [
      "83/83 [==============================] - 27s 328ms/step - loss: 0.9013 - acc: 0.6694 - val_loss: 1.1030 - val_acc: 0.6022\n",
      "Epoch 55/300\n",
      "83/83 [==============================] - 27s 328ms/step - loss: 0.8457 - acc: 0.6913 - val_loss: 1.0718 - val_acc: 0.6122\n",
      "Epoch 56/300\n",
      "83/83 [==============================] - 27s 327ms/step - loss: 0.8722 - acc: 0.6755 - val_loss: 1.0758 - val_acc: 0.6316\n",
      "Epoch 57/300\n",
      "83/83 [==============================] - 27s 326ms/step - loss: 0.8227 - acc: 0.6980 - val_loss: 1.0855 - val_acc: 0.6289\n",
      "Epoch 58/300\n",
      "83/83 [==============================] - 27s 327ms/step - loss: 0.8497 - acc: 0.6807 - val_loss: 1.0877 - val_acc: 0.6301\n",
      "Epoch 59/300\n",
      "83/83 [==============================] - 27s 328ms/step - loss: 0.8349 - acc: 0.6883 - val_loss: 1.0680 - val_acc: 0.6225\n",
      "Epoch 60/300\n",
      "83/83 [==============================] - 27s 329ms/step - loss: 0.8153 - acc: 0.6973 - val_loss: 1.0964 - val_acc: 0.6319\n",
      "Epoch 61/300\n",
      "83/83 [==============================] - 27s 328ms/step - loss: 0.8271 - acc: 0.6905 - val_loss: 1.0692 - val_acc: 0.6179\n",
      "Epoch 62/300\n",
      "83/83 [==============================] - 27s 327ms/step - loss: 0.7991 - acc: 0.7041 - val_loss: 1.0654 - val_acc: 0.6165\n",
      "Epoch 63/300\n",
      "83/83 [==============================] - ETA: 0s - loss: 0.8214 - acc: 0.6965Restoring model weights from the end of the best epoch.\n",
      "83/83 [==============================] - 27s 329ms/step - loss: 0.8214 - acc: 0.6965 - val_loss: 1.0846 - val_acc: 0.6191\n",
      "Epoch 00063: early stopping\n",
      "Wall time: 29min 3s\n"
     ]
    }
   ],
   "source": [
    "%%time\n",
    "# get model and compile\n",
    "tf.keras.backend.clear_session()\n",
    "full_trainable_model = get_classifier()\n",
    "full_trainable_model.summary()\n",
    "for l in full_trainable_model.layers:\n",
    "    print(l.name, l.trainable)\n",
    "print()\n",
    "    \n",
    "early_stopper = tf.keras.callbacks.EarlyStopping(monitor=\"val_loss\", \n",
    "                                                 patience=patience, \n",
    "                                                 verbose=2, \n",
    "                                                 restore_best_weights=True)\n",
    "\n",
    "checkpoint = tf.keras.callbacks.ModelCheckpoint(filepath=\"imagenet_finetuning.h5\", \n",
    "                                                monitor='val_loss', \n",
    "                                                save_best_only=True)\n",
    "\n",
    "# train                                              \n",
    "history = full_trainable_model.fit(training_ds,\n",
    "                                   validation_data=(testing_ds),\n",
    "                                   epochs=epochs*3,\n",
    "                                   callbacks=[early_stopper, checkpoint],\n",
    "                                   steps_per_epoch=NUM_TRAINING_IMAGES // BATCH_SIZE, \n",
    "                                   validation_steps=NUM_VALIDATION_IMAGES // BATCH_SIZE,\n",
    "                                  )"
   ]
  },
  {
   "cell_type": "code",
   "execution_count": 34,
   "metadata": {
    "ExecuteTime": {
     "end_time": "2020-12-16T22:54:37.098771Z",
     "start_time": "2020-12-16T22:54:36.816743Z"
    },
    "execution": {
     "iopub.execute_input": "2020-12-15T13:27:38.915419Z",
     "iopub.status.busy": "2020-12-15T13:27:38.914319Z",
     "iopub.status.idle": "2020-12-15T13:27:39.299295Z",
     "shell.execute_reply": "2020-12-15T13:27:39.298574Z"
    },
    "papermill": {
     "duration": 5.191288,
     "end_time": "2020-12-15T13:27:39.299453",
     "exception": false,
     "start_time": "2020-12-15T13:27:34.108165",
     "status": "completed"
    },
    "tags": []
   },
   "outputs": [
    {
     "data": {
      "text/plain": [
       "<AxesSubplot:>"
      ]
     },
     "execution_count": 34,
     "metadata": {},
     "output_type": "execute_result"
    },
    {
     "data": {
      "image/png": "[encoded data removed]",
      "text/plain": [
       "<Figure size 432x288 with 1 Axes>"
      ]
     },
     "metadata": {
      "needs_background": "light"
     },
     "output_type": "display_data"
    },
    {
     "data": {
      "image/png": "[encoded data removed]",
      "text/plain": [
       "<Figure size 432x288 with 1 Axes>"
      ]
     },
     "metadata": {
      "needs_background": "light"
     },
     "output_type": "display_data"
    }
   ],
   "source": [
    "history_frame = pd.DataFrame(history.history)\n",
    "history_frame.loc[:, ['loss', 'val_loss']].plot()\n",
    "history_frame.loc[:, ['acc', 'val_acc']].plot()"
   ]
  },
  {
   "cell_type": "code",
   "execution_count": 35,
   "metadata": {
    "ExecuteTime": {
     "end_time": "2020-12-16T22:54:54.321603Z",
     "start_time": "2020-12-16T22:54:37.100747Z"
    },
    "execution": {
     "iopub.execute_input": "2020-12-15T13:27:48.847322Z",
     "iopub.status.busy": "2020-12-15T13:27:48.846326Z",
     "iopub.status.idle": "2020-12-15T13:28:34.544912Z",
     "shell.execute_reply": "2020-12-15T13:28:34.544284Z"
    },
    "papermill": {
     "duration": 50.508285,
     "end_time": "2020-12-15T13:28:34.545051",
     "exception": false,
     "start_time": "2020-12-15T13:27:44.036766",
     "status": "completed"
    },
    "tags": []
   },
   "outputs": [
    {
     "name": "stdout",
     "output_type": "stream",
     "text": [
      "502/502 [==============================] - 17s 34ms/step - loss: 1.0493 - acc: 0.6310\n"
     ]
    }
   ],
   "source": [
    "loss, acc = full_trainable_model.evaluate(testing_ds)"
   ]
  },
  {
   "cell_type": "code",
   "execution_count": null,
   "metadata": {
    "papermill": {
     "duration": 4.847459,
     "end_time": "2020-12-15T13:28:44.263662",
     "exception": false,
     "start_time": "2020-12-15T13:28:39.416203",
     "status": "completed"
    },
    "tags": []
   },
   "outputs": [],
   "source": []
  },
  {
   "cell_type": "markdown",
   "metadata": {},
   "source": [
    "# 1%のラベル付きデータだけでFine Tuning"
   ]
  },
  {
   "cell_type": "code",
   "execution_count": 36,
   "metadata": {
    "ExecuteTime": {
     "end_time": "2020-12-16T22:54:54.438578Z",
     "start_time": "2020-12-16T22:54:54.322579Z"
    }
   },
   "outputs": [
    {
     "data": {
      "text/html": [
       "<div>\n",
       "<style scoped>\n",
       "    .dataframe tbody tr th:only-of-type {\n",
       "        vertical-align: middle;\n",
       "    }\n",
       "\n",
       "    .dataframe tbody tr th {\n",
       "        vertical-align: top;\n",
       "    }\n",
       "\n",
       "    .dataframe thead th {\n",
       "        text-align: right;\n",
       "    }\n",
       "</style>\n",
       "<table border=\"1\" class=\"dataframe\">\n",
       "  <thead>\n",
       "    <tr style=\"text-align: right;\">\n",
       "      <th></th>\n",
       "      <th>image_id</th>\n",
       "      <th>label</th>\n",
       "      <th>fold</th>\n",
       "      <th>filepath</th>\n",
       "    </tr>\n",
       "  </thead>\n",
       "  <tbody>\n",
       "    <tr>\n",
       "      <th>0</th>\n",
       "      <td>1000015157.jpg</td>\n",
       "      <td>0</td>\n",
       "      <td>67.0</td>\n",
       "      <td>C:\\Users\\81908\\jupyter_notebook\\pytorch_lightn...</td>\n",
       "    </tr>\n",
       "    <tr>\n",
       "      <th>1</th>\n",
       "      <td>1000201771.jpg</td>\n",
       "      <td>3</td>\n",
       "      <td>55.0</td>\n",
       "      <td>C:\\Users\\81908\\jupyter_notebook\\pytorch_lightn...</td>\n",
       "    </tr>\n",
       "    <tr>\n",
       "      <th>2</th>\n",
       "      <td>100042118.jpg</td>\n",
       "      <td>1</td>\n",
       "      <td>48.0</td>\n",
       "      <td>C:\\Users\\81908\\jupyter_notebook\\pytorch_lightn...</td>\n",
       "    </tr>\n",
       "    <tr>\n",
       "      <th>3</th>\n",
       "      <td>1000723321.jpg</td>\n",
       "      <td>1</td>\n",
       "      <td>34.0</td>\n",
       "      <td>C:\\Users\\81908\\jupyter_notebook\\pytorch_lightn...</td>\n",
       "    </tr>\n",
       "    <tr>\n",
       "      <th>4</th>\n",
       "      <td>1000812911.jpg</td>\n",
       "      <td>3</td>\n",
       "      <td>57.0</td>\n",
       "      <td>C:\\Users\\81908\\jupyter_notebook\\pytorch_lightn...</td>\n",
       "    </tr>\n",
       "  </tbody>\n",
       "</table>\n",
       "</div>"
      ],
      "text/plain": [
       "         image_id  label  fold  \\\n",
       "0  1000015157.jpg      0  67.0   \n",
       "1  1000201771.jpg      3  55.0   \n",
       "2   100042118.jpg      1  48.0   \n",
       "3  1000723321.jpg      1  34.0   \n",
       "4  1000812911.jpg      3  57.0   \n",
       "\n",
       "                                            filepath  \n",
       "0  C:\\Users\\81908\\jupyter_notebook\\pytorch_lightn...  \n",
       "1  C:\\Users\\81908\\jupyter_notebook\\pytorch_lightn...  \n",
       "2  C:\\Users\\81908\\jupyter_notebook\\pytorch_lightn...  \n",
       "3  C:\\Users\\81908\\jupyter_notebook\\pytorch_lightn...  \n",
       "4  C:\\Users\\81908\\jupyter_notebook\\pytorch_lightn...  "
      ]
     },
     "metadata": {},
     "output_type": "display_data"
    },
    {
     "name": "stdout",
     "output_type": "stream",
     "text": [
      "train_df Class distribution per fold.\n",
      " 3    132\n",
      "4     25\n",
      "2     24\n",
      "1     22\n",
      "0     11\n",
      "Name: label, dtype: int64\n",
      "\n",
      "validation_df Class distribution per fold.\n",
      " 3    4598\n",
      "4     907\n",
      "2     840\n",
      "1     770\n",
      "0     372\n",
      "Name: label, dtype: int64\n",
      "C:\\Users\\81908\\jupyter_notebook\\pytorch_lightning_work\\kaggle_Cassava\\input\\cassava-leaf-disease-classification\\train_images\\1000015157.jpg\n"
     ]
    }
   ],
   "source": [
    "import numpy as np\n",
    "import pandas as pd\n",
    "from sklearn.model_selection import StratifiedKFold\n",
    "\n",
    "df = pd.read_csv(r'C:\\Users\\81908\\jupyter_notebook\\pytorch_lightning_work\\kaggle_Cassava\\input\\cassava-leaf-disease-classification\\train.csv')\n",
    "\n",
    "n_splits = 100\n",
    "\n",
    "skf = StratifiedKFold(n_splits=n_splits, shuffle=True, random_state=42)\n",
    "    \n",
    "for fold, (trn_idx, val_idx) in enumerate(skf.split(np.arange(df.shape[0]), df.label.values)):\n",
    "    df.loc[df.iloc[val_idx].index, 'fold'] = fold\n",
    "\n",
    "#df[\"filepath\"] = f\"../input/cassava-leaf-disease-classification/train_images/\" + df[\"image_id\"]\n",
    "_dir = \"C:\\\\Users\\\\81908\\\\jupyter_notebook\\\\pytorch_lightning_work\\\\kaggle_Cassava\\\\input\\\\cassava-leaf-disease-classification\\\\train_images\\\\\"\n",
    "df[\"filepath\"] =  _dir + df[\"image_id\"] #[os.path.join(_dir, p) for p in df[\"image_id\"]]\n",
    "display(df.head())\n",
    "\n",
    "train_df = df[df[\"fold\"] == 0]\n",
    "print('train_df Class distribution per fold.\\n', train_df['label'].value_counts())\n",
    "\n",
    "print()\n",
    "\n",
    "val35per = list(range(65,100))\n",
    "validation_df = df[df[\"fold\"].isin(val35per)]\n",
    "print('validation_df Class distribution per fold.\\n', validation_df['label'].value_counts())\n",
    "\n",
    "TRAINING_FILENAMES = train_df[\"filepath\"]\n",
    "VALID_FILENAMES = validation_df[\"filepath\"]\n",
    "NUM_TRAINING_IMAGES = len(TRAINING_FILENAMES)\n",
    "NUM_VALIDATION_IMAGES = len(VALID_FILENAMES)\n",
    "\n",
    "print(df[\"filepath\"][0])"
   ]
  },
  {
   "cell_type": "code",
   "execution_count": 37,
   "metadata": {
    "ExecuteTime": {
     "end_time": "2020-12-16T22:54:54.586578Z",
     "start_time": "2020-12-16T22:54:54.439578Z"
    }
   },
   "outputs": [],
   "source": [
    "@tf.function\n",
    "def load_image_and_label_from_path(image_path, label):\n",
    "    img = tf.io.read_file(image_path)  # 画像パスロード\n",
    "    img = tf.image.decode_jpeg(img, channels=3)  # jpegファイルロード\n",
    "    img = tf.cast(img, tf.float32) / 255.0  # 正規化\n",
    "    img = tf.image.resize(img, (224, 224)) # Resizing\n",
    "    return img, tf.cast(label, tf.int32)  # ラベルもtf型に変換\n",
    "\n",
    "@tf.function\n",
    "def load_image_and_label_from_path_augment(image_path, label):\n",
    "    img = tf.io.read_file(image_path)  # 画像パスロード\n",
    "    img = tf.image.decode_jpeg(img, channels=3)  # jpegファイルロード\n",
    "    img = tf.cast(img, tf.float32) / 255.0  # 正規化\n",
    "    img, label = scale_image(img, label)\n",
    "    img = random_apply(tf.image.random_flip_left_right, img, p=0.5)\n",
    "    img, label = random_resize_crop(img, label)\n",
    "    return img, tf.cast(label, tf.int32)  # ラベルもtf型に変換\n",
    "\n",
    "# Seriesからtf.data.Datasetに変換\n",
    "training_data = tf.data.Dataset.from_tensor_slices((train_df.filepath.values, train_df.label.values))\n",
    "validation_data = tf.data.Dataset.from_tensor_slices((validation_df.filepath.values, validation_df.label.values))\n",
    "\n",
    "AUTO = tf.data.experimental.AUTOTUNE\n",
    "\n",
    "training_ds = (\n",
    "    training_data\n",
    "    .map(load_image_and_label_from_path_augment, num_parallel_calls=AUTO)\n",
    "    .repeat()\n",
    "    .shuffle(buffer_size=32)\n",
    "    .batch(BATCH_SIZE)\n",
    "    .prefetch(buffer_size=AUTO)\n",
    ")\n",
    "training_ds.with_options(options)\n",
    "\n",
    "testing_ds = (\n",
    "    validation_data\n",
    "    .map(load_image_and_label_from_path, num_parallel_calls=AUTO)\n",
    "    .batch(BATCH_SIZE)\n",
    "    .prefetch(buffer_size=AUTO)\n",
    ")"
   ]
  },
  {
   "cell_type": "markdown",
   "metadata": {},
   "source": [
    "## 1.imagenetの重み固定して学習"
   ]
  },
  {
   "cell_type": "code",
   "execution_count": 38,
   "metadata": {
    "ExecuteTime": {
     "end_time": "2020-12-16T23:27:04.171092Z",
     "start_time": "2020-12-16T22:54:54.587577Z"
    }
   },
   "outputs": [
    {
     "name": "stdout",
     "output_type": "stream",
     "text": [
      "Model: \"functional_1\"\n",
      "_________________________________________________________________\n",
      "Layer (type)                 Output Shape              Param #   \n",
      "=================================================================\n",
      "input_1 (InputLayer)         [(None, 224, 224, 3)]     0         \n",
      "_________________________________________________________________\n",
      "resnet50 (Functional)        (None, 7, 7, 2048)        23587712  \n",
      "_________________________________________________________________\n",
      "global_average_pooling2d (Gl (None, 2048)              0         \n",
      "_________________________________________________________________\n",
      "dense (Dense)                (None, 5)                 10245     \n",
      "=================================================================\n",
      "Total params: 23,597,957\n",
      "Trainable params: 10,245\n",
      "Non-trainable params: 23,587,712\n",
      "_________________________________________________________________\n",
      "input_1 True\n",
      "resnet50 False\n",
      "global_average_pooling2d True\n",
      "dense True\n",
      "\n",
      "Epoch 1/100\n",
      "13/13 [==============================] - 20s 2s/step - loss: 1.4600 - acc: 0.6106 - val_loss: 1.4464 - val_acc: 0.6144\n",
      "Epoch 2/100\n",
      "13/13 [==============================] - 19s 1s/step - loss: 1.4320 - acc: 0.6202 - val_loss: 1.4447 - val_acc: 0.6144\n",
      "Epoch 3/100\n",
      "13/13 [==============================] - 19s 1s/step - loss: 1.4551 - acc: 0.6106 - val_loss: 1.4430 - val_acc: 0.6143\n",
      "Epoch 4/100\n",
      "13/13 [==============================] - 19s 1s/step - loss: 1.4513 - acc: 0.6106 - val_loss: 1.4413 - val_acc: 0.6143\n",
      "Epoch 5/100\n",
      "13/13 [==============================] - 19s 1s/step - loss: 1.4236 - acc: 0.6346 - val_loss: 1.4396 - val_acc: 0.6143\n",
      "Epoch 6/100\n",
      "13/13 [==============================] - 19s 1s/step - loss: 1.4257 - acc: 0.6154 - val_loss: 1.4379 - val_acc: 0.6143\n",
      "Epoch 7/100\n",
      "13/13 [==============================] - 19s 1s/step - loss: 1.4429 - acc: 0.6202 - val_loss: 1.4363 - val_acc: 0.6143\n",
      "Epoch 8/100\n",
      "13/13 [==============================] - 19s 1s/step - loss: 1.4517 - acc: 0.6106 - val_loss: 1.4346 - val_acc: 0.6143\n",
      "Epoch 9/100\n",
      "13/13 [==============================] - 19s 1s/step - loss: 1.4169 - acc: 0.6202 - val_loss: 1.4330 - val_acc: 0.6143\n",
      "Epoch 10/100\n",
      "13/13 [==============================] - 19s 1s/step - loss: 1.4465 - acc: 0.6106 - val_loss: 1.4313 - val_acc: 0.6143\n",
      "Epoch 11/100\n",
      "13/13 [==============================] - 19s 1s/step - loss: 1.4237 - acc: 0.6154 - val_loss: 1.4297 - val_acc: 0.6143\n",
      "Epoch 12/100\n",
      "13/13 [==============================] - 19s 1s/step - loss: 1.4330 - acc: 0.6298 - val_loss: 1.4281 - val_acc: 0.6143\n",
      "Epoch 13/100\n",
      "13/13 [==============================] - 19s 1s/step - loss: 1.4253 - acc: 0.6154 - val_loss: 1.4264 - val_acc: 0.6143\n",
      "Epoch 14/100\n",
      "13/13 [==============================] - 19s 1s/step - loss: 1.4254 - acc: 0.6058 - val_loss: 1.4249 - val_acc: 0.6143\n",
      "Epoch 15/100\n",
      "13/13 [==============================] - 19s 1s/step - loss: 1.4206 - acc: 0.6394 - val_loss: 1.4232 - val_acc: 0.6143\n",
      "Epoch 16/100\n",
      "13/13 [==============================] - 19s 1s/step - loss: 1.4277 - acc: 0.5913 - val_loss: 1.4217 - val_acc: 0.6143\n",
      "Epoch 17/100\n",
      "13/13 [==============================] - 19s 1s/step - loss: 1.4227 - acc: 0.6298 - val_loss: 1.4201 - val_acc: 0.6143\n",
      "Epoch 18/100\n",
      "13/13 [==============================] - 19s 1s/step - loss: 1.4239 - acc: 0.6154 - val_loss: 1.4185 - val_acc: 0.6143\n",
      "Epoch 19/100\n",
      "13/13 [==============================] - 19s 1s/step - loss: 1.4014 - acc: 0.6298 - val_loss: 1.4169 - val_acc: 0.6143\n",
      "Epoch 20/100\n",
      "13/13 [==============================] - 19s 1s/step - loss: 1.4206 - acc: 0.6010 - val_loss: 1.4154 - val_acc: 0.6142\n",
      "Epoch 21/100\n",
      "13/13 [==============================] - 19s 1s/step - loss: 1.4339 - acc: 0.6154 - val_loss: 1.4139 - val_acc: 0.6142\n",
      "Epoch 22/100\n",
      "13/13 [==============================] - 19s 1s/step - loss: 1.3821 - acc: 0.6346 - val_loss: 1.4124 - val_acc: 0.6142\n",
      "Epoch 23/100\n",
      "13/13 [==============================] - 19s 1s/step - loss: 1.4035 - acc: 0.6250 - val_loss: 1.4108 - val_acc: 0.6142\n",
      "Epoch 24/100\n",
      "13/13 [==============================] - 19s 1s/step - loss: 1.4261 - acc: 0.6106 - val_loss: 1.4094 - val_acc: 0.6142\n",
      "Epoch 25/100\n",
      "13/13 [==============================] - 19s 1s/step - loss: 1.4200 - acc: 0.6106 - val_loss: 1.4078 - val_acc: 0.6142\n",
      "Epoch 26/100\n",
      "13/13 [==============================] - 19s 1s/step - loss: 1.3980 - acc: 0.6154 - val_loss: 1.4064 - val_acc: 0.6142\n",
      "Epoch 27/100\n",
      "13/13 [==============================] - 19s 1s/step - loss: 1.4181 - acc: 0.6202 - val_loss: 1.4049 - val_acc: 0.6142\n",
      "Epoch 28/100\n",
      "13/13 [==============================] - 19s 1s/step - loss: 1.4119 - acc: 0.6010 - val_loss: 1.4034 - val_acc: 0.6142\n",
      "Epoch 29/100\n",
      "13/13 [==============================] - 19s 1s/step - loss: 1.4038 - acc: 0.6202 - val_loss: 1.4020 - val_acc: 0.6142\n",
      "Epoch 30/100\n",
      "13/13 [==============================] - 19s 1s/step - loss: 1.4021 - acc: 0.6106 - val_loss: 1.4005 - val_acc: 0.6142\n",
      "Epoch 31/100\n",
      "13/13 [==============================] - 19s 1s/step - loss: 1.3798 - acc: 0.6298 - val_loss: 1.3991 - val_acc: 0.6142\n",
      "Epoch 32/100\n",
      "13/13 [==============================] - 19s 1s/step - loss: 1.4297 - acc: 0.6010 - val_loss: 1.3977 - val_acc: 0.6142\n",
      "Epoch 33/100\n",
      "13/13 [==============================] - 19s 1s/step - loss: 1.4000 - acc: 0.6154 - val_loss: 1.3963 - val_acc: 0.6142\n",
      "Epoch 34/100\n",
      "13/13 [==============================] - 19s 1s/step - loss: 1.3902 - acc: 0.6154 - val_loss: 1.3948 - val_acc: 0.6142\n",
      "Epoch 35/100\n",
      "13/13 [==============================] - 19s 1s/step - loss: 1.4052 - acc: 0.6202 - val_loss: 1.3934 - val_acc: 0.6142\n",
      "Epoch 36/100\n",
      "13/13 [==============================] - 19s 1s/step - loss: 1.3665 - acc: 0.6298 - val_loss: 1.3920 - val_acc: 0.6142\n",
      "Epoch 37/100\n",
      "13/13 [==============================] - 19s 1s/step - loss: 1.4208 - acc: 0.6010 - val_loss: 1.3906 - val_acc: 0.6142\n",
      "Epoch 38/100\n",
      "13/13 [==============================] - 19s 1s/step - loss: 1.3816 - acc: 0.6250 - val_loss: 1.3893 - val_acc: 0.6142\n",
      "Epoch 39/100\n",
      "13/13 [==============================] - 19s 1s/step - loss: 1.3590 - acc: 0.6394 - val_loss: 1.3879 - val_acc: 0.6142\n",
      "Epoch 40/100\n",
      "13/13 [==============================] - 19s 1s/step - loss: 1.4126 - acc: 0.5962 - val_loss: 1.3865 - val_acc: 0.6142\n",
      "Epoch 41/100\n",
      "13/13 [==============================] - 19s 1s/step - loss: 1.3991 - acc: 0.6010 - val_loss: 1.3852 - val_acc: 0.6142\n",
      "Epoch 42/100\n",
      "13/13 [==============================] - 19s 1s/step - loss: 1.3893 - acc: 0.6202 - val_loss: 1.3839 - val_acc: 0.6142\n",
      "Epoch 43/100\n",
      "13/13 [==============================] - 19s 1s/step - loss: 1.3737 - acc: 0.6298 - val_loss: 1.3825 - val_acc: 0.6142\n",
      "Epoch 44/100\n",
      "13/13 [==============================] - 19s 1s/step - loss: 1.3661 - acc: 0.6106 - val_loss: 1.3812 - val_acc: 0.6142\n",
      "Epoch 45/100\n",
      "13/13 [==============================] - 19s 1s/step - loss: 1.4019 - acc: 0.6106 - val_loss: 1.3798 - val_acc: 0.6142\n",
      "Epoch 46/100\n",
      "13/13 [==============================] - 19s 1s/step - loss: 1.3573 - acc: 0.6346 - val_loss: 1.3785 - val_acc: 0.6142\n",
      "Epoch 47/100\n",
      "13/13 [==============================] - 19s 1s/step - loss: 1.3920 - acc: 0.6010 - val_loss: 1.3772 - val_acc: 0.6142\n",
      "Epoch 48/100\n",
      "13/13 [==============================] - 19s 1s/step - loss: 1.3366 - acc: 0.6442 - val_loss: 1.3759 - val_acc: 0.6142\n",
      "Epoch 49/100\n",
      "13/13 [==============================] - 19s 1s/step - loss: 1.4026 - acc: 0.5962 - val_loss: 1.3747 - val_acc: 0.6142\n",
      "Epoch 50/100\n",
      "13/13 [==============================] - 19s 1s/step - loss: 1.3681 - acc: 0.6202 - val_loss: 1.3734 - val_acc: 0.6142\n",
      "Epoch 51/100\n",
      "13/13 [==============================] - 19s 1s/step - loss: 1.3743 - acc: 0.6154 - val_loss: 1.3721 - val_acc: 0.6142\n",
      "Epoch 52/100\n",
      "13/13 [==============================] - 19s 1s/step - loss: 1.3922 - acc: 0.6058 - val_loss: 1.3709 - val_acc: 0.6142\n",
      "Epoch 53/100\n",
      "13/13 [==============================] - 19s 1s/step - loss: 1.3504 - acc: 0.6346 - val_loss: 1.3696 - val_acc: 0.6142\n",
      "Epoch 54/100\n",
      "13/13 [==============================] - 19s 1s/step - loss: 1.3656 - acc: 0.6154 - val_loss: 1.3684 - val_acc: 0.6142\n",
      "Epoch 55/100\n",
      "13/13 [==============================] - 19s 1s/step - loss: 1.3666 - acc: 0.6154 - val_loss: 1.3671 - val_acc: 0.6142\n"
     ]
    },
    {
     "name": "stdout",
     "output_type": "stream",
     "text": [
      "Epoch 56/100\n",
      "13/13 [==============================] - 19s 1s/step - loss: 1.3869 - acc: 0.6058 - val_loss: 1.3659 - val_acc: 0.6142\n",
      "Epoch 57/100\n",
      "13/13 [==============================] - 19s 1s/step - loss: 1.3459 - acc: 0.6346 - val_loss: 1.3647 - val_acc: 0.6142\n",
      "Epoch 58/100\n",
      "13/13 [==============================] - 19s 1s/step - loss: 1.3689 - acc: 0.6058 - val_loss: 1.3635 - val_acc: 0.6142\n",
      "Epoch 59/100\n",
      "13/13 [==============================] - 19s 1s/step - loss: 1.3780 - acc: 0.6058 - val_loss: 1.3623 - val_acc: 0.6142\n",
      "Epoch 60/100\n",
      "13/13 [==============================] - 19s 1s/step - loss: 1.3398 - acc: 0.6202 - val_loss: 1.3611 - val_acc: 0.6142\n",
      "Epoch 61/100\n",
      "13/13 [==============================] - 19s 1s/step - loss: 1.3458 - acc: 0.6394 - val_loss: 1.3599 - val_acc: 0.6142\n",
      "Epoch 62/100\n",
      "13/13 [==============================] - 19s 1s/step - loss: 1.3600 - acc: 0.6154 - val_loss: 1.3587 - val_acc: 0.6142\n",
      "Epoch 63/100\n",
      "13/13 [==============================] - 19s 1s/step - loss: 1.3846 - acc: 0.6010 - val_loss: 1.3576 - val_acc: 0.6142\n",
      "Epoch 64/100\n",
      "13/13 [==============================] - 19s 1s/step - loss: 1.3355 - acc: 0.6298 - val_loss: 1.3564 - val_acc: 0.6142\n",
      "Epoch 65/100\n",
      "13/13 [==============================] - 19s 1s/step - loss: 1.3859 - acc: 0.6010 - val_loss: 1.3552 - val_acc: 0.6142\n",
      "Epoch 66/100\n",
      "13/13 [==============================] - 19s 1s/step - loss: 1.3000 - acc: 0.6538 - val_loss: 1.3541 - val_acc: 0.6142\n",
      "Epoch 67/100\n",
      "13/13 [==============================] - 19s 1s/step - loss: 1.3526 - acc: 0.6106 - val_loss: 1.3530 - val_acc: 0.6142\n",
      "Epoch 68/100\n",
      "13/13 [==============================] - 19s 1s/step - loss: 1.3828 - acc: 0.5962 - val_loss: 1.3518 - val_acc: 0.6142\n",
      "Epoch 69/100\n",
      "13/13 [==============================] - 19s 1s/step - loss: 1.3674 - acc: 0.6106 - val_loss: 1.3507 - val_acc: 0.6142\n",
      "Epoch 70/100\n",
      "13/13 [==============================] - 19s 1s/step - loss: 1.3572 - acc: 0.6106 - val_loss: 1.3496 - val_acc: 0.6142\n",
      "Epoch 71/100\n",
      "13/13 [==============================] - 19s 1s/step - loss: 1.3404 - acc: 0.6202 - val_loss: 1.3485 - val_acc: 0.6142\n",
      "Epoch 72/100\n",
      "13/13 [==============================] - 19s 1s/step - loss: 1.3324 - acc: 0.6298 - val_loss: 1.3473 - val_acc: 0.6142\n",
      "Epoch 73/100\n",
      "13/13 [==============================] - 19s 1s/step - loss: 1.3641 - acc: 0.6010 - val_loss: 1.3462 - val_acc: 0.6142\n",
      "Epoch 74/100\n",
      "13/13 [==============================] - 19s 1s/step - loss: 1.3527 - acc: 0.6154 - val_loss: 1.3451 - val_acc: 0.6142\n",
      "Epoch 75/100\n",
      "13/13 [==============================] - 19s 1s/step - loss: 1.3113 - acc: 0.6298 - val_loss: 1.3441 - val_acc: 0.6142\n",
      "Epoch 76/100\n",
      "13/13 [==============================] - 19s 1s/step - loss: 1.3557 - acc: 0.6058 - val_loss: 1.3430 - val_acc: 0.6142\n",
      "Epoch 77/100\n",
      "13/13 [==============================] - 19s 1s/step - loss: 1.3489 - acc: 0.6202 - val_loss: 1.3420 - val_acc: 0.6142\n",
      "Epoch 78/100\n",
      "13/13 [==============================] - 19s 1s/step - loss: 1.3389 - acc: 0.6202 - val_loss: 1.3409 - val_acc: 0.6142\n",
      "Epoch 79/100\n",
      "13/13 [==============================] - 19s 1s/step - loss: 1.3104 - acc: 0.6298 - val_loss: 1.3398 - val_acc: 0.6142\n",
      "Epoch 80/100\n",
      "13/13 [==============================] - 19s 1s/step - loss: 1.3819 - acc: 0.5913 - val_loss: 1.3388 - val_acc: 0.6142\n",
      "Epoch 81/100\n",
      "13/13 [==============================] - 19s 1s/step - loss: 1.3086 - acc: 0.6394 - val_loss: 1.3377 - val_acc: 0.6142\n",
      "Epoch 82/100\n",
      "13/13 [==============================] - 19s 1s/step - loss: 1.3423 - acc: 0.6106 - val_loss: 1.3367 - val_acc: 0.6142\n",
      "Epoch 83/100\n",
      "13/13 [==============================] - 19s 1s/step - loss: 1.3092 - acc: 0.6298 - val_loss: 1.3357 - val_acc: 0.6142\n",
      "Epoch 84/100\n",
      "13/13 [==============================] - 19s 1s/step - loss: 1.3814 - acc: 0.5913 - val_loss: 1.3347 - val_acc: 0.6142\n",
      "Epoch 85/100\n",
      "13/13 [==============================] - 19s 1s/step - loss: 1.3194 - acc: 0.6202 - val_loss: 1.3337 - val_acc: 0.6142\n",
      "Epoch 86/100\n",
      "13/13 [==============================] - 19s 1s/step - loss: 1.3371 - acc: 0.6250 - val_loss: 1.3326 - val_acc: 0.6142\n",
      "Epoch 87/100\n",
      "13/13 [==============================] - 19s 1s/step - loss: 1.3325 - acc: 0.6154 - val_loss: 1.3316 - val_acc: 0.6142\n",
      "Epoch 88/100\n",
      "13/13 [==============================] - 19s 1s/step - loss: 1.3309 - acc: 0.6202 - val_loss: 1.3306 - val_acc: 0.6142\n",
      "Epoch 89/100\n",
      "13/13 [==============================] - 19s 1s/step - loss: 1.3286 - acc: 0.6106 - val_loss: 1.3297 - val_acc: 0.6142\n",
      "Epoch 90/100\n",
      "13/13 [==============================] - 19s 1s/step - loss: 1.3471 - acc: 0.6106 - val_loss: 1.3287 - val_acc: 0.6142\n",
      "Epoch 91/100\n",
      "13/13 [==============================] - 19s 1s/step - loss: 1.3156 - acc: 0.6154 - val_loss: 1.3277 - val_acc: 0.6142\n",
      "Epoch 92/100\n",
      "13/13 [==============================] - 19s 1s/step - loss: 1.3052 - acc: 0.6346 - val_loss: 1.3267 - val_acc: 0.6142\n",
      "Epoch 93/100\n",
      "13/13 [==============================] - 19s 1s/step - loss: 1.3563 - acc: 0.6010 - val_loss: 1.3258 - val_acc: 0.6142\n",
      "Epoch 94/100\n",
      "13/13 [==============================] - 19s 1s/step - loss: 1.3080 - acc: 0.6298 - val_loss: 1.3248 - val_acc: 0.6142\n",
      "Epoch 95/100\n",
      "13/13 [==============================] - 19s 1s/step - loss: 1.3149 - acc: 0.6250 - val_loss: 1.3239 - val_acc: 0.6142\n",
      "Epoch 96/100\n",
      "13/13 [==============================] - 19s 1s/step - loss: 1.3414 - acc: 0.6010 - val_loss: 1.3229 - val_acc: 0.6142\n",
      "Epoch 97/100\n",
      "13/13 [==============================] - 19s 1s/step - loss: 1.3242 - acc: 0.6202 - val_loss: 1.3220 - val_acc: 0.6142\n",
      "Epoch 98/100\n",
      "13/13 [==============================] - 19s 1s/step - loss: 1.3410 - acc: 0.6010 - val_loss: 1.3211 - val_acc: 0.6142\n",
      "Epoch 99/100\n",
      "13/13 [==============================] - 19s 1s/step - loss: 1.2715 - acc: 0.6490 - val_loss: 1.3201 - val_acc: 0.6142\n",
      "Epoch 100/100\n",
      "13/13 [==============================] - 19s 1s/step - loss: 1.3509 - acc: 0.5962 - val_loss: 1.3192 - val_acc: 0.6142\n",
      "Wall time: 32min 9s\n"
     ]
    }
   ],
   "source": [
    "%%time\n",
    "# get model and compile\n",
    "tf.keras.backend.clear_session()\n",
    "model = get_training_model(weights=\"imagenet\")\n",
    "model.summary()\n",
    "for l in model.layers:\n",
    "    print(l.name, l.trainable)\n",
    "print()\n",
    "\n",
    "early_stopper = tf.keras.callbacks.EarlyStopping(monitor=\"val_loss\", \n",
    "                                                 patience=patience, \n",
    "                                                 verbose=2, \n",
    "                                                 restore_best_weights=True)\n",
    "\n",
    "# train\n",
    "history = model.fit(training_ds,\n",
    "                    validation_data=(testing_ds),\n",
    "                    epochs=epochs,\n",
    "                    callbacks=[early_stopper],\n",
    "                    steps_per_epoch=NUM_TRAINING_IMAGES // BATCH_SIZE, \n",
    "                    validation_steps=NUM_VALIDATION_IMAGES // BATCH_SIZE,\n",
    "                   )"
   ]
  },
  {
   "cell_type": "code",
   "execution_count": 39,
   "metadata": {
    "ExecuteTime": {
     "end_time": "2020-12-16T23:27:04.466092Z",
     "start_time": "2020-12-16T23:27:04.172067Z"
    }
   },
   "outputs": [],
   "source": [
    "model.save('imagenet_warmup_1per.h5')"
   ]
  },
  {
   "cell_type": "markdown",
   "metadata": {},
   "source": [
    "## 2.Fine tune CNN（1.の重みロードして全層学習）"
   ]
  },
  {
   "cell_type": "code",
   "execution_count": 40,
   "metadata": {
    "ExecuteTime": {
     "end_time": "2020-12-16T23:27:04.470067Z",
     "start_time": "2020-12-16T23:27:04.467067Z"
    }
   },
   "outputs": [],
   "source": [
    "lr_scheduler = tf.keras.optimizers.schedules.ExponentialDecay(\n",
    "    initial_learning_rate=1e-6,  # 学習率下げてる\n",
    "    decay_steps=10000, \n",
    "    decay_rate=0.9)\n",
    "    \n",
    "    \n",
    "def get_classifier():\n",
    "    # load warmup model\n",
    "    warmup_model = tf.keras.models.load_model('imagenet_warmup_1per.h5')\n",
    "    warmup_model.trainable = True\n",
    "    \n",
    "    warmup_model.compile(loss=\"sparse_categorical_crossentropy\", \n",
    "                         metrics=[\"acc\"],\n",
    "                         optimizer=tf.keras.optimizers.Adam(learning_rate=lr_scheduler, epsilon=0.001),\n",
    "                        )\n",
    "\n",
    "    return warmup_model"
   ]
  },
  {
   "cell_type": "code",
   "execution_count": 41,
   "metadata": {
    "ExecuteTime": {
     "end_time": "2020-12-16T23:49:43.251176Z",
     "start_time": "2020-12-16T23:27:04.471067Z"
    }
   },
   "outputs": [
    {
     "name": "stdout",
     "output_type": "stream",
     "text": [
      "Model: \"functional_1\"\n",
      "_________________________________________________________________\n",
      "Layer (type)                 Output Shape              Param #   \n",
      "=================================================================\n",
      "input_1 (InputLayer)         [(None, 224, 224, 3)]     0         \n",
      "_________________________________________________________________\n",
      "resnet50 (Functional)        (None, 7, 7, 2048)        23587712  \n",
      "_________________________________________________________________\n",
      "global_average_pooling2d (Gl (None, 2048)              0         \n",
      "_________________________________________________________________\n",
      "dense (Dense)                (None, 5)                 10245     \n",
      "=================================================================\n",
      "Total params: 23,597,957\n",
      "Trainable params: 23,544,837\n",
      "Non-trainable params: 53,120\n",
      "_________________________________________________________________\n",
      "input_1 True\n",
      "resnet50 True\n",
      "global_average_pooling2d True\n",
      "dense True\n",
      "\n",
      "Epoch 1/300\n",
      "13/13 [==============================] - 22s 2s/step - loss: 1.2747 - acc: 0.6202 - val_loss: 1.2358 - val_acc: 0.6142\n",
      "Epoch 2/300\n",
      "13/13 [==============================] - 21s 2s/step - loss: 1.2193 - acc: 0.6154 - val_loss: 1.2032 - val_acc: 0.6142\n",
      "Epoch 3/300\n",
      "13/13 [==============================] - 21s 2s/step - loss: 1.1939 - acc: 0.6154 - val_loss: 1.1873 - val_acc: 0.6142\n",
      "Epoch 4/300\n",
      "13/13 [==============================] - 21s 2s/step - loss: 1.1876 - acc: 0.6106 - val_loss: 1.1771 - val_acc: 0.6142\n",
      "Epoch 5/300\n",
      "13/13 [==============================] - 21s 2s/step - loss: 1.2035 - acc: 0.6010 - val_loss: 1.1708 - val_acc: 0.6142\n",
      "Epoch 6/300\n",
      "13/13 [==============================] - 21s 2s/step - loss: 1.1400 - acc: 0.6346 - val_loss: 1.1666 - val_acc: 0.6142\n",
      "Epoch 7/300\n",
      "13/13 [==============================] - 21s 2s/step - loss: 1.1421 - acc: 0.6250 - val_loss: 1.1634 - val_acc: 0.6142\n",
      "Epoch 8/300\n",
      "13/13 [==============================] - 21s 2s/step - loss: 1.1900 - acc: 0.5962 - val_loss: 1.1603 - val_acc: 0.6142\n",
      "Epoch 9/300\n",
      "13/13 [==============================] - 21s 2s/step - loss: 1.1514 - acc: 0.6250 - val_loss: 1.1590 - val_acc: 0.6142\n",
      "Epoch 10/300\n",
      "13/13 [==============================] - 21s 2s/step - loss: 1.1540 - acc: 0.6202 - val_loss: 1.1590 - val_acc: 0.6142\n",
      "Epoch 11/300\n",
      "13/13 [==============================] - 21s 2s/step - loss: 1.1488 - acc: 0.6154 - val_loss: 1.1545 - val_acc: 0.6142\n",
      "Epoch 12/300\n",
      "13/13 [==============================] - 20s 2s/step - loss: 1.1343 - acc: 0.6298 - val_loss: 1.1653 - val_acc: 0.6142\n",
      "Epoch 13/300\n",
      "13/13 [==============================] - 21s 2s/step - loss: 1.1624 - acc: 0.6106 - val_loss: 1.1504 - val_acc: 0.6142\n",
      "Epoch 14/300\n",
      "13/13 [==============================] - 21s 2s/step - loss: 1.1483 - acc: 0.6106 - val_loss: 1.1497 - val_acc: 0.6142\n",
      "Epoch 15/300\n",
      "13/13 [==============================] - 21s 2s/step - loss: 1.1382 - acc: 0.6250 - val_loss: 1.1473 - val_acc: 0.6142\n",
      "Epoch 16/300\n",
      "13/13 [==============================] - 20s 2s/step - loss: 1.1448 - acc: 0.6154 - val_loss: 1.1520 - val_acc: 0.6142\n",
      "Epoch 17/300\n",
      "13/13 [==============================] - 21s 2s/step - loss: 1.1224 - acc: 0.6250 - val_loss: 1.1466 - val_acc: 0.6142\n",
      "Epoch 18/300\n",
      "13/13 [==============================] - 20s 2s/step - loss: 1.1298 - acc: 0.6250 - val_loss: 1.1524 - val_acc: 0.6142\n",
      "Epoch 19/300\n",
      "13/13 [==============================] - 21s 2s/step - loss: 1.1481 - acc: 0.6106 - val_loss: 1.1462 - val_acc: 0.6142\n",
      "Epoch 20/300\n",
      "13/13 [==============================] - 21s 2s/step - loss: 1.1459 - acc: 0.6010 - val_loss: 1.1420 - val_acc: 0.6142\n",
      "Epoch 21/300\n",
      "13/13 [==============================] - 20s 2s/step - loss: 1.1067 - acc: 0.6298 - val_loss: 1.1481 - val_acc: 0.6142\n",
      "Epoch 22/300\n",
      "13/13 [==============================] - 21s 2s/step - loss: 1.1396 - acc: 0.6106 - val_loss: 1.1364 - val_acc: 0.6142\n",
      "Epoch 23/300\n",
      "13/13 [==============================] - 20s 2s/step - loss: 1.1045 - acc: 0.6154 - val_loss: 1.1422 - val_acc: 0.6142\n",
      "Epoch 24/300\n",
      "13/13 [==============================] - 21s 2s/step - loss: 1.1206 - acc: 0.6154 - val_loss: 1.1297 - val_acc: 0.6142\n",
      "Epoch 25/300\n",
      "13/13 [==============================] - 20s 2s/step - loss: 1.0979 - acc: 0.6346 - val_loss: 1.1385 - val_acc: 0.6142\n",
      "Epoch 26/300\n",
      "13/13 [==============================] - 20s 2s/step - loss: 1.1204 - acc: 0.6058 - val_loss: 1.1335 - val_acc: 0.6142\n",
      "Epoch 27/300\n",
      "13/13 [==============================] - 20s 2s/step - loss: 1.0880 - acc: 0.6202 - val_loss: 1.1312 - val_acc: 0.6142\n",
      "Epoch 28/300\n",
      "13/13 [==============================] - 21s 2s/step - loss: 1.1041 - acc: 0.6250 - val_loss: 1.1278 - val_acc: 0.6142\n",
      "Epoch 29/300\n",
      "13/13 [==============================] - 21s 2s/step - loss: 1.1666 - acc: 0.5913 - val_loss: 1.1256 - val_acc: 0.6142\n",
      "Epoch 30/300\n",
      "13/13 [==============================] - 20s 2s/step - loss: 1.0590 - acc: 0.6394 - val_loss: 1.1482 - val_acc: 0.6142\n",
      "Epoch 31/300\n",
      "13/13 [==============================] - 20s 2s/step - loss: 1.1508 - acc: 0.6010 - val_loss: 1.1277 - val_acc: 0.6142\n",
      "Epoch 32/300\n",
      "13/13 [==============================] - 21s 2s/step - loss: 1.0827 - acc: 0.6202 - val_loss: 1.1297 - val_acc: 0.6142\n",
      "Epoch 33/300\n",
      "13/13 [==============================] - 21s 2s/step - loss: 1.1069 - acc: 0.6202 - val_loss: 1.1288 - val_acc: 0.6142\n",
      "Epoch 34/300\n",
      "13/13 [==============================] - 20s 2s/step - loss: 1.1147 - acc: 0.6058 - val_loss: 1.1296 - val_acc: 0.6142\n",
      "Epoch 35/300\n",
      "13/13 [==============================] - 21s 2s/step - loss: 1.0904 - acc: 0.6202 - val_loss: 1.1221 - val_acc: 0.6142\n",
      "Epoch 36/300\n",
      "13/13 [==============================] - 20s 2s/step - loss: 1.1011 - acc: 0.6250 - val_loss: 1.1296 - val_acc: 0.6142\n",
      "Epoch 37/300\n",
      "13/13 [==============================] - 21s 2s/step - loss: 1.1065 - acc: 0.6154 - val_loss: 1.1348 - val_acc: 0.6142\n",
      "Epoch 38/300\n",
      "13/13 [==============================] - 20s 2s/step - loss: 1.0904 - acc: 0.6154 - val_loss: 1.1271 - val_acc: 0.6142\n",
      "Epoch 39/300\n",
      "13/13 [==============================] - 20s 2s/step - loss: 1.1074 - acc: 0.6058 - val_loss: 1.1238 - val_acc: 0.6142\n",
      "Epoch 40/300\n",
      "13/13 [==============================] - 20s 2s/step - loss: 1.1078 - acc: 0.6202 - val_loss: 1.1359 - val_acc: 0.6142\n",
      "Epoch 41/300\n",
      "13/13 [==============================] - 21s 2s/step - loss: 1.1091 - acc: 0.6106 - val_loss: 1.1151 - val_acc: 0.6142\n",
      "Epoch 42/300\n",
      "13/13 [==============================] - 20s 2s/step - loss: 1.0951 - acc: 0.6106 - val_loss: 1.1174 - val_acc: 0.6142\n",
      "Epoch 43/300\n",
      "13/13 [==============================] - 20s 2s/step - loss: 1.0566 - acc: 0.6202 - val_loss: 1.1291 - val_acc: 0.6142\n",
      "Epoch 44/300\n",
      "13/13 [==============================] - 21s 2s/step - loss: 1.0450 - acc: 0.6346 - val_loss: 1.1382 - val_acc: 0.6142\n",
      "Epoch 45/300\n",
      "13/13 [==============================] - 21s 2s/step - loss: 1.0611 - acc: 0.6202 - val_loss: 1.1380 - val_acc: 0.6142\n",
      "Epoch 46/300\n",
      "13/13 [==============================] - 20s 2s/step - loss: 1.0594 - acc: 0.6298 - val_loss: 1.1199 - val_acc: 0.6142\n",
      "Epoch 47/300\n",
      "13/13 [==============================] - 20s 2s/step - loss: 1.1167 - acc: 0.5913 - val_loss: 1.1262 - val_acc: 0.6142\n",
      "Epoch 48/300\n",
      "13/13 [==============================] - 20s 2s/step - loss: 1.0548 - acc: 0.6298 - val_loss: 1.1252 - val_acc: 0.6142\n",
      "Epoch 49/300\n",
      "13/13 [==============================] - 20s 2s/step - loss: 1.1167 - acc: 0.6058 - val_loss: 1.1196 - val_acc: 0.6142\n",
      "Epoch 50/300\n",
      "13/13 [==============================] - 21s 2s/step - loss: 1.0479 - acc: 0.6298 - val_loss: 1.1026 - val_acc: 0.6147\n",
      "Epoch 51/300\n",
      "13/13 [==============================] - 20s 2s/step - loss: 1.0881 - acc: 0.6202 - val_loss: 1.1431 - val_acc: 0.6142\n",
      "Epoch 52/300\n",
      "13/13 [==============================] - 20s 2s/step - loss: 1.0365 - acc: 0.6346 - val_loss: 1.1153 - val_acc: 0.6142\n",
      "Epoch 53/300\n",
      "13/13 [==============================] - 20s 2s/step - loss: 1.0545 - acc: 0.6154 - val_loss: 1.1207 - val_acc: 0.6142\n",
      "Epoch 54/300\n",
      "13/13 [==============================] - 20s 2s/step - loss: 1.1050 - acc: 0.5913 - val_loss: 1.1239 - val_acc: 0.6143\n",
      "Epoch 55/300\n",
      "13/13 [==============================] - 20s 2s/step - loss: 1.0677 - acc: 0.6298 - val_loss: 1.1349 - val_acc: 0.6142\n"
     ]
    },
    {
     "name": "stdout",
     "output_type": "stream",
     "text": [
      "Epoch 56/300\n",
      "13/13 [==============================] - 20s 2s/step - loss: 1.0641 - acc: 0.6202 - val_loss: 1.1089 - val_acc: 0.6142\n",
      "Epoch 57/300\n",
      "13/13 [==============================] - 20s 2s/step - loss: 1.0874 - acc: 0.6058 - val_loss: 1.1183 - val_acc: 0.6187\n",
      "Epoch 58/300\n",
      "13/13 [==============================] - 20s 2s/step - loss: 1.0170 - acc: 0.6394 - val_loss: 1.1104 - val_acc: 0.6142\n",
      "Epoch 59/300\n",
      "13/13 [==============================] - 20s 2s/step - loss: 1.0851 - acc: 0.6106 - val_loss: 1.1198 - val_acc: 0.6142\n",
      "Epoch 60/300\n",
      "13/13 [==============================] - 20s 2s/step - loss: 1.0510 - acc: 0.6394 - val_loss: 1.1068 - val_acc: 0.6146\n",
      "Epoch 61/300\n",
      "13/13 [==============================] - 20s 2s/step - loss: 1.1086 - acc: 0.6010 - val_loss: 1.1072 - val_acc: 0.6154\n",
      "Epoch 62/300\n",
      "13/13 [==============================] - 20s 2s/step - loss: 1.0829 - acc: 0.6154 - val_loss: 1.1199 - val_acc: 0.6142\n",
      "Epoch 63/300\n",
      "13/13 [==============================] - 20s 2s/step - loss: 1.0397 - acc: 0.6298 - val_loss: 1.1124 - val_acc: 0.6142\n",
      "Epoch 64/300\n",
      "13/13 [==============================] - 20s 2s/step - loss: 1.0345 - acc: 0.6202 - val_loss: 1.1215 - val_acc: 0.6142\n",
      "Epoch 65/300\n",
      "13/13 [==============================] - ETA: 0s - loss: 1.0838 - acc: 0.5962Restoring model weights from the end of the best epoch.\n",
      "13/13 [==============================] - 20s 2s/step - loss: 1.0838 - acc: 0.5962 - val_loss: 1.1080 - val_acc: 0.6143\n",
      "Epoch 00065: early stopping\n",
      "Wall time: 22min 38s\n"
     ]
    }
   ],
   "source": [
    "%%time\n",
    "# get model and compile\n",
    "tf.keras.backend.clear_session()\n",
    "full_trainable_model = get_classifier()\n",
    "full_trainable_model.summary()\n",
    "for l in full_trainable_model.layers:\n",
    "    print(l.name, l.trainable)\n",
    "print()\n",
    "    \n",
    "early_stopper = tf.keras.callbacks.EarlyStopping(monitor=\"val_loss\", \n",
    "                                                 patience=patience, \n",
    "                                                 verbose=2, \n",
    "                                                 restore_best_weights=True)\n",
    "\n",
    "checkpoint = tf.keras.callbacks.ModelCheckpoint(filepath=\"imagenet_finetuning_1per.h5\", \n",
    "                                                monitor='val_loss', \n",
    "                                                save_best_only=True)\n",
    "\n",
    "# train                                              \n",
    "history = full_trainable_model.fit(training_ds,\n",
    "                                   validation_data=(testing_ds),\n",
    "                                   epochs=epochs*3,\n",
    "                                   callbacks=[early_stopper, checkpoint],\n",
    "                                   steps_per_epoch=NUM_TRAINING_IMAGES // BATCH_SIZE, \n",
    "                                   validation_steps=NUM_VALIDATION_IMAGES // BATCH_SIZE,\n",
    "                                  )"
   ]
  },
  {
   "cell_type": "code",
   "execution_count": 42,
   "metadata": {
    "ExecuteTime": {
     "end_time": "2020-12-16T23:49:43.487206Z",
     "start_time": "2020-12-16T23:49:43.252175Z"
    }
   },
   "outputs": [
    {
     "data": {
      "text/plain": [
       "<AxesSubplot:>"
      ]
     },
     "execution_count": 42,
     "metadata": {},
     "output_type": "execute_result"
    },
    {
     "data": {
      "image/png": "[encoded data removed]",
      "text/plain": [
       "<Figure size 432x288 with 1 Axes>"
      ]
     },
     "metadata": {
      "needs_background": "light"
     },
     "output_type": "display_data"
    },
    {
     "data": {
      "image/png": "[encoded data removed]",
      "text/plain": [
       "<Figure size 432x288 with 1 Axes>"
      ]
     },
     "metadata": {
      "needs_background": "light"
     },
     "output_type": "display_data"
    }
   ],
   "source": [
    "history_frame = pd.DataFrame(history.history)\n",
    "history_frame.loc[:, ['loss', 'val_loss']].plot()\n",
    "history_frame.loc[:, ['acc', 'val_acc']].plot()"
   ]
  },
  {
   "cell_type": "code",
   "execution_count": 43,
   "metadata": {
    "ExecuteTime": {
     "end_time": "2020-12-16T23:50:02.641101Z",
     "start_time": "2020-12-16T23:49:43.488453Z"
    }
   },
   "outputs": [
    {
     "name": "stdout",
     "output_type": "stream",
     "text": [
      "468/468 [==============================] - 19s 41ms/step - loss: 1.1026 - acc: 0.6147\n"
     ]
    }
   ],
   "source": [
    "loss, acc = full_trainable_model.evaluate(testing_ds)"
   ]
  },
  {
   "cell_type": "code",
   "execution_count": null,
   "metadata": {},
   "outputs": [],
   "source": []
  }
 ],
 "metadata": {
  "hide_input": false,
  "kernelspec": {
   "display_name": "Python 3",
   "language": "python",
   "name": "python3"
  },
  "language_info": {
   "codemirror_mode": {
    "name": "ipython",
    "version": 3
   },
   "file_extension": ".py",
   "mimetype": "text/x-python",
   "name": "python",
   "nbconvert_exporter": "python",
   "pygments_lexer": "ipython3",
   "version": "3.8.2"
  },
  "papermill": {
   "duration": 13012.678613,
   "end_time": "2020-12-15T13:28:50.212057",
   "environment_variables": {},
   "exception": null,
   "input_path": "__notebook__.ipynb",
   "output_path": "__notebook__.ipynb",
   "parameters": {},
   "start_time": "2020-12-15T09:51:57.533444",
   "version": "2.1.0"
  }
 },
 "nbformat": 4,
 "nbformat_minor": 4
}
