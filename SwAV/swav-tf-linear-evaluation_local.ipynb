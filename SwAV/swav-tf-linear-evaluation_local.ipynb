{
 "cells": [
  {
   "cell_type": "markdown",
   "metadata": {
    "papermill": {
     "duration": 0.021185,
     "end_time": "2020-12-15T04:57:06.642133",
     "exception": false,
     "start_time": "2020-12-15T04:57:06.620948",
     "status": "completed"
    },
    "tags": []
   },
   "source": [
    "# 学習したSwAVのResNet50に全結合層付けて教師あり学習実行\n",
    "- https://colab.research.google.com/github/ayulockin/SwAV-TF/blob/master/linear_evaluation/Linear_Evaluation_10_Epochs.ipynb#scrollTo=LROY2Mrn0wpY\n"
   ]
  },
  {
   "cell_type": "code",
   "execution_count": 1,
   "metadata": {
    "ExecuteTime": {
     "end_time": "2020-12-16T09:18:34.818816Z",
     "start_time": "2020-12-16T09:18:33.119025Z"
    },
    "execution": {
     "iopub.execute_input": "2020-12-15T04:57:06.690694Z",
     "iopub.status.busy": "2020-12-15T04:57:06.690030Z",
     "iopub.status.idle": "2020-12-15T04:57:11.428159Z",
     "shell.execute_reply": "2020-12-15T04:57:11.427311Z"
    },
    "papermill": {
     "duration": 4.765741,
     "end_time": "2020-12-15T04:57:11.428308",
     "exception": false,
     "start_time": "2020-12-15T04:57:06.662567",
     "status": "completed"
    },
    "tags": []
   },
   "outputs": [],
   "source": [
    "# https://github.com/ayulockin/SwAV-TF/tree/master/utils\n",
    "# architecture.py\n",
    "from tensorflow.keras import layers\n",
    "import tensorflow as tf\n",
    "\n",
    "def get_resnet_backbone():\n",
    "    base_model = tf.keras.applications.ResNet50(\n",
    "        include_top=False, weights=None, input_shape=(None, None, 3)\n",
    "    )\n",
    "    base_model.trainabe = True\n",
    "\n",
    "    inputs = layers.Input((None, None, 3))\n",
    "    h = base_model(inputs, training=True)\n",
    "    h = layers.GlobalAveragePooling2D()(h)\n",
    "    backbone = tf.keras.models.Model(inputs, h)\n",
    "\n",
    "    return backbone"
   ]
  },
  {
   "cell_type": "code",
   "execution_count": 2,
   "metadata": {
    "ExecuteTime": {
     "end_time": "2020-12-16T09:18:34.823723Z",
     "start_time": "2020-12-16T09:18:34.819742Z"
    },
    "execution": {
     "iopub.execute_input": "2020-12-15T04:57:11.476109Z",
     "iopub.status.busy": "2020-12-15T04:57:11.475297Z",
     "iopub.status.idle": "2020-12-15T04:57:11.478277Z",
     "shell.execute_reply": "2020-12-15T04:57:11.477835Z"
    },
    "papermill": {
     "duration": 0.029173,
     "end_time": "2020-12-15T04:57:11.478385",
     "exception": false,
     "start_time": "2020-12-15T04:57:11.449212",
     "status": "completed"
    },
    "tags": []
   },
   "outputs": [],
   "source": [
    "@tf.function\n",
    "def scale_resize_image(image_label):\n",
    "    image, label = image_label[\"image\"], image_label[\"label\"]\n",
    "    image = tf.image.convert_image_dtype(image, tf.float32)\n",
    "    image = tf.image.resize(image, (224, 224)) # Resizing to highest resolution used while training swav\n",
    "    return (image, label)"
   ]
  },
  {
   "cell_type": "code",
   "execution_count": 3,
   "metadata": {
    "ExecuteTime": {
     "end_time": "2020-12-16T09:18:35.012135Z",
     "start_time": "2020-12-16T09:18:34.855759Z"
    },
    "execution": {
     "iopub.execute_input": "2020-12-15T04:57:11.524544Z",
     "iopub.status.busy": "2020-12-15T04:57:11.524019Z",
     "iopub.status.idle": "2020-12-15T04:57:12.102356Z",
     "shell.execute_reply": "2020-12-15T04:57:12.102792Z"
    },
    "papermill": {
     "duration": 0.604203,
     "end_time": "2020-12-15T04:57:12.102916",
     "exception": false,
     "start_time": "2020-12-15T04:57:11.498713",
     "status": "completed"
    },
    "tags": []
   },
   "outputs": [
    {
     "name": "stdout",
     "output_type": "stream",
     "text": [
      "Tensorflow version 2.3.1\n"
     ]
    }
   ],
   "source": [
    "import tensorflow as tf\n",
    "#import tensorflow_datasets as tfds\n",
    "\n",
    "import matplotlib.pyplot as plt\n",
    "import numpy as np\n",
    "import pandas as pd\n",
    "import random\n",
    "import time\n",
    "import os\n",
    "\n",
    "from itertools import groupby\n",
    "from tqdm import tqdm\n",
    "\n",
    "tf.random.set_seed(666)\n",
    "np.random.seed(666)\n",
    "\n",
    "#tfds.disable_progress_bar()\n",
    "\n",
    "print(\"Tensorflow version \" + tf.__version__)"
   ]
  },
  {
   "cell_type": "code",
   "execution_count": 4,
   "metadata": {
    "ExecuteTime": {
     "end_time": "2020-12-16T09:18:35.737759Z",
     "start_time": "2020-12-16T09:18:35.732760Z"
    },
    "execution": {
     "iopub.execute_input": "2020-12-15T04:57:12.151315Z",
     "iopub.status.busy": "2020-12-15T04:57:12.150649Z",
     "iopub.status.idle": "2020-12-15T04:57:12.159327Z",
     "shell.execute_reply": "2020-12-15T04:57:12.159870Z"
    },
    "papermill": {
     "duration": 0.035797,
     "end_time": "2020-12-15T04:57:12.159981",
     "exception": false,
     "start_time": "2020-12-15T04:57:12.124184",
     "status": "completed"
    },
    "tags": []
   },
   "outputs": [
    {
     "name": "stdout",
     "output_type": "stream",
     "text": [
      "Number of replicas: 1\n"
     ]
    }
   ],
   "source": [
    "# TPUの検出\n",
    "try:\n",
    "    tpu = tf.distribute.cluster_resolver.TPUClusterResolver()\n",
    "    print('Device:', tpu.master())\n",
    "    tf.config.experimental_connect_to_cluster(tpu)\n",
    "    tf.tpu.experimental.initialize_tpu_system(tpu)\n",
    "    strategy = tf.distribute.experimental.TPUStrategy(tpu)\n",
    "except:\n",
    "    strategy = tf.distribute.get_strategy()\n",
    "print('Number of replicas:', strategy.num_replicas_in_sync)"
   ]
  },
  {
   "cell_type": "markdown",
   "metadata": {
    "papermill": {
     "duration": 0.021809,
     "end_time": "2020-12-15T04:57:12.202908",
     "exception": false,
     "start_time": "2020-12-15T04:57:12.181099",
     "status": "completed"
    },
    "tags": []
   },
   "source": [
    "# params"
   ]
  },
  {
   "cell_type": "code",
   "execution_count": 5,
   "metadata": {
    "ExecuteTime": {
     "end_time": "2020-12-16T09:18:37.589037Z",
     "start_time": "2020-12-16T09:18:37.585037Z"
    },
    "execution": {
     "iopub.execute_input": "2020-12-15T04:57:12.249501Z",
     "iopub.status.busy": "2020-12-15T04:57:12.248835Z",
     "iopub.status.idle": "2020-12-15T04:57:12.251799Z",
     "shell.execute_reply": "2020-12-15T04:57:12.251382Z"
    },
    "papermill": {
     "duration": 0.028077,
     "end_time": "2020-12-15T04:57:12.251887",
     "exception": false,
     "start_time": "2020-12-15T04:57:12.223810",
     "status": "completed"
    },
    "tags": []
   },
   "outputs": [],
   "source": [
    "n_classes = 5  # キャッサバデータは5クラス\n",
    "\n",
    "#feature_backbone_weights = \"../input/swav-tf/feature_backbone.h5\"\n",
    "feature_backbone_weights = r\"results\\feature_backbone.h5\"\n",
    "\n",
    "#BATCH_SIZE = 64 * strategy.num_replicas_in_sync\n",
    "BATCH_SIZE = 16\n",
    "\n",
    "epochs = 100 #50\n",
    "patience = 15\n",
    "\n",
    "#DEBUG = True\n",
    "DEBUG = False\n",
    "if DEBUG:\n",
    "    epochs = 2"
   ]
  },
  {
   "cell_type": "markdown",
   "metadata": {
    "papermill": {
     "duration": 0.021067,
     "end_time": "2020-12-15T04:57:12.324887",
     "exception": false,
     "start_time": "2020-12-15T04:57:12.303820",
     "status": "completed"
    },
    "tags": []
   },
   "source": [
    "# Cassava data\n",
    "- https://www.kaggle.com/jessemostipak/getting-started-tpus-cassava-leaf-disease"
   ]
  },
  {
   "cell_type": "code",
   "execution_count": 6,
   "metadata": {
    "ExecuteTime": {
     "end_time": "2020-12-16T09:18:39.683376Z",
     "start_time": "2020-12-16T09:18:39.680376Z"
    },
    "execution": {
     "iopub.execute_input": "2020-12-15T04:57:12.372183Z",
     "iopub.status.busy": "2020-12-15T04:57:12.371325Z",
     "iopub.status.idle": "2020-12-15T04:57:12.373859Z",
     "shell.execute_reply": "2020-12-15T04:57:12.374361Z"
    },
    "papermill": {
     "duration": 0.028355,
     "end_time": "2020-12-15T04:57:12.374459",
     "exception": false,
     "start_time": "2020-12-15T04:57:12.346104",
     "status": "completed"
    },
    "tags": []
   },
   "outputs": [],
   "source": [
    "def decode_image(image):\n",
    "    image = tf.image.decode_jpeg(image, channels=3)\n",
    "    return image"
   ]
  },
  {
   "cell_type": "code",
   "execution_count": 7,
   "metadata": {
    "ExecuteTime": {
     "end_time": "2020-12-16T09:18:40.719081Z",
     "start_time": "2020-12-16T09:18:40.715025Z"
    },
    "execution": {
     "iopub.execute_input": "2020-12-15T04:57:12.424547Z",
     "iopub.status.busy": "2020-12-15T04:57:12.423874Z",
     "iopub.status.idle": "2020-12-15T04:57:12.426345Z",
     "shell.execute_reply": "2020-12-15T04:57:12.426840Z"
    },
    "papermill": {
     "duration": 0.031307,
     "end_time": "2020-12-15T04:57:12.426938",
     "exception": false,
     "start_time": "2020-12-15T04:57:12.395631",
     "status": "completed"
    },
    "tags": []
   },
   "outputs": [],
   "source": [
    "def read_tfrecord(example, labeled):\n",
    "    tfrecord_format = {\n",
    "        \"image\": tf.io.FixedLenFeature([], tf.string),\n",
    "        \"target\": tf.io.FixedLenFeature([], tf.int64)\n",
    "    } if labeled else {\n",
    "        \"image\": tf.io.FixedLenFeature([], tf.string),\n",
    "        \"image_name\": tf.io.FixedLenFeature([], tf.string)\n",
    "    }\n",
    "    example = tf.io.parse_single_example(example, tfrecord_format)\n",
    "    image = decode_image(example['image'])\n",
    "    if labeled:\n",
    "        label = tf.cast(example['target'], tf.int32)\n",
    "        return {\"image\": image, \"label\": label}\n",
    "    idnum = example['image_name']\n",
    "    return {\"image\": image, \"label\": idnum}"
   ]
  },
  {
   "cell_type": "code",
   "execution_count": 8,
   "metadata": {
    "ExecuteTime": {
     "end_time": "2020-12-16T09:18:41.821054Z",
     "start_time": "2020-12-16T09:18:41.817055Z"
    },
    "execution": {
     "iopub.execute_input": "2020-12-15T04:57:12.475971Z",
     "iopub.status.busy": "2020-12-15T04:57:12.475206Z",
     "iopub.status.idle": "2020-12-15T04:57:12.477428Z",
     "shell.execute_reply": "2020-12-15T04:57:12.477942Z"
    },
    "papermill": {
     "duration": 0.029799,
     "end_time": "2020-12-15T04:57:12.478040",
     "exception": false,
     "start_time": "2020-12-15T04:57:12.448241",
     "status": "completed"
    },
    "tags": []
   },
   "outputs": [],
   "source": [
    "from functools import partial\n",
    "\n",
    "AUTO = tf.data.experimental.AUTOTUNE\n",
    "\n",
    "def load_dataset(filenames, labeled=True, ordered=False):\n",
    "    ignore_order = tf.data.Options()\n",
    "    if not ordered:\n",
    "        ignore_order.experimental_deterministic = False # disable order, increase speed\n",
    "    dataset = tf.data.TFRecordDataset(filenames, num_parallel_reads=AUTO) # automatically interleaves reads from multiple files\n",
    "    dataset = dataset.with_options(ignore_order) # uses data as soon as it streams in, rather than in its original order\n",
    "    dataset = dataset.map(partial(read_tfrecord, labeled=labeled), num_parallel_calls=AUTO)\n",
    "    return dataset"
   ]
  },
  {
   "cell_type": "code",
   "execution_count": 9,
   "metadata": {
    "ExecuteTime": {
     "end_time": "2020-12-16T09:18:43.577672Z",
     "start_time": "2020-12-16T09:18:43.573671Z"
    },
    "execution": {
     "iopub.execute_input": "2020-12-15T04:57:12.525907Z",
     "iopub.status.busy": "2020-12-15T04:57:12.525160Z",
     "iopub.status.idle": "2020-12-15T04:57:12.527389Z",
     "shell.execute_reply": "2020-12-15T04:57:12.527896Z"
    },
    "papermill": {
     "duration": 0.028351,
     "end_time": "2020-12-15T04:57:12.527991",
     "exception": false,
     "start_time": "2020-12-15T04:57:12.499640",
     "status": "completed"
    },
    "tags": []
   },
   "outputs": [],
   "source": [
    "import re\n",
    "\n",
    "def count_data_items(filenames):\n",
    "    n = [int(re.compile(r\"-([0-9]*)\\.\").search(filename).group(1)) for filename in filenames]\n",
    "    return np.sum(n)"
   ]
  },
  {
   "cell_type": "code",
   "execution_count": 10,
   "metadata": {
    "ExecuteTime": {
     "end_time": "2020-12-16T09:18:44.928051Z",
     "start_time": "2020-12-16T09:18:44.666948Z"
    },
    "execution": {
     "iopub.execute_input": "2020-12-15T04:57:12.577401Z",
     "iopub.status.busy": "2020-12-15T04:57:12.576874Z",
     "iopub.status.idle": "2020-12-15T04:57:13.171384Z",
     "shell.execute_reply": "2020-12-15T04:57:13.173155Z"
    },
    "papermill": {
     "duration": 0.623978,
     "end_time": "2020-12-15T04:57:13.173399",
     "exception": false,
     "start_time": "2020-12-15T04:57:12.549421",
     "status": "completed"
    },
    "tags": []
   },
   "outputs": [
    {
     "name": "stdout",
     "output_type": "stream",
     "text": [
      "NUM_TRAINING_IMAGES, NUM_VALIDATION_IMAGES: 13380, 8017\n"
     ]
    }
   ],
   "source": [
    "#from kaggle_datasets import KaggleDatasets\n",
    "from sklearn.model_selection import train_test_split\n",
    "\n",
    "## 自分のnotebookのoutputをtinputに入れてるからかエラーになる\n",
    "#GCS_PATH = KaggleDatasets().get_gcs_path()\n",
    "#train_tfrecs = tf.io.gfile.glob(GCS_PATH + '/train_tfrecords/ld_train*.tfrec')\n",
    "\n",
    "#train_tfrecs = tf.io.gfile.glob('../input/cassava-leaf-disease-classification/train_tfrecords/ld_train*.tfrec')\n",
    "train_tfrecs = tf.io.gfile.glob(r'C:\\Users\\81908\\jupyter_notebook\\pytorch_lightning_work\\kaggle_Cassava\\input\\cassava-leaf-disease-classification\\train_tfrecords\\ld_train*.tfrec')\n",
    "\n",
    "TRAINING_FILENAMES, VALID_FILENAMES = train_test_split(train_tfrecs,\n",
    "                                                       test_size=0.35, \n",
    "                                                       random_state=5)\n",
    "NUM_TRAINING_IMAGES = count_data_items(TRAINING_FILENAMES)\n",
    "NUM_VALIDATION_IMAGES = count_data_items(VALID_FILENAMES)\n",
    "print(f\"NUM_TRAINING_IMAGES, NUM_VALIDATION_IMAGES: {NUM_TRAINING_IMAGES}, {NUM_VALIDATION_IMAGES}\")"
   ]
  },
  {
   "cell_type": "code",
   "execution_count": 11,
   "metadata": {
    "ExecuteTime": {
     "end_time": "2020-12-16T09:18:47.605857Z",
     "start_time": "2020-12-16T09:18:46.167434Z"
    },
    "execution": {
     "iopub.execute_input": "2020-12-15T04:57:15.531692Z",
     "iopub.status.busy": "2020-12-15T04:57:15.530928Z",
     "iopub.status.idle": "2020-12-15T04:57:16.125914Z",
     "shell.execute_reply": "2020-12-15T04:57:16.125285Z"
    },
    "papermill": {
     "duration": 2.912637,
     "end_time": "2020-12-15T04:57:16.126040",
     "exception": false,
     "start_time": "2020-12-15T04:57:13.213403",
     "status": "completed"
    },
    "tags": []
   },
   "outputs": [],
   "source": [
    "train_ds = load_dataset(TRAINING_FILENAMES, labeled=True)\n",
    "validation_ds = load_dataset(VALID_FILENAMES, labeled=True)\n",
    "\n",
    "training_ds = (\n",
    "    train_ds\n",
    "    .map(scale_resize_image, num_parallel_calls=AUTO)\n",
    "    .repeat()\n",
    "    .shuffle(2048)\n",
    "    .batch(BATCH_SIZE)\n",
    "    .prefetch(AUTO)\n",
    ")\n",
    "\n",
    "testing_ds = (\n",
    "    validation_ds\n",
    "    .map(scale_resize_image, num_parallel_calls=AUTO)\n",
    "    .batch(BATCH_SIZE)\n",
    "    .prefetch(AUTO)\n",
    ")"
   ]
  },
  {
   "cell_type": "markdown",
   "metadata": {
    "papermill": {
     "duration": 0.023286,
     "end_time": "2020-12-15T04:57:16.172912",
     "exception": false,
     "start_time": "2020-12-15T04:57:16.149626",
     "status": "completed"
    },
    "tags": []
   },
   "source": [
    "# Linear Evaluation\n",
    "## SwAVの重み固定して学習"
   ]
  },
  {
   "cell_type": "code",
   "execution_count": 12,
   "metadata": {
    "ExecuteTime": {
     "end_time": "2020-12-16T09:18:50.190207Z",
     "start_time": "2020-12-16T09:18:50.184206Z"
    },
    "execution": {
     "iopub.execute_input": "2020-12-15T04:57:16.228048Z",
     "iopub.status.busy": "2020-12-15T04:57:16.226713Z",
     "iopub.status.idle": "2020-12-15T04:57:16.230555Z",
     "shell.execute_reply": "2020-12-15T04:57:16.230133Z"
    },
    "papermill": {
     "duration": 0.034732,
     "end_time": "2020-12-15T04:57:16.230641",
     "exception": false,
     "start_time": "2020-12-15T04:57:16.195909",
     "status": "completed"
    },
    "tags": []
   },
   "outputs": [],
   "source": [
    "from tensorflow.keras.layers import Dense, Input\n",
    "from tensorflow.keras.models import Sequential, Model\n",
    "\n",
    "lr_scheduler = tf.keras.optimizers.schedules.ExponentialDecay(\n",
    "    initial_learning_rate=1e-5, \n",
    "    decay_steps=10000, \n",
    "    decay_rate=0.9)\n",
    "\n",
    "def get_linear_classifier():        \n",
    "    # input placeholder\n",
    "    inputs = Input(shape=(224, 224, 3))\n",
    "\n",
    "    # get swav baseline model architecture\n",
    "    feature_backbone = get_resnet_backbone()\n",
    "\n",
    "    # load trained weights\n",
    "    feature_backbone.load_weights(feature_backbone_weights)\n",
    "    feature_backbone.trainable = False\n",
    "    x = feature_backbone(inputs, training=False)\n",
    "\n",
    "    outputs = Dense(n_classes, activation=\"softmax\")(x)\n",
    "    linear_model = Model(inputs, outputs)\n",
    "    \n",
    "    linear_model.compile(loss=\"sparse_categorical_crossentropy\", \n",
    "                         metrics=[\"acc\"],\n",
    "                         optimizer=tf.keras.optimizers.Adam(learning_rate=lr_scheduler, epsilon=0.001),\n",
    "                        )\n",
    "\n",
    "    return linear_model"
   ]
  },
  {
   "cell_type": "markdown",
   "metadata": {
    "papermill": {
     "duration": 0.023649,
     "end_time": "2020-12-15T04:57:16.277941",
     "exception": false,
     "start_time": "2020-12-15T04:57:16.254292",
     "status": "completed"
    },
    "tags": []
   },
   "source": [
    "## Without Augmentation"
   ]
  },
  {
   "cell_type": "code",
   "execution_count": 13,
   "metadata": {
    "ExecuteTime": {
     "end_time": "2020-12-16T03:57:20.647726Z",
     "start_time": "2020-12-16T02:35:51.394161Z"
    },
    "execution": {
     "iopub.execute_input": "2020-12-15T04:57:16.331643Z",
     "iopub.status.busy": "2020-12-15T04:57:16.330440Z",
     "iopub.status.idle": "2020-12-15T05:09:16.688763Z",
     "shell.execute_reply": "2020-12-15T05:09:16.687941Z"
    },
    "papermill": {
     "duration": 720.388464,
     "end_time": "2020-12-15T05:09:16.689959",
     "exception": false,
     "start_time": "2020-12-15T04:57:16.301495",
     "status": "completed"
    },
    "tags": []
   },
   "outputs": [
    {
     "name": "stdout",
     "output_type": "stream",
     "text": [
      "Model: \"functional_3\"\n",
      "_________________________________________________________________\n",
      "Layer (type)                 Output Shape              Param #   \n",
      "=================================================================\n",
      "input_1 (InputLayer)         [(None, 224, 224, 3)]     0         \n",
      "_________________________________________________________________\n",
      "functional_1 (Functional)    (None, 2048)              23587712  \n",
      "_________________________________________________________________\n",
      "dense (Dense)                (None, 5)                 10245     \n",
      "=================================================================\n",
      "Total params: 23,597,957\n",
      "Trainable params: 10,245\n",
      "Non-trainable params: 23,587,712\n",
      "_________________________________________________________________\n",
      "input_1 True\n",
      "functional_1 False\n",
      "dense True\n",
      "\n",
      "Epoch 1/100\n",
      "836/836 [==============================] - 49s 59ms/step - loss: 1.3096 - acc: 0.6060 - val_loss: 1.2179 - val_acc: 0.6077\n",
      "Epoch 2/100\n",
      "836/836 [==============================] - 48s 58ms/step - loss: 1.1860 - acc: 0.6189 - val_loss: 1.1933 - val_acc: 0.6084\n",
      "Epoch 3/100\n",
      "836/836 [==============================] - 48s 58ms/step - loss: 1.1700 - acc: 0.6234 - val_loss: 1.1910 - val_acc: 0.6079\n",
      "Epoch 4/100\n",
      "836/836 [==============================] - 48s 58ms/step - loss: 1.1779 - acc: 0.6180 - val_loss: 1.1898 - val_acc: 0.6093\n",
      "Epoch 5/100\n",
      "836/836 [==============================] - 48s 57ms/step - loss: 1.1746 - acc: 0.6210 - val_loss: 1.1882 - val_acc: 0.6089\n",
      "Epoch 6/100\n",
      "836/836 [==============================] - 49s 58ms/step - loss: 1.1659 - acc: 0.6221 - val_loss: 1.1863 - val_acc: 0.6099\n",
      "Epoch 7/100\n",
      "836/836 [==============================] - 50s 60ms/step - loss: 1.1708 - acc: 0.6203 - val_loss: 1.1852 - val_acc: 0.6102\n",
      "Epoch 8/100\n",
      "836/836 [==============================] - 48s 58ms/step - loss: 1.1754 - acc: 0.6179 - val_loss: 1.1839 - val_acc: 0.6094\n",
      "Epoch 9/100\n",
      "836/836 [==============================] - 48s 58ms/step - loss: 1.1632 - acc: 0.6250 - val_loss: 1.1826 - val_acc: 0.6103\n",
      "Epoch 10/100\n",
      "836/836 [==============================] - 48s 58ms/step - loss: 1.1686 - acc: 0.6202 - val_loss: 1.1836 - val_acc: 0.6103\n",
      "Epoch 11/100\n",
      "836/836 [==============================] - 49s 59ms/step - loss: 1.1649 - acc: 0.6222 - val_loss: 1.1818 - val_acc: 0.6109\n",
      "Epoch 12/100\n",
      "836/836 [==============================] - 50s 60ms/step - loss: 1.1679 - acc: 0.6207 - val_loss: 1.1808 - val_acc: 0.6104\n",
      "Epoch 13/100\n",
      "836/836 [==============================] - 50s 59ms/step - loss: 1.1628 - acc: 0.6225 - val_loss: 1.1807 - val_acc: 0.6099\n",
      "Epoch 14/100\n",
      "836/836 [==============================] - 49s 58ms/step - loss: 1.1645 - acc: 0.6214 - val_loss: 1.1818 - val_acc: 0.6100\n",
      "Epoch 15/100\n",
      "836/836 [==============================] - 49s 58ms/step - loss: 1.1611 - acc: 0.6228 - val_loss: 1.1775 - val_acc: 0.6098\n",
      "Epoch 16/100\n",
      "836/836 [==============================] - 49s 58ms/step - loss: 1.1650 - acc: 0.6210 - val_loss: 1.1782 - val_acc: 0.6109\n",
      "Epoch 17/100\n",
      "836/836 [==============================] - 49s 59ms/step - loss: 1.1612 - acc: 0.6213 - val_loss: 1.1763 - val_acc: 0.6095\n",
      "Epoch 18/100\n",
      "836/836 [==============================] - 50s 59ms/step - loss: 1.1573 - acc: 0.6237 - val_loss: 1.1763 - val_acc: 0.6110\n",
      "Epoch 19/100\n",
      "836/836 [==============================] - 48s 57ms/step - loss: 1.1631 - acc: 0.6209 - val_loss: 1.1778 - val_acc: 0.6110\n",
      "Epoch 20/100\n",
      "836/836 [==============================] - 48s 58ms/step - loss: 1.1571 - acc: 0.6244 - val_loss: 1.1787 - val_acc: 0.6112\n",
      "Epoch 21/100\n",
      "836/836 [==============================] - 49s 59ms/step - loss: 1.1565 - acc: 0.6244 - val_loss: 1.1755 - val_acc: 0.6107\n",
      "Epoch 22/100\n",
      "836/836 [==============================] - 49s 59ms/step - loss: 1.1571 - acc: 0.6220 - val_loss: 1.1761 - val_acc: 0.6109\n",
      "Epoch 23/100\n",
      "836/836 [==============================] - 50s 60ms/step - loss: 1.1603 - acc: 0.6213 - val_loss: 1.1754 - val_acc: 0.6112\n",
      "Epoch 24/100\n",
      "836/836 [==============================] - 50s 60ms/step - loss: 1.1593 - acc: 0.6219 - val_loss: 1.1726 - val_acc: 0.6102\n",
      "Epoch 25/100\n",
      "836/836 [==============================] - 48s 58ms/step - loss: 1.1536 - acc: 0.6235 - val_loss: 1.1732 - val_acc: 0.6115\n",
      "Epoch 26/100\n",
      "836/836 [==============================] - 48s 58ms/step - loss: 1.1534 - acc: 0.6240 - val_loss: 1.1728 - val_acc: 0.6112\n",
      "Epoch 27/100\n",
      "836/836 [==============================] - 49s 59ms/step - loss: 1.1572 - acc: 0.6222 - val_loss: 1.1712 - val_acc: 0.6108\n",
      "Epoch 28/100\n",
      "836/836 [==============================] - 50s 59ms/step - loss: 1.1549 - acc: 0.6220 - val_loss: 1.1706 - val_acc: 0.6099\n",
      "Epoch 29/100\n",
      "836/836 [==============================] - 49s 59ms/step - loss: 1.1531 - acc: 0.6238 - val_loss: 1.1711 - val_acc: 0.6108\n",
      "Epoch 30/100\n",
      "836/836 [==============================] - 48s 58ms/step - loss: 1.1538 - acc: 0.6223 - val_loss: 1.1714 - val_acc: 0.6108\n",
      "Epoch 31/100\n",
      "836/836 [==============================] - 48s 58ms/step - loss: 1.1568 - acc: 0.6213 - val_loss: 1.1726 - val_acc: 0.6119\n",
      "Epoch 32/100\n",
      "836/836 [==============================] - 49s 58ms/step - loss: 1.1464 - acc: 0.6258 - val_loss: 1.1692 - val_acc: 0.6105\n",
      "Epoch 33/100\n",
      "836/836 [==============================] - 49s 59ms/step - loss: 1.1506 - acc: 0.6236 - val_loss: 1.1693 - val_acc: 0.6107\n",
      "Epoch 34/100\n",
      "836/836 [==============================] - 50s 59ms/step - loss: 1.1523 - acc: 0.6223 - val_loss: 1.1687 - val_acc: 0.6109\n",
      "Epoch 35/100\n",
      "836/836 [==============================] - 49s 59ms/step - loss: 1.1506 - acc: 0.6240 - val_loss: 1.1713 - val_acc: 0.6113\n",
      "Epoch 36/100\n",
      "836/836 [==============================] - 49s 59ms/step - loss: 1.1562 - acc: 0.6192 - val_loss: 1.1686 - val_acc: 0.6117\n",
      "Epoch 37/100\n",
      "836/836 [==============================] - 49s 58ms/step - loss: 1.1483 - acc: 0.6243 - val_loss: 1.1677 - val_acc: 0.6112\n",
      "Epoch 38/100\n",
      "836/836 [==============================] - 49s 58ms/step - loss: 1.1473 - acc: 0.6229 - val_loss: 1.1681 - val_acc: 0.6103\n",
      "Epoch 39/100\n",
      "836/836 [==============================] - 49s 59ms/step - loss: 1.1483 - acc: 0.6237 - val_loss: 1.1679 - val_acc: 0.6114\n",
      "Epoch 40/100\n",
      "836/836 [==============================] - 50s 59ms/step - loss: 1.1452 - acc: 0.6259 - val_loss: 1.1670 - val_acc: 0.6112\n",
      "Epoch 41/100\n",
      "836/836 [==============================] - 48s 57ms/step - loss: 1.1473 - acc: 0.6235 - val_loss: 1.1673 - val_acc: 0.6119\n",
      "Epoch 42/100\n",
      "836/836 [==============================] - 48s 57ms/step - loss: 1.1493 - acc: 0.6221 - val_loss: 1.1670 - val_acc: 0.6110\n",
      "Epoch 43/100\n",
      "836/836 [==============================] - 48s 58ms/step - loss: 1.1435 - acc: 0.6246 - val_loss: 1.1665 - val_acc: 0.6119\n",
      "Epoch 44/100\n",
      "836/836 [==============================] - 49s 59ms/step - loss: 1.1522 - acc: 0.6202 - val_loss: 1.1682 - val_acc: 0.6112\n",
      "Epoch 45/100\n",
      "836/836 [==============================] - 50s 60ms/step - loss: 1.1440 - acc: 0.6248 - val_loss: 1.1659 - val_acc: 0.6104\n",
      "Epoch 46/100\n",
      "836/836 [==============================] - 49s 59ms/step - loss: 1.1458 - acc: 0.6234 - val_loss: 1.1668 - val_acc: 0.6105\n",
      "Epoch 47/100\n",
      "836/836 [==============================] - 49s 58ms/step - loss: 1.1482 - acc: 0.6223 - val_loss: 1.1647 - val_acc: 0.6110\n",
      "Epoch 48/100\n",
      "836/836 [==============================] - 48s 57ms/step - loss: 1.1408 - acc: 0.6253 - val_loss: 1.1650 - val_acc: 0.6115\n",
      "Epoch 49/100\n",
      "836/836 [==============================] - 49s 58ms/step - loss: 1.1448 - acc: 0.6230 - val_loss: 1.1656 - val_acc: 0.6117\n",
      "Epoch 50/100\n",
      "836/836 [==============================] - 50s 59ms/step - loss: 1.1486 - acc: 0.6226 - val_loss: 1.1646 - val_acc: 0.6124\n",
      "Epoch 51/100\n",
      "836/836 [==============================] - 49s 59ms/step - loss: 1.1463 - acc: 0.6222 - val_loss: 1.1655 - val_acc: 0.6114\n",
      "Epoch 52/100\n",
      "836/836 [==============================] - 49s 58ms/step - loss: 1.1434 - acc: 0.6244 - val_loss: 1.1645 - val_acc: 0.6112\n",
      "Epoch 53/100\n",
      "836/836 [==============================] - 49s 59ms/step - loss: 1.1373 - acc: 0.6266 - val_loss: 1.1643 - val_acc: 0.6109\n",
      "Epoch 54/100\n",
      "836/836 [==============================] - 49s 59ms/step - loss: 1.1445 - acc: 0.6232 - val_loss: 1.1635 - val_acc: 0.6117\n",
      "Epoch 55/100\n"
     ]
    },
    {
     "name": "stdout",
     "output_type": "stream",
     "text": [
      "836/836 [==============================] - 49s 59ms/step - loss: 1.1421 - acc: 0.6236 - val_loss: 1.1634 - val_acc: 0.6110\n",
      "Epoch 56/100\n",
      "836/836 [==============================] - 49s 59ms/step - loss: 1.1441 - acc: 0.6227 - val_loss: 1.1642 - val_acc: 0.6115\n",
      "Epoch 57/100\n",
      "836/836 [==============================] - 50s 60ms/step - loss: 1.1414 - acc: 0.6243 - val_loss: 1.1626 - val_acc: 0.6110\n",
      "Epoch 58/100\n",
      "836/836 [==============================] - 48s 57ms/step - loss: 1.1415 - acc: 0.6241 - val_loss: 1.1631 - val_acc: 0.6114\n",
      "Epoch 59/100\n",
      "836/836 [==============================] - 48s 57ms/step - loss: 1.1401 - acc: 0.6237 - val_loss: 1.1630 - val_acc: 0.6123\n",
      "Epoch 60/100\n",
      "836/836 [==============================] - 49s 59ms/step - loss: 1.1401 - acc: 0.6242 - val_loss: 1.1624 - val_acc: 0.6125\n",
      "Epoch 61/100\n",
      "836/836 [==============================] - 49s 59ms/step - loss: 1.1396 - acc: 0.6247 - val_loss: 1.1619 - val_acc: 0.6113\n",
      "Epoch 62/100\n",
      "836/836 [==============================] - 50s 60ms/step - loss: 1.1414 - acc: 0.6243 - val_loss: 1.1627 - val_acc: 0.6120\n",
      "Epoch 63/100\n",
      "836/836 [==============================] - 48s 57ms/step - loss: 1.1465 - acc: 0.6218 - val_loss: 1.1627 - val_acc: 0.6118\n",
      "Epoch 64/100\n",
      "836/836 [==============================] - 48s 57ms/step - loss: 1.1320 - acc: 0.6278 - val_loss: 1.1633 - val_acc: 0.6118\n",
      "Epoch 65/100\n",
      "836/836 [==============================] - 49s 59ms/step - loss: 1.1446 - acc: 0.6213 - val_loss: 1.1612 - val_acc: 0.6124\n",
      "Epoch 66/100\n",
      "836/836 [==============================] - 49s 59ms/step - loss: 1.1350 - acc: 0.6260 - val_loss: 1.1610 - val_acc: 0.6124\n",
      "Epoch 67/100\n",
      "836/836 [==============================] - 49s 58ms/step - loss: 1.1357 - acc: 0.6264 - val_loss: 1.1611 - val_acc: 0.6120\n",
      "Epoch 68/100\n",
      "836/836 [==============================] - 48s 58ms/step - loss: 1.1454 - acc: 0.6210 - val_loss: 1.1604 - val_acc: 0.6122\n",
      "Epoch 69/100\n",
      "836/836 [==============================] - 48s 58ms/step - loss: 1.1351 - acc: 0.6266 - val_loss: 1.1606 - val_acc: 0.6124\n",
      "Epoch 70/100\n",
      "836/836 [==============================] - 48s 58ms/step - loss: 1.1397 - acc: 0.6227 - val_loss: 1.1609 - val_acc: 0.6119\n",
      "Epoch 71/100\n",
      "836/836 [==============================] - 49s 59ms/step - loss: 1.1368 - acc: 0.6257 - val_loss: 1.1602 - val_acc: 0.6114\n",
      "Epoch 72/100\n",
      "836/836 [==============================] - 50s 59ms/step - loss: 1.1361 - acc: 0.6257 - val_loss: 1.1601 - val_acc: 0.6126\n",
      "Epoch 73/100\n",
      "836/836 [==============================] - 49s 59ms/step - loss: 1.1413 - acc: 0.6225 - val_loss: 1.1608 - val_acc: 0.6128\n",
      "Epoch 74/100\n",
      "836/836 [==============================] - 48s 57ms/step - loss: 1.1332 - acc: 0.6268 - val_loss: 1.1603 - val_acc: 0.6123\n",
      "Epoch 75/100\n",
      "836/836 [==============================] - 48s 57ms/step - loss: 1.1373 - acc: 0.6242 - val_loss: 1.1602 - val_acc: 0.6120\n",
      "Epoch 76/100\n",
      "836/836 [==============================] - 49s 58ms/step - loss: 1.1398 - acc: 0.6231 - val_loss: 1.1602 - val_acc: 0.6117\n",
      "Epoch 77/100\n",
      "836/836 [==============================] - 49s 58ms/step - loss: 1.1322 - acc: 0.6254 - val_loss: 1.1612 - val_acc: 0.6122\n",
      "Epoch 78/100\n",
      "836/836 [==============================] - 50s 59ms/step - loss: 1.1359 - acc: 0.6246 - val_loss: 1.1592 - val_acc: 0.6119\n",
      "Epoch 79/100\n",
      "836/836 [==============================] - 48s 57ms/step - loss: 1.1416 - acc: 0.6219 - val_loss: 1.1604 - val_acc: 0.6119\n",
      "Epoch 80/100\n",
      "836/836 [==============================] - 48s 57ms/step - loss: 1.1310 - acc: 0.6265 - val_loss: 1.1594 - val_acc: 0.6126\n",
      "Epoch 81/100\n",
      "836/836 [==============================] - 48s 58ms/step - loss: 1.1378 - acc: 0.6240 - val_loss: 1.1590 - val_acc: 0.6120\n",
      "Epoch 82/100\n",
      "836/836 [==============================] - 49s 59ms/step - loss: 1.1312 - acc: 0.6276 - val_loss: 1.1593 - val_acc: 0.6118\n",
      "Epoch 83/100\n",
      "836/836 [==============================] - 50s 59ms/step - loss: 1.1366 - acc: 0.6237 - val_loss: 1.1590 - val_acc: 0.6130\n",
      "Epoch 84/100\n",
      "836/836 [==============================] - 48s 57ms/step - loss: 1.1321 - acc: 0.6265 - val_loss: 1.1593 - val_acc: 0.6128\n",
      "Epoch 85/100\n",
      "836/836 [==============================] - 48s 58ms/step - loss: 1.1371 - acc: 0.6243 - val_loss: 1.1580 - val_acc: 0.6125\n",
      "Epoch 86/100\n",
      "836/836 [==============================] - 48s 58ms/step - loss: 1.1318 - acc: 0.6260 - val_loss: 1.1618 - val_acc: 0.6122\n",
      "Epoch 87/100\n",
      "836/836 [==============================] - 49s 58ms/step - loss: 1.1352 - acc: 0.6257 - val_loss: 1.1582 - val_acc: 0.6120\n",
      "Epoch 88/100\n",
      "836/836 [==============================] - 49s 59ms/step - loss: 1.1289 - acc: 0.6274 - val_loss: 1.1599 - val_acc: 0.6130\n",
      "Epoch 89/100\n",
      "836/836 [==============================] - 48s 58ms/step - loss: 1.1382 - acc: 0.6219 - val_loss: 1.1578 - val_acc: 0.6126\n",
      "Epoch 90/100\n",
      "836/836 [==============================] - 48s 57ms/step - loss: 1.1350 - acc: 0.6249 - val_loss: 1.1582 - val_acc: 0.6120\n",
      "Epoch 91/100\n",
      "836/836 [==============================] - 48s 57ms/step - loss: 1.1331 - acc: 0.6266 - val_loss: 1.1579 - val_acc: 0.6122\n",
      "Epoch 92/100\n",
      "836/836 [==============================] - 49s 58ms/step - loss: 1.1313 - acc: 0.6260 - val_loss: 1.1575 - val_acc: 0.6124\n",
      "Epoch 93/100\n",
      "836/836 [==============================] - 49s 59ms/step - loss: 1.1364 - acc: 0.6237 - val_loss: 1.1581 - val_acc: 0.6115\n",
      "Epoch 94/100\n",
      "836/836 [==============================] - 49s 59ms/step - loss: 1.1308 - acc: 0.6267 - val_loss: 1.1577 - val_acc: 0.6123\n",
      "Epoch 95/100\n",
      "836/836 [==============================] - 48s 58ms/step - loss: 1.1294 - acc: 0.6266 - val_loss: 1.1568 - val_acc: 0.6123\n",
      "Epoch 96/100\n",
      "836/836 [==============================] - 48s 57ms/step - loss: 1.1333 - acc: 0.6260 - val_loss: 1.1573 - val_acc: 0.6120\n",
      "Epoch 97/100\n",
      "836/836 [==============================] - 49s 58ms/step - loss: 1.1358 - acc: 0.6238 - val_loss: 1.1566 - val_acc: 0.6119\n",
      "Epoch 98/100\n",
      "836/836 [==============================] - 49s 59ms/step - loss: 1.1306 - acc: 0.6261 - val_loss: 1.1569 - val_acc: 0.6122\n",
      "Epoch 99/100\n",
      "836/836 [==============================] - 49s 59ms/step - loss: 1.1287 - acc: 0.6264 - val_loss: 1.1566 - val_acc: 0.6123\n",
      "Epoch 100/100\n",
      "836/836 [==============================] - 48s 57ms/step - loss: 1.1330 - acc: 0.6251 - val_loss: 1.1573 - val_acc: 0.6129\n",
      "Wall time: 1h 21min 29s\n"
     ]
    }
   ],
   "source": [
    "%%time\n",
    "# get model and compile\n",
    "tf.keras.backend.clear_session()\n",
    "\n",
    "model = get_linear_classifier()\n",
    "model.summary()\n",
    "for l in model.layers:\n",
    "    print(l.name, l.trainable)\n",
    "print()\n",
    "\n",
    "early_stopper = tf.keras.callbacks.EarlyStopping(monitor=\"val_loss\", \n",
    "                                                 patience=patience, \n",
    "                                                 verbose=2, \n",
    "                                                 restore_best_weights=True)\n",
    "\n",
    "checkpoint = tf.keras.callbacks.ModelCheckpoint(filepath=\"swav_without_augment.h5\", \n",
    "                                                monitor='val_loss', \n",
    "                                                save_best_only=True)\n",
    "\n",
    "# train \n",
    "history = model.fit(training_ds,\n",
    "                    validation_data=(testing_ds),\n",
    "                    epochs=epochs,\n",
    "                    callbacks=[early_stopper, checkpoint],\n",
    "                    steps_per_epoch=NUM_TRAINING_IMAGES // BATCH_SIZE, \n",
    "                    validation_steps=NUM_VALIDATION_IMAGES // BATCH_SIZE, \n",
    "                   )"
   ]
  },
  {
   "cell_type": "code",
   "execution_count": 14,
   "metadata": {
    "ExecuteTime": {
     "end_time": "2020-12-16T03:57:20.931778Z",
     "start_time": "2020-12-16T03:57:20.648727Z"
    },
    "execution": {
     "iopub.execute_input": "2020-12-15T05:09:17.708964Z",
     "iopub.status.busy": "2020-12-15T05:09:17.708286Z",
     "iopub.status.idle": "2020-12-15T05:09:18.664065Z",
     "shell.execute_reply": "2020-12-15T05:09:18.663558Z"
    },
    "papermill": {
     "duration": 1.484691,
     "end_time": "2020-12-15T05:09:18.664168",
     "exception": false,
     "start_time": "2020-12-15T05:09:17.179477",
     "status": "completed"
    },
    "tags": []
   },
   "outputs": [
    {
     "data": {
      "text/plain": [
       "<AxesSubplot:>"
      ]
     },
     "execution_count": 14,
     "metadata": {},
     "output_type": "execute_result"
    },
    {
     "data": {
      "image/png": "[encoded data removed]",
      "text/plain": [
       "<Figure size 432x288 with 1 Axes>"
      ]
     },
     "metadata": {
      "needs_background": "light"
     },
     "output_type": "display_data"
    },
    {
     "data": {
      "image/png": "[encoded data removed]",
      "text/plain": [
       "<Figure size 432x288 with 1 Axes>"
      ]
     },
     "metadata": {
      "needs_background": "light"
     },
     "output_type": "display_data"
    }
   ],
   "source": [
    "history_frame = pd.DataFrame(history.history)\n",
    "history_frame.loc[:, ['loss', 'val_loss']].plot()\n",
    "history_frame.loc[:, ['acc', 'val_acc']].plot()"
   ]
  },
  {
   "cell_type": "code",
   "execution_count": 15,
   "metadata": {
    "ExecuteTime": {
     "end_time": "2020-12-16T03:57:38.574209Z",
     "start_time": "2020-12-16T03:57:20.932784Z"
    },
    "execution": {
     "iopub.execute_input": "2020-12-15T05:09:19.957744Z",
     "iopub.status.busy": "2020-12-15T05:09:19.957172Z",
     "iopub.status.idle": "2020-12-15T05:09:49.712613Z",
     "shell.execute_reply": "2020-12-15T05:09:49.711261Z"
    },
    "papermill": {
     "duration": 30.477327,
     "end_time": "2020-12-15T05:09:49.712747",
     "exception": false,
     "start_time": "2020-12-15T05:09:19.235420",
     "status": "completed"
    },
    "tags": []
   },
   "outputs": [
    {
     "name": "stdout",
     "output_type": "stream",
     "text": [
      "502/502 [==============================] - 18s 35ms/step - loss: 1.1572 - acc: 0.6129\n"
     ]
    }
   ],
   "source": [
    "loss, acc = model.evaluate(testing_ds)"
   ]
  },
  {
   "cell_type": "markdown",
   "metadata": {
    "papermill": {
     "duration": 0.596961,
     "end_time": "2020-12-15T05:09:50.883556",
     "exception": false,
     "start_time": "2020-12-15T05:09:50.286595",
     "status": "completed"
    },
    "tags": []
   },
   "source": [
    "## With Augmentation"
   ]
  },
  {
   "cell_type": "code",
   "execution_count": 13,
   "metadata": {
    "ExecuteTime": {
     "end_time": "2020-12-16T09:18:59.931313Z",
     "start_time": "2020-12-16T09:18:59.928312Z"
    },
    "execution": {
     "iopub.execute_input": "2020-12-15T05:09:52.051933Z",
     "iopub.status.busy": "2020-12-15T05:09:52.050984Z",
     "iopub.status.idle": "2020-12-15T05:09:52.055971Z",
     "shell.execute_reply": "2020-12-15T05:09:52.055257Z"
    },
    "papermill": {
     "duration": 0.586315,
     "end_time": "2020-12-15T05:09:52.056116",
     "exception": false,
     "start_time": "2020-12-15T05:09:51.469801",
     "status": "completed"
    },
    "tags": []
   },
   "outputs": [],
   "source": [
    "# Configs\n",
    "CROP_SIZE = 224\n",
    "MIN_SCALE = 0.5\n",
    "MAX_SCALE = 1.\n",
    "\n",
    "# Experimental options\n",
    "options = tf.data.Options()\n",
    "options.experimental_optimization.noop_elimination = True\n",
    "options.experimental_optimization.map_vectorization.enabled = True\n",
    "options.experimental_optimization.apply_default_optimizations = True\n",
    "options.experimental_deterministic = False\n",
    "options.experimental_threading.max_intra_op_parallelism = 1"
   ]
  },
  {
   "cell_type": "code",
   "execution_count": 14,
   "metadata": {
    "ExecuteTime": {
     "end_time": "2020-12-16T09:19:01.004118Z",
     "start_time": "2020-12-16T09:19:00.996116Z"
    },
    "execution": {
     "iopub.execute_input": "2020-12-15T05:09:53.327825Z",
     "iopub.status.busy": "2020-12-15T05:09:53.326995Z",
     "iopub.status.idle": "2020-12-15T05:09:53.341955Z",
     "shell.execute_reply": "2020-12-15T05:09:53.343037Z"
    },
    "papermill": {
     "duration": 0.747728,
     "end_time": "2020-12-15T05:09:53.343217",
     "exception": false,
     "start_time": "2020-12-15T05:09:52.595489",
     "status": "completed"
    },
    "tags": []
   },
   "outputs": [],
   "source": [
    "@tf.function\n",
    "def scale_image(image, label):\n",
    "    image = tf.image.convert_image_dtype(image, tf.float32)\n",
    "    return (image, label)\n",
    "\n",
    "@tf.function\n",
    "def random_apply(func, x, p):\n",
    "    return tf.cond(\n",
    "        tf.less(tf.random.uniform([], minval=0, maxval=1, dtype=tf.float32),\n",
    "                tf.cast(p, tf.float32)),\n",
    "        lambda: func(x),\n",
    "        lambda: x)\n",
    " \n",
    "@tf.function\n",
    "def random_resize_crop(image, label):\n",
    "    # Conditional resizing\n",
    "    image = tf.image.resize(image, (260, 260))\n",
    "    # Get the crop size for given min and max scale\n",
    "    size = tf.random.uniform(shape=(1,), minval=MIN_SCALE*260,\n",
    "                             maxval=MAX_SCALE*260, dtype=tf.float32)\n",
    "    size = tf.cast(size, tf.int32)[0]\n",
    "    # Get the crop from the image\n",
    "    crop = tf.image.random_crop(image, (size,size,3))\n",
    "    crop_resize = tf.image.resize(crop, (CROP_SIZE, CROP_SIZE))\n",
    "    \n",
    "    return crop_resize, label\n",
    "\n",
    "@tf.function\n",
    "def tie_together(image_label):\n",
    "    image, label = image_label[\"image\"], image_label[\"label\"]\n",
    "    # Scale the pixel values\n",
    "    image, label = scale_image(image , label)\n",
    "    # random horizontal flip\n",
    "    image = random_apply(tf.image.random_flip_left_right, image, p=0.5)\n",
    "    # Random resized crops\n",
    "    image, label = random_resize_crop(image, label)\n",
    "\n",
    "    return image, label"
   ]
  },
  {
   "cell_type": "code",
   "execution_count": 15,
   "metadata": {
    "ExecuteTime": {
     "end_time": "2020-12-16T09:19:02.217546Z",
     "start_time": "2020-12-16T09:19:02.005540Z"
    },
    "execution": {
     "iopub.execute_input": "2020-12-15T05:09:54.617391Z",
     "iopub.status.busy": "2020-12-15T05:09:54.616401Z",
     "iopub.status.idle": "2020-12-15T05:09:55.207850Z",
     "shell.execute_reply": "2020-12-15T05:09:55.207362Z"
    },
    "papermill": {
     "duration": 1.137599,
     "end_time": "2020-12-15T05:09:55.207958",
     "exception": false,
     "start_time": "2020-12-15T05:09:54.070359",
     "status": "completed"
    },
    "tags": []
   },
   "outputs": [],
   "source": [
    "training_ds = (\n",
    "    train_ds\n",
    "    .map(tie_together, num_parallel_calls=AUTO)\n",
    "    .repeat()\n",
    "    .shuffle(2048)\n",
    "    .batch(BATCH_SIZE)\n",
    "    .prefetch(AUTO)\n",
    ")\n",
    "\n",
    "training_ds = training_ds.with_options(options)"
   ]
  },
  {
   "cell_type": "code",
   "execution_count": 19,
   "metadata": {
    "ExecuteTime": {
     "end_time": "2020-12-16T05:17:58.800936Z",
     "start_time": "2020-12-16T03:57:38.791227Z"
    },
    "execution": {
     "iopub.execute_input": "2020-12-15T05:09:56.455892Z",
     "iopub.status.busy": "2020-12-15T05:09:56.452985Z",
     "iopub.status.idle": "2020-12-15T05:22:49.527116Z",
     "shell.execute_reply": "2020-12-15T05:22:49.526278Z"
    },
    "papermill": {
     "duration": 773.771511,
     "end_time": "2020-12-15T05:22:49.527278",
     "exception": false,
     "start_time": "2020-12-15T05:09:55.755767",
     "status": "completed"
    },
    "tags": []
   },
   "outputs": [
    {
     "name": "stdout",
     "output_type": "stream",
     "text": [
      "Model: \"functional_3\"\n",
      "_________________________________________________________________\n",
      "Layer (type)                 Output Shape              Param #   \n",
      "=================================================================\n",
      "input_1 (InputLayer)         [(None, 224, 224, 3)]     0         \n",
      "_________________________________________________________________\n",
      "functional_1 (Functional)    (None, 2048)              23587712  \n",
      "_________________________________________________________________\n",
      "dense (Dense)                (None, 5)                 10245     \n",
      "=================================================================\n",
      "Total params: 23,597,957\n",
      "Trainable params: 10,245\n",
      "Non-trainable params: 23,587,712\n",
      "_________________________________________________________________\n",
      "input_1 True\n",
      "functional_1 False\n",
      "dense True\n",
      "\n",
      "Epoch 1/100\n",
      "836/836 [==============================] - 48s 58ms/step - loss: 1.3328 - acc: 0.5716 - val_loss: 1.1978 - val_acc: 0.6072\n",
      "Epoch 2/100\n",
      "836/836 [==============================] - 48s 57ms/step - loss: 1.1823 - acc: 0.6160 - val_loss: 1.1884 - val_acc: 0.6070\n",
      "Epoch 3/100\n",
      "836/836 [==============================] - 48s 57ms/step - loss: 1.1720 - acc: 0.6208 - val_loss: 1.1858 - val_acc: 0.6054\n",
      "Epoch 4/100\n",
      "836/836 [==============================] - 47s 57ms/step - loss: 1.1749 - acc: 0.6173 - val_loss: 1.1871 - val_acc: 0.6054\n",
      "Epoch 5/100\n",
      "836/836 [==============================] - 48s 58ms/step - loss: 1.1752 - acc: 0.6195 - val_loss: 1.1834 - val_acc: 0.6088\n",
      "Epoch 6/100\n",
      "836/836 [==============================] - 48s 58ms/step - loss: 1.1683 - acc: 0.6227 - val_loss: 1.1884 - val_acc: 0.6084\n",
      "Epoch 7/100\n",
      "836/836 [==============================] - 49s 59ms/step - loss: 1.1805 - acc: 0.6167 - val_loss: 1.1822 - val_acc: 0.6089\n",
      "Epoch 8/100\n",
      "836/836 [==============================] - 48s 57ms/step - loss: 1.1723 - acc: 0.6196 - val_loss: 1.1811 - val_acc: 0.6077\n",
      "Epoch 9/100\n",
      "836/836 [==============================] - 48s 57ms/step - loss: 1.1768 - acc: 0.6185 - val_loss: 1.1796 - val_acc: 0.6080\n",
      "Epoch 10/100\n",
      "836/836 [==============================] - 48s 57ms/step - loss: 1.1681 - acc: 0.6204 - val_loss: 1.1811 - val_acc: 0.6070\n",
      "Epoch 11/100\n",
      "836/836 [==============================] - 49s 58ms/step - loss: 1.1714 - acc: 0.6180 - val_loss: 1.1791 - val_acc: 0.6093\n",
      "Epoch 12/100\n",
      "836/836 [==============================] - 49s 59ms/step - loss: 1.1660 - acc: 0.6221 - val_loss: 1.1785 - val_acc: 0.6093\n",
      "Epoch 13/100\n",
      "836/836 [==============================] - 47s 57ms/step - loss: 1.1709 - acc: 0.6195 - val_loss: 1.1788 - val_acc: 0.6092\n",
      "Epoch 14/100\n",
      "836/836 [==============================] - 47s 57ms/step - loss: 1.1744 - acc: 0.6172 - val_loss: 1.1787 - val_acc: 0.6073\n",
      "Epoch 15/100\n",
      "836/836 [==============================] - 48s 57ms/step - loss: 1.1641 - acc: 0.6220 - val_loss: 1.1772 - val_acc: 0.6089\n",
      "Epoch 16/100\n",
      "836/836 [==============================] - 49s 58ms/step - loss: 1.1671 - acc: 0.6190 - val_loss: 1.1764 - val_acc: 0.6100\n",
      "Epoch 17/100\n",
      "836/836 [==============================] - 49s 58ms/step - loss: 1.1670 - acc: 0.6204 - val_loss: 1.1772 - val_acc: 0.6087\n",
      "Epoch 18/100\n",
      "836/836 [==============================] - 47s 57ms/step - loss: 1.1644 - acc: 0.6207 - val_loss: 1.1769 - val_acc: 0.6078\n",
      "Epoch 19/100\n",
      "836/836 [==============================] - 48s 57ms/step - loss: 1.1690 - acc: 0.6188 - val_loss: 1.1757 - val_acc: 0.6087\n",
      "Epoch 20/100\n",
      "836/836 [==============================] - 48s 58ms/step - loss: 1.1609 - acc: 0.6225 - val_loss: 1.1751 - val_acc: 0.6089\n",
      "Epoch 21/100\n",
      "836/836 [==============================] - 49s 58ms/step - loss: 1.1701 - acc: 0.6180 - val_loss: 1.1743 - val_acc: 0.6107\n",
      "Epoch 22/100\n",
      "836/836 [==============================] - 49s 59ms/step - loss: 1.1647 - acc: 0.6185 - val_loss: 1.1743 - val_acc: 0.6092\n",
      "Epoch 23/100\n",
      "836/836 [==============================] - 47s 57ms/step - loss: 1.1648 - acc: 0.6222 - val_loss: 1.1748 - val_acc: 0.6083\n",
      "Epoch 24/100\n",
      "836/836 [==============================] - 48s 57ms/step - loss: 1.1622 - acc: 0.6216 - val_loss: 1.1739 - val_acc: 0.6104\n",
      "Epoch 25/100\n",
      "836/836 [==============================] - 48s 57ms/step - loss: 1.1612 - acc: 0.6225 - val_loss: 1.1726 - val_acc: 0.6094\n",
      "Epoch 26/100\n",
      "836/836 [==============================] - 48s 58ms/step - loss: 1.1655 - acc: 0.6185 - val_loss: 1.1732 - val_acc: 0.6090\n",
      "Epoch 27/100\n",
      "836/836 [==============================] - 49s 58ms/step - loss: 1.1616 - acc: 0.6208 - val_loss: 1.1730 - val_acc: 0.6092\n",
      "Epoch 28/100\n",
      "836/836 [==============================] - 48s 57ms/step - loss: 1.1605 - acc: 0.6209 - val_loss: 1.1724 - val_acc: 0.6098\n",
      "Epoch 29/100\n",
      "836/836 [==============================] - 48s 57ms/step - loss: 1.1627 - acc: 0.6209 - val_loss: 1.1709 - val_acc: 0.6102\n",
      "Epoch 30/100\n",
      "836/836 [==============================] - 48s 57ms/step - loss: 1.1602 - acc: 0.6213 - val_loss: 1.1723 - val_acc: 0.6094\n",
      "Epoch 31/100\n",
      "836/836 [==============================] - 48s 58ms/step - loss: 1.1659 - acc: 0.6210 - val_loss: 1.1711 - val_acc: 0.6094\n",
      "Epoch 32/100\n",
      "836/836 [==============================] - 49s 59ms/step - loss: 1.1575 - acc: 0.6219 - val_loss: 1.1707 - val_acc: 0.6095\n",
      "Epoch 33/100\n",
      "836/836 [==============================] - 47s 56ms/step - loss: 1.1587 - acc: 0.6219 - val_loss: 1.1712 - val_acc: 0.6098\n",
      "Epoch 34/100\n",
      "836/836 [==============================] - 47s 57ms/step - loss: 1.1655 - acc: 0.6177 - val_loss: 1.1713 - val_acc: 0.6109\n",
      "Epoch 35/100\n",
      "836/836 [==============================] - 48s 57ms/step - loss: 1.1596 - acc: 0.6229 - val_loss: 1.1698 - val_acc: 0.6093\n",
      "Epoch 36/100\n",
      "836/836 [==============================] - 48s 58ms/step - loss: 1.1533 - acc: 0.6229 - val_loss: 1.1718 - val_acc: 0.6099\n",
      "Epoch 37/100\n",
      "836/836 [==============================] - 49s 59ms/step - loss: 1.1546 - acc: 0.6236 - val_loss: 1.1698 - val_acc: 0.6110\n",
      "Epoch 38/100\n",
      "836/836 [==============================] - 47s 57ms/step - loss: 1.1612 - acc: 0.6202 - val_loss: 1.1698 - val_acc: 0.6095\n",
      "Epoch 39/100\n",
      "836/836 [==============================] - 48s 57ms/step - loss: 1.1573 - acc: 0.6237 - val_loss: 1.1681 - val_acc: 0.6110\n",
      "Epoch 40/100\n",
      "836/836 [==============================] - 48s 57ms/step - loss: 1.1542 - acc: 0.6227 - val_loss: 1.1694 - val_acc: 0.6118\n",
      "Epoch 41/100\n",
      "836/836 [==============================] - 48s 58ms/step - loss: 1.1570 - acc: 0.6220 - val_loss: 1.1687 - val_acc: 0.6095\n",
      "Epoch 42/100\n",
      "836/836 [==============================] - 49s 58ms/step - loss: 1.1598 - acc: 0.6201 - val_loss: 1.1695 - val_acc: 0.6107\n",
      "Epoch 43/100\n",
      "836/836 [==============================] - 47s 57ms/step - loss: 1.1517 - acc: 0.6228 - val_loss: 1.1683 - val_acc: 0.6104\n",
      "Epoch 44/100\n",
      "836/836 [==============================] - 48s 57ms/step - loss: 1.1536 - acc: 0.6223 - val_loss: 1.1667 - val_acc: 0.6105\n",
      "Epoch 45/100\n",
      "836/836 [==============================] - 48s 57ms/step - loss: 1.1563 - acc: 0.6210 - val_loss: 1.1664 - val_acc: 0.6110\n",
      "Epoch 46/100\n",
      "836/836 [==============================] - 48s 58ms/step - loss: 1.1527 - acc: 0.6241 - val_loss: 1.1665 - val_acc: 0.6104\n",
      "Epoch 47/100\n",
      "836/836 [==============================] - 49s 59ms/step - loss: 1.1578 - acc: 0.6215 - val_loss: 1.1663 - val_acc: 0.6112\n",
      "Epoch 48/100\n",
      "836/836 [==============================] - 48s 57ms/step - loss: 1.1560 - acc: 0.6216 - val_loss: 1.1659 - val_acc: 0.6114\n",
      "Epoch 49/100\n",
      "836/836 [==============================] - 47s 56ms/step - loss: 1.1498 - acc: 0.6248 - val_loss: 1.1664 - val_acc: 0.6104\n",
      "Epoch 50/100\n",
      "836/836 [==============================] - 48s 57ms/step - loss: 1.1599 - acc: 0.6192 - val_loss: 1.1654 - val_acc: 0.6119\n",
      "Epoch 51/100\n",
      "836/836 [==============================] - 48s 57ms/step - loss: 1.1552 - acc: 0.6209 - val_loss: 1.1675 - val_acc: 0.6099\n",
      "Epoch 52/100\n",
      "836/836 [==============================] - 48s 58ms/step - loss: 1.1476 - acc: 0.6254 - val_loss: 1.1655 - val_acc: 0.6112\n",
      "Epoch 53/100\n",
      "836/836 [==============================] - 47s 56ms/step - loss: 1.1554 - acc: 0.6216 - val_loss: 1.1670 - val_acc: 0.6104\n",
      "Epoch 54/100\n",
      "836/836 [==============================] - 47s 57ms/step - loss: 1.1542 - acc: 0.6225 - val_loss: 1.1682 - val_acc: 0.6099\n",
      "Epoch 55/100\n"
     ]
    },
    {
     "name": "stdout",
     "output_type": "stream",
     "text": [
      "836/836 [==============================] - 48s 57ms/step - loss: 1.1516 - acc: 0.6231 - val_loss: 1.1653 - val_acc: 0.6115\n",
      "Epoch 56/100\n",
      "836/836 [==============================] - 48s 58ms/step - loss: 1.1558 - acc: 0.6208 - val_loss: 1.1653 - val_acc: 0.6114\n",
      "Epoch 57/100\n",
      "836/836 [==============================] - 49s 59ms/step - loss: 1.1509 - acc: 0.6231 - val_loss: 1.1641 - val_acc: 0.6110\n",
      "Epoch 58/100\n",
      "836/836 [==============================] - 47s 56ms/step - loss: 1.1475 - acc: 0.6249 - val_loss: 1.1671 - val_acc: 0.6115\n",
      "Epoch 59/100\n",
      "836/836 [==============================] - 48s 57ms/step - loss: 1.1590 - acc: 0.6185 - val_loss: 1.1636 - val_acc: 0.6108\n",
      "Epoch 60/100\n",
      "836/836 [==============================] - 48s 57ms/step - loss: 1.1525 - acc: 0.6221 - val_loss: 1.1637 - val_acc: 0.6117\n",
      "Epoch 61/100\n",
      "836/836 [==============================] - 48s 57ms/step - loss: 1.1449 - acc: 0.6266 - val_loss: 1.1641 - val_acc: 0.6124\n",
      "Epoch 62/100\n",
      "836/836 [==============================] - 47s 57ms/step - loss: 1.1546 - acc: 0.6200 - val_loss: 1.1629 - val_acc: 0.6129\n",
      "Epoch 63/100\n",
      "836/836 [==============================] - 46s 55ms/step - loss: 1.1578 - acc: 0.6203 - val_loss: 1.1646 - val_acc: 0.6104\n",
      "Epoch 64/100\n",
      "836/836 [==============================] - 48s 57ms/step - loss: 1.1475 - acc: 0.6261 - val_loss: 1.1622 - val_acc: 0.6117\n",
      "Epoch 65/100\n",
      "836/836 [==============================] - 48s 57ms/step - loss: 1.1548 - acc: 0.6210 - val_loss: 1.1653 - val_acc: 0.6124\n",
      "Epoch 66/100\n",
      "836/836 [==============================] - 49s 59ms/step - loss: 1.1468 - acc: 0.6243 - val_loss: 1.1620 - val_acc: 0.6123\n",
      "Epoch 67/100\n",
      "836/836 [==============================] - 49s 58ms/step - loss: 1.1529 - acc: 0.6198 - val_loss: 1.1631 - val_acc: 0.6120\n",
      "Epoch 68/100\n",
      "836/836 [==============================] - 48s 57ms/step - loss: 1.1490 - acc: 0.6242 - val_loss: 1.1625 - val_acc: 0.6108\n",
      "Epoch 69/100\n",
      "836/836 [==============================] - 49s 58ms/step - loss: 1.1507 - acc: 0.6229 - val_loss: 1.1620 - val_acc: 0.6119\n",
      "Epoch 70/100\n",
      "836/836 [==============================] - 48s 58ms/step - loss: 1.1513 - acc: 0.6231 - val_loss: 1.1618 - val_acc: 0.6120\n",
      "Epoch 71/100\n",
      "836/836 [==============================] - 51s 60ms/step - loss: 1.1485 - acc: 0.6245 - val_loss: 1.1633 - val_acc: 0.6113\n",
      "Epoch 72/100\n",
      "836/836 [==============================] - 50s 60ms/step - loss: 1.1558 - acc: 0.6204 - val_loss: 1.1626 - val_acc: 0.6117\n",
      "Epoch 73/100\n",
      "836/836 [==============================] - 50s 60ms/step - loss: 1.1438 - acc: 0.6260 - val_loss: 1.1618 - val_acc: 0.6122\n",
      "Epoch 74/100\n",
      "836/836 [==============================] - 48s 57ms/step - loss: 1.1504 - acc: 0.6227 - val_loss: 1.1624 - val_acc: 0.6125\n",
      "Epoch 75/100\n",
      "836/836 [==============================] - 48s 57ms/step - loss: 1.1567 - acc: 0.6190 - val_loss: 1.1604 - val_acc: 0.6117\n",
      "Epoch 76/100\n",
      "836/836 [==============================] - 48s 58ms/step - loss: 1.1476 - acc: 0.6227 - val_loss: 1.1604 - val_acc: 0.6122\n",
      "Epoch 77/100\n",
      "836/836 [==============================] - 49s 59ms/step - loss: 1.1481 - acc: 0.6236 - val_loss: 1.1608 - val_acc: 0.6130\n",
      "Epoch 78/100\n",
      "836/836 [==============================] - 49s 59ms/step - loss: 1.1526 - acc: 0.6210 - val_loss: 1.1600 - val_acc: 0.6114\n",
      "Epoch 79/100\n",
      "836/836 [==============================] - 48s 57ms/step - loss: 1.1455 - acc: 0.6266 - val_loss: 1.1603 - val_acc: 0.6120\n",
      "Epoch 80/100\n",
      "836/836 [==============================] - 47s 57ms/step - loss: 1.1461 - acc: 0.6238 - val_loss: 1.1600 - val_acc: 0.6119\n",
      "Epoch 81/100\n",
      "836/836 [==============================] - 48s 58ms/step - loss: 1.1496 - acc: 0.6221 - val_loss: 1.1595 - val_acc: 0.6118\n",
      "Epoch 82/100\n",
      "836/836 [==============================] - 49s 58ms/step - loss: 1.1525 - acc: 0.6216 - val_loss: 1.1599 - val_acc: 0.6124\n",
      "Epoch 83/100\n",
      "836/836 [==============================] - 49s 59ms/step - loss: 1.1526 - acc: 0.6216 - val_loss: 1.1611 - val_acc: 0.6123\n",
      "Epoch 84/100\n",
      "836/836 [==============================] - 47s 57ms/step - loss: 1.1441 - acc: 0.6265 - val_loss: 1.1599 - val_acc: 0.6109\n",
      "Epoch 85/100\n",
      "836/836 [==============================] - 47s 57ms/step - loss: 1.1521 - acc: 0.6209 - val_loss: 1.1595 - val_acc: 0.6119\n",
      "Epoch 86/100\n",
      "836/836 [==============================] - 48s 57ms/step - loss: 1.1442 - acc: 0.6245 - val_loss: 1.1595 - val_acc: 0.6110\n",
      "Epoch 87/100\n",
      "836/836 [==============================] - 49s 58ms/step - loss: 1.1473 - acc: 0.6231 - val_loss: 1.1597 - val_acc: 0.6118\n",
      "Epoch 88/100\n",
      "836/836 [==============================] - 49s 59ms/step - loss: 1.1447 - acc: 0.6229 - val_loss: 1.1586 - val_acc: 0.6126\n",
      "Epoch 89/100\n",
      "836/836 [==============================] - 48s 57ms/step - loss: 1.1459 - acc: 0.6237 - val_loss: 1.1582 - val_acc: 0.6125\n",
      "Epoch 90/100\n",
      "836/836 [==============================] - 47s 56ms/step - loss: 1.1469 - acc: 0.6228 - val_loss: 1.1588 - val_acc: 0.6124\n",
      "Epoch 91/100\n",
      "836/836 [==============================] - 48s 57ms/step - loss: 1.1466 - acc: 0.6241 - val_loss: 1.1597 - val_acc: 0.6130\n",
      "Epoch 92/100\n",
      "836/836 [==============================] - 48s 58ms/step - loss: 1.1468 - acc: 0.6228 - val_loss: 1.1583 - val_acc: 0.6123\n",
      "Epoch 93/100\n",
      "836/836 [==============================] - 49s 59ms/step - loss: 1.1462 - acc: 0.6246 - val_loss: 1.1585 - val_acc: 0.6124\n",
      "Epoch 94/100\n",
      "836/836 [==============================] - 48s 57ms/step - loss: 1.1454 - acc: 0.6228 - val_loss: 1.1580 - val_acc: 0.6135\n",
      "Epoch 95/100\n",
      "836/836 [==============================] - 48s 57ms/step - loss: 1.1479 - acc: 0.6234 - val_loss: 1.1577 - val_acc: 0.6133\n",
      "Epoch 96/100\n",
      "836/836 [==============================] - 48s 57ms/step - loss: 1.1440 - acc: 0.6237 - val_loss: 1.1578 - val_acc: 0.6122\n",
      "Epoch 97/100\n",
      "836/836 [==============================] - 49s 58ms/step - loss: 1.1505 - acc: 0.6208 - val_loss: 1.1576 - val_acc: 0.6135\n",
      "Epoch 98/100\n",
      "836/836 [==============================] - 49s 58ms/step - loss: 1.1441 - acc: 0.6243 - val_loss: 1.1594 - val_acc: 0.6129\n",
      "Epoch 99/100\n",
      "836/836 [==============================] - 48s 57ms/step - loss: 1.1523 - acc: 0.6180 - val_loss: 1.1574 - val_acc: 0.6119\n",
      "Epoch 100/100\n",
      "836/836 [==============================] - 47s 57ms/step - loss: 1.1387 - acc: 0.6257 - val_loss: 1.1574 - val_acc: 0.6134\n",
      "Wall time: 1h 20min 20s\n"
     ]
    }
   ],
   "source": [
    "%%time\n",
    "# get model and compile\n",
    "tf.keras.backend.clear_session()\n",
    "model = get_linear_classifier()\n",
    "model.summary()\n",
    "for l in model.layers:\n",
    "    print(l.name, l.trainable)\n",
    "print()\n",
    "\n",
    "early_stopper = tf.keras.callbacks.EarlyStopping(monitor=\"val_loss\", \n",
    "                                                 patience=patience, \n",
    "                                                 verbose=2, \n",
    "                                                 restore_best_weights=True)\n",
    "\n",
    "checkpoint = tf.keras.callbacks.ModelCheckpoint(filepath=\"swav_augment.h5\", \n",
    "                                                monitor='val_loss', \n",
    "                                                save_best_only=True)\n",
    "\n",
    "# train \n",
    "history = model.fit(training_ds,\n",
    "                    validation_data=(testing_ds),\n",
    "                    epochs=epochs,\n",
    "                    callbacks=[early_stopper, checkpoint],\n",
    "                    steps_per_epoch=NUM_TRAINING_IMAGES // BATCH_SIZE, \n",
    "                    validation_steps=NUM_VALIDATION_IMAGES // BATCH_SIZE,\n",
    "                   )"
   ]
  },
  {
   "cell_type": "code",
   "execution_count": 20,
   "metadata": {
    "ExecuteTime": {
     "end_time": "2020-12-16T05:17:59.039921Z",
     "start_time": "2020-12-16T05:17:58.801897Z"
    },
    "execution": {
     "iopub.execute_input": "2020-12-15T05:22:51.731815Z",
     "iopub.status.busy": "2020-12-15T05:22:51.726030Z",
     "iopub.status.idle": "2020-12-15T05:22:52.249983Z",
     "shell.execute_reply": "2020-12-15T05:22:52.249415Z"
    },
    "papermill": {
     "duration": 1.571108,
     "end_time": "2020-12-15T05:22:52.250137",
     "exception": false,
     "start_time": "2020-12-15T05:22:50.679029",
     "status": "completed"
    },
    "tags": []
   },
   "outputs": [
    {
     "data": {
      "text/plain": [
       "<AxesSubplot:>"
      ]
     },
     "execution_count": 20,
     "metadata": {},
     "output_type": "execute_result"
    },
    {
     "data": {
      "image/png": "[encoded data removed]",
      "text/plain": [
       "<Figure size 432x288 with 1 Axes>"
      ]
     },
     "metadata": {
      "needs_background": "light"
     },
     "output_type": "display_data"
    },
    {
     "data": {
      "image/png": "[encoded data removed]",
      "text/plain": [
       "<Figure size 432x288 with 1 Axes>"
      ]
     },
     "metadata": {
      "needs_background": "light"
     },
     "output_type": "display_data"
    }
   ],
   "source": [
    "history_frame = pd.DataFrame(history.history)\n",
    "history_frame.loc[:, ['loss', 'val_loss']].plot()\n",
    "history_frame.loc[:, ['acc', 'val_acc']].plot()"
   ]
  },
  {
   "cell_type": "code",
   "execution_count": 21,
   "metadata": {
    "ExecuteTime": {
     "end_time": "2020-12-16T05:18:15.708766Z",
     "start_time": "2020-12-16T05:17:59.040895Z"
    },
    "execution": {
     "iopub.execute_input": "2020-12-15T05:22:54.453939Z",
     "iopub.status.busy": "2020-12-15T05:22:54.453101Z",
     "iopub.status.idle": "2020-12-15T05:23:23.556528Z",
     "shell.execute_reply": "2020-12-15T05:23:23.555425Z"
    },
    "papermill": {
     "duration": 30.271061,
     "end_time": "2020-12-15T05:23:23.556635",
     "exception": false,
     "start_time": "2020-12-15T05:22:53.285574",
     "status": "completed"
    },
    "tags": []
   },
   "outputs": [
    {
     "name": "stdout",
     "output_type": "stream",
     "text": [
      "502/502 [==============================] - 17s 33ms/step - loss: 1.1574 - acc: 0.6134\n"
     ]
    }
   ],
   "source": [
    "loss, acc = model.evaluate(testing_ds)"
   ]
  },
  {
   "cell_type": "code",
   "execution_count": null,
   "metadata": {
    "papermill": {
     "duration": 1.059645,
     "end_time": "2020-12-15T05:23:25.634452",
     "exception": false,
     "start_time": "2020-12-15T05:23:24.574807",
     "status": "completed"
    },
    "tags": []
   },
   "outputs": [],
   "source": []
  },
  {
   "cell_type": "markdown",
   "metadata": {
    "papermill": {
     "duration": 1.023765,
     "end_time": "2020-12-15T05:23:27.981460",
     "exception": false,
     "start_time": "2020-12-15T05:23:26.957695",
     "status": "completed"
    },
    "tags": []
   },
   "source": [
    "# 10％のラベル付きデータだけでFine Tuning\n",
    "- ラベル付きデータが非常に少ないケース\n",
    "- 最初にSwAVの重みを凍結してトレーニング（通常、高い学習率で実行）\n",
    "- 次に、全層をより低い学習率でトレーニング\n",
    "- https://colab.research.google.com/github/ayulockin/SwAV-TF/blob/master/fine_tuning/Fine_Tuning_10_Epochs.ipynb"
   ]
  },
  {
   "cell_type": "code",
   "execution_count": 22,
   "metadata": {
    "ExecuteTime": {
     "end_time": "2020-12-16T05:18:15.766902Z",
     "start_time": "2020-12-16T05:18:15.709764Z"
    },
    "execution": {
     "iopub.execute_input": "2020-12-15T05:23:30.036940Z",
     "iopub.status.busy": "2020-12-15T05:23:30.035980Z",
     "iopub.status.idle": "2020-12-15T05:23:30.089570Z",
     "shell.execute_reply": "2020-12-15T05:23:30.090018Z"
    },
    "papermill": {
     "duration": 1.090356,
     "end_time": "2020-12-15T05:23:30.090137",
     "exception": false,
     "start_time": "2020-12-15T05:23:28.999781",
     "status": "completed"
    },
    "tags": []
   },
   "outputs": [
    {
     "name": "stdout",
     "output_type": "stream",
     "text": [
      "NUM_TRAINING_IMAGES, NUM_extra_TRAINING_IMAGES, NUM_VALIDATION_IMAGES: 1338, 12042, 8017\n"
     ]
    }
   ],
   "source": [
    "TRAINING_FILENAMES, VALID_FILENAMES = train_test_split(train_tfrecs,\n",
    "                                                       test_size=0.35, \n",
    "                                                       random_state=5)\n",
    "\n",
    "TRAINING_FILENAMES, extra_TRAINING_FILENAMES = train_test_split(TRAINING_FILENAMES,\n",
    "                                                                test_size=0.9, \n",
    "                                                                random_state=5)\n",
    "\n",
    "NUM_TRAINING_IMAGES = count_data_items(TRAINING_FILENAMES)\n",
    "NUM_extra_TRAINING_IMAGES = count_data_items(extra_TRAINING_FILENAMES)\n",
    "NUM_VALIDATION_IMAGES = count_data_items(VALID_FILENAMES)\n",
    "print(f\"NUM_TRAINING_IMAGES, NUM_extra_TRAINING_IMAGES, NUM_VALIDATION_IMAGES: {NUM_TRAINING_IMAGES}, {NUM_extra_TRAINING_IMAGES}, {NUM_VALIDATION_IMAGES}\")\n",
    "\n",
    "train_ds = load_dataset(TRAINING_FILENAMES, labeled=True)\n",
    "extra_train_ds = load_dataset(extra_TRAINING_FILENAMES, labeled=True)\n",
    "validation_ds = load_dataset(VALID_FILENAMES, labeled=True)\n",
    "\n",
    "# 10％のラベル付きデータ\n",
    "training_ds = (\n",
    "    train_ds\n",
    "    .map(scale_resize_image, num_parallel_calls=AUTO)\n",
    "    .repeat()\n",
    "    .shuffle(256)\n",
    "    .batch(BATCH_SIZE)\n",
    "    .prefetch(AUTO)\n",
    ")\n",
    "\n",
    "testing_ds = (\n",
    "    validation_ds\n",
    "    .map(scale_resize_image, num_parallel_calls=AUTO)\n",
    "    .batch(BATCH_SIZE)\n",
    "    .prefetch(AUTO)\n",
    ")"
   ]
  },
  {
   "cell_type": "markdown",
   "metadata": {
    "papermill": {
     "duration": 1.040927,
     "end_time": "2020-12-15T05:23:32.171190",
     "exception": false,
     "start_time": "2020-12-15T05:23:31.130263",
     "status": "completed"
    },
    "tags": []
   },
   "source": [
    "## With Augmentation"
   ]
  },
  {
   "cell_type": "code",
   "execution_count": 23,
   "metadata": {
    "ExecuteTime": {
     "end_time": "2020-12-16T05:18:15.778909Z",
     "start_time": "2020-12-16T05:18:15.767909Z"
    },
    "execution": {
     "iopub.execute_input": "2020-12-15T05:23:34.259382Z",
     "iopub.status.busy": "2020-12-15T05:23:34.258537Z",
     "iopub.status.idle": "2020-12-15T05:23:34.270613Z",
     "shell.execute_reply": "2020-12-15T05:23:34.270183Z"
    },
    "papermill": {
     "duration": 1.042589,
     "end_time": "2020-12-15T05:23:34.270724",
     "exception": false,
     "start_time": "2020-12-15T05:23:33.228135",
     "status": "completed"
    },
    "tags": []
   },
   "outputs": [],
   "source": [
    "# 10％のラベル付きデータ\n",
    "training_ds = (\n",
    "    train_ds\n",
    "    .map(tie_together, num_parallel_calls=AUTO)\n",
    "    .repeat()\n",
    "    .shuffle(256)\n",
    "    .batch(BATCH_SIZE)\n",
    "    .prefetch(AUTO)\n",
    ")\n",
    "\n",
    "training_ds = training_ds.with_options(options)"
   ]
  },
  {
   "cell_type": "markdown",
   "metadata": {
    "papermill": {
     "duration": 1.011919,
     "end_time": "2020-12-15T05:23:36.321945",
     "exception": false,
     "start_time": "2020-12-15T05:23:35.310026",
     "status": "completed"
    },
    "tags": []
   },
   "source": [
    "## 1.SwAVの重み固定して学習"
   ]
  },
  {
   "cell_type": "code",
   "execution_count": 24,
   "metadata": {
    "ExecuteTime": {
     "end_time": "2020-12-16T05:50:09.213175Z",
     "start_time": "2020-12-16T05:18:15.779936Z"
    },
    "execution": {
     "iopub.execute_input": "2020-12-15T05:23:39.110182Z",
     "iopub.status.busy": "2020-12-15T05:23:39.109283Z",
     "iopub.status.idle": "2020-12-15T05:53:41.800136Z",
     "shell.execute_reply": "2020-12-15T05:53:41.800595Z"
    },
    "papermill": {
     "duration": 1804.191722,
     "end_time": "2020-12-15T05:53:41.800747",
     "exception": false,
     "start_time": "2020-12-15T05:23:37.609025",
     "status": "completed"
    },
    "tags": []
   },
   "outputs": [
    {
     "name": "stdout",
     "output_type": "stream",
     "text": [
      "Model: \"functional_3\"\n",
      "_________________________________________________________________\n",
      "Layer (type)                 Output Shape              Param #   \n",
      "=================================================================\n",
      "input_1 (InputLayer)         [(None, 224, 224, 3)]     0         \n",
      "_________________________________________________________________\n",
      "functional_1 (Functional)    (None, 2048)              23587712  \n",
      "_________________________________________________________________\n",
      "dense (Dense)                (None, 5)                 10245     \n",
      "=================================================================\n",
      "Total params: 23,597,957\n",
      "Trainable params: 10,245\n",
      "Non-trainable params: 23,587,712\n",
      "_________________________________________________________________\n",
      "input_1 True\n",
      "functional_1 False\n",
      "dense True\n",
      "\n",
      "Epoch 1/100\n",
      "83/83 [==============================] - 20s 245ms/step - loss: 2.3738 - acc: 0.0663 - val_loss: 1.6963 - val_acc: 0.1972\n",
      "Epoch 2/100\n",
      "83/83 [==============================] - 20s 238ms/step - loss: 1.5005 - acc: 0.5452 - val_loss: 1.3597 - val_acc: 0.6075\n",
      "Epoch 3/100\n",
      "83/83 [==============================] - 20s 238ms/step - loss: 1.3764 - acc: 0.6017 - val_loss: 1.3089 - val_acc: 0.6083\n",
      "Epoch 4/100\n",
      "83/83 [==============================] - 20s 242ms/step - loss: 1.2810 - acc: 0.6280 - val_loss: 1.2729 - val_acc: 0.6083\n",
      "Epoch 5/100\n",
      "83/83 [==============================] - 20s 239ms/step - loss: 1.2852 - acc: 0.6032 - val_loss: 1.2462 - val_acc: 0.6080\n",
      "Epoch 6/100\n",
      "83/83 [==============================] - 20s 239ms/step - loss: 1.2368 - acc: 0.6205 - val_loss: 1.2276 - val_acc: 0.6089\n",
      "Epoch 7/100\n",
      "83/83 [==============================] - 20s 240ms/step - loss: 1.2453 - acc: 0.6039 - val_loss: 1.2153 - val_acc: 0.6092\n",
      "Epoch 8/100\n",
      "83/83 [==============================] - 20s 240ms/step - loss: 1.2091 - acc: 0.6197 - val_loss: 1.2086 - val_acc: 0.6099\n",
      "Epoch 9/100\n",
      "83/83 [==============================] - 20s 239ms/step - loss: 1.1899 - acc: 0.6197 - val_loss: 1.2033 - val_acc: 0.6089\n",
      "Epoch 10/100\n",
      "83/83 [==============================] - 20s 239ms/step - loss: 1.2209 - acc: 0.6069 - val_loss: 1.1999 - val_acc: 0.6080\n",
      "Epoch 11/100\n",
      "83/83 [==============================] - 20s 239ms/step - loss: 1.2086 - acc: 0.6069 - val_loss: 1.1949 - val_acc: 0.6095\n",
      "Epoch 12/100\n",
      "83/83 [==============================] - 20s 240ms/step - loss: 1.1734 - acc: 0.6250 - val_loss: 1.1944 - val_acc: 0.6098\n",
      "Epoch 13/100\n",
      "83/83 [==============================] - 20s 237ms/step - loss: 1.2114 - acc: 0.6069 - val_loss: 1.1962 - val_acc: 0.6099\n",
      "Epoch 14/100\n",
      "83/83 [==============================] - 20s 239ms/step - loss: 1.1976 - acc: 0.6107 - val_loss: 1.1923 - val_acc: 0.6087\n",
      "Epoch 15/100\n",
      "83/83 [==============================] - 20s 241ms/step - loss: 1.1784 - acc: 0.6205 - val_loss: 1.1916 - val_acc: 0.6092\n",
      "Epoch 16/100\n",
      "83/83 [==============================] - 20s 240ms/step - loss: 1.1982 - acc: 0.6077 - val_loss: 1.1907 - val_acc: 0.6087\n",
      "Epoch 17/100\n",
      "83/83 [==============================] - 20s 237ms/step - loss: 1.1792 - acc: 0.6182 - val_loss: 1.1940 - val_acc: 0.6083\n",
      "Epoch 18/100\n",
      "83/83 [==============================] - 20s 245ms/step - loss: 1.1951 - acc: 0.6130 - val_loss: 1.1905 - val_acc: 0.6094\n",
      "Epoch 19/100\n",
      "83/83 [==============================] - 20s 241ms/step - loss: 1.2130 - acc: 0.6032 - val_loss: 1.1912 - val_acc: 0.6097\n",
      "Epoch 20/100\n",
      "83/83 [==============================] - 20s 239ms/step - loss: 1.1837 - acc: 0.6160 - val_loss: 1.1926 - val_acc: 0.6094\n",
      "Epoch 21/100\n",
      "83/83 [==============================] - 20s 241ms/step - loss: 1.2193 - acc: 0.6084 - val_loss: 1.1897 - val_acc: 0.6092\n",
      "Epoch 22/100\n",
      "83/83 [==============================] - 20s 242ms/step - loss: 1.1716 - acc: 0.6258 - val_loss: 1.1888 - val_acc: 0.6094\n",
      "Epoch 23/100\n",
      "83/83 [==============================] - 20s 241ms/step - loss: 1.1988 - acc: 0.6145 - val_loss: 1.1895 - val_acc: 0.6095\n",
      "Epoch 24/100\n",
      "83/83 [==============================] - 20s 241ms/step - loss: 1.2083 - acc: 0.6069 - val_loss: 1.1897 - val_acc: 0.6087\n",
      "Epoch 25/100\n",
      "83/83 [==============================] - 20s 243ms/step - loss: 1.1848 - acc: 0.6175 - val_loss: 1.1906 - val_acc: 0.6098\n",
      "Epoch 26/100\n",
      "83/83 [==============================] - 20s 243ms/step - loss: 1.2045 - acc: 0.6122 - val_loss: 1.1910 - val_acc: 0.6094\n",
      "Epoch 27/100\n",
      "83/83 [==============================] - 20s 243ms/step - loss: 1.2009 - acc: 0.6054 - val_loss: 1.1884 - val_acc: 0.6093\n",
      "Epoch 28/100\n",
      "83/83 [==============================] - 20s 242ms/step - loss: 1.1815 - acc: 0.6227 - val_loss: 1.1894 - val_acc: 0.6092\n",
      "Epoch 29/100\n",
      "83/83 [==============================] - 20s 241ms/step - loss: 1.1734 - acc: 0.6190 - val_loss: 1.1901 - val_acc: 0.6095\n",
      "Epoch 30/100\n",
      "83/83 [==============================] - 20s 242ms/step - loss: 1.2105 - acc: 0.6077 - val_loss: 1.1879 - val_acc: 0.6093\n",
      "Epoch 31/100\n",
      "83/83 [==============================] - 20s 240ms/step - loss: 1.1965 - acc: 0.6099 - val_loss: 1.1901 - val_acc: 0.6090\n",
      "Epoch 32/100\n",
      "83/83 [==============================] - 20s 239ms/step - loss: 1.1890 - acc: 0.6152 - val_loss: 1.1903 - val_acc: 0.6103\n",
      "Epoch 33/100\n",
      "83/83 [==============================] - 20s 241ms/step - loss: 1.2026 - acc: 0.6130 - val_loss: 1.1915 - val_acc: 0.6095\n",
      "Epoch 34/100\n",
      "83/83 [==============================] - 20s 243ms/step - loss: 1.1867 - acc: 0.6197 - val_loss: 1.1882 - val_acc: 0.6098\n",
      "Epoch 35/100\n",
      "83/83 [==============================] - 20s 241ms/step - loss: 1.1939 - acc: 0.6114 - val_loss: 1.1893 - val_acc: 0.6090\n",
      "Epoch 36/100\n",
      "83/83 [==============================] - 20s 239ms/step - loss: 1.1909 - acc: 0.6122 - val_loss: 1.1900 - val_acc: 0.6095\n",
      "Epoch 37/100\n",
      "83/83 [==============================] - 20s 239ms/step - loss: 1.1790 - acc: 0.6227 - val_loss: 1.1905 - val_acc: 0.6099\n",
      "Epoch 38/100\n",
      "83/83 [==============================] - 20s 236ms/step - loss: 1.2182 - acc: 0.6017 - val_loss: 1.1885 - val_acc: 0.6087\n",
      "Epoch 39/100\n",
      "83/83 [==============================] - 20s 238ms/step - loss: 1.1962 - acc: 0.6137 - val_loss: 1.1890 - val_acc: 0.6090\n",
      "Epoch 40/100\n",
      "83/83 [==============================] - 20s 241ms/step - loss: 1.1926 - acc: 0.6160 - val_loss: 1.1877 - val_acc: 0.6094\n",
      "Epoch 41/100\n",
      "83/83 [==============================] - 20s 236ms/step - loss: 1.1793 - acc: 0.6205 - val_loss: 1.1890 - val_acc: 0.6092\n",
      "Epoch 42/100\n",
      "83/83 [==============================] - 20s 237ms/step - loss: 1.2009 - acc: 0.6107 - val_loss: 1.1898 - val_acc: 0.6098\n",
      "Epoch 43/100\n",
      "83/83 [==============================] - 20s 240ms/step - loss: 1.1960 - acc: 0.6099 - val_loss: 1.1864 - val_acc: 0.6087\n",
      "Epoch 44/100\n",
      "83/83 [==============================] - 20s 237ms/step - loss: 1.1957 - acc: 0.6197 - val_loss: 1.1882 - val_acc: 0.6090\n",
      "Epoch 45/100\n",
      "83/83 [==============================] - 20s 238ms/step - loss: 1.1964 - acc: 0.6084 - val_loss: 1.1889 - val_acc: 0.6087\n",
      "Epoch 46/100\n",
      "83/83 [==============================] - 20s 239ms/step - loss: 1.1718 - acc: 0.6152 - val_loss: 1.1852 - val_acc: 0.6093\n",
      "Epoch 47/100\n",
      "83/83 [==============================] - 20s 237ms/step - loss: 1.1921 - acc: 0.6190 - val_loss: 1.1857 - val_acc: 0.6093\n",
      "Epoch 48/100\n",
      "83/83 [==============================] - 20s 238ms/step - loss: 1.2070 - acc: 0.6069 - val_loss: 1.1880 - val_acc: 0.6089\n",
      "Epoch 49/100\n",
      "83/83 [==============================] - 20s 237ms/step - loss: 1.1901 - acc: 0.6122 - val_loss: 1.1867 - val_acc: 0.6100\n",
      "Epoch 50/100\n",
      "83/83 [==============================] - 20s 236ms/step - loss: 1.1706 - acc: 0.6212 - val_loss: 1.1875 - val_acc: 0.6088\n",
      "Epoch 51/100\n",
      "83/83 [==============================] - 20s 239ms/step - loss: 1.1816 - acc: 0.6175 - val_loss: 1.1850 - val_acc: 0.6088\n",
      "Epoch 52/100\n",
      "83/83 [==============================] - 20s 240ms/step - loss: 1.1981 - acc: 0.6077 - val_loss: 1.1847 - val_acc: 0.6094\n",
      "Epoch 53/100\n",
      "83/83 [==============================] - 20s 238ms/step - loss: 1.1835 - acc: 0.6197 - val_loss: 1.1888 - val_acc: 0.6095\n",
      "Epoch 54/100\n",
      "83/83 [==============================] - 20s 237ms/step - loss: 1.1829 - acc: 0.6160 - val_loss: 1.1868 - val_acc: 0.6088\n",
      "Epoch 55/100\n",
      "83/83 [==============================] - 20s 237ms/step - loss: 1.1951 - acc: 0.6107 - val_loss: 1.1902 - val_acc: 0.6097\n"
     ]
    },
    {
     "name": "stdout",
     "output_type": "stream",
     "text": [
      "Epoch 56/100\n",
      "83/83 [==============================] - 20s 237ms/step - loss: 1.1755 - acc: 0.6190 - val_loss: 1.1866 - val_acc: 0.6099\n",
      "Epoch 57/100\n",
      "83/83 [==============================] - 20s 238ms/step - loss: 1.1858 - acc: 0.6084 - val_loss: 1.1857 - val_acc: 0.6092\n",
      "Epoch 58/100\n",
      "83/83 [==============================] - 20s 237ms/step - loss: 1.1881 - acc: 0.6160 - val_loss: 1.1885 - val_acc: 0.6099\n",
      "Epoch 59/100\n",
      "83/83 [==============================] - 20s 237ms/step - loss: 1.1966 - acc: 0.6054 - val_loss: 1.1861 - val_acc: 0.6090\n",
      "Epoch 60/100\n",
      "83/83 [==============================] - 20s 237ms/step - loss: 1.1796 - acc: 0.6160 - val_loss: 1.1858 - val_acc: 0.6099\n",
      "Epoch 61/100\n",
      "83/83 [==============================] - 20s 239ms/step - loss: 1.1909 - acc: 0.6122 - val_loss: 1.1868 - val_acc: 0.6092\n",
      "Epoch 62/100\n",
      "83/83 [==============================] - 20s 238ms/step - loss: 1.1980 - acc: 0.6107 - val_loss: 1.1852 - val_acc: 0.6088\n",
      "Epoch 63/100\n",
      "83/83 [==============================] - 20s 237ms/step - loss: 1.1859 - acc: 0.6160 - val_loss: 1.1888 - val_acc: 0.6093\n",
      "Epoch 64/100\n",
      "83/83 [==============================] - 20s 237ms/step - loss: 1.2089 - acc: 0.6114 - val_loss: 1.1878 - val_acc: 0.6095\n",
      "Epoch 65/100\n",
      "83/83 [==============================] - 20s 237ms/step - loss: 1.1750 - acc: 0.6130 - val_loss: 1.1860 - val_acc: 0.6087\n",
      "Epoch 66/100\n",
      "83/83 [==============================] - 20s 238ms/step - loss: 1.1976 - acc: 0.6054 - val_loss: 1.1845 - val_acc: 0.6089\n",
      "Epoch 67/100\n",
      "83/83 [==============================] - 20s 238ms/step - loss: 1.1876 - acc: 0.6137 - val_loss: 1.1860 - val_acc: 0.6090\n",
      "Epoch 68/100\n",
      "83/83 [==============================] - 20s 239ms/step - loss: 1.1734 - acc: 0.6190 - val_loss: 1.1843 - val_acc: 0.6088\n",
      "Epoch 69/100\n",
      "83/83 [==============================] - 20s 238ms/step - loss: 1.2099 - acc: 0.6039 - val_loss: 1.1835 - val_acc: 0.6095\n",
      "Epoch 70/100\n",
      "83/83 [==============================] - 20s 237ms/step - loss: 1.1818 - acc: 0.6197 - val_loss: 1.1868 - val_acc: 0.6090\n",
      "Epoch 71/100\n",
      "83/83 [==============================] - 20s 238ms/step - loss: 1.1768 - acc: 0.6107 - val_loss: 1.1839 - val_acc: 0.6090\n",
      "Epoch 72/100\n",
      "83/83 [==============================] - 20s 237ms/step - loss: 1.1709 - acc: 0.6220 - val_loss: 1.1856 - val_acc: 0.6089\n",
      "Epoch 73/100\n",
      "83/83 [==============================] - 20s 237ms/step - loss: 1.2006 - acc: 0.6062 - val_loss: 1.1867 - val_acc: 0.6098\n",
      "Epoch 74/100\n",
      "83/83 [==============================] - 20s 237ms/step - loss: 1.1888 - acc: 0.6092 - val_loss: 1.1850 - val_acc: 0.6087\n",
      "Epoch 75/100\n",
      "83/83 [==============================] - 20s 237ms/step - loss: 1.1733 - acc: 0.6205 - val_loss: 1.1839 - val_acc: 0.6099\n",
      "Epoch 76/100\n",
      "83/83 [==============================] - 20s 239ms/step - loss: 1.1834 - acc: 0.6152 - val_loss: 1.1829 - val_acc: 0.6090\n",
      "Epoch 77/100\n",
      "83/83 [==============================] - 20s 238ms/step - loss: 1.1908 - acc: 0.6092 - val_loss: 1.1827 - val_acc: 0.6088\n",
      "Epoch 78/100\n",
      "83/83 [==============================] - 20s 237ms/step - loss: 1.1588 - acc: 0.6197 - val_loss: 1.1840 - val_acc: 0.6089\n",
      "Epoch 79/100\n",
      "83/83 [==============================] - 20s 239ms/step - loss: 1.1884 - acc: 0.6092 - val_loss: 1.1822 - val_acc: 0.6090\n",
      "Epoch 80/100\n",
      "83/83 [==============================] - 20s 236ms/step - loss: 1.1776 - acc: 0.6220 - val_loss: 1.1838 - val_acc: 0.6092\n",
      "Epoch 81/100\n",
      "83/83 [==============================] - 20s 237ms/step - loss: 1.2125 - acc: 0.5971 - val_loss: 1.1814 - val_acc: 0.6089\n",
      "Epoch 82/100\n",
      "83/83 [==============================] - 20s 236ms/step - loss: 1.1534 - acc: 0.6325 - val_loss: 1.1837 - val_acc: 0.6092\n",
      "Epoch 83/100\n",
      "83/83 [==============================] - 20s 237ms/step - loss: 1.2058 - acc: 0.5994 - val_loss: 1.1830 - val_acc: 0.6088\n",
      "Epoch 84/100\n",
      "83/83 [==============================] - 20s 238ms/step - loss: 1.1756 - acc: 0.6152 - val_loss: 1.1826 - val_acc: 0.6089\n",
      "Epoch 85/100\n",
      "83/83 [==============================] - 20s 241ms/step - loss: 1.1991 - acc: 0.6092 - val_loss: 1.1815 - val_acc: 0.6089\n",
      "Epoch 86/100\n",
      "83/83 [==============================] - 20s 243ms/step - loss: 1.1734 - acc: 0.6160 - val_loss: 1.1832 - val_acc: 0.6092\n",
      "Epoch 87/100\n",
      "83/83 [==============================] - 20s 241ms/step - loss: 1.1900 - acc: 0.6114 - val_loss: 1.1843 - val_acc: 0.6088\n",
      "Epoch 88/100\n",
      "83/83 [==============================] - 20s 241ms/step - loss: 1.1792 - acc: 0.6175 - val_loss: 1.1847 - val_acc: 0.6098\n",
      "Epoch 89/100\n",
      "83/83 [==============================] - 20s 240ms/step - loss: 1.1975 - acc: 0.6092 - val_loss: 1.1817 - val_acc: 0.6094\n",
      "Epoch 90/100\n",
      "83/83 [==============================] - 20s 237ms/step - loss: 1.1715 - acc: 0.6220 - val_loss: 1.1837 - val_acc: 0.6093\n",
      "Epoch 91/100\n",
      "83/83 [==============================] - 20s 240ms/step - loss: 1.1761 - acc: 0.6145 - val_loss: 1.1825 - val_acc: 0.6094\n",
      "Epoch 92/100\n",
      "83/83 [==============================] - 20s 240ms/step - loss: 1.1983 - acc: 0.6077 - val_loss: 1.1837 - val_acc: 0.6092\n",
      "Epoch 93/100\n",
      "83/83 [==============================] - 20s 238ms/step - loss: 1.1848 - acc: 0.6160 - val_loss: 1.1843 - val_acc: 0.6094\n",
      "Epoch 94/100\n",
      "83/83 [==============================] - 20s 238ms/step - loss: 1.1909 - acc: 0.6099 - val_loss: 1.1843 - val_acc: 0.6094\n",
      "Epoch 95/100\n",
      "83/83 [==============================] - 20s 237ms/step - loss: 1.1727 - acc: 0.6235 - val_loss: 1.1858 - val_acc: 0.6093\n",
      "Epoch 96/100\n",
      "83/83 [==============================] - ETA: 0s - loss: 1.1890 - acc: 0.6107Restoring model weights from the end of the best epoch.\n",
      "83/83 [==============================] - 20s 238ms/step - loss: 1.1890 - acc: 0.6107 - val_loss: 1.1828 - val_acc: 0.6092\n",
      "Epoch 00096: early stopping\n"
     ]
    }
   ],
   "source": [
    "%%time\n",
    "# get model and compile\n",
    "tf.keras.backend.clear_session()\n",
    "model = get_linear_classifier()\n",
    "model.summary()\n",
    "for l in model.layers:\n",
    "    print(l.name, l.trainable)\n",
    "print()\n",
    "\n",
    "early_stopper = tf.keras.callbacks.EarlyStopping(monitor=\"val_loss\", \n",
    "                                                 patience=patience, \n",
    "                                                 verbose=2, \n",
    "                                                 restore_best_weights=True)\n",
    "\n",
    "# train\n",
    "history = model.fit(training_ds,\n",
    "                    validation_data=(testing_ds),\n",
    "                    epochs=epochs,\n",
    "                    callbacks=[early_stopper],\n",
    "                    steps_per_epoch=NUM_TRAINING_IMAGES // BATCH_SIZE, \n",
    "                    validation_steps=NUM_VALIDATION_IMAGES // BATCH_SIZE,\n",
    "                   )"
   ]
  },
  {
   "cell_type": "code",
   "execution_count": 25,
   "metadata": {
    "ExecuteTime": {
     "end_time": "2020-12-16T05:50:09.534702Z",
     "start_time": "2020-12-16T05:50:09.214177Z"
    },
    "execution": {
     "iopub.execute_input": "2020-12-15T05:53:44.454279Z",
     "iopub.status.busy": "2020-12-15T05:53:44.449333Z",
     "iopub.status.idle": "2020-12-15T05:53:45.592114Z",
     "shell.execute_reply": "2020-12-15T05:53:45.592538Z"
    },
    "papermill": {
     "duration": 2.482065,
     "end_time": "2020-12-15T05:53:45.592694",
     "exception": false,
     "start_time": "2020-12-15T05:53:43.110629",
     "status": "completed"
    },
    "tags": []
   },
   "outputs": [],
   "source": [
    "model.save('warmup.h5')"
   ]
  },
  {
   "cell_type": "markdown",
   "metadata": {
    "papermill": {
     "duration": 1.355755,
     "end_time": "2020-12-15T05:53:49.217408",
     "exception": false,
     "start_time": "2020-12-15T05:53:47.861653",
     "status": "completed"
    },
    "tags": []
   },
   "source": [
    "## 2.Fine tune CNN（1.の重みロードして全層学習）"
   ]
  },
  {
   "cell_type": "code",
   "execution_count": 30,
   "metadata": {
    "ExecuteTime": {
     "end_time": "2020-12-16T06:44:35.855472Z",
     "start_time": "2020-12-16T06:44:35.851473Z"
    },
    "execution": {
     "iopub.execute_input": "2020-12-15T05:53:51.956236Z",
     "iopub.status.busy": "2020-12-15T05:53:51.955441Z",
     "iopub.status.idle": "2020-12-15T05:53:51.959251Z",
     "shell.execute_reply": "2020-12-15T05:53:51.958810Z"
    },
    "papermill": {
     "duration": 1.39164,
     "end_time": "2020-12-15T05:53:51.959363",
     "exception": false,
     "start_time": "2020-12-15T05:53:50.567723",
     "status": "completed"
    },
    "tags": []
   },
   "outputs": [],
   "source": [
    "lr_scheduler = tf.keras.optimizers.schedules.ExponentialDecay(\n",
    "    initial_learning_rate=1e-6,  # 学習率下げてる\n",
    "    decay_steps=10000, \n",
    "    decay_rate=0.9)\n",
    "    \n",
    "    \n",
    "def get_classifier():\n",
    "    # load warmup model\n",
    "    warmup_model = tf.keras.models.load_model('warmup.h5')\n",
    "    warmup_model.trainable = True\n",
    "    \n",
    "    warmup_model.compile(loss=\"sparse_categorical_crossentropy\", \n",
    "                         metrics=[\"acc\"],\n",
    "                         optimizer=tf.keras.optimizers.Adam(learning_rate=lr_scheduler, epsilon=0.001),\n",
    "                        )\n",
    "\n",
    "    return warmup_model"
   ]
  },
  {
   "cell_type": "code",
   "execution_count": 31,
   "metadata": {
    "ExecuteTime": {
     "end_time": "2020-12-16T09:06:37.719866Z",
     "start_time": "2020-12-16T06:44:40.445322Z"
    },
    "execution": {
     "iopub.execute_input": "2020-12-15T05:53:55.055281Z",
     "iopub.status.busy": "2020-12-15T05:53:55.052310Z",
     "iopub.status.idle": "2020-12-15T06:06:25.401846Z",
     "shell.execute_reply": "2020-12-15T06:06:25.401318Z"
    },
    "papermill": {
     "duration": 751.874412,
     "end_time": "2020-12-15T06:06:25.401953",
     "exception": false,
     "start_time": "2020-12-15T05:53:53.527541",
     "status": "completed"
    },
    "scrolled": true,
    "tags": []
   },
   "outputs": [
    {
     "name": "stdout",
     "output_type": "stream",
     "text": [
      "Model: \"functional_3\"\n",
      "_________________________________________________________________\n",
      "Layer (type)                 Output Shape              Param #   \n",
      "=================================================================\n",
      "input_1 (InputLayer)         [(None, 224, 224, 3)]     0         \n",
      "_________________________________________________________________\n",
      "functional_1 (Functional)    (None, 2048)              23587712  \n",
      "_________________________________________________________________\n",
      "dense (Dense)                (None, 5)                 10245     \n",
      "=================================================================\n",
      "Total params: 23,597,957\n",
      "Trainable params: 23,544,837\n",
      "Non-trainable params: 53,120\n",
      "_________________________________________________________________\n",
      "input_1 True\n",
      "functional_1 True\n",
      "dense True\n",
      "\n",
      "Epoch 1/300\n",
      "83/83 [==============================] - 31s 375ms/step - loss: 1.1969 - acc: 0.6092 - val_loss: 1.1941 - val_acc: 0.6079\n",
      "Epoch 2/300\n",
      "83/83 [==============================] - 31s 369ms/step - loss: 1.2039 - acc: 0.6092 - val_loss: 1.1924 - val_acc: 0.6079\n",
      "Epoch 3/300\n",
      "83/83 [==============================] - 31s 369ms/step - loss: 1.1739 - acc: 0.6227 - val_loss: 1.1913 - val_acc: 0.6080\n",
      "Epoch 4/300\n",
      "83/83 [==============================] - 31s 371ms/step - loss: 1.1886 - acc: 0.6114 - val_loss: 1.1887 - val_acc: 0.6072\n",
      "Epoch 5/300\n",
      "83/83 [==============================] - 31s 374ms/step - loss: 1.2011 - acc: 0.6069 - val_loss: 1.1862 - val_acc: 0.6078\n",
      "Epoch 6/300\n",
      "83/83 [==============================] - 30s 360ms/step - loss: 1.1891 - acc: 0.6084 - val_loss: 1.1876 - val_acc: 0.6080\n",
      "Epoch 7/300\n",
      "83/83 [==============================] - 31s 372ms/step - loss: 1.1622 - acc: 0.6197 - val_loss: 1.1853 - val_acc: 0.6079\n",
      "Epoch 8/300\n",
      "83/83 [==============================] - 31s 374ms/step - loss: 1.1794 - acc: 0.6175 - val_loss: 1.1834 - val_acc: 0.6080\n",
      "Epoch 9/300\n",
      "83/83 [==============================] - 31s 373ms/step - loss: 1.2080 - acc: 0.5964 - val_loss: 1.1807 - val_acc: 0.6088\n",
      "Epoch 10/300\n",
      "83/83 [==============================] - 30s 362ms/step - loss: 1.1740 - acc: 0.6197 - val_loss: 1.1820 - val_acc: 0.6083\n",
      "Epoch 11/300\n",
      "83/83 [==============================] - 31s 375ms/step - loss: 1.1755 - acc: 0.6152 - val_loss: 1.1791 - val_acc: 0.6083\n",
      "Epoch 12/300\n",
      "83/83 [==============================] - 31s 377ms/step - loss: 1.1823 - acc: 0.6092 - val_loss: 1.1775 - val_acc: 0.6082\n",
      "Epoch 13/300\n",
      "83/83 [==============================] - 31s 375ms/step - loss: 1.1691 - acc: 0.6130 - val_loss: 1.1755 - val_acc: 0.6075\n",
      "Epoch 14/300\n",
      "83/83 [==============================] - 30s 360ms/step - loss: 1.1734 - acc: 0.6167 - val_loss: 1.1778 - val_acc: 0.6080\n",
      "Epoch 15/300\n",
      "83/83 [==============================] - 29s 347ms/step - loss: 1.1731 - acc: 0.6130 - val_loss: 1.1773 - val_acc: 0.6082\n",
      "Epoch 16/300\n",
      "83/83 [==============================] - 29s 355ms/step - loss: 1.1729 - acc: 0.6114 - val_loss: 1.1749 - val_acc: 0.6084\n",
      "Epoch 17/300\n",
      "83/83 [==============================] - 30s 363ms/step - loss: 1.1684 - acc: 0.6160 - val_loss: 1.1755 - val_acc: 0.6082\n",
      "Epoch 18/300\n",
      "83/83 [==============================] - 31s 368ms/step - loss: 1.1782 - acc: 0.6137 - val_loss: 1.1745 - val_acc: 0.6084\n",
      "Epoch 19/300\n",
      "83/83 [==============================] - 31s 377ms/step - loss: 1.1565 - acc: 0.6182 - val_loss: 1.1713 - val_acc: 0.6084\n",
      "Epoch 20/300\n",
      "83/83 [==============================] - 31s 372ms/step - loss: 1.2005 - acc: 0.5979 - val_loss: 1.1701 - val_acc: 0.6088\n",
      "Epoch 21/300\n",
      "83/83 [==============================] - 31s 375ms/step - loss: 1.1537 - acc: 0.6227 - val_loss: 1.1686 - val_acc: 0.6085\n",
      "Epoch 22/300\n",
      "83/83 [==============================] - 31s 374ms/step - loss: 1.1737 - acc: 0.6107 - val_loss: 1.1686 - val_acc: 0.6088\n",
      "Epoch 23/300\n",
      "83/83 [==============================] - 30s 365ms/step - loss: 1.1783 - acc: 0.6114 - val_loss: 1.1686 - val_acc: 0.6087\n",
      "Epoch 24/300\n",
      "83/83 [==============================] - 30s 358ms/step - loss: 1.1602 - acc: 0.6175 - val_loss: 1.1687 - val_acc: 0.6089\n",
      "Epoch 25/300\n",
      "83/83 [==============================] - 30s 367ms/step - loss: 1.1882 - acc: 0.6032 - val_loss: 1.1664 - val_acc: 0.6083\n",
      "Epoch 26/300\n",
      "83/83 [==============================] - 31s 371ms/step - loss: 1.1453 - acc: 0.6220 - val_loss: 1.1636 - val_acc: 0.6094\n",
      "Epoch 27/300\n",
      "83/83 [==============================] - 30s 362ms/step - loss: 1.1620 - acc: 0.6107 - val_loss: 1.1642 - val_acc: 0.6097\n",
      "Epoch 28/300\n",
      "83/83 [==============================] - 30s 365ms/step - loss: 1.1783 - acc: 0.6069 - val_loss: 1.1641 - val_acc: 0.6088\n",
      "Epoch 29/300\n",
      "83/83 [==============================] - 30s 357ms/step - loss: 1.1604 - acc: 0.6114 - val_loss: 1.1645 - val_acc: 0.6098\n",
      "Epoch 30/300\n",
      "83/83 [==============================] - 31s 372ms/step - loss: 1.1395 - acc: 0.6265 - val_loss: 1.1649 - val_acc: 0.6088\n",
      "Epoch 31/300\n",
      "83/83 [==============================] - 30s 356ms/step - loss: 1.1783 - acc: 0.6099 - val_loss: 1.1639 - val_acc: 0.6094\n",
      "Epoch 32/300\n",
      "83/83 [==============================] - 30s 358ms/step - loss: 1.1431 - acc: 0.6197 - val_loss: 1.1640 - val_acc: 0.6093\n",
      "Epoch 33/300\n",
      "83/83 [==============================] - 31s 376ms/step - loss: 1.1649 - acc: 0.6084 - val_loss: 1.1618 - val_acc: 0.6090\n",
      "Epoch 34/300\n",
      "83/83 [==============================] - 31s 372ms/step - loss: 1.1670 - acc: 0.6152 - val_loss: 1.1577 - val_acc: 0.6098\n",
      "Epoch 35/300\n",
      "83/83 [==============================] - 30s 360ms/step - loss: 1.1451 - acc: 0.6160 - val_loss: 1.1604 - val_acc: 0.6095\n",
      "Epoch 36/300\n",
      "83/83 [==============================] - 30s 362ms/step - loss: 1.1678 - acc: 0.6099 - val_loss: 1.1626 - val_acc: 0.6089\n",
      "Epoch 37/300\n",
      "83/83 [==============================] - 30s 360ms/step - loss: 1.1678 - acc: 0.6077 - val_loss: 1.1599 - val_acc: 0.6095\n",
      "Epoch 38/300\n",
      "83/83 [==============================] - 31s 369ms/step - loss: 1.1398 - acc: 0.6205 - val_loss: 1.1549 - val_acc: 0.6104\n",
      "Epoch 39/300\n",
      "83/83 [==============================] - 30s 365ms/step - loss: 1.1508 - acc: 0.6205 - val_loss: 1.1584 - val_acc: 0.6105\n",
      "Epoch 40/300\n",
      "83/83 [==============================] - 31s 368ms/step - loss: 1.1676 - acc: 0.6069 - val_loss: 1.1554 - val_acc: 0.6099\n",
      "Epoch 41/300\n",
      "83/83 [==============================] - 30s 361ms/step - loss: 1.1501 - acc: 0.6160 - val_loss: 1.1564 - val_acc: 0.6099\n",
      "Epoch 42/300\n",
      "83/83 [==============================] - 30s 362ms/step - loss: 1.1560 - acc: 0.6137 - val_loss: 1.1624 - val_acc: 0.6103\n",
      "Epoch 43/300\n",
      "83/83 [==============================] - 31s 377ms/step - loss: 1.1500 - acc: 0.6099 - val_loss: 1.1545 - val_acc: 0.6103\n",
      "Epoch 44/300\n",
      "83/83 [==============================] - 29s 351ms/step - loss: 1.1496 - acc: 0.6175 - val_loss: 1.1567 - val_acc: 0.6104\n",
      "Epoch 45/300\n",
      "83/83 [==============================] - 28s 342ms/step - loss: 1.1561 - acc: 0.6114 - val_loss: 1.1562 - val_acc: 0.6103\n",
      "Epoch 46/300\n",
      "83/83 [==============================] - 29s 352ms/step - loss: 1.1321 - acc: 0.6182 - val_loss: 1.1530 - val_acc: 0.6094\n",
      "Epoch 47/300\n",
      "83/83 [==============================] - 29s 349ms/step - loss: 1.1371 - acc: 0.6190 - val_loss: 1.1526 - val_acc: 0.6113\n",
      "Epoch 48/300\n",
      "83/83 [==============================] - 29s 349ms/step - loss: 1.1369 - acc: 0.6152 - val_loss: 1.1524 - val_acc: 0.6110\n",
      "Epoch 49/300\n",
      "83/83 [==============================] - 29s 352ms/step - loss: 1.1482 - acc: 0.6152 - val_loss: 1.1509 - val_acc: 0.6105\n",
      "Epoch 50/300\n",
      "83/83 [==============================] - 30s 356ms/step - loss: 1.1424 - acc: 0.6190 - val_loss: 1.1469 - val_acc: 0.6109\n",
      "Epoch 51/300\n",
      "83/83 [==============================] - 28s 341ms/step - loss: 1.1425 - acc: 0.6107 - val_loss: 1.1526 - val_acc: 0.6105\n",
      "Epoch 52/300\n",
      "83/83 [==============================] - 28s 340ms/step - loss: 1.1370 - acc: 0.6212 - val_loss: 1.1549 - val_acc: 0.6097\n",
      "Epoch 53/300\n",
      "83/83 [==============================] - 28s 338ms/step - loss: 1.1416 - acc: 0.6145 - val_loss: 1.1496 - val_acc: 0.6105\n",
      "Epoch 54/300\n",
      "83/83 [==============================] - 29s 346ms/step - loss: 1.1411 - acc: 0.6152 - val_loss: 1.1511 - val_acc: 0.6102\n",
      "Epoch 55/300\n",
      "83/83 [==============================] - 29s 346ms/step - loss: 1.1359 - acc: 0.6145 - val_loss: 1.1484 - val_acc: 0.6114\n"
     ]
    },
    {
     "name": "stdout",
     "output_type": "stream",
     "text": [
      "Epoch 56/300\n",
      "83/83 [==============================] - 28s 340ms/step - loss: 1.1355 - acc: 0.6175 - val_loss: 1.1476 - val_acc: 0.6114\n",
      "Epoch 57/300\n",
      "83/83 [==============================] - 30s 356ms/step - loss: 1.1391 - acc: 0.6227 - val_loss: 1.1451 - val_acc: 0.6115\n",
      "Epoch 58/300\n",
      "83/83 [==============================] - 29s 349ms/step - loss: 1.1456 - acc: 0.6092 - val_loss: 1.1468 - val_acc: 0.6115\n",
      "Epoch 59/300\n",
      "83/83 [==============================] - 30s 357ms/step - loss: 1.1392 - acc: 0.6167 - val_loss: 1.1434 - val_acc: 0.6123\n",
      "Epoch 60/300\n",
      "83/83 [==============================] - 28s 340ms/step - loss: 1.1338 - acc: 0.6182 - val_loss: 1.1448 - val_acc: 0.6119\n",
      "Epoch 61/300\n",
      "83/83 [==============================] - 29s 344ms/step - loss: 1.1346 - acc: 0.6137 - val_loss: 1.1438 - val_acc: 0.6114\n",
      "Epoch 62/300\n",
      "83/83 [==============================] - 29s 355ms/step - loss: 1.1290 - acc: 0.6197 - val_loss: 1.1431 - val_acc: 0.6124\n",
      "Epoch 63/300\n",
      "83/83 [==============================] - 29s 354ms/step - loss: 1.1270 - acc: 0.6182 - val_loss: 1.1417 - val_acc: 0.6117\n",
      "Epoch 64/300\n",
      "83/83 [==============================] - 30s 356ms/step - loss: 1.1138 - acc: 0.6265 - val_loss: 1.1403 - val_acc: 0.6136\n",
      "Epoch 65/300\n",
      "83/83 [==============================] - 29s 346ms/step - loss: 1.1392 - acc: 0.6182 - val_loss: 1.1424 - val_acc: 0.6131\n",
      "Epoch 66/300\n",
      "83/83 [==============================] - 29s 346ms/step - loss: 1.1251 - acc: 0.6182 - val_loss: 1.1449 - val_acc: 0.6144\n",
      "Epoch 67/300\n",
      "83/83 [==============================] - 29s 346ms/step - loss: 1.1430 - acc: 0.6092 - val_loss: 1.1404 - val_acc: 0.6129\n",
      "Epoch 68/300\n",
      "83/83 [==============================] - 29s 346ms/step - loss: 1.1260 - acc: 0.6145 - val_loss: 1.1406 - val_acc: 0.6117\n",
      "Epoch 69/300\n",
      "83/83 [==============================] - 29s 353ms/step - loss: 1.1195 - acc: 0.6235 - val_loss: 1.1387 - val_acc: 0.6119\n",
      "Epoch 70/300\n",
      "83/83 [==============================] - 29s 353ms/step - loss: 1.1363 - acc: 0.6242 - val_loss: 1.1375 - val_acc: 0.6117\n",
      "Epoch 71/300\n",
      "83/83 [==============================] - 29s 344ms/step - loss: 1.1451 - acc: 0.6107 - val_loss: 1.1397 - val_acc: 0.6128\n",
      "Epoch 72/300\n",
      "83/83 [==============================] - 29s 350ms/step - loss: 1.1287 - acc: 0.6235 - val_loss: 1.1344 - val_acc: 0.6140\n",
      "Epoch 73/300\n",
      "83/83 [==============================] - 29s 352ms/step - loss: 1.1088 - acc: 0.6265 - val_loss: 1.1341 - val_acc: 0.6135\n",
      "Epoch 74/300\n",
      "83/83 [==============================] - 30s 360ms/step - loss: 1.1364 - acc: 0.6107 - val_loss: 1.1360 - val_acc: 0.6134\n",
      "Epoch 75/300\n",
      "83/83 [==============================] - 29s 349ms/step - loss: 1.1008 - acc: 0.6258 - val_loss: 1.1326 - val_acc: 0.6155\n",
      "Epoch 76/300\n",
      "83/83 [==============================] - 29s 347ms/step - loss: 1.1368 - acc: 0.6122 - val_loss: 1.1335 - val_acc: 0.6144\n",
      "Epoch 77/300\n",
      "83/83 [==============================] - 28s 343ms/step - loss: 1.1337 - acc: 0.6152 - val_loss: 1.1374 - val_acc: 0.6131\n",
      "Epoch 78/300\n",
      "83/83 [==============================] - 28s 342ms/step - loss: 1.1009 - acc: 0.6250 - val_loss: 1.1336 - val_acc: 0.6143\n",
      "Epoch 79/300\n",
      "83/83 [==============================] - 28s 342ms/step - loss: 1.1462 - acc: 0.6084 - val_loss: 1.1356 - val_acc: 0.6148\n",
      "Epoch 80/300\n",
      "83/83 [==============================] - 28s 340ms/step - loss: 1.0989 - acc: 0.6303 - val_loss: 1.1359 - val_acc: 0.6133\n",
      "Epoch 81/300\n",
      "83/83 [==============================] - 29s 350ms/step - loss: 1.1195 - acc: 0.6152 - val_loss: 1.1278 - val_acc: 0.6149\n",
      "Epoch 82/300\n",
      "83/83 [==============================] - 29s 344ms/step - loss: 1.1289 - acc: 0.6107 - val_loss: 1.1314 - val_acc: 0.6146\n",
      "Epoch 83/300\n",
      "83/83 [==============================] - 28s 341ms/step - loss: 1.1213 - acc: 0.6197 - val_loss: 1.1308 - val_acc: 0.6129\n",
      "Epoch 84/300\n",
      "83/83 [==============================] - 28s 342ms/step - loss: 1.1241 - acc: 0.6235 - val_loss: 1.1333 - val_acc: 0.6144\n",
      "Epoch 85/300\n",
      "83/83 [==============================] - 29s 350ms/step - loss: 1.0918 - acc: 0.6280 - val_loss: 1.1247 - val_acc: 0.6150\n",
      "Epoch 86/300\n",
      "83/83 [==============================] - 28s 342ms/step - loss: 1.1215 - acc: 0.6152 - val_loss: 1.1274 - val_acc: 0.6143\n",
      "Epoch 87/300\n",
      "83/83 [==============================] - 29s 349ms/step - loss: 1.1259 - acc: 0.6167 - val_loss: 1.1233 - val_acc: 0.6156\n",
      "Epoch 88/300\n",
      "83/83 [==============================] - 28s 339ms/step - loss: 1.1197 - acc: 0.6220 - val_loss: 1.1243 - val_acc: 0.6154\n",
      "Epoch 89/300\n",
      "83/83 [==============================] - 28s 341ms/step - loss: 1.0933 - acc: 0.6250 - val_loss: 1.1249 - val_acc: 0.6159\n",
      "Epoch 90/300\n",
      "83/83 [==============================] - 28s 341ms/step - loss: 1.1364 - acc: 0.6107 - val_loss: 1.1282 - val_acc: 0.6143\n",
      "Epoch 91/300\n",
      "83/83 [==============================] - 28s 339ms/step - loss: 1.1077 - acc: 0.6258 - val_loss: 1.1263 - val_acc: 0.6151\n",
      "Epoch 92/300\n",
      "83/83 [==============================] - 28s 340ms/step - loss: 1.1194 - acc: 0.6145 - val_loss: 1.1262 - val_acc: 0.6149\n",
      "Epoch 93/300\n",
      "83/83 [==============================] - 28s 343ms/step - loss: 1.0948 - acc: 0.6310 - val_loss: 1.1272 - val_acc: 0.6149\n",
      "Epoch 94/300\n",
      "83/83 [==============================] - 29s 344ms/step - loss: 1.1253 - acc: 0.6145 - val_loss: 1.1234 - val_acc: 0.6156\n",
      "Epoch 95/300\n",
      "83/83 [==============================] - 28s 340ms/step - loss: 1.1163 - acc: 0.6227 - val_loss: 1.1250 - val_acc: 0.6174\n",
      "Epoch 96/300\n",
      "83/83 [==============================] - 30s 358ms/step - loss: 1.1078 - acc: 0.6212 - val_loss: 1.1221 - val_acc: 0.6158\n",
      "Epoch 97/300\n",
      "83/83 [==============================] - 28s 338ms/step - loss: 1.1144 - acc: 0.6212 - val_loss: 1.1234 - val_acc: 0.6151\n",
      "Epoch 98/300\n",
      "83/83 [==============================] - 29s 348ms/step - loss: 1.1041 - acc: 0.6265 - val_loss: 1.1243 - val_acc: 0.6158\n",
      "Epoch 99/300\n",
      "83/83 [==============================] - 28s 340ms/step - loss: 1.1123 - acc: 0.6175 - val_loss: 1.1253 - val_acc: 0.6146\n",
      "Epoch 100/300\n",
      "83/83 [==============================] - 28s 342ms/step - loss: 1.0944 - acc: 0.6303 - val_loss: 1.1232 - val_acc: 0.6163\n",
      "Epoch 101/300\n",
      "83/83 [==============================] - 28s 341ms/step - loss: 1.1022 - acc: 0.6242 - val_loss: 1.1245 - val_acc: 0.6160\n",
      "Epoch 102/300\n",
      "83/83 [==============================] - 29s 344ms/step - loss: 1.1116 - acc: 0.6190 - val_loss: 1.1228 - val_acc: 0.6151\n",
      "Epoch 103/300\n",
      "83/83 [==============================] - 30s 360ms/step - loss: 1.1099 - acc: 0.6220 - val_loss: 1.1201 - val_acc: 0.6144\n",
      "Epoch 104/300\n",
      "83/83 [==============================] - 29s 354ms/step - loss: 1.1150 - acc: 0.6152 - val_loss: 1.1186 - val_acc: 0.6166\n",
      "Epoch 105/300\n",
      "83/83 [==============================] - 29s 350ms/step - loss: 1.0817 - acc: 0.6318 - val_loss: 1.1181 - val_acc: 0.6176\n",
      "Epoch 106/300\n",
      "83/83 [==============================] - 28s 341ms/step - loss: 1.1105 - acc: 0.6212 - val_loss: 1.1211 - val_acc: 0.6171\n",
      "Epoch 107/300\n",
      "83/83 [==============================] - 29s 346ms/step - loss: 1.0734 - acc: 0.6355 - val_loss: 1.1247 - val_acc: 0.6161\n",
      "Epoch 108/300\n",
      "83/83 [==============================] - 29s 345ms/step - loss: 1.1163 - acc: 0.6145 - val_loss: 1.1194 - val_acc: 0.6161\n",
      "Epoch 109/300\n",
      "83/83 [==============================] - 28s 340ms/step - loss: 1.1011 - acc: 0.6250 - val_loss: 1.1211 - val_acc: 0.6151\n",
      "Epoch 110/300\n",
      "83/83 [==============================] - 28s 342ms/step - loss: 1.1198 - acc: 0.6273 - val_loss: 1.1184 - val_acc: 0.6164\n",
      "Epoch 111/300\n",
      "83/83 [==============================] - 30s 357ms/step - loss: 1.1031 - acc: 0.6182 - val_loss: 1.1166 - val_acc: 0.6169\n",
      "Epoch 112/300\n",
      "83/83 [==============================] - 29s 351ms/step - loss: 1.0845 - acc: 0.6280 - val_loss: 1.1146 - val_acc: 0.6156\n",
      "Epoch 113/300\n",
      "83/83 [==============================] - 30s 359ms/step - loss: 1.1106 - acc: 0.6197 - val_loss: 1.1131 - val_acc: 0.6168\n",
      "Epoch 114/300\n",
      "83/83 [==============================] - 28s 343ms/step - loss: 1.0894 - acc: 0.6340 - val_loss: 1.1170 - val_acc: 0.6164\n",
      "Epoch 115/300\n",
      "83/83 [==============================] - 29s 352ms/step - loss: 1.0883 - acc: 0.6212 - val_loss: 1.1110 - val_acc: 0.6175\n",
      "Epoch 116/300\n"
     ]
    },
    {
     "name": "stdout",
     "output_type": "stream",
     "text": [
      "83/83 [==============================] - 29s 348ms/step - loss: 1.0925 - acc: 0.6295 - val_loss: 1.1164 - val_acc: 0.6159\n",
      "Epoch 117/300\n",
      "83/83 [==============================] - 29s 352ms/step - loss: 1.1164 - acc: 0.6190 - val_loss: 1.1181 - val_acc: 0.6186\n",
      "Epoch 118/300\n",
      "83/83 [==============================] - 28s 341ms/step - loss: 1.0808 - acc: 0.6318 - val_loss: 1.1166 - val_acc: 0.6171\n",
      "Epoch 119/300\n",
      "83/83 [==============================] - 28s 340ms/step - loss: 1.0977 - acc: 0.6152 - val_loss: 1.1149 - val_acc: 0.6156\n",
      "Epoch 120/300\n",
      "83/83 [==============================] - 28s 336ms/step - loss: 1.1115 - acc: 0.6160 - val_loss: 1.1169 - val_acc: 0.6165\n",
      "Epoch 121/300\n",
      "83/83 [==============================] - 28s 338ms/step - loss: 1.0830 - acc: 0.6310 - val_loss: 1.1112 - val_acc: 0.6178\n",
      "Epoch 122/300\n",
      "83/83 [==============================] - 28s 336ms/step - loss: 1.1265 - acc: 0.6137 - val_loss: 1.1161 - val_acc: 0.6168\n",
      "Epoch 123/300\n",
      "83/83 [==============================] - 28s 338ms/step - loss: 1.1029 - acc: 0.6242 - val_loss: 1.1159 - val_acc: 0.6165\n",
      "Epoch 124/300\n",
      "83/83 [==============================] - 29s 346ms/step - loss: 1.0831 - acc: 0.6348 - val_loss: 1.1103 - val_acc: 0.6185\n",
      "Epoch 125/300\n",
      "83/83 [==============================] - 28s 337ms/step - loss: 1.1081 - acc: 0.6197 - val_loss: 1.1106 - val_acc: 0.6170\n",
      "Epoch 126/300\n",
      "83/83 [==============================] - 29s 346ms/step - loss: 1.0857 - acc: 0.6220 - val_loss: 1.1090 - val_acc: 0.6183\n",
      "Epoch 127/300\n",
      "83/83 [==============================] - 28s 337ms/step - loss: 1.0829 - acc: 0.6273 - val_loss: 1.1102 - val_acc: 0.6161\n",
      "Epoch 128/300\n",
      "83/83 [==============================] - 28s 337ms/step - loss: 1.1073 - acc: 0.6242 - val_loss: 1.1110 - val_acc: 0.6194\n",
      "Epoch 129/300\n",
      "83/83 [==============================] - 28s 337ms/step - loss: 1.0861 - acc: 0.6340 - val_loss: 1.1169 - val_acc: 0.6158\n",
      "Epoch 130/300\n",
      "83/83 [==============================] - 28s 338ms/step - loss: 1.1214 - acc: 0.6167 - val_loss: 1.1131 - val_acc: 0.6174\n",
      "Epoch 131/300\n",
      "83/83 [==============================] - 28s 336ms/step - loss: 1.0553 - acc: 0.6416 - val_loss: 1.1091 - val_acc: 0.6176\n",
      "Epoch 132/300\n",
      "83/83 [==============================] - 28s 337ms/step - loss: 1.1092 - acc: 0.6145 - val_loss: 1.1097 - val_acc: 0.6196\n",
      "Epoch 133/300\n",
      "83/83 [==============================] - 28s 335ms/step - loss: 1.0833 - acc: 0.6310 - val_loss: 1.1115 - val_acc: 0.6158\n",
      "Epoch 134/300\n",
      "83/83 [==============================] - 28s 337ms/step - loss: 1.1023 - acc: 0.6182 - val_loss: 1.1109 - val_acc: 0.6154\n",
      "Epoch 135/300\n",
      "83/83 [==============================] - 28s 336ms/step - loss: 1.0746 - acc: 0.6295 - val_loss: 1.1103 - val_acc: 0.6179\n",
      "Epoch 136/300\n",
      "83/83 [==============================] - 29s 347ms/step - loss: 1.0916 - acc: 0.6235 - val_loss: 1.1088 - val_acc: 0.6180\n",
      "Epoch 137/300\n",
      "83/83 [==============================] - 29s 346ms/step - loss: 1.0811 - acc: 0.6235 - val_loss: 1.1082 - val_acc: 0.6189\n",
      "Epoch 138/300\n",
      "83/83 [==============================] - 54s 645ms/step - loss: 1.1013 - acc: 0.6212 - val_loss: 1.1133 - val_acc: 0.6168\n",
      "Epoch 139/300\n",
      "83/83 [==============================] - 31s 373ms/step - loss: 1.1126 - acc: 0.6130 - val_loss: 1.1060 - val_acc: 0.6198\n",
      "Epoch 140/300\n",
      "83/83 [==============================] - 38s 454ms/step - loss: 1.0663 - acc: 0.6476 - val_loss: 1.1080 - val_acc: 0.6191\n",
      "Epoch 141/300\n",
      "83/83 [==============================] - 30s 362ms/step - loss: 1.1099 - acc: 0.6160 - val_loss: 1.1110 - val_acc: 0.6164\n",
      "Epoch 142/300\n",
      "83/83 [==============================] - 31s 378ms/step - loss: 1.0643 - acc: 0.6416 - val_loss: 1.1048 - val_acc: 0.6178\n",
      "Epoch 143/300\n",
      "83/83 [==============================] - 30s 367ms/step - loss: 1.0876 - acc: 0.6303 - val_loss: 1.1078 - val_acc: 0.6186\n",
      "Epoch 144/300\n",
      "83/83 [==============================] - 30s 362ms/step - loss: 1.1009 - acc: 0.6242 - val_loss: 1.1060 - val_acc: 0.6169\n",
      "Epoch 145/300\n",
      "83/83 [==============================] - 31s 376ms/step - loss: 1.0752 - acc: 0.6333 - val_loss: 1.1040 - val_acc: 0.6183\n",
      "Epoch 146/300\n",
      "83/83 [==============================] - 30s 364ms/step - loss: 1.0698 - acc: 0.6310 - val_loss: 1.1086 - val_acc: 0.6186\n",
      "Epoch 147/300\n",
      "83/83 [==============================] - 31s 376ms/step - loss: 1.0817 - acc: 0.6303 - val_loss: 1.1016 - val_acc: 0.6173\n",
      "Epoch 148/300\n",
      "83/83 [==============================] - 30s 364ms/step - loss: 1.0785 - acc: 0.6348 - val_loss: 1.1060 - val_acc: 0.6193\n",
      "Epoch 149/300\n",
      "83/83 [==============================] - 30s 366ms/step - loss: 1.0929 - acc: 0.6220 - val_loss: 1.1076 - val_acc: 0.6188\n",
      "Epoch 150/300\n",
      "83/83 [==============================] - 30s 360ms/step - loss: 1.0654 - acc: 0.6393 - val_loss: 1.1019 - val_acc: 0.6186\n",
      "Epoch 151/300\n",
      "83/83 [==============================] - 30s 360ms/step - loss: 1.0919 - acc: 0.6258 - val_loss: 1.1019 - val_acc: 0.6204\n",
      "Epoch 152/300\n",
      "83/83 [==============================] - 30s 367ms/step - loss: 1.0490 - acc: 0.6370 - val_loss: 1.1027 - val_acc: 0.6178\n",
      "Epoch 153/300\n",
      "83/83 [==============================] - 31s 370ms/step - loss: 1.0857 - acc: 0.6303 - val_loss: 1.1074 - val_acc: 0.6191\n",
      "Epoch 154/300\n",
      "83/83 [==============================] - 30s 364ms/step - loss: 1.1093 - acc: 0.6122 - val_loss: 1.1036 - val_acc: 0.6195\n",
      "Epoch 155/300\n",
      "83/83 [==============================] - 30s 359ms/step - loss: 1.0660 - acc: 0.6378 - val_loss: 1.1021 - val_acc: 0.6203\n",
      "Epoch 156/300\n",
      "83/83 [==============================] - 31s 370ms/step - loss: 1.0798 - acc: 0.6295 - val_loss: 1.1006 - val_acc: 0.6185\n",
      "Epoch 157/300\n",
      "83/83 [==============================] - 30s 362ms/step - loss: 1.0784 - acc: 0.6227 - val_loss: 1.1016 - val_acc: 0.6203\n",
      "Epoch 158/300\n",
      "83/83 [==============================] - 30s 357ms/step - loss: 1.0676 - acc: 0.6370 - val_loss: 1.1016 - val_acc: 0.6174\n",
      "Epoch 159/300\n",
      "83/83 [==============================] - 31s 371ms/step - loss: 1.0733 - acc: 0.6280 - val_loss: 1.0982 - val_acc: 0.6190\n",
      "Epoch 160/300\n",
      "83/83 [==============================] - 29s 355ms/step - loss: 1.0615 - acc: 0.6340 - val_loss: 1.0990 - val_acc: 0.6189\n",
      "Epoch 161/300\n",
      "83/83 [==============================] - 30s 359ms/step - loss: 1.0819 - acc: 0.6220 - val_loss: 1.1038 - val_acc: 0.6174\n",
      "Epoch 162/300\n",
      "83/83 [==============================] - 30s 357ms/step - loss: 1.0854 - acc: 0.6310 - val_loss: 1.0998 - val_acc: 0.6215\n",
      "Epoch 163/300\n",
      "83/83 [==============================] - 30s 360ms/step - loss: 1.0955 - acc: 0.6242 - val_loss: 1.0987 - val_acc: 0.6210\n",
      "Epoch 164/300\n",
      "83/83 [==============================] - 30s 362ms/step - loss: 1.0688 - acc: 0.6318 - val_loss: 1.1004 - val_acc: 0.6206\n",
      "Epoch 165/300\n",
      "83/83 [==============================] - 30s 366ms/step - loss: 1.0849 - acc: 0.6265 - val_loss: 1.1023 - val_acc: 0.6205\n",
      "Epoch 166/300\n",
      "83/83 [==============================] - 30s 366ms/step - loss: 1.0649 - acc: 0.6348 - val_loss: 1.1022 - val_acc: 0.6196\n",
      "Epoch 167/300\n",
      "83/83 [==============================] - 30s 362ms/step - loss: 1.0813 - acc: 0.6235 - val_loss: 1.1019 - val_acc: 0.6176\n",
      "Epoch 168/300\n",
      "83/83 [==============================] - 31s 376ms/step - loss: 1.0585 - acc: 0.6303 - val_loss: 1.0976 - val_acc: 0.6220\n",
      "Epoch 169/300\n",
      "83/83 [==============================] - 31s 377ms/step - loss: 1.0948 - acc: 0.6197 - val_loss: 1.0971 - val_acc: 0.6223\n",
      "Epoch 170/300\n",
      "83/83 [==============================] - 31s 371ms/step - loss: 1.0630 - acc: 0.6288 - val_loss: 1.0968 - val_acc: 0.6193\n",
      "Epoch 171/300\n",
      "83/83 [==============================] - 30s 364ms/step - loss: 1.0583 - acc: 0.6393 - val_loss: 1.0993 - val_acc: 0.6218\n",
      "Epoch 172/300\n",
      "83/83 [==============================] - 30s 365ms/step - loss: 1.0784 - acc: 0.6280 - val_loss: 1.1026 - val_acc: 0.6194\n",
      "Epoch 173/300\n",
      "83/83 [==============================] - 30s 364ms/step - loss: 1.0644 - acc: 0.6363 - val_loss: 1.1014 - val_acc: 0.6185\n",
      "Epoch 174/300\n",
      "83/83 [==============================] - 30s 366ms/step - loss: 1.0545 - acc: 0.6408 - val_loss: 1.0990 - val_acc: 0.6203\n",
      "Epoch 175/300\n",
      "83/83 [==============================] - 31s 375ms/step - loss: 1.0817 - acc: 0.6175 - val_loss: 1.0931 - val_acc: 0.6220\n",
      "Epoch 176/300\n"
     ]
    },
    {
     "name": "stdout",
     "output_type": "stream",
     "text": [
      "83/83 [==============================] - 30s 364ms/step - loss: 1.0877 - acc: 0.6280 - val_loss: 1.0953 - val_acc: 0.6229\n",
      "Epoch 177/300\n",
      "83/83 [==============================] - 30s 362ms/step - loss: 1.0741 - acc: 0.6333 - val_loss: 1.0962 - val_acc: 0.6213\n",
      "Epoch 178/300\n",
      "83/83 [==============================] - 30s 362ms/step - loss: 1.0721 - acc: 0.6250 - val_loss: 1.0950 - val_acc: 0.6200\n",
      "Epoch 179/300\n",
      "83/83 [==============================] - 30s 360ms/step - loss: 1.0459 - acc: 0.6416 - val_loss: 1.0942 - val_acc: 0.6224\n",
      "Epoch 180/300\n",
      "83/83 [==============================] - 30s 365ms/step - loss: 1.0819 - acc: 0.6295 - val_loss: 1.0965 - val_acc: 0.6208\n",
      "Epoch 181/300\n",
      "83/83 [==============================] - 30s 362ms/step - loss: 1.0647 - acc: 0.6258 - val_loss: 1.0978 - val_acc: 0.6211\n",
      "Epoch 182/300\n",
      "83/83 [==============================] - 31s 373ms/step - loss: 1.0698 - acc: 0.6295 - val_loss: 1.0930 - val_acc: 0.6230\n",
      "Epoch 183/300\n",
      "83/83 [==============================] - 31s 371ms/step - loss: 1.0612 - acc: 0.6378 - val_loss: 1.0918 - val_acc: 0.6230\n",
      "Epoch 184/300\n",
      "83/83 [==============================] - 30s 358ms/step - loss: 1.0749 - acc: 0.6295 - val_loss: 1.0948 - val_acc: 0.6224\n",
      "Epoch 185/300\n",
      "83/83 [==============================] - 30s 359ms/step - loss: 1.0504 - acc: 0.6393 - val_loss: 1.0933 - val_acc: 0.6219\n",
      "Epoch 186/300\n",
      "83/83 [==============================] - 31s 369ms/step - loss: 1.0690 - acc: 0.6318 - val_loss: 1.0909 - val_acc: 0.6234\n",
      "Epoch 187/300\n",
      "83/83 [==============================] - 30s 361ms/step - loss: 1.0689 - acc: 0.6348 - val_loss: 1.0932 - val_acc: 0.6191\n",
      "Epoch 188/300\n",
      "83/83 [==============================] - 31s 373ms/step - loss: 1.0663 - acc: 0.6333 - val_loss: 1.0908 - val_acc: 0.6220\n",
      "Epoch 189/300\n",
      "83/83 [==============================] - 30s 359ms/step - loss: 1.0686 - acc: 0.6273 - val_loss: 1.0913 - val_acc: 0.6205\n",
      "Epoch 190/300\n",
      "83/83 [==============================] - 30s 362ms/step - loss: 1.0640 - acc: 0.6363 - val_loss: 1.0921 - val_acc: 0.6215\n",
      "Epoch 191/300\n",
      "83/83 [==============================] - 30s 359ms/step - loss: 1.0758 - acc: 0.6288 - val_loss: 1.0926 - val_acc: 0.6205\n",
      "Epoch 192/300\n",
      "83/83 [==============================] - 31s 372ms/step - loss: 1.0623 - acc: 0.6363 - val_loss: 1.0902 - val_acc: 0.6221\n",
      "Epoch 193/300\n",
      "83/83 [==============================] - 31s 368ms/step - loss: 1.0766 - acc: 0.6258 - val_loss: 1.0891 - val_acc: 0.6211\n",
      "Epoch 194/300\n",
      "83/83 [==============================] - 29s 355ms/step - loss: 1.0474 - acc: 0.6401 - val_loss: 1.0942 - val_acc: 0.6216\n",
      "Epoch 195/300\n",
      "83/83 [==============================] - 30s 356ms/step - loss: 1.0926 - acc: 0.6220 - val_loss: 1.0914 - val_acc: 0.6236\n",
      "Epoch 196/300\n",
      "83/83 [==============================] - 30s 363ms/step - loss: 1.0502 - acc: 0.6386 - val_loss: 1.0917 - val_acc: 0.6228\n",
      "Epoch 197/300\n",
      "83/83 [==============================] - 30s 356ms/step - loss: 1.0686 - acc: 0.6235 - val_loss: 1.0907 - val_acc: 0.6209\n",
      "Epoch 198/300\n",
      "83/83 [==============================] - 30s 359ms/step - loss: 1.0583 - acc: 0.6355 - val_loss: 1.0894 - val_acc: 0.6209\n",
      "Epoch 199/300\n",
      "83/83 [==============================] - 30s 361ms/step - loss: 1.0694 - acc: 0.6378 - val_loss: 1.0920 - val_acc: 0.6216\n",
      "Epoch 200/300\n",
      "83/83 [==============================] - 30s 367ms/step - loss: 1.0464 - acc: 0.6333 - val_loss: 1.0889 - val_acc: 0.6204\n",
      "Epoch 201/300\n",
      "83/83 [==============================] - 30s 358ms/step - loss: 1.0441 - acc: 0.6303 - val_loss: 1.0899 - val_acc: 0.6239\n",
      "Epoch 202/300\n",
      "83/83 [==============================] - 30s 360ms/step - loss: 1.0740 - acc: 0.6288 - val_loss: 1.0913 - val_acc: 0.6213\n",
      "Epoch 203/300\n",
      "83/83 [==============================] - 30s 359ms/step - loss: 1.0561 - acc: 0.6363 - val_loss: 1.0893 - val_acc: 0.6211\n",
      "Epoch 204/300\n",
      "83/83 [==============================] - 31s 375ms/step - loss: 1.0601 - acc: 0.6333 - val_loss: 1.0886 - val_acc: 0.6190\n",
      "Epoch 205/300\n",
      "83/83 [==============================] - 30s 357ms/step - loss: 1.0535 - acc: 0.6370 - val_loss: 1.0900 - val_acc: 0.6219\n",
      "Epoch 206/300\n",
      "83/83 [==============================] - 30s 357ms/step - loss: 1.0720 - acc: 0.6340 - val_loss: 1.0893 - val_acc: 0.6214\n",
      "Epoch 207/300\n",
      "83/83 [==============================] - 31s 370ms/step - loss: 1.0722 - acc: 0.6265 - val_loss: 1.0876 - val_acc: 0.6206\n",
      "Epoch 208/300\n",
      "83/83 [==============================] - 30s 359ms/step - loss: 1.0483 - acc: 0.6333 - val_loss: 1.0895 - val_acc: 0.6218\n",
      "Epoch 209/300\n",
      "83/83 [==============================] - 30s 359ms/step - loss: 1.0635 - acc: 0.6378 - val_loss: 1.0914 - val_acc: 0.6221\n",
      "Epoch 210/300\n",
      "83/83 [==============================] - 31s 377ms/step - loss: 1.0732 - acc: 0.6295 - val_loss: 1.0859 - val_acc: 0.6225\n",
      "Epoch 211/300\n",
      "83/83 [==============================] - 30s 363ms/step - loss: 1.0331 - acc: 0.6423 - val_loss: 1.0866 - val_acc: 0.6250\n",
      "Epoch 212/300\n",
      "83/83 [==============================] - 30s 360ms/step - loss: 1.0567 - acc: 0.6340 - val_loss: 1.0890 - val_acc: 0.6198\n",
      "Epoch 213/300\n",
      "83/83 [==============================] - 30s 361ms/step - loss: 1.0735 - acc: 0.6273 - val_loss: 1.0910 - val_acc: 0.6210\n",
      "Epoch 214/300\n",
      "83/83 [==============================] - 30s 361ms/step - loss: 1.0682 - acc: 0.6318 - val_loss: 1.0870 - val_acc: 0.6228\n",
      "Epoch 215/300\n",
      "83/83 [==============================] - 30s 359ms/step - loss: 1.0419 - acc: 0.6416 - val_loss: 1.0869 - val_acc: 0.6183\n",
      "Epoch 216/300\n",
      "83/83 [==============================] - 30s 356ms/step - loss: 1.0690 - acc: 0.6340 - val_loss: 1.0889 - val_acc: 0.6221\n",
      "Epoch 217/300\n",
      "83/83 [==============================] - 30s 360ms/step - loss: 1.0431 - acc: 0.6416 - val_loss: 1.0870 - val_acc: 0.6243\n",
      "Epoch 218/300\n",
      "83/83 [==============================] - 30s 359ms/step - loss: 1.0511 - acc: 0.6355 - val_loss: 1.0923 - val_acc: 0.6224\n",
      "Epoch 219/300\n",
      "83/83 [==============================] - 30s 358ms/step - loss: 1.0587 - acc: 0.6303 - val_loss: 1.0881 - val_acc: 0.6223\n",
      "Epoch 220/300\n",
      "83/83 [==============================] - 30s 359ms/step - loss: 1.0323 - acc: 0.6401 - val_loss: 1.0900 - val_acc: 0.6224\n",
      "Epoch 221/300\n",
      "83/83 [==============================] - 30s 359ms/step - loss: 1.0591 - acc: 0.6401 - val_loss: 1.0868 - val_acc: 0.6233\n",
      "Epoch 222/300\n",
      "83/83 [==============================] - 30s 367ms/step - loss: 1.0806 - acc: 0.6167 - val_loss: 1.0856 - val_acc: 0.6201\n",
      "Epoch 223/300\n",
      "83/83 [==============================] - 30s 360ms/step - loss: 1.0626 - acc: 0.6295 - val_loss: 1.0864 - val_acc: 0.6229\n",
      "Epoch 224/300\n",
      "83/83 [==============================] - 30s 362ms/step - loss: 1.0442 - acc: 0.6438 - val_loss: 1.0886 - val_acc: 0.6236\n",
      "Epoch 225/300\n",
      "83/83 [==============================] - 30s 357ms/step - loss: 1.0750 - acc: 0.6242 - val_loss: 1.0904 - val_acc: 0.6226\n",
      "Epoch 226/300\n",
      "83/83 [==============================] - 31s 368ms/step - loss: 1.0455 - acc: 0.6431 - val_loss: 1.0841 - val_acc: 0.6219\n",
      "Epoch 227/300\n",
      "83/83 [==============================] - 30s 359ms/step - loss: 1.0805 - acc: 0.6235 - val_loss: 1.0912 - val_acc: 0.6216\n",
      "Epoch 228/300\n",
      "83/83 [==============================] - 30s 359ms/step - loss: 1.0180 - acc: 0.6453 - val_loss: 1.0908 - val_acc: 0.6231\n",
      "Epoch 229/300\n",
      "83/83 [==============================] - 30s 361ms/step - loss: 1.0701 - acc: 0.6333 - val_loss: 1.0898 - val_acc: 0.6219\n",
      "Epoch 230/300\n",
      "83/83 [==============================] - 31s 371ms/step - loss: 1.0602 - acc: 0.6348 - val_loss: 1.0840 - val_acc: 0.6240\n",
      "Epoch 231/300\n",
      "83/83 [==============================] - 30s 361ms/step - loss: 1.0618 - acc: 0.6295 - val_loss: 1.0861 - val_acc: 0.6208\n",
      "Epoch 232/300\n",
      "83/83 [==============================] - 30s 363ms/step - loss: 1.0498 - acc: 0.6401 - val_loss: 1.0894 - val_acc: 0.6205\n",
      "Epoch 233/300\n",
      "83/83 [==============================] - 31s 369ms/step - loss: 1.0539 - acc: 0.6348 - val_loss: 1.0823 - val_acc: 0.6235\n",
      "Epoch 234/300\n",
      "83/83 [==============================] - 30s 361ms/step - loss: 1.0582 - acc: 0.6363 - val_loss: 1.0848 - val_acc: 0.6223\n",
      "Epoch 235/300\n",
      "83/83 [==============================] - 32s 380ms/step - loss: 1.0446 - acc: 0.6363 - val_loss: 1.0853 - val_acc: 0.6245\n",
      "Epoch 236/300\n"
     ]
    },
    {
     "name": "stdout",
     "output_type": "stream",
     "text": [
      "83/83 [==============================] - 32s 384ms/step - loss: 1.0745 - acc: 0.6295 - val_loss: 1.0857 - val_acc: 0.6219\n",
      "Epoch 237/300\n",
      "83/83 [==============================] - 32s 381ms/step - loss: 1.0366 - acc: 0.6423 - val_loss: 1.0829 - val_acc: 0.6220\n",
      "Epoch 238/300\n",
      "83/83 [==============================] - 32s 386ms/step - loss: 1.0444 - acc: 0.6325 - val_loss: 1.0870 - val_acc: 0.6216\n",
      "Epoch 239/300\n",
      "83/83 [==============================] - 32s 380ms/step - loss: 1.0612 - acc: 0.6370 - val_loss: 1.0833 - val_acc: 0.6220\n",
      "Epoch 240/300\n",
      "83/83 [==============================] - 30s 362ms/step - loss: 1.0710 - acc: 0.6265 - val_loss: 1.0826 - val_acc: 0.6239\n",
      "Epoch 241/300\n",
      "83/83 [==============================] - 30s 366ms/step - loss: 1.0391 - acc: 0.6491 - val_loss: 1.0803 - val_acc: 0.6238\n",
      "Epoch 242/300\n",
      "83/83 [==============================] - 30s 362ms/step - loss: 1.0432 - acc: 0.6348 - val_loss: 1.0828 - val_acc: 0.6241\n",
      "Epoch 243/300\n",
      "83/83 [==============================] - 30s 358ms/step - loss: 1.0642 - acc: 0.6295 - val_loss: 1.0831 - val_acc: 0.6264\n",
      "Epoch 244/300\n",
      "83/83 [==============================] - 30s 363ms/step - loss: 1.0469 - acc: 0.6340 - val_loss: 1.0886 - val_acc: 0.6221\n",
      "Epoch 245/300\n",
      "83/83 [==============================] - 30s 360ms/step - loss: 1.0607 - acc: 0.6265 - val_loss: 1.0827 - val_acc: 0.6241\n",
      "Epoch 246/300\n",
      "83/83 [==============================] - 30s 358ms/step - loss: 1.0328 - acc: 0.6438 - val_loss: 1.0811 - val_acc: 0.6239\n",
      "Epoch 247/300\n",
      "83/83 [==============================] - 30s 357ms/step - loss: 1.0439 - acc: 0.6370 - val_loss: 1.0833 - val_acc: 0.6241\n",
      "Epoch 248/300\n",
      "83/83 [==============================] - 30s 359ms/step - loss: 1.0748 - acc: 0.6310 - val_loss: 1.0816 - val_acc: 0.6240\n",
      "Epoch 249/300\n",
      "83/83 [==============================] - 30s 358ms/step - loss: 1.0416 - acc: 0.6476 - val_loss: 1.0831 - val_acc: 0.6225\n",
      "Epoch 250/300\n",
      "83/83 [==============================] - 30s 363ms/step - loss: 1.0640 - acc: 0.6258 - val_loss: 1.0814 - val_acc: 0.6243\n",
      "Epoch 251/300\n",
      "83/83 [==============================] - 30s 367ms/step - loss: 1.0386 - acc: 0.6401 - val_loss: 1.0801 - val_acc: 0.6213\n",
      "Epoch 252/300\n",
      "83/83 [==============================] - 29s 355ms/step - loss: 1.0540 - acc: 0.6280 - val_loss: 1.0840 - val_acc: 0.6224\n",
      "Epoch 253/300\n",
      "83/83 [==============================] - 30s 357ms/step - loss: 1.0387 - acc: 0.6370 - val_loss: 1.0823 - val_acc: 0.6243\n",
      "Epoch 254/300\n",
      "83/83 [==============================] - 30s 358ms/step - loss: 1.0631 - acc: 0.6295 - val_loss: 1.0832 - val_acc: 0.6245\n",
      "Epoch 255/300\n",
      "83/83 [==============================] - 30s 364ms/step - loss: 1.0401 - acc: 0.6310 - val_loss: 1.0859 - val_acc: 0.6239\n",
      "Epoch 256/300\n",
      "83/83 [==============================] - 30s 367ms/step - loss: 1.0394 - acc: 0.6483 - val_loss: 1.0793 - val_acc: 0.6256\n",
      "Epoch 257/300\n",
      "83/83 [==============================] - 30s 357ms/step - loss: 1.0567 - acc: 0.6295 - val_loss: 1.0838 - val_acc: 0.6220\n",
      "Epoch 258/300\n",
      "83/83 [==============================] - 30s 358ms/step - loss: 1.0323 - acc: 0.6431 - val_loss: 1.0811 - val_acc: 0.6204\n",
      "Epoch 259/300\n",
      "83/83 [==============================] - 29s 355ms/step - loss: 1.0734 - acc: 0.6242 - val_loss: 1.0835 - val_acc: 0.6265\n",
      "Epoch 260/300\n",
      "83/83 [==============================] - 30s 359ms/step - loss: 1.0299 - acc: 0.6476 - val_loss: 1.0804 - val_acc: 0.6226\n",
      "Epoch 261/300\n",
      "83/83 [==============================] - 30s 356ms/step - loss: 1.0615 - acc: 0.6288 - val_loss: 1.0812 - val_acc: 0.6251\n",
      "Epoch 262/300\n",
      "83/83 [==============================] - 30s 363ms/step - loss: 1.0521 - acc: 0.6378 - val_loss: 1.0861 - val_acc: 0.6215\n",
      "Epoch 263/300\n",
      "83/83 [==============================] - 30s 357ms/step - loss: 1.0319 - acc: 0.6431 - val_loss: 1.0822 - val_acc: 0.6205\n",
      "Epoch 264/300\n",
      "83/83 [==============================] - 30s 356ms/step - loss: 1.0427 - acc: 0.6355 - val_loss: 1.0826 - val_acc: 0.6246\n",
      "Epoch 265/300\n",
      "83/83 [==============================] - 31s 376ms/step - loss: 1.0562 - acc: 0.6333 - val_loss: 1.0784 - val_acc: 0.6231\n",
      "Epoch 266/300\n",
      "83/83 [==============================] - 30s 363ms/step - loss: 1.0374 - acc: 0.6333 - val_loss: 1.0837 - val_acc: 0.6231\n",
      "Epoch 267/300\n",
      "83/83 [==============================] - 30s 357ms/step - loss: 1.0501 - acc: 0.6386 - val_loss: 1.0834 - val_acc: 0.6246\n",
      "Epoch 268/300\n",
      "83/83 [==============================] - 30s 358ms/step - loss: 1.0542 - acc: 0.6393 - val_loss: 1.0814 - val_acc: 0.6223\n",
      "Epoch 269/300\n",
      "83/83 [==============================] - 30s 356ms/step - loss: 1.0523 - acc: 0.6363 - val_loss: 1.0804 - val_acc: 0.6218\n",
      "Epoch 270/300\n",
      "83/83 [==============================] - 31s 375ms/step - loss: 1.0409 - acc: 0.6370 - val_loss: 1.0762 - val_acc: 0.6256\n",
      "Epoch 271/300\n",
      "83/83 [==============================] - 30s 357ms/step - loss: 1.0448 - acc: 0.6393 - val_loss: 1.0799 - val_acc: 0.6214\n",
      "Epoch 272/300\n",
      "83/83 [==============================] - 30s 363ms/step - loss: 1.0272 - acc: 0.6431 - val_loss: 1.0780 - val_acc: 0.6252\n",
      "Epoch 273/300\n",
      "83/83 [==============================] - 28s 340ms/step - loss: 1.0570 - acc: 0.6273 - val_loss: 1.0850 - val_acc: 0.6224\n",
      "Epoch 274/300\n",
      "83/83 [==============================] - 29s 346ms/step - loss: 1.0425 - acc: 0.6416 - val_loss: 1.0787 - val_acc: 0.6229\n",
      "Epoch 275/300\n",
      "83/83 [==============================] - 28s 337ms/step - loss: 1.0560 - acc: 0.6363 - val_loss: 1.0808 - val_acc: 0.6238\n",
      "Epoch 276/300\n",
      "83/83 [==============================] - 29s 345ms/step - loss: 1.0571 - acc: 0.6250 - val_loss: 1.0798 - val_acc: 0.6215\n",
      "Epoch 277/300\n",
      "83/83 [==============================] - 28s 342ms/step - loss: 1.0524 - acc: 0.6416 - val_loss: 1.0776 - val_acc: 0.6239\n",
      "Epoch 278/300\n",
      "83/83 [==============================] - 28s 339ms/step - loss: 1.0311 - acc: 0.6393 - val_loss: 1.0807 - val_acc: 0.6213\n",
      "Epoch 279/300\n",
      "83/83 [==============================] - 28s 343ms/step - loss: 1.0220 - acc: 0.6431 - val_loss: 1.0838 - val_acc: 0.6233\n",
      "Epoch 280/300\n",
      "83/83 [==============================] - 29s 345ms/step - loss: 1.0700 - acc: 0.6273 - val_loss: 1.0801 - val_acc: 0.6267\n",
      "Epoch 281/300\n",
      "83/83 [==============================] - 28s 338ms/step - loss: 1.0476 - acc: 0.6401 - val_loss: 1.0814 - val_acc: 0.6249\n",
      "Epoch 282/300\n",
      "83/83 [==============================] - 28s 342ms/step - loss: 1.0203 - acc: 0.6506 - val_loss: 1.0781 - val_acc: 0.6251\n",
      "Epoch 283/300\n",
      "83/83 [==============================] - 28s 341ms/step - loss: 1.0422 - acc: 0.6408 - val_loss: 1.0780 - val_acc: 0.6240\n",
      "Epoch 284/300\n",
      "83/83 [==============================] - 28s 337ms/step - loss: 1.0587 - acc: 0.6273 - val_loss: 1.0772 - val_acc: 0.6244\n",
      "Epoch 285/300\n",
      "83/83 [==============================] - ETA: 0s - loss: 1.0263 - acc: 0.6521Restoring model weights from the end of the best epoch.\n",
      "83/83 [==============================] - 28s 343ms/step - loss: 1.0263 - acc: 0.6521 - val_loss: 1.0783 - val_acc: 0.6241\n",
      "Epoch 00285: early stopping\n"
     ]
    }
   ],
   "source": [
    "%%time\n",
    "# get model and compile\n",
    "tf.keras.backend.clear_session()\n",
    "full_trainable_model = get_classifier()\n",
    "full_trainable_model.summary()\n",
    "for l in full_trainable_model.layers:\n",
    "    print(l.name, l.trainable)\n",
    "print()\n",
    "    \n",
    "early_stopper = tf.keras.callbacks.EarlyStopping(monitor=\"val_loss\", \n",
    "                                                 patience=patience, \n",
    "                                                 verbose=2, \n",
    "                                                 restore_best_weights=True)\n",
    "\n",
    "checkpoint = tf.keras.callbacks.ModelCheckpoint(filepath=\"swav_finetuning.h5\", \n",
    "                                                monitor='val_loss', \n",
    "                                                save_best_only=True)\n",
    "\n",
    "# train                                              \n",
    "history = full_trainable_model.fit(training_ds,\n",
    "                                   validation_data=(testing_ds),\n",
    "                                   epochs=epochs*3,\n",
    "                                   callbacks=[early_stopper, checkpoint],\n",
    "                                   steps_per_epoch=NUM_TRAINING_IMAGES // BATCH_SIZE, \n",
    "                                   validation_steps=NUM_VALIDATION_IMAGES // BATCH_SIZE,\n",
    "                                  )"
   ]
  },
  {
   "cell_type": "code",
   "execution_count": 32,
   "metadata": {
    "ExecuteTime": {
     "end_time": "2020-12-16T09:06:38.461296Z",
     "start_time": "2020-12-16T09:06:37.736866Z"
    },
    "execution": {
     "iopub.execute_input": "2020-12-15T06:06:28.345039Z",
     "iopub.status.busy": "2020-12-15T06:06:28.344128Z",
     "iopub.status.idle": "2020-12-15T06:06:28.675767Z",
     "shell.execute_reply": "2020-12-15T06:06:28.675076Z"
    },
    "papermill": {
     "duration": 1.789426,
     "end_time": "2020-12-15T06:06:28.675889",
     "exception": false,
     "start_time": "2020-12-15T06:06:26.886463",
     "status": "completed"
    },
    "tags": []
   },
   "outputs": [
    {
     "data": {
      "text/plain": [
       "<AxesSubplot:>"
      ]
     },
     "execution_count": 32,
     "metadata": {},
     "output_type": "execute_result"
    },
    {
     "data": {
      "image/png": "[encoded data removed]",
      "text/plain": [
       "<Figure size 432x288 with 1 Axes>"
      ]
     },
     "metadata": {
      "needs_background": "light"
     },
     "output_type": "display_data"
    },
    {
     "data": {
      "image/png": "[encoded data removed]",
      "text/plain": [
       "<Figure size 432x288 with 1 Axes>"
      ]
     },
     "metadata": {
      "needs_background": "light"
     },
     "output_type": "display_data"
    }
   ],
   "source": [
    "history_frame = pd.DataFrame(history.history)\n",
    "history_frame.loc[:, ['loss', 'val_loss']].plot()\n",
    "history_frame.loc[:, ['acc', 'val_acc']].plot()"
   ]
  },
  {
   "cell_type": "code",
   "execution_count": 33,
   "metadata": {
    "ExecuteTime": {
     "end_time": "2020-12-16T09:06:57.792581Z",
     "start_time": "2020-12-16T09:06:38.463296Z"
    },
    "execution": {
     "iopub.execute_input": "2020-12-15T06:06:31.870679Z",
     "iopub.status.busy": "2020-12-15T06:06:31.869834Z",
     "iopub.status.idle": "2020-12-15T06:07:03.429982Z",
     "shell.execute_reply": "2020-12-15T06:07:03.429315Z"
    },
    "papermill": {
     "duration": 33.302814,
     "end_time": "2020-12-15T06:07:03.430096",
     "exception": false,
     "start_time": "2020-12-15T06:06:30.127282",
     "status": "completed"
    },
    "tags": []
   },
   "outputs": [
    {
     "name": "stdout",
     "output_type": "stream",
     "text": [
      "502/502 [==============================] - 19s 38ms/step - loss: 1.0803 - acc: 0.6245\n"
     ]
    }
   ],
   "source": [
    "loss, acc = full_trainable_model.evaluate(testing_ds)"
   ]
  },
  {
   "cell_type": "code",
   "execution_count": null,
   "metadata": {
    "ExecuteTime": {
     "end_time": "2020-12-16T09:10:36.343042Z",
     "start_time": "2020-12-16T09:10:36.338036Z"
    }
   },
   "outputs": [],
   "source": []
  },
  {
   "cell_type": "markdown",
   "metadata": {},
   "source": [
    "# 1%のラベル付きデータだけでFine Tuning"
   ]
  },
  {
   "cell_type": "code",
   "execution_count": 16,
   "metadata": {
    "ExecuteTime": {
     "end_time": "2020-12-16T09:19:15.783521Z",
     "start_time": "2020-12-16T09:19:15.688542Z"
    }
   },
   "outputs": [
    {
     "data": {
      "text/html": [
       "<div>\n",
       "<style scoped>\n",
       "    .dataframe tbody tr th:only-of-type {\n",
       "        vertical-align: middle;\n",
       "    }\n",
       "\n",
       "    .dataframe tbody tr th {\n",
       "        vertical-align: top;\n",
       "    }\n",
       "\n",
       "    .dataframe thead th {\n",
       "        text-align: right;\n",
       "    }\n",
       "</style>\n",
       "<table border=\"1\" class=\"dataframe\">\n",
       "  <thead>\n",
       "    <tr style=\"text-align: right;\">\n",
       "      <th></th>\n",
       "      <th>image_id</th>\n",
       "      <th>label</th>\n",
       "      <th>fold</th>\n",
       "      <th>filepath</th>\n",
       "    </tr>\n",
       "  </thead>\n",
       "  <tbody>\n",
       "    <tr>\n",
       "      <th>0</th>\n",
       "      <td>1000015157.jpg</td>\n",
       "      <td>0</td>\n",
       "      <td>67.0</td>\n",
       "      <td>C:\\Users\\81908\\jupyter_notebook\\pytorch_lightn...</td>\n",
       "    </tr>\n",
       "    <tr>\n",
       "      <th>1</th>\n",
       "      <td>1000201771.jpg</td>\n",
       "      <td>3</td>\n",
       "      <td>55.0</td>\n",
       "      <td>C:\\Users\\81908\\jupyter_notebook\\pytorch_lightn...</td>\n",
       "    </tr>\n",
       "    <tr>\n",
       "      <th>2</th>\n",
       "      <td>100042118.jpg</td>\n",
       "      <td>1</td>\n",
       "      <td>48.0</td>\n",
       "      <td>C:\\Users\\81908\\jupyter_notebook\\pytorch_lightn...</td>\n",
       "    </tr>\n",
       "    <tr>\n",
       "      <th>3</th>\n",
       "      <td>1000723321.jpg</td>\n",
       "      <td>1</td>\n",
       "      <td>34.0</td>\n",
       "      <td>C:\\Users\\81908\\jupyter_notebook\\pytorch_lightn...</td>\n",
       "    </tr>\n",
       "    <tr>\n",
       "      <th>4</th>\n",
       "      <td>1000812911.jpg</td>\n",
       "      <td>3</td>\n",
       "      <td>57.0</td>\n",
       "      <td>C:\\Users\\81908\\jupyter_notebook\\pytorch_lightn...</td>\n",
       "    </tr>\n",
       "  </tbody>\n",
       "</table>\n",
       "</div>"
      ],
      "text/plain": [
       "         image_id  label  fold  \\\n",
       "0  1000015157.jpg      0  67.0   \n",
       "1  1000201771.jpg      3  55.0   \n",
       "2   100042118.jpg      1  48.0   \n",
       "3  1000723321.jpg      1  34.0   \n",
       "4  1000812911.jpg      3  57.0   \n",
       "\n",
       "                                            filepath  \n",
       "0  C:\\Users\\81908\\jupyter_notebook\\pytorch_lightn...  \n",
       "1  C:\\Users\\81908\\jupyter_notebook\\pytorch_lightn...  \n",
       "2  C:\\Users\\81908\\jupyter_notebook\\pytorch_lightn...  \n",
       "3  C:\\Users\\81908\\jupyter_notebook\\pytorch_lightn...  \n",
       "4  C:\\Users\\81908\\jupyter_notebook\\pytorch_lightn...  "
      ]
     },
     "metadata": {},
     "output_type": "display_data"
    },
    {
     "name": "stdout",
     "output_type": "stream",
     "text": [
      "train_df Class distribution per fold.\n",
      " 3    132\n",
      "4     25\n",
      "2     24\n",
      "1     22\n",
      "0     11\n",
      "Name: label, dtype: int64\n",
      "\n",
      "validation_df Class distribution per fold.\n",
      " 3    4598\n",
      "4     907\n",
      "2     840\n",
      "1     770\n",
      "0     372\n",
      "Name: label, dtype: int64\n",
      "C:\\Users\\81908\\jupyter_notebook\\pytorch_lightning_work\\kaggle_Cassava\\input\\cassava-leaf-disease-classification\\train_images\\1000015157.jpg\n"
     ]
    }
   ],
   "source": [
    "import numpy as np\n",
    "import pandas as pd\n",
    "from sklearn.model_selection import StratifiedKFold\n",
    "\n",
    "df = pd.read_csv(r'C:\\Users\\81908\\jupyter_notebook\\pytorch_lightning_work\\kaggle_Cassava\\input\\cassava-leaf-disease-classification\\train.csv')\n",
    "\n",
    "n_splits = 100\n",
    "\n",
    "skf = StratifiedKFold(n_splits=n_splits, shuffle=True, random_state=42)\n",
    "    \n",
    "for fold, (trn_idx, val_idx) in enumerate(skf.split(np.arange(df.shape[0]), df.label.values)):\n",
    "    df.loc[df.iloc[val_idx].index, 'fold'] = fold\n",
    "\n",
    "#df[\"filepath\"] = f\"../input/cassava-leaf-disease-classification/train_images/\" + df[\"image_id\"]\n",
    "_dir = \"C:\\\\Users\\\\81908\\\\jupyter_notebook\\\\pytorch_lightning_work\\\\kaggle_Cassava\\\\input\\\\cassava-leaf-disease-classification\\\\train_images\\\\\"\n",
    "df[\"filepath\"] =  _dir + df[\"image_id\"] #[os.path.join(_dir, p) for p in df[\"image_id\"]]\n",
    "display(df.head())\n",
    "\n",
    "train_df = df[df[\"fold\"] == 0]\n",
    "print('train_df Class distribution per fold.\\n', train_df['label'].value_counts())\n",
    "\n",
    "print()\n",
    "\n",
    "val35per = list(range(65,100))\n",
    "validation_df = df[df[\"fold\"].isin(val35per)]\n",
    "print('validation_df Class distribution per fold.\\n', validation_df['label'].value_counts())\n",
    "\n",
    "TRAINING_FILENAMES = train_df[\"filepath\"]\n",
    "VALID_FILENAMES = validation_df[\"filepath\"]\n",
    "NUM_TRAINING_IMAGES = len(TRAINING_FILENAMES)\n",
    "NUM_VALIDATION_IMAGES = len(VALID_FILENAMES)\n",
    "\n",
    "print(df[\"filepath\"][0])"
   ]
  },
  {
   "cell_type": "code",
   "execution_count": 17,
   "metadata": {
    "ExecuteTime": {
     "end_time": "2020-12-16T09:19:22.018741Z",
     "start_time": "2020-12-16T09:19:21.859414Z"
    }
   },
   "outputs": [],
   "source": [
    "@tf.function\n",
    "def load_image_and_label_from_path(image_path, label):\n",
    "    img = tf.io.read_file(image_path)  # 画像パスロード\n",
    "    img = tf.image.decode_jpeg(img, channels=3)  # jpegファイルロード\n",
    "    img = tf.cast(img, tf.float32) / 255.0  # 正規化\n",
    "    img = tf.image.resize(img, (224, 224)) # Resizing\n",
    "    return img, tf.cast(label, tf.int32)  # ラベルもtf型に変換\n",
    "\n",
    "@tf.function\n",
    "def load_image_and_label_from_path_augment(image_path, label):\n",
    "    img = tf.io.read_file(image_path)  # 画像パスロード\n",
    "    img = tf.image.decode_jpeg(img, channels=3)  # jpegファイルロード\n",
    "    img = tf.cast(img, tf.float32) / 255.0  # 正規化\n",
    "    img, label = scale_image(img, label)\n",
    "    img = random_apply(tf.image.random_flip_left_right, img, p=0.5)\n",
    "    img, label = random_resize_crop(img, label)\n",
    "    return img, tf.cast(label, tf.int32)  # ラベルもtf型に変換\n",
    "\n",
    "# Seriesからtf.data.Datasetに変換\n",
    "training_data = tf.data.Dataset.from_tensor_slices((train_df.filepath.values, train_df.label.values))\n",
    "validation_data = tf.data.Dataset.from_tensor_slices((validation_df.filepath.values, validation_df.label.values))\n",
    "\n",
    "AUTO = tf.data.experimental.AUTOTUNE\n",
    "\n",
    "training_ds = (\n",
    "    training_data\n",
    "    .map(load_image_and_label_from_path_augment, num_parallel_calls=AUTO)\n",
    "    .repeat()\n",
    "    .shuffle(buffer_size=32)\n",
    "    .batch(BATCH_SIZE)\n",
    "    .prefetch(buffer_size=AUTO)\n",
    ")\n",
    "training_ds.with_options(options)\n",
    "\n",
    "testing_ds = (\n",
    "    validation_data\n",
    "    .map(load_image_and_label_from_path, num_parallel_calls=AUTO)\n",
    "    .batch(BATCH_SIZE)\n",
    "    .prefetch(buffer_size=AUTO)\n",
    ")"
   ]
  },
  {
   "cell_type": "markdown",
   "metadata": {},
   "source": [
    "## 1.SwAVの重み固定して学習"
   ]
  },
  {
   "cell_type": "code",
   "execution_count": 18,
   "metadata": {
    "ExecuteTime": {
     "end_time": "2020-12-16T09:51:32.494035Z",
     "start_time": "2020-12-16T09:19:24.225970Z"
    },
    "papermill": {
     "duration": 1.460663,
     "end_time": "2020-12-15T06:07:06.625483",
     "exception": false,
     "start_time": "2020-12-15T06:07:05.164820",
     "status": "completed"
    },
    "scrolled": true,
    "tags": []
   },
   "outputs": [
    {
     "name": "stdout",
     "output_type": "stream",
     "text": [
      "Model: \"functional_3\"\n",
      "_________________________________________________________________\n",
      "Layer (type)                 Output Shape              Param #   \n",
      "=================================================================\n",
      "input_1 (InputLayer)         [(None, 224, 224, 3)]     0         \n",
      "_________________________________________________________________\n",
      "functional_1 (Functional)    (None, 2048)              23587712  \n",
      "_________________________________________________________________\n",
      "dense (Dense)                (None, 5)                 10245     \n",
      "=================================================================\n",
      "Total params: 23,597,957\n",
      "Trainable params: 10,245\n",
      "Non-trainable params: 23,587,712\n",
      "_________________________________________________________________\n",
      "input_1 True\n",
      "functional_1 False\n",
      "dense True\n",
      "\n",
      "Epoch 1/100\n",
      "13/13 [==============================] - 20s 2s/step - loss: 2.2776 - acc: 0.1106 - val_loss: 2.0511 - val_acc: 0.1209\n",
      "Epoch 2/100\n",
      "13/13 [==============================] - 19s 1s/step - loss: 1.9810 - acc: 0.1298 - val_loss: 1.8361 - val_acc: 0.1221\n",
      "Epoch 3/100\n",
      "13/13 [==============================] - 19s 1s/step - loss: 1.8417 - acc: 0.1106 - val_loss: 1.6653 - val_acc: 0.1578\n",
      "Epoch 4/100\n",
      "13/13 [==============================] - 19s 1s/step - loss: 1.5453 - acc: 0.2067 - val_loss: 1.5442 - val_acc: 0.3241\n",
      "Epoch 5/100\n",
      "13/13 [==============================] - 19s 1s/step - loss: 1.6001 - acc: 0.3558 - val_loss: 1.4741 - val_acc: 0.4953\n",
      "Epoch 6/100\n",
      "13/13 [==============================] - 19s 1s/step - loss: 1.4594 - acc: 0.5337 - val_loss: 1.4297 - val_acc: 0.5732\n",
      "Epoch 7/100\n",
      "13/13 [==============================] - 19s 1s/step - loss: 1.4299 - acc: 0.6250 - val_loss: 1.4002 - val_acc: 0.6017\n",
      "Epoch 8/100\n",
      "13/13 [==============================] - 19s 1s/step - loss: 1.5282 - acc: 0.5962 - val_loss: 1.3819 - val_acc: 0.6107\n",
      "Epoch 9/100\n",
      "13/13 [==============================] - 19s 1s/step - loss: 1.4491 - acc: 0.6058 - val_loss: 1.3670 - val_acc: 0.6123\n",
      "Epoch 10/100\n",
      "13/13 [==============================] - 19s 1s/step - loss: 1.4376 - acc: 0.6298 - val_loss: 1.3545 - val_acc: 0.6130\n",
      "Epoch 11/100\n",
      "13/13 [==============================] - 19s 1s/step - loss: 1.3484 - acc: 0.6058 - val_loss: 1.3443 - val_acc: 0.6132\n",
      "Epoch 12/100\n",
      "13/13 [==============================] - 19s 1s/step - loss: 1.3508 - acc: 0.6202 - val_loss: 1.3333 - val_acc: 0.6140\n",
      "Epoch 13/100\n",
      "13/13 [==============================] - 19s 1s/step - loss: 1.3152 - acc: 0.6298 - val_loss: 1.3253 - val_acc: 0.6142\n",
      "Epoch 14/100\n",
      "13/13 [==============================] - 19s 1s/step - loss: 1.3751 - acc: 0.6058 - val_loss: 1.3169 - val_acc: 0.6142\n",
      "Epoch 15/100\n",
      "13/13 [==============================] - 19s 1s/step - loss: 1.3223 - acc: 0.6154 - val_loss: 1.3091 - val_acc: 0.6142\n",
      "Epoch 16/100\n",
      "13/13 [==============================] - 19s 1s/step - loss: 1.3235 - acc: 0.6010 - val_loss: 1.3017 - val_acc: 0.6143\n",
      "Epoch 17/100\n",
      "13/13 [==============================] - 19s 1s/step - loss: 1.2706 - acc: 0.6587 - val_loss: 1.2946 - val_acc: 0.6143\n",
      "Epoch 18/100\n",
      "13/13 [==============================] - 19s 1s/step - loss: 1.4149 - acc: 0.5962 - val_loss: 1.2888 - val_acc: 0.6143\n",
      "Epoch 19/100\n",
      "13/13 [==============================] - 19s 1s/step - loss: 1.3000 - acc: 0.6202 - val_loss: 1.2830 - val_acc: 0.6143\n",
      "Epoch 20/100\n",
      "13/13 [==============================] - 19s 1s/step - loss: 1.3323 - acc: 0.5865 - val_loss: 1.2777 - val_acc: 0.6138\n",
      "Epoch 21/100\n",
      "13/13 [==============================] - 19s 1s/step - loss: 1.2501 - acc: 0.6587 - val_loss: 1.2723 - val_acc: 0.6138\n",
      "Epoch 22/100\n",
      "13/13 [==============================] - 19s 1s/step - loss: 1.2855 - acc: 0.5962 - val_loss: 1.2671 - val_acc: 0.6138\n",
      "Epoch 23/100\n",
      "13/13 [==============================] - 19s 1s/step - loss: 1.2902 - acc: 0.6010 - val_loss: 1.2617 - val_acc: 0.6138\n",
      "Epoch 24/100\n",
      "13/13 [==============================] - 19s 1s/step - loss: 1.2087 - acc: 0.6346 - val_loss: 1.2565 - val_acc: 0.6140\n",
      "Epoch 25/100\n",
      "13/13 [==============================] - 19s 1s/step - loss: 1.2714 - acc: 0.6106 - val_loss: 1.2520 - val_acc: 0.6140\n",
      "Epoch 26/100\n",
      "13/13 [==============================] - 19s 1s/step - loss: 1.2726 - acc: 0.6106 - val_loss: 1.2475 - val_acc: 0.6140\n",
      "Epoch 27/100\n",
      "13/13 [==============================] - 19s 1s/step - loss: 1.2262 - acc: 0.5962 - val_loss: 1.2435 - val_acc: 0.6142\n",
      "Epoch 28/100\n",
      "13/13 [==============================] - 19s 1s/step - loss: 1.2798 - acc: 0.6202 - val_loss: 1.2402 - val_acc: 0.6140\n",
      "Epoch 29/100\n",
      "13/13 [==============================] - 19s 1s/step - loss: 1.2075 - acc: 0.6202 - val_loss: 1.2369 - val_acc: 0.6143\n",
      "Epoch 30/100\n",
      "13/13 [==============================] - 19s 1s/step - loss: 1.1814 - acc: 0.6442 - val_loss: 1.2340 - val_acc: 0.6143\n",
      "Epoch 31/100\n",
      "13/13 [==============================] - 19s 1s/step - loss: 1.2428 - acc: 0.6106 - val_loss: 1.2309 - val_acc: 0.6142\n",
      "Epoch 32/100\n",
      "13/13 [==============================] - 19s 1s/step - loss: 1.2583 - acc: 0.6106 - val_loss: 1.2280 - val_acc: 0.6143\n",
      "Epoch 33/100\n",
      "13/13 [==============================] - 19s 1s/step - loss: 1.2173 - acc: 0.6250 - val_loss: 1.2251 - val_acc: 0.6143\n",
      "Epoch 34/100\n",
      "13/13 [==============================] - 19s 1s/step - loss: 1.2004 - acc: 0.6154 - val_loss: 1.2223 - val_acc: 0.6143\n",
      "Epoch 35/100\n",
      "13/13 [==============================] - 19s 1s/step - loss: 1.2006 - acc: 0.6154 - val_loss: 1.2194 - val_acc: 0.6143\n",
      "Epoch 36/100\n",
      "13/13 [==============================] - 19s 1s/step - loss: 1.2269 - acc: 0.5962 - val_loss: 1.2172 - val_acc: 0.6143\n",
      "Epoch 37/100\n",
      "13/13 [==============================] - 19s 1s/step - loss: 1.1960 - acc: 0.6250 - val_loss: 1.2151 - val_acc: 0.6142\n",
      "Epoch 38/100\n",
      "13/13 [==============================] - 19s 1s/step - loss: 1.1670 - acc: 0.6202 - val_loss: 1.2127 - val_acc: 0.6143\n",
      "Epoch 39/100\n",
      "13/13 [==============================] - 19s 1s/step - loss: 1.2501 - acc: 0.5913 - val_loss: 1.2109 - val_acc: 0.6144\n",
      "Epoch 40/100\n",
      "13/13 [==============================] - 19s 1s/step - loss: 1.1830 - acc: 0.6106 - val_loss: 1.2091 - val_acc: 0.6146\n",
      "Epoch 41/100\n",
      "13/13 [==============================] - 19s 1s/step - loss: 1.1672 - acc: 0.6298 - val_loss: 1.2080 - val_acc: 0.6142\n",
      "Epoch 42/100\n",
      "13/13 [==============================] - 19s 1s/step - loss: 1.1995 - acc: 0.6106 - val_loss: 1.2067 - val_acc: 0.6144\n",
      "Epoch 43/100\n",
      "13/13 [==============================] - 19s 1s/step - loss: 1.1683 - acc: 0.6154 - val_loss: 1.2059 - val_acc: 0.6144\n",
      "Epoch 44/100\n",
      "13/13 [==============================] - 19s 1s/step - loss: 1.1849 - acc: 0.6106 - val_loss: 1.2048 - val_acc: 0.6146\n",
      "Epoch 45/100\n",
      "13/13 [==============================] - 19s 1s/step - loss: 1.1725 - acc: 0.6250 - val_loss: 1.2039 - val_acc: 0.6148\n",
      "Epoch 46/100\n",
      "13/13 [==============================] - 19s 1s/step - loss: 1.1582 - acc: 0.6202 - val_loss: 1.2027 - val_acc: 0.6148\n",
      "Epoch 47/100\n",
      "13/13 [==============================] - 19s 1s/step - loss: 1.1617 - acc: 0.6106 - val_loss: 1.2014 - val_acc: 0.6146\n",
      "Epoch 48/100\n",
      "13/13 [==============================] - 19s 1s/step - loss: 1.1751 - acc: 0.6202 - val_loss: 1.2002 - val_acc: 0.6147\n",
      "Epoch 49/100\n",
      "13/13 [==============================] - 19s 1s/step - loss: 1.1185 - acc: 0.6490 - val_loss: 1.1993 - val_acc: 0.6144\n",
      "Epoch 50/100\n",
      "13/13 [==============================] - 19s 1s/step - loss: 1.2065 - acc: 0.6010 - val_loss: 1.1985 - val_acc: 0.6146\n",
      "Epoch 51/100\n",
      "13/13 [==============================] - 19s 1s/step - loss: 1.1683 - acc: 0.6154 - val_loss: 1.1982 - val_acc: 0.6146\n",
      "Epoch 52/100\n",
      "13/13 [==============================] - 19s 1s/step - loss: 1.1397 - acc: 0.6346 - val_loss: 1.1971 - val_acc: 0.6143\n",
      "Epoch 53/100\n",
      "13/13 [==============================] - 19s 1s/step - loss: 1.1404 - acc: 0.6202 - val_loss: 1.1965 - val_acc: 0.6143\n",
      "Epoch 54/100\n",
      "13/13 [==============================] - 20s 2s/step - loss: 1.1612 - acc: 0.6106 - val_loss: 1.1956 - val_acc: 0.6143\n",
      "Epoch 55/100\n",
      "13/13 [==============================] - 19s 1s/step - loss: 1.2015 - acc: 0.6058 - val_loss: 1.1951 - val_acc: 0.6144\n",
      "Epoch 56/100\n",
      "13/13 [==============================] - 19s 1s/step - loss: 1.1723 - acc: 0.6154 - val_loss: 1.1948 - val_acc: 0.6143\n",
      "Epoch 57/100\n"
     ]
    },
    {
     "name": "stdout",
     "output_type": "stream",
     "text": [
      "13/13 [==============================] - 19s 1s/step - loss: 1.1673 - acc: 0.6106 - val_loss: 1.1952 - val_acc: 0.6140\n",
      "Epoch 58/100\n",
      "13/13 [==============================] - 19s 1s/step - loss: 1.2123 - acc: 0.6058 - val_loss: 1.1945 - val_acc: 0.6144\n",
      "Epoch 59/100\n",
      "13/13 [==============================] - 19s 1s/step - loss: 1.1703 - acc: 0.6346 - val_loss: 1.1939 - val_acc: 0.6144\n",
      "Epoch 60/100\n",
      "13/13 [==============================] - 19s 1s/step - loss: 1.1209 - acc: 0.6346 - val_loss: 1.1941 - val_acc: 0.6146\n",
      "Epoch 61/100\n",
      "13/13 [==============================] - 19s 1s/step - loss: 1.1567 - acc: 0.6154 - val_loss: 1.1939 - val_acc: 0.6146\n",
      "Epoch 62/100\n",
      "13/13 [==============================] - 19s 1s/step - loss: 1.2061 - acc: 0.6058 - val_loss: 1.1931 - val_acc: 0.6147\n",
      "Epoch 63/100\n",
      "13/13 [==============================] - 19s 1s/step - loss: 1.1608 - acc: 0.6106 - val_loss: 1.1921 - val_acc: 0.6150\n",
      "Epoch 64/100\n",
      "13/13 [==============================] - 19s 1s/step - loss: 1.1548 - acc: 0.6298 - val_loss: 1.1916 - val_acc: 0.6148\n",
      "Epoch 65/100\n",
      "13/13 [==============================] - 19s 1s/step - loss: 1.1491 - acc: 0.6298 - val_loss: 1.1912 - val_acc: 0.6144\n",
      "Epoch 66/100\n",
      "13/13 [==============================] - 19s 1s/step - loss: 1.1726 - acc: 0.6010 - val_loss: 1.1913 - val_acc: 0.6147\n",
      "Epoch 67/100\n",
      "13/13 [==============================] - 19s 1s/step - loss: 1.1872 - acc: 0.6058 - val_loss: 1.1911 - val_acc: 0.6147\n",
      "Epoch 68/100\n",
      "13/13 [==============================] - 19s 1s/step - loss: 1.1471 - acc: 0.6346 - val_loss: 1.1912 - val_acc: 0.6140\n",
      "Epoch 69/100\n",
      "13/13 [==============================] - 19s 1s/step - loss: 1.1906 - acc: 0.5962 - val_loss: 1.1913 - val_acc: 0.6144\n",
      "Epoch 70/100\n",
      "13/13 [==============================] - 19s 1s/step - loss: 1.1695 - acc: 0.6154 - val_loss: 1.1909 - val_acc: 0.6147\n",
      "Epoch 71/100\n",
      "13/13 [==============================] - 19s 1s/step - loss: 1.1557 - acc: 0.6250 - val_loss: 1.1902 - val_acc: 0.6147\n",
      "Epoch 72/100\n",
      "13/13 [==============================] - 19s 1s/step - loss: 1.1400 - acc: 0.6394 - val_loss: 1.1901 - val_acc: 0.6144\n",
      "Epoch 73/100\n",
      "13/13 [==============================] - 19s 1s/step - loss: 1.1795 - acc: 0.6202 - val_loss: 1.1898 - val_acc: 0.6144\n",
      "Epoch 74/100\n",
      "13/13 [==============================] - 19s 1s/step - loss: 1.1518 - acc: 0.6298 - val_loss: 1.1899 - val_acc: 0.6147\n",
      "Epoch 75/100\n",
      "13/13 [==============================] - 19s 1s/step - loss: 1.1860 - acc: 0.6058 - val_loss: 1.1896 - val_acc: 0.6147\n",
      "Epoch 76/100\n",
      "13/13 [==============================] - 19s 1s/step - loss: 1.1986 - acc: 0.6106 - val_loss: 1.1898 - val_acc: 0.6147\n",
      "Epoch 77/100\n",
      "13/13 [==============================] - 19s 1s/step - loss: 1.1526 - acc: 0.6154 - val_loss: 1.1897 - val_acc: 0.6147\n",
      "Epoch 78/100\n",
      "13/13 [==============================] - 19s 1s/step - loss: 1.1645 - acc: 0.6202 - val_loss: 1.1900 - val_acc: 0.6146\n",
      "Epoch 79/100\n",
      "13/13 [==============================] - 19s 1s/step - loss: 1.1315 - acc: 0.6346 - val_loss: 1.1897 - val_acc: 0.6150\n",
      "Epoch 80/100\n",
      "13/13 [==============================] - 19s 1s/step - loss: 1.1685 - acc: 0.6058 - val_loss: 1.1896 - val_acc: 0.6152\n",
      "Epoch 81/100\n",
      "13/13 [==============================] - 19s 1s/step - loss: 1.2441 - acc: 0.5865 - val_loss: 1.1891 - val_acc: 0.6150\n",
      "Epoch 82/100\n",
      "13/13 [==============================] - 19s 1s/step - loss: 1.1412 - acc: 0.6346 - val_loss: 1.1888 - val_acc: 0.6144\n",
      "Epoch 83/100\n",
      "13/13 [==============================] - 19s 1s/step - loss: 1.1670 - acc: 0.6154 - val_loss: 1.1884 - val_acc: 0.6144\n",
      "Epoch 84/100\n",
      "13/13 [==============================] - 19s 1s/step - loss: 1.1718 - acc: 0.6106 - val_loss: 1.1880 - val_acc: 0.6148\n",
      "Epoch 85/100\n",
      "13/13 [==============================] - 19s 1s/step - loss: 1.2010 - acc: 0.6010 - val_loss: 1.1880 - val_acc: 0.6156\n",
      "Epoch 86/100\n",
      "13/13 [==============================] - 19s 1s/step - loss: 1.0995 - acc: 0.6490 - val_loss: 1.1875 - val_acc: 0.6154\n",
      "Epoch 87/100\n",
      "13/13 [==============================] - 19s 1s/step - loss: 1.1422 - acc: 0.6250 - val_loss: 1.1877 - val_acc: 0.6152\n",
      "Epoch 88/100\n",
      "13/13 [==============================] - 19s 1s/step - loss: 1.1709 - acc: 0.6010 - val_loss: 1.1885 - val_acc: 0.6154\n",
      "Epoch 89/100\n",
      "13/13 [==============================] - 19s 1s/step - loss: 1.1870 - acc: 0.6298 - val_loss: 1.1878 - val_acc: 0.6151\n",
      "Epoch 90/100\n",
      "13/13 [==============================] - 19s 1s/step - loss: 1.1774 - acc: 0.6202 - val_loss: 1.1874 - val_acc: 0.6152\n",
      "Epoch 91/100\n",
      "13/13 [==============================] - 19s 1s/step - loss: 1.1931 - acc: 0.6058 - val_loss: 1.1875 - val_acc: 0.6156\n",
      "Epoch 92/100\n",
      "13/13 [==============================] - 19s 1s/step - loss: 1.1304 - acc: 0.6346 - val_loss: 1.1883 - val_acc: 0.6148\n",
      "Epoch 93/100\n",
      "13/13 [==============================] - 19s 1s/step - loss: 1.2292 - acc: 0.5865 - val_loss: 1.1886 - val_acc: 0.6144\n",
      "Epoch 94/100\n",
      "13/13 [==============================] - 19s 1s/step - loss: 1.1681 - acc: 0.6202 - val_loss: 1.1879 - val_acc: 0.6148\n",
      "Epoch 95/100\n",
      "13/13 [==============================] - 19s 1s/step - loss: 1.1628 - acc: 0.6250 - val_loss: 1.1873 - val_acc: 0.6152\n",
      "Epoch 96/100\n",
      "13/13 [==============================] - 19s 1s/step - loss: 1.1677 - acc: 0.6154 - val_loss: 1.1873 - val_acc: 0.6151\n",
      "Epoch 97/100\n",
      "13/13 [==============================] - 19s 1s/step - loss: 1.1331 - acc: 0.6298 - val_loss: 1.1868 - val_acc: 0.6151\n",
      "Epoch 98/100\n",
      "13/13 [==============================] - 19s 1s/step - loss: 1.1420 - acc: 0.6106 - val_loss: 1.1866 - val_acc: 0.6151\n",
      "Epoch 99/100\n",
      "13/13 [==============================] - 19s 1s/step - loss: 1.2171 - acc: 0.6106 - val_loss: 1.1868 - val_acc: 0.6148\n",
      "Epoch 100/100\n",
      "13/13 [==============================] - 19s 1s/step - loss: 1.1104 - acc: 0.6298 - val_loss: 1.1873 - val_acc: 0.6151\n"
     ]
    }
   ],
   "source": [
    "%%time\n",
    "# get model and compile\n",
    "tf.keras.backend.clear_session()\n",
    "model = get_linear_classifier()\n",
    "model.summary()\n",
    "for l in model.layers:\n",
    "    print(l.name, l.trainable)\n",
    "print()\n",
    "\n",
    "early_stopper = tf.keras.callbacks.EarlyStopping(monitor=\"val_loss\", \n",
    "                                                 patience=patience, \n",
    "                                                 verbose=2, \n",
    "                                                 restore_best_weights=True)\n",
    "\n",
    "# train\n",
    "history = model.fit(training_ds,\n",
    "                    validation_data=(testing_ds),\n",
    "                    epochs=epochs,\n",
    "                    callbacks=[early_stopper],\n",
    "                    steps_per_epoch=NUM_TRAINING_IMAGES // BATCH_SIZE, \n",
    "                    validation_steps=NUM_VALIDATION_IMAGES // BATCH_SIZE,\n",
    "                   )"
   ]
  },
  {
   "cell_type": "code",
   "execution_count": 19,
   "metadata": {
    "ExecuteTime": {
     "end_time": "2020-12-16T09:51:32.777034Z",
     "start_time": "2020-12-16T09:51:32.495034Z"
    }
   },
   "outputs": [],
   "source": [
    "model.save('warmup_1per.h5')"
   ]
  },
  {
   "cell_type": "markdown",
   "metadata": {},
   "source": [
    "## 2.Fine tune CNN（1.の重みロードして全層学習）"
   ]
  },
  {
   "cell_type": "code",
   "execution_count": 20,
   "metadata": {
    "ExecuteTime": {
     "end_time": "2020-12-16T09:51:32.781036Z",
     "start_time": "2020-12-16T09:51:32.778034Z"
    }
   },
   "outputs": [],
   "source": [
    "lr_scheduler = tf.keras.optimizers.schedules.ExponentialDecay(\n",
    "    initial_learning_rate=1e-6,  # 学習率下げてる\n",
    "    decay_steps=10000, \n",
    "    decay_rate=0.9)\n",
    "    \n",
    "    \n",
    "def get_classifier():\n",
    "    # load warmup model\n",
    "    warmup_model = tf.keras.models.load_model('warmup_1per.h5')\n",
    "    warmup_model.trainable = True\n",
    "    \n",
    "    warmup_model.compile(loss=\"sparse_categorical_crossentropy\", \n",
    "                         metrics=[\"acc\"],\n",
    "                         optimizer=tf.keras.optimizers.Adam(learning_rate=lr_scheduler, epsilon=0.001),\n",
    "                        )\n",
    "\n",
    "    return warmup_model"
   ]
  },
  {
   "cell_type": "code",
   "execution_count": 21,
   "metadata": {
    "ExecuteTime": {
     "end_time": "2020-12-16T10:42:44.473585Z",
     "start_time": "2020-12-16T09:51:32.782034Z"
    },
    "scrolled": true
   },
   "outputs": [
    {
     "name": "stdout",
     "output_type": "stream",
     "text": [
      "Model: \"functional_3\"\n",
      "_________________________________________________________________\n",
      "Layer (type)                 Output Shape              Param #   \n",
      "=================================================================\n",
      "input_1 (InputLayer)         [(None, 224, 224, 3)]     0         \n",
      "_________________________________________________________________\n",
      "functional_1 (Functional)    (None, 2048)              23587712  \n",
      "_________________________________________________________________\n",
      "dense (Dense)                (None, 5)                 10245     \n",
      "=================================================================\n",
      "Total params: 23,597,957\n",
      "Trainable params: 23,544,837\n",
      "Non-trainable params: 53,120\n",
      "_________________________________________________________________\n",
      "input_1 True\n",
      "functional_1 True\n",
      "dense True\n",
      "\n",
      "Epoch 1/300\n",
      "13/13 [==============================] - 26s 2s/step - loss: 1.1245 - acc: 0.6346 - val_loss: 1.1922 - val_acc: 0.6140\n",
      "Epoch 2/300\n",
      "13/13 [==============================] - 25s 2s/step - loss: 1.2019 - acc: 0.5962 - val_loss: 1.1882 - val_acc: 0.6136\n",
      "Epoch 3/300\n",
      "13/13 [==============================] - 24s 2s/step - loss: 1.2041 - acc: 0.6010 - val_loss: 1.1850 - val_acc: 0.6124\n",
      "Epoch 4/300\n",
      "13/13 [==============================] - 25s 2s/step - loss: 1.1873 - acc: 0.6106 - val_loss: 1.1830 - val_acc: 0.6124\n",
      "Epoch 5/300\n",
      "13/13 [==============================] - 25s 2s/step - loss: 1.1486 - acc: 0.6250 - val_loss: 1.1818 - val_acc: 0.6127\n",
      "Epoch 6/300\n",
      "13/13 [==============================] - 25s 2s/step - loss: 1.1975 - acc: 0.5817 - val_loss: 1.1807 - val_acc: 0.6124\n",
      "Epoch 7/300\n",
      "13/13 [==============================] - 24s 2s/step - loss: 1.0946 - acc: 0.6538 - val_loss: 1.1800 - val_acc: 0.6124\n",
      "Epoch 8/300\n",
      "13/13 [==============================] - 24s 2s/step - loss: 1.2039 - acc: 0.5962 - val_loss: 1.1792 - val_acc: 0.6126\n",
      "Epoch 9/300\n",
      "13/13 [==============================] - 25s 2s/step - loss: 1.2113 - acc: 0.5865 - val_loss: 1.1789 - val_acc: 0.6124\n",
      "Epoch 10/300\n",
      "13/13 [==============================] - 24s 2s/step - loss: 1.0771 - acc: 0.6490 - val_loss: 1.1796 - val_acc: 0.6108\n",
      "Epoch 11/300\n",
      "13/13 [==============================] - 24s 2s/step - loss: 1.1957 - acc: 0.6010 - val_loss: 1.1793 - val_acc: 0.6108\n",
      "Epoch 12/300\n",
      "13/13 [==============================] - 24s 2s/step - loss: 1.1456 - acc: 0.6250 - val_loss: 1.1798 - val_acc: 0.6105\n",
      "Epoch 13/300\n",
      "13/13 [==============================] - 24s 2s/step - loss: 1.1534 - acc: 0.6250 - val_loss: 1.1797 - val_acc: 0.6107\n",
      "Epoch 14/300\n",
      "13/13 [==============================] - 24s 2s/step - loss: 1.1287 - acc: 0.6346 - val_loss: 1.1791 - val_acc: 0.6101\n",
      "Epoch 15/300\n",
      "13/13 [==============================] - 25s 2s/step - loss: 1.1661 - acc: 0.6106 - val_loss: 1.1779 - val_acc: 0.6104\n",
      "Epoch 16/300\n",
      "13/13 [==============================] - 25s 2s/step - loss: 1.1581 - acc: 0.6154 - val_loss: 1.1775 - val_acc: 0.6101\n",
      "Epoch 17/300\n",
      "13/13 [==============================] - 25s 2s/step - loss: 1.1978 - acc: 0.6058 - val_loss: 1.1775 - val_acc: 0.6105\n",
      "Epoch 18/300\n",
      "13/13 [==============================] - 25s 2s/step - loss: 1.1608 - acc: 0.5913 - val_loss: 1.1773 - val_acc: 0.6115\n",
      "Epoch 19/300\n",
      "13/13 [==============================] - 24s 2s/step - loss: 1.0564 - acc: 0.6538 - val_loss: 1.1775 - val_acc: 0.6115\n",
      "Epoch 20/300\n",
      "13/13 [==============================] - 24s 2s/step - loss: 1.1842 - acc: 0.6010 - val_loss: 1.1774 - val_acc: 0.6104\n",
      "Epoch 21/300\n",
      "13/13 [==============================] - 25s 2s/step - loss: 1.1595 - acc: 0.6250 - val_loss: 1.1769 - val_acc: 0.6105\n",
      "Epoch 22/300\n",
      "13/13 [==============================] - 25s 2s/step - loss: 1.1488 - acc: 0.6154 - val_loss: 1.1767 - val_acc: 0.6107\n",
      "Epoch 23/300\n",
      "13/13 [==============================] - 24s 2s/step - loss: 1.1495 - acc: 0.6154 - val_loss: 1.1769 - val_acc: 0.6104\n",
      "Epoch 24/300\n",
      "13/13 [==============================] - 24s 2s/step - loss: 1.1024 - acc: 0.6442 - val_loss: 1.1770 - val_acc: 0.6087\n",
      "Epoch 25/300\n",
      "13/13 [==============================] - 24s 2s/step - loss: 1.1170 - acc: 0.6394 - val_loss: 1.1773 - val_acc: 0.6069\n",
      "Epoch 26/300\n",
      "13/13 [==============================] - 24s 2s/step - loss: 1.1918 - acc: 0.5962 - val_loss: 1.1772 - val_acc: 0.6077\n",
      "Epoch 27/300\n",
      "13/13 [==============================] - 24s 2s/step - loss: 1.1129 - acc: 0.6202 - val_loss: 1.1775 - val_acc: 0.6079\n",
      "Epoch 28/300\n",
      "13/13 [==============================] - 24s 2s/step - loss: 1.1571 - acc: 0.6250 - val_loss: 1.1784 - val_acc: 0.6077\n",
      "Epoch 29/300\n",
      "13/13 [==============================] - 24s 2s/step - loss: 1.1957 - acc: 0.6010 - val_loss: 1.1781 - val_acc: 0.6079\n",
      "Epoch 30/300\n",
      "13/13 [==============================] - 24s 2s/step - loss: 1.1259 - acc: 0.6394 - val_loss: 1.1776 - val_acc: 0.6093\n",
      "Epoch 31/300\n",
      "13/13 [==============================] - 24s 2s/step - loss: 1.1409 - acc: 0.6250 - val_loss: 1.1769 - val_acc: 0.6100\n",
      "Epoch 32/300\n",
      "13/13 [==============================] - 25s 2s/step - loss: 1.1413 - acc: 0.6250 - val_loss: 1.1767 - val_acc: 0.6097\n",
      "Epoch 33/300\n",
      "13/13 [==============================] - 24s 2s/step - loss: 1.1550 - acc: 0.6058 - val_loss: 1.1765 - val_acc: 0.6099\n",
      "Epoch 34/300\n",
      "13/13 [==============================] - 24s 2s/step - loss: 1.1045 - acc: 0.6442 - val_loss: 1.1753 - val_acc: 0.6099\n",
      "Epoch 35/300\n",
      "13/13 [==============================] - 25s 2s/step - loss: 1.2004 - acc: 0.5865 - val_loss: 1.1745 - val_acc: 0.6099\n",
      "Epoch 36/300\n",
      "13/13 [==============================] - 25s 2s/step - loss: 1.1301 - acc: 0.6298 - val_loss: 1.1738 - val_acc: 0.6097\n",
      "Epoch 37/300\n",
      "13/13 [==============================] - 24s 2s/step - loss: 1.1452 - acc: 0.6202 - val_loss: 1.1739 - val_acc: 0.6097\n",
      "Epoch 38/300\n",
      "13/13 [==============================] - 24s 2s/step - loss: 1.0987 - acc: 0.6346 - val_loss: 1.1740 - val_acc: 0.6100\n",
      "Epoch 39/300\n",
      "13/13 [==============================] - 25s 2s/step - loss: 1.2071 - acc: 0.5865 - val_loss: 1.1734 - val_acc: 0.6113\n",
      "Epoch 40/300\n",
      "13/13 [==============================] - 24s 2s/step - loss: 1.1577 - acc: 0.6106 - val_loss: 1.1740 - val_acc: 0.6131\n",
      "Epoch 41/300\n",
      "13/13 [==============================] - 24s 2s/step - loss: 1.1065 - acc: 0.6538 - val_loss: 1.1742 - val_acc: 0.6131\n",
      "Epoch 42/300\n",
      "13/13 [==============================] - 24s 2s/step - loss: 1.1462 - acc: 0.6154 - val_loss: 1.1740 - val_acc: 0.6128\n",
      "Epoch 43/300\n",
      "13/13 [==============================] - 24s 2s/step - loss: 1.1697 - acc: 0.6106 - val_loss: 1.1735 - val_acc: 0.6119\n",
      "Epoch 44/300\n",
      "13/13 [==============================] - 24s 2s/step - loss: 1.1280 - acc: 0.6202 - val_loss: 1.1733 - val_acc: 0.6113\n",
      "Epoch 45/300\n",
      "13/13 [==============================] - 25s 2s/step - loss: 1.1640 - acc: 0.6010 - val_loss: 1.1731 - val_acc: 0.6115\n",
      "Epoch 46/300\n",
      "13/13 [==============================] - 24s 2s/step - loss: 1.1412 - acc: 0.6298 - val_loss: 1.1729 - val_acc: 0.6107\n",
      "Epoch 47/300\n",
      "13/13 [==============================] - 25s 2s/step - loss: 1.1459 - acc: 0.6010 - val_loss: 1.1728 - val_acc: 0.6097\n",
      "Epoch 48/300\n",
      "13/13 [==============================] - 25s 2s/step - loss: 1.1131 - acc: 0.6202 - val_loss: 1.1728 - val_acc: 0.6097\n",
      "Epoch 49/300\n",
      "13/13 [==============================] - 24s 2s/step - loss: 1.1572 - acc: 0.5962 - val_loss: 1.1726 - val_acc: 0.6100\n",
      "Epoch 50/300\n",
      "13/13 [==============================] - 25s 2s/step - loss: 1.1300 - acc: 0.6202 - val_loss: 1.1722 - val_acc: 0.6104\n",
      "Epoch 51/300\n",
      "13/13 [==============================] - 25s 2s/step - loss: 1.1367 - acc: 0.6202 - val_loss: 1.1715 - val_acc: 0.6105\n",
      "Epoch 52/300\n",
      "13/13 [==============================] - 25s 2s/step - loss: 1.1184 - acc: 0.6298 - val_loss: 1.1712 - val_acc: 0.6107\n",
      "Epoch 53/300\n",
      "13/13 [==============================] - 24s 2s/step - loss: 1.1597 - acc: 0.5913 - val_loss: 1.1708 - val_acc: 0.6104\n",
      "Epoch 54/300\n",
      "13/13 [==============================] - 24s 2s/step - loss: 1.0949 - acc: 0.6635 - val_loss: 1.1707 - val_acc: 0.6096\n",
      "Epoch 55/300\n",
      "13/13 [==============================] - 24s 2s/step - loss: 1.1848 - acc: 0.6010 - val_loss: 1.1710 - val_acc: 0.6092\n",
      "Epoch 56/300\n",
      "13/13 [==============================] - 25s 2s/step - loss: 1.1296 - acc: 0.6202 - val_loss: 1.1706 - val_acc: 0.6095\n",
      "Epoch 57/300\n"
     ]
    },
    {
     "name": "stdout",
     "output_type": "stream",
     "text": [
      "13/13 [==============================] - 24s 2s/step - loss: 1.1269 - acc: 0.6010 - val_loss: 1.1709 - val_acc: 0.6095\n",
      "Epoch 58/300\n",
      "13/13 [==============================] - 25s 2s/step - loss: 1.1396 - acc: 0.6154 - val_loss: 1.1705 - val_acc: 0.6115\n",
      "Epoch 59/300\n",
      "13/13 [==============================] - 24s 2s/step - loss: 1.1503 - acc: 0.6106 - val_loss: 1.1707 - val_acc: 0.6112\n",
      "Epoch 60/300\n",
      "13/13 [==============================] - 24s 2s/step - loss: 1.1431 - acc: 0.6154 - val_loss: 1.1713 - val_acc: 0.6128\n",
      "Epoch 61/300\n",
      "13/13 [==============================] - 24s 2s/step - loss: 1.1300 - acc: 0.6106 - val_loss: 1.1712 - val_acc: 0.6127\n",
      "Epoch 62/300\n",
      "13/13 [==============================] - 24s 2s/step - loss: 1.1187 - acc: 0.6202 - val_loss: 1.1710 - val_acc: 0.6119\n",
      "Epoch 63/300\n",
      "13/13 [==============================] - 24s 2s/step - loss: 1.1578 - acc: 0.6106 - val_loss: 1.1710 - val_acc: 0.6116\n",
      "Epoch 64/300\n",
      "13/13 [==============================] - 24s 2s/step - loss: 1.0933 - acc: 0.6394 - val_loss: 1.1715 - val_acc: 0.6112\n",
      "Epoch 65/300\n",
      "13/13 [==============================] - 24s 2s/step - loss: 1.1422 - acc: 0.6010 - val_loss: 1.1721 - val_acc: 0.6091\n",
      "Epoch 66/300\n",
      "13/13 [==============================] - 24s 2s/step - loss: 1.1046 - acc: 0.6346 - val_loss: 1.1724 - val_acc: 0.6071\n",
      "Epoch 67/300\n",
      "13/13 [==============================] - 24s 2s/step - loss: 1.1767 - acc: 0.6058 - val_loss: 1.1726 - val_acc: 0.6075\n",
      "Epoch 68/300\n",
      "13/13 [==============================] - 24s 2s/step - loss: 1.1445 - acc: 0.6106 - val_loss: 1.1714 - val_acc: 0.6085\n",
      "Epoch 69/300\n",
      "13/13 [==============================] - 25s 2s/step - loss: 1.1316 - acc: 0.6154 - val_loss: 1.1702 - val_acc: 0.6095\n",
      "Epoch 70/300\n",
      "13/13 [==============================] - 24s 2s/step - loss: 1.1347 - acc: 0.6250 - val_loss: 1.1702 - val_acc: 0.6099\n",
      "Epoch 71/300\n",
      "13/13 [==============================] - 24s 2s/step - loss: 1.1296 - acc: 0.6058 - val_loss: 1.1706 - val_acc: 0.6105\n",
      "Epoch 72/300\n",
      "13/13 [==============================] - 24s 2s/step - loss: 1.1221 - acc: 0.6298 - val_loss: 1.1703 - val_acc: 0.6101\n",
      "Epoch 73/300\n",
      "13/13 [==============================] - 24s 2s/step - loss: 1.1349 - acc: 0.6154 - val_loss: 1.1702 - val_acc: 0.6101\n",
      "Epoch 74/300\n",
      "13/13 [==============================] - 24s 2s/step - loss: 1.1476 - acc: 0.6010 - val_loss: 1.1702 - val_acc: 0.6109\n",
      "Epoch 75/300\n",
      "13/13 [==============================] - 24s 2s/step - loss: 1.0652 - acc: 0.6538 - val_loss: 1.1707 - val_acc: 0.6103\n",
      "Epoch 76/300\n",
      "13/13 [==============================] - 24s 2s/step - loss: 1.1514 - acc: 0.5962 - val_loss: 1.1711 - val_acc: 0.6092\n",
      "Epoch 77/300\n",
      "13/13 [==============================] - 24s 2s/step - loss: 1.1268 - acc: 0.6202 - val_loss: 1.1711 - val_acc: 0.6085\n",
      "Epoch 78/300\n",
      "13/13 [==============================] - 24s 2s/step - loss: 1.0862 - acc: 0.6442 - val_loss: 1.1712 - val_acc: 0.6083\n",
      "Epoch 79/300\n",
      "13/13 [==============================] - 24s 2s/step - loss: 1.1565 - acc: 0.5962 - val_loss: 1.1710 - val_acc: 0.6084\n",
      "Epoch 80/300\n",
      "13/13 [==============================] - 24s 2s/step - loss: 1.1197 - acc: 0.6250 - val_loss: 1.1711 - val_acc: 0.6085\n",
      "Epoch 81/300\n",
      "13/13 [==============================] - 24s 2s/step - loss: 1.1246 - acc: 0.6202 - val_loss: 1.1705 - val_acc: 0.6089\n",
      "Epoch 82/300\n",
      "13/13 [==============================] - 24s 2s/step - loss: 1.1406 - acc: 0.6154 - val_loss: 1.1700 - val_acc: 0.6089\n",
      "Epoch 83/300\n",
      "13/13 [==============================] - 24s 2s/step - loss: 1.1055 - acc: 0.6154 - val_loss: 1.1702 - val_acc: 0.6088\n",
      "Epoch 84/300\n",
      "13/13 [==============================] - 25s 2s/step - loss: 1.1407 - acc: 0.6058 - val_loss: 1.1697 - val_acc: 0.6088\n",
      "Epoch 85/300\n",
      "13/13 [==============================] - 25s 2s/step - loss: 1.1412 - acc: 0.6106 - val_loss: 1.1696 - val_acc: 0.6087\n",
      "Epoch 86/300\n",
      "13/13 [==============================] - 24s 2s/step - loss: 1.1121 - acc: 0.6154 - val_loss: 1.1702 - val_acc: 0.6073\n",
      "Epoch 87/300\n",
      "13/13 [==============================] - 24s 2s/step - loss: 1.1015 - acc: 0.6250 - val_loss: 1.1698 - val_acc: 0.6076\n",
      "Epoch 88/300\n",
      "13/13 [==============================] - 24s 2s/step - loss: 1.1269 - acc: 0.6202 - val_loss: 1.1697 - val_acc: 0.6089\n",
      "Epoch 89/300\n",
      "13/13 [==============================] - 25s 2s/step - loss: 1.1759 - acc: 0.6010 - val_loss: 1.1692 - val_acc: 0.6107\n",
      "Epoch 90/300\n",
      "13/13 [==============================] - 24s 2s/step - loss: 1.0669 - acc: 0.6538 - val_loss: 1.1692 - val_acc: 0.6104\n",
      "Epoch 91/300\n",
      "13/13 [==============================] - 24s 2s/step - loss: 1.1464 - acc: 0.6106 - val_loss: 1.1696 - val_acc: 0.6088\n",
      "Epoch 92/300\n",
      "13/13 [==============================] - 24s 2s/step - loss: 1.0859 - acc: 0.6346 - val_loss: 1.1704 - val_acc: 0.6083\n",
      "Epoch 93/300\n",
      "13/13 [==============================] - 24s 2s/step - loss: 1.1112 - acc: 0.6202 - val_loss: 1.1709 - val_acc: 0.6075\n",
      "Epoch 94/300\n",
      "13/13 [==============================] - 24s 2s/step - loss: 1.1016 - acc: 0.6298 - val_loss: 1.1710 - val_acc: 0.6076\n",
      "Epoch 95/300\n",
      "13/13 [==============================] - 24s 2s/step - loss: 1.1304 - acc: 0.6394 - val_loss: 1.1715 - val_acc: 0.6076\n",
      "Epoch 96/300\n",
      "13/13 [==============================] - 24s 2s/step - loss: 1.1457 - acc: 0.6202 - val_loss: 1.1709 - val_acc: 0.6080\n",
      "Epoch 97/300\n",
      "13/13 [==============================] - 24s 2s/step - loss: 1.1168 - acc: 0.6154 - val_loss: 1.1696 - val_acc: 0.6081\n",
      "Epoch 98/300\n",
      "13/13 [==============================] - 25s 2s/step - loss: 1.1231 - acc: 0.6010 - val_loss: 1.1686 - val_acc: 0.6085\n",
      "Epoch 99/300\n",
      "13/13 [==============================] - 24s 2s/step - loss: 1.1173 - acc: 0.6202 - val_loss: 1.1683 - val_acc: 0.6081\n",
      "Epoch 100/300\n",
      "13/13 [==============================] - 25s 2s/step - loss: 1.0787 - acc: 0.6346 - val_loss: 1.1678 - val_acc: 0.6089\n",
      "Epoch 101/300\n",
      "13/13 [==============================] - 24s 2s/step - loss: 1.1483 - acc: 0.6154 - val_loss: 1.1679 - val_acc: 0.6105\n",
      "Epoch 102/300\n",
      "13/13 [==============================] - 24s 2s/step - loss: 1.1290 - acc: 0.6250 - val_loss: 1.1688 - val_acc: 0.6111\n",
      "Epoch 103/300\n",
      "13/13 [==============================] - 24s 2s/step - loss: 1.1356 - acc: 0.6106 - val_loss: 1.1691 - val_acc: 0.6109\n",
      "Epoch 104/300\n",
      "13/13 [==============================] - 24s 2s/step - loss: 1.1279 - acc: 0.6202 - val_loss: 1.1691 - val_acc: 0.6105\n",
      "Epoch 105/300\n",
      "13/13 [==============================] - 24s 2s/step - loss: 1.1256 - acc: 0.6202 - val_loss: 1.1690 - val_acc: 0.6109\n",
      "Epoch 106/300\n",
      "13/13 [==============================] - 24s 2s/step - loss: 1.1383 - acc: 0.6154 - val_loss: 1.1684 - val_acc: 0.6096\n",
      "Epoch 107/300\n",
      "13/13 [==============================] - 24s 2s/step - loss: 1.1247 - acc: 0.6298 - val_loss: 1.1676 - val_acc: 0.6091\n",
      "Epoch 108/300\n",
      "13/13 [==============================] - 25s 2s/step - loss: 1.1376 - acc: 0.6154 - val_loss: 1.1668 - val_acc: 0.6091\n",
      "Epoch 109/300\n",
      "13/13 [==============================] - 25s 2s/step - loss: 1.1441 - acc: 0.6154 - val_loss: 1.1657 - val_acc: 0.6097\n",
      "Epoch 110/300\n",
      "13/13 [==============================] - 24s 2s/step - loss: 1.1116 - acc: 0.6154 - val_loss: 1.1656 - val_acc: 0.6088\n",
      "Epoch 111/300\n",
      "13/13 [==============================] - 24s 2s/step - loss: 1.1229 - acc: 0.6202 - val_loss: 1.1654 - val_acc: 0.6091\n",
      "Epoch 112/300\n",
      "13/13 [==============================] - 25s 2s/step - loss: 1.1268 - acc: 0.6154 - val_loss: 1.1649 - val_acc: 0.6112\n",
      "Epoch 113/300\n",
      "13/13 [==============================] - 24s 2s/step - loss: 1.1440 - acc: 0.6010 - val_loss: 1.1650 - val_acc: 0.6118\n",
      "Epoch 114/300\n",
      "13/13 [==============================] - 24s 2s/step - loss: 1.0810 - acc: 0.6538 - val_loss: 1.1653 - val_acc: 0.6112\n",
      "Epoch 115/300\n",
      "13/13 [==============================] - 24s 2s/step - loss: 1.1514 - acc: 0.6058 - val_loss: 1.1660 - val_acc: 0.6105\n",
      "Epoch 116/300\n",
      "13/13 [==============================] - 24s 2s/step - loss: 1.0888 - acc: 0.6394 - val_loss: 1.1664 - val_acc: 0.6097\n",
      "Epoch 117/300\n",
      "13/13 [==============================] - 24s 2s/step - loss: 1.1067 - acc: 0.6298 - val_loss: 1.1666 - val_acc: 0.6089\n",
      "Epoch 118/300\n",
      "13/13 [==============================] - 24s 2s/step - loss: 1.1214 - acc: 0.6154 - val_loss: 1.1669 - val_acc: 0.6089\n",
      "Epoch 119/300\n"
     ]
    },
    {
     "name": "stdout",
     "output_type": "stream",
     "text": [
      "13/13 [==============================] - 24s 2s/step - loss: 1.1105 - acc: 0.6154 - val_loss: 1.1671 - val_acc: 0.6081\n",
      "Epoch 120/300\n",
      "13/13 [==============================] - 24s 2s/step - loss: 1.1148 - acc: 0.6394 - val_loss: 1.1667 - val_acc: 0.6085\n",
      "Epoch 121/300\n",
      "13/13 [==============================] - 24s 2s/step - loss: 1.1060 - acc: 0.6394 - val_loss: 1.1672 - val_acc: 0.6088\n",
      "Epoch 122/300\n",
      "13/13 [==============================] - 24s 2s/step - loss: 1.0970 - acc: 0.6298 - val_loss: 1.1667 - val_acc: 0.6089\n",
      "Epoch 123/300\n",
      "13/13 [==============================] - 24s 2s/step - loss: 1.1656 - acc: 0.6106 - val_loss: 1.1663 - val_acc: 0.6091\n",
      "Epoch 124/300\n",
      "13/13 [==============================] - 24s 2s/step - loss: 1.0793 - acc: 0.6394 - val_loss: 1.1656 - val_acc: 0.6089\n",
      "Epoch 125/300\n",
      "13/13 [==============================] - 24s 2s/step - loss: 1.1178 - acc: 0.6058 - val_loss: 1.1655 - val_acc: 0.6080\n",
      "Epoch 126/300\n",
      "13/13 [==============================] - 24s 2s/step - loss: 1.0935 - acc: 0.6394 - val_loss: 1.1658 - val_acc: 0.6077\n",
      "Epoch 127/300\n",
      "13/13 [==============================] - ETA: 0s - loss: 1.1277 - acc: 0.6202Restoring model weights from the end of the best epoch.\n",
      "13/13 [==============================] - 24s 2s/step - loss: 1.1277 - acc: 0.6202 - val_loss: 1.1660 - val_acc: 0.6084\n",
      "Epoch 00127: early stopping\n"
     ]
    }
   ],
   "source": [
    "%%time\n",
    "# get model and compile\n",
    "tf.keras.backend.clear_session()\n",
    "full_trainable_model = get_classifier()\n",
    "full_trainable_model.summary()\n",
    "for l in full_trainable_model.layers:\n",
    "    print(l.name, l.trainable)\n",
    "print()\n",
    "    \n",
    "early_stopper = tf.keras.callbacks.EarlyStopping(monitor=\"val_loss\", \n",
    "                                                 patience=patience, \n",
    "                                                 verbose=2, \n",
    "                                                 restore_best_weights=True)\n",
    "\n",
    "checkpoint = tf.keras.callbacks.ModelCheckpoint(filepath=\"swav_finetuning_1per.h5\", \n",
    "                                                monitor='val_loss', \n",
    "                                                save_best_only=True)\n",
    "\n",
    "# train                                              \n",
    "history = full_trainable_model.fit(training_ds,\n",
    "                                   validation_data=(testing_ds),\n",
    "                                   epochs=epochs*3,\n",
    "                                   callbacks=[early_stopper, checkpoint],\n",
    "                                   steps_per_epoch=NUM_TRAINING_IMAGES // BATCH_SIZE, \n",
    "                                   validation_steps=NUM_VALIDATION_IMAGES // BATCH_SIZE,\n",
    "                                  )"
   ]
  },
  {
   "cell_type": "code",
   "execution_count": 22,
   "metadata": {
    "ExecuteTime": {
     "end_time": "2020-12-16T10:42:44.777584Z",
     "start_time": "2020-12-16T10:42:44.474557Z"
    }
   },
   "outputs": [
    {
     "data": {
      "text/plain": [
       "<AxesSubplot:>"
      ]
     },
     "execution_count": 22,
     "metadata": {},
     "output_type": "execute_result"
    },
    {
     "data": {
      "image/png": "[encoded data removed]",
      "text/plain": [
       "<Figure size 432x288 with 1 Axes>"
      ]
     },
     "metadata": {
      "needs_background": "light"
     },
     "output_type": "display_data"
    },
    {
     "data": {
      "image/png": "[encoded data removed]",
      "text/plain": [
       "<Figure size 432x288 with 1 Axes>"
      ]
     },
     "metadata": {
      "needs_background": "light"
     },
     "output_type": "display_data"
    }
   ],
   "source": [
    "history_frame = pd.DataFrame(history.history)\n",
    "history_frame.loc[:, ['loss', 'val_loss']].plot()\n",
    "history_frame.loc[:, ['acc', 'val_acc']].plot()"
   ]
  },
  {
   "cell_type": "code",
   "execution_count": 23,
   "metadata": {
    "ExecuteTime": {
     "end_time": "2020-12-16T10:43:07.741441Z",
     "start_time": "2020-12-16T10:42:44.778558Z"
    }
   },
   "outputs": [
    {
     "name": "stdout",
     "output_type": "stream",
     "text": [
      "468/468 [==============================] - 23s 49ms/step - loss: 1.1646 - acc: 0.6112\n"
     ]
    }
   ],
   "source": [
    "loss, acc = full_trainable_model.evaluate(testing_ds)"
   ]
  },
  {
   "cell_type": "code",
   "execution_count": null,
   "metadata": {},
   "outputs": [],
   "source": []
  }
 ],
 "metadata": {
  "hide_input": false,
  "kernelspec": {
   "display_name": "Python 3",
   "language": "python",
   "name": "python3"
  },
  "language_info": {
   "codemirror_mode": {
    "name": "ipython",
    "version": 3
   },
   "file_extension": ".py",
   "mimetype": "text/x-python",
   "name": "python",
   "nbconvert_exporter": "python",
   "pygments_lexer": "ipython3",
   "version": "3.8.2"
  },
  "papermill": {
   "duration": 4207.213917,
   "end_time": "2020-12-15T06:07:09.898216",
   "environment_variables": {},
   "exception": null,
   "input_path": "__notebook__.ipynb",
   "output_path": "__notebook__.ipynb",
   "parameters": {},
   "start_time": "2020-12-15T04:57:02.684299",
   "version": "2.1.0"
  }
 },
 "nbformat": 4,
 "nbformat_minor": 4
}
